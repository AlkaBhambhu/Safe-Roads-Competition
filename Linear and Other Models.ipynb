{
 "cells": [
  {
   "cell_type": "code",
   "execution_count": 1,
   "metadata": {},
   "outputs": [],
   "source": [
    "import pandas as pd\n",
    "import sklearn\n",
    "import numpy as np\n",
    "import util\n",
    "import seaborn as sns\n",
    "import matplotlib.pyplot as plt\n",
    "import shap\n",
    "import seaborn as sns"
   ]
  },
  {
   "cell_type": "code",
   "execution_count": 2,
   "metadata": {},
   "outputs": [],
   "source": [
    "from sklearn.linear_model import LinearRegression\n",
    "import statsmodels.api as sm \n",
    "import matplotlib.pylab as plt \n",
    "from dmba import regressionSummary, exhaustive_search \n",
    "from dmba import adjusted_r2_score, AIC_score, BIC_score\n",
    "from sklearn.metrics import r2_score\n",
    "from dmba import backward_elimination, forward_selection\n",
    "from sklearn.model_selection import train_test_split, cross_val_score, GridSearchCV"
   ]
  },
  {
   "cell_type": "code",
   "execution_count": 3,
   "metadata": {},
   "outputs": [],
   "source": [
    "pd.set_option('max_columns', None)\n",
    "pd.set_option('max_rows', 81)"
   ]
  },
  {
   "cell_type": "code",
   "execution_count": 15,
   "metadata": {},
   "outputs": [],
   "source": [
    "ultimate_df = pd.read_csv('Data/Created Datasets/ALL_merge_truncate3.csv', index_col = 0)"
   ]
  },
  {
   "cell_type": "code",
   "execution_count": 4,
   "metadata": {},
   "outputs": [],
   "source": [
    "# dataset without hazardous dataset - this dataset is bigger\n",
    "\n",
    "ultimate_df = pd.read_csv('Data/Created Datasets/Impediments_Feature_Count.csv', index_col = 0)"
   ]
  },
  {
   "cell_type": "code",
   "execution_count": 5,
   "metadata": {},
   "outputs": [],
   "source": [
    "# only downtown\n",
    "\n",
    "ultimate_df = ultimate_df[(ultimate_df['LATITUDE'] < 43.6688) & (ultimate_df['LONGITUDE'] > -79.46935) & (ultimate_df['LONGITUDE'] < -79.330700)]"
   ]
  },
  {
   "cell_type": "code",
   "execution_count": 6,
   "metadata": {},
   "outputs": [
    {
     "data": {
      "text/plain": [
       "(921, 20)"
      ]
     },
     "execution_count": 6,
     "metadata": {},
     "output_type": "execute_result"
    }
   ],
   "source": [
    "ultimate_df.shape"
   ]
  },
  {
   "cell_type": "code",
   "execution_count": 5,
   "metadata": {},
   "outputs": [],
   "source": [
    "# not downtown\n",
    "\n",
    "ultimate_df = ultimate_df[~((ultimate_df['LATITUDE'] < 43.6688) & (ultimate_df['LONGITUDE'] > -79.46935) & (ultimate_df['LONGITUDE'] < -79.330700))]"
   ]
  },
  {
   "cell_type": "code",
   "execution_count": 6,
   "metadata": {},
   "outputs": [
    {
     "data": {
      "text/plain": [
       "(3030, 20)"
      ]
     },
     "execution_count": 6,
     "metadata": {},
     "output_type": "execute_result"
    }
   ],
   "source": [
    "ultimate_df.shape"
   ]
  },
  {
   "cell_type": "code",
   "execution_count": 6,
   "metadata": {},
   "outputs": [],
   "source": [
    "ultimate_df['LIGHT'] = ultimate_df['LIGHT'].apply(util.lc)\n",
    "ultimate_df['TRAFFCTL'] = ultimate_df['TRAFFCTL'].apply(util.tc)\n",
    "ultimate_df['DRIVACT'] = ultimate_df['DRIVACT'].apply(util.actc)\n",
    "ultimate_df['DRIVCOND'] = ultimate_df['DRIVCOND'].apply(util.condc)\n",
    "ultimate_df['VEHTYPE'] = ultimate_df['VEHTYPE'].apply(util.vehc)\n",
    "ultimate_df['INVAGE'] = ultimate_df['INVAGE'].apply(util.agec)\n",
    "#ultimate_df['MANOEUVER'] = ultimate_df['MANOEUVER'].apply(util.manc)"
   ]
  },
  {
   "cell_type": "code",
   "execution_count": 7,
   "metadata": {},
   "outputs": [],
   "source": [
    "ultimate_df = ultimate_df.replace('Yes', 1).replace('<Null>', 0).replace('<Null', 0)"
   ]
  },
  {
   "cell_type": "code",
   "execution_count": 8,
   "metadata": {},
   "outputs": [],
   "source": [
    "ultimate_df['TIME'] = round(ultimate_df['TIME']/100,3)"
   ]
  },
  {
   "cell_type": "code",
   "execution_count": 33,
   "metadata": {},
   "outputs": [],
   "source": [
    "X = ultimate_df[[col for col in ultimate_df.columns if col not in ('COUNT', 'WARDNUM', 'LATITUDE', 'LONGITUDE', 'Latitude', 'Longitude', 'TIME', 'DRIVACT', 'VEHTYPE', 'VISIBILITY')]]\n",
    "X = pd.get_dummies(X, drop_first = True)\n",
    "X = sm.add_constant(X)\n",
    "\n",
    "Y = ultimate_df['COUNT']"
   ]
  },
  {
   "cell_type": "code",
   "execution_count": 34,
   "metadata": {},
   "outputs": [],
   "source": [
    "model = sm.OLS(Y, X)\n",
    "results = model.fit()"
   ]
  },
  {
   "cell_type": "code",
   "execution_count": 35,
   "metadata": {},
   "outputs": [
    {
     "data": {
      "text/html": [
       "<table class=\"simpletable\">\n",
       "<caption>OLS Regression Results</caption>\n",
       "<tr>\n",
       "  <th>Dep. Variable:</th>          <td>COUNT</td>      <th>  R-squared:         </th> <td>   0.185</td>\n",
       "</tr>\n",
       "<tr>\n",
       "  <th>Model:</th>                   <td>OLS</td>       <th>  Adj. R-squared:    </th> <td>   0.118</td>\n",
       "</tr>\n",
       "<tr>\n",
       "  <th>Method:</th>             <td>Least Squares</td>  <th>  F-statistic:       </th> <td>   2.743</td>\n",
       "</tr>\n",
       "<tr>\n",
       "  <th>Date:</th>             <td>Wed, 02 Mar 2022</td> <th>  Prob (F-statistic):</th> <td>1.04e-05</td>\n",
       "</tr>\n",
       "<tr>\n",
       "  <th>Time:</th>                 <td>04:25:37</td>     <th>  Log-Likelihood:    </th> <td> -712.53</td>\n",
       "</tr>\n",
       "<tr>\n",
       "  <th>No. Observations:</th>      <td>   367</td>      <th>  AIC:               </th> <td>   1483.</td>\n",
       "</tr>\n",
       "<tr>\n",
       "  <th>Df Residuals:</th>          <td>   338</td>      <th>  BIC:               </th> <td>   1596.</td>\n",
       "</tr>\n",
       "<tr>\n",
       "  <th>Df Model:</th>              <td>    28</td>      <th>                     </th>     <td> </td>   \n",
       "</tr>\n",
       "<tr>\n",
       "  <th>Covariance Type:</th>      <td>nonrobust</td>    <th>                     </th>     <td> </td>   \n",
       "</tr>\n",
       "</table>\n",
       "<table class=\"simpletable\">\n",
       "<tr>\n",
       "                      <td></td>                         <th>coef</th>     <th>std err</th>      <th>t</th>      <th>P>|t|</th>  <th>[0.025</th>    <th>0.975]</th>  \n",
       "</tr>\n",
       "<tr>\n",
       "  <th>const</th>                                     <td>    1.3269</td> <td>    1.133</td> <td>    1.171</td> <td> 0.242</td> <td>   -0.902</td> <td>    3.556</td>\n",
       "</tr>\n",
       "<tr>\n",
       "  <th>IncidentsTotal</th>                            <td>   -0.0012</td> <td>    0.001</td> <td>   -1.475</td> <td> 0.141</td> <td>   -0.003</td> <td>    0.000</td>\n",
       "</tr>\n",
       "<tr>\n",
       "  <th>SeverityScore</th>                             <td>   19.9310</td> <td>    6.266</td> <td>    3.181</td> <td> 0.002</td> <td>    7.607</td> <td>   32.255</td>\n",
       "</tr>\n",
       "<tr>\n",
       "  <th>PercentOfVehicles</th>                         <td>   -9.4176</td> <td>    5.528</td> <td>   -1.704</td> <td> 0.089</td> <td>  -20.291</td> <td>    1.456</td>\n",
       "</tr>\n",
       "<tr>\n",
       "  <th>AvgAcceleration</th>                           <td>    1.1994</td> <td>    0.655</td> <td>    1.830</td> <td> 0.068</td> <td>   -0.089</td> <td>    2.488</td>\n",
       "</tr>\n",
       "<tr>\n",
       "  <th>INVAGE_Children</th>                           <td>    1.7657</td> <td>    1.773</td> <td>    0.996</td> <td> 0.320</td> <td>   -1.721</td> <td>    5.252</td>\n",
       "</tr>\n",
       "<tr>\n",
       "  <th>INVAGE_Senior</th>                             <td>   -0.2620</td> <td>    0.293</td> <td>   -0.893</td> <td> 0.372</td> <td>   -0.839</td> <td>    0.315</td>\n",
       "</tr>\n",
       "<tr>\n",
       "  <th>INVAGE_Super Senior</th>                       <td>    0.0812</td> <td>    0.350</td> <td>    0.232</td> <td> 0.817</td> <td>   -0.608</td> <td>    0.770</td>\n",
       "</tr>\n",
       "<tr>\n",
       "  <th>INVAGE_Young Adult</th>                        <td>   -0.4794</td> <td>    0.275</td> <td>   -1.743</td> <td> 0.082</td> <td>   -1.020</td> <td>    0.061</td>\n",
       "</tr>\n",
       "<tr>\n",
       "  <th>RDSFCOND_Loose Snow</th>                       <td>   -0.0454</td> <td>    0.735</td> <td>   -0.062</td> <td> 0.951</td> <td>   -1.491</td> <td>    1.400</td>\n",
       "</tr>\n",
       "<tr>\n",
       "  <th>RDSFCOND_Other</th>                            <td>   -0.9849</td> <td>    0.897</td> <td>   -1.099</td> <td> 0.273</td> <td>   -2.748</td> <td>    0.779</td>\n",
       "</tr>\n",
       "<tr>\n",
       "  <th>RDSFCOND_Packed Snow</th>                      <td>    0.8859</td> <td>    1.260</td> <td>    0.703</td> <td> 0.483</td> <td>   -1.593</td> <td>    3.365</td>\n",
       "</tr>\n",
       "<tr>\n",
       "  <th>RDSFCOND_Slush</th>                            <td>   -1.3698</td> <td>    0.918</td> <td>   -1.492</td> <td> 0.137</td> <td>   -3.175</td> <td>    0.436</td>\n",
       "</tr>\n",
       "<tr>\n",
       "  <th>RDSFCOND_Wet</th>                              <td>    0.1811</td> <td>    0.261</td> <td>    0.693</td> <td> 0.489</td> <td>   -0.333</td> <td>    0.695</td>\n",
       "</tr>\n",
       "<tr>\n",
       "  <th>LIGHT_Dark</th>                                <td>   -0.2322</td> <td>    0.305</td> <td>   -0.762</td> <td> 0.447</td> <td>   -0.832</td> <td>    0.367</td>\n",
       "</tr>\n",
       "<tr>\n",
       "  <th>LIGHT_Daylight</th>                            <td>    0.3481</td> <td>    0.240</td> <td>    1.450</td> <td> 0.148</td> <td>   -0.124</td> <td>    0.820</td>\n",
       "</tr>\n",
       "<tr>\n",
       "  <th>LIGHT_Dusk</th>                                <td>    1.9784</td> <td>    0.767</td> <td>    2.580</td> <td> 0.010</td> <td>    0.470</td> <td>    3.487</td>\n",
       "</tr>\n",
       "<tr>\n",
       "  <th>TRAFFCTL_No Control</th>                       <td>   -0.3370</td> <td>    0.837</td> <td>   -0.403</td> <td> 0.687</td> <td>   -1.983</td> <td>    1.309</td>\n",
       "</tr>\n",
       "<tr>\n",
       "  <th>TRAFFCTL_Pedestrian Crossover</th>             <td>    0.3552</td> <td>    1.516</td> <td>    0.234</td> <td> 0.815</td> <td>   -2.626</td> <td>    3.337</td>\n",
       "</tr>\n",
       "<tr>\n",
       "  <th>TRAFFCTL_Stop/Yield Sign</th>                  <td>   -0.8249</td> <td>    0.878</td> <td>   -0.939</td> <td> 0.348</td> <td>   -2.552</td> <td>    0.902</td>\n",
       "</tr>\n",
       "<tr>\n",
       "  <th>TRAFFCTL_Streetcar (Stop for)</th>             <td>   -0.7505</td> <td>    1.520</td> <td>   -0.494</td> <td> 0.622</td> <td>   -3.740</td> <td>    2.239</td>\n",
       "</tr>\n",
       "<tr>\n",
       "  <th>TRAFFCTL_Traffic Signal</th>                   <td>    0.5255</td> <td>    0.829</td> <td>    0.634</td> <td> 0.527</td> <td>   -1.106</td> <td>    2.157</td>\n",
       "</tr>\n",
       "<tr>\n",
       "  <th>DRIVCOND_Ability Impaired (Drugs/Alcohol)</th> <td>    1.3754</td> <td>    0.796</td> <td>    1.728</td> <td> 0.085</td> <td>   -0.190</td> <td>    2.941</td>\n",
       "</tr>\n",
       "<tr>\n",
       "  <th>DRIVCOND_Fatigue</th>                          <td>   -0.6887</td> <td>    1.253</td> <td>   -0.549</td> <td> 0.583</td> <td>   -3.154</td> <td>    1.777</td>\n",
       "</tr>\n",
       "<tr>\n",
       "  <th>DRIVCOND_Inattentive</th>                      <td>    0.4113</td> <td>    0.728</td> <td>    0.565</td> <td> 0.572</td> <td>   -1.021</td> <td>    1.843</td>\n",
       "</tr>\n",
       "<tr>\n",
       "  <th>DRIVCOND_Medical or Physical Disability</th>   <td>    0.7888</td> <td>    0.923</td> <td>    0.854</td> <td> 0.394</td> <td>   -1.027</td> <td>    2.605</td>\n",
       "</tr>\n",
       "<tr>\n",
       "  <th>DRIVCOND_Normal</th>                           <td>    0.6736</td> <td>    0.722</td> <td>    0.934</td> <td> 0.351</td> <td>   -0.746</td> <td>    2.093</td>\n",
       "</tr>\n",
       "<tr>\n",
       "  <th>DRIVCOND_Other</th>                            <td>    0.6875</td> <td>    1.244</td> <td>    0.553</td> <td> 0.581</td> <td>   -1.759</td> <td>    3.134</td>\n",
       "</tr>\n",
       "<tr>\n",
       "  <th>DRIVCOND_Unknown</th>                          <td>    0.6160</td> <td>    0.725</td> <td>    0.850</td> <td> 0.396</td> <td>   -0.810</td> <td>    2.042</td>\n",
       "</tr>\n",
       "</table>\n",
       "<table class=\"simpletable\">\n",
       "<tr>\n",
       "  <th>Omnibus:</th>       <td>73.624</td> <th>  Durbin-Watson:     </th> <td>   0.721</td>\n",
       "</tr>\n",
       "<tr>\n",
       "  <th>Prob(Omnibus):</th> <td> 0.000</td> <th>  Jarque-Bera (JB):  </th> <td> 125.534</td>\n",
       "</tr>\n",
       "<tr>\n",
       "  <th>Skew:</th>          <td> 1.155</td> <th>  Prob(JB):          </th> <td>5.50e-28</td>\n",
       "</tr>\n",
       "<tr>\n",
       "  <th>Kurtosis:</th>      <td> 4.696</td> <th>  Cond. No.          </th> <td>1.02e+04</td>\n",
       "</tr>\n",
       "</table><br/><br/>Notes:<br/>[1] Standard Errors assume that the covariance matrix of the errors is correctly specified.<br/>[2] The condition number is large, 1.02e+04. This might indicate that there are<br/>strong multicollinearity or other numerical problems."
      ],
      "text/plain": [
       "<class 'statsmodels.iolib.summary.Summary'>\n",
       "\"\"\"\n",
       "                            OLS Regression Results                            \n",
       "==============================================================================\n",
       "Dep. Variable:                  COUNT   R-squared:                       0.185\n",
       "Model:                            OLS   Adj. R-squared:                  0.118\n",
       "Method:                 Least Squares   F-statistic:                     2.743\n",
       "Date:                Wed, 02 Mar 2022   Prob (F-statistic):           1.04e-05\n",
       "Time:                        04:25:37   Log-Likelihood:                -712.53\n",
       "No. Observations:                 367   AIC:                             1483.\n",
       "Df Residuals:                     338   BIC:                             1596.\n",
       "Df Model:                          28                                         \n",
       "Covariance Type:            nonrobust                                         \n",
       "=============================================================================================================\n",
       "                                                coef    std err          t      P>|t|      [0.025      0.975]\n",
       "-------------------------------------------------------------------------------------------------------------\n",
       "const                                         1.3269      1.133      1.171      0.242      -0.902       3.556\n",
       "IncidentsTotal                               -0.0012      0.001     -1.475      0.141      -0.003       0.000\n",
       "SeverityScore                                19.9310      6.266      3.181      0.002       7.607      32.255\n",
       "PercentOfVehicles                            -9.4176      5.528     -1.704      0.089     -20.291       1.456\n",
       "AvgAcceleration                               1.1994      0.655      1.830      0.068      -0.089       2.488\n",
       "INVAGE_Children                               1.7657      1.773      0.996      0.320      -1.721       5.252\n",
       "INVAGE_Senior                                -0.2620      0.293     -0.893      0.372      -0.839       0.315\n",
       "INVAGE_Super Senior                           0.0812      0.350      0.232      0.817      -0.608       0.770\n",
       "INVAGE_Young Adult                           -0.4794      0.275     -1.743      0.082      -1.020       0.061\n",
       "RDSFCOND_Loose Snow                          -0.0454      0.735     -0.062      0.951      -1.491       1.400\n",
       "RDSFCOND_Other                               -0.9849      0.897     -1.099      0.273      -2.748       0.779\n",
       "RDSFCOND_Packed Snow                          0.8859      1.260      0.703      0.483      -1.593       3.365\n",
       "RDSFCOND_Slush                               -1.3698      0.918     -1.492      0.137      -3.175       0.436\n",
       "RDSFCOND_Wet                                  0.1811      0.261      0.693      0.489      -0.333       0.695\n",
       "LIGHT_Dark                                   -0.2322      0.305     -0.762      0.447      -0.832       0.367\n",
       "LIGHT_Daylight                                0.3481      0.240      1.450      0.148      -0.124       0.820\n",
       "LIGHT_Dusk                                    1.9784      0.767      2.580      0.010       0.470       3.487\n",
       "TRAFFCTL_No Control                          -0.3370      0.837     -0.403      0.687      -1.983       1.309\n",
       "TRAFFCTL_Pedestrian Crossover                 0.3552      1.516      0.234      0.815      -2.626       3.337\n",
       "TRAFFCTL_Stop/Yield Sign                     -0.8249      0.878     -0.939      0.348      -2.552       0.902\n",
       "TRAFFCTL_Streetcar (Stop for)                -0.7505      1.520     -0.494      0.622      -3.740       2.239\n",
       "TRAFFCTL_Traffic Signal                       0.5255      0.829      0.634      0.527      -1.106       2.157\n",
       "DRIVCOND_Ability Impaired (Drugs/Alcohol)     1.3754      0.796      1.728      0.085      -0.190       2.941\n",
       "DRIVCOND_Fatigue                             -0.6887      1.253     -0.549      0.583      -3.154       1.777\n",
       "DRIVCOND_Inattentive                          0.4113      0.728      0.565      0.572      -1.021       1.843\n",
       "DRIVCOND_Medical or Physical Disability       0.7888      0.923      0.854      0.394      -1.027       2.605\n",
       "DRIVCOND_Normal                               0.6736      0.722      0.934      0.351      -0.746       2.093\n",
       "DRIVCOND_Other                                0.6875      1.244      0.553      0.581      -1.759       3.134\n",
       "DRIVCOND_Unknown                              0.6160      0.725      0.850      0.396      -0.810       2.042\n",
       "==============================================================================\n",
       "Omnibus:                       73.624   Durbin-Watson:                   0.721\n",
       "Prob(Omnibus):                  0.000   Jarque-Bera (JB):              125.534\n",
       "Skew:                           1.155   Prob(JB):                     5.50e-28\n",
       "Kurtosis:                       4.696   Cond. No.                     1.02e+04\n",
       "==============================================================================\n",
       "\n",
       "Notes:\n",
       "[1] Standard Errors assume that the covariance matrix of the errors is correctly specified.\n",
       "[2] The condition number is large, 1.02e+04. This might indicate that there are\n",
       "strong multicollinearity or other numerical problems.\n",
       "\"\"\""
      ]
     },
     "execution_count": 35,
     "metadata": {},
     "output_type": "execute_result"
    }
   ],
   "source": [
    "results.summary()"
   ]
  },
  {
   "cell_type": "code",
   "execution_count": 9,
   "metadata": {},
   "outputs": [],
   "source": [
    "X = ultimate_df[[col for col in ultimate_df.columns if col not in ('COUNT', 'WARDNUM', 'LATITUDE', 'LONGITUDE', 'Latitude', 'Longitude', 'TIME', 'DRIVACT', 'VEHTYPE', 'VISIBILITY', 'PercentCar', 'PercentHDT', 'PercentLDT', 'PercentMDT', 'PercentMPV', 'PercentOther')]]\n",
    "\n",
    "X = pd.get_dummies(X, drop_first = True)\n",
    "\n",
    "# need to remove the columns with 0s in their names\n",
    "# the columns with 0 in their names are the ones which are structural zeros/not applicables\n",
    "\n",
    "#X = X[[col for col in X.columns if '0' not in col]]"
   ]
  },
  {
   "cell_type": "code",
   "execution_count": 10,
   "metadata": {},
   "outputs": [
    {
     "data": {
      "text/plain": [
       "(921, 29)"
      ]
     },
     "execution_count": 10,
     "metadata": {},
     "output_type": "execute_result"
    }
   ],
   "source": [
    "X.shape"
   ]
  },
  {
   "cell_type": "code",
   "execution_count": 11,
   "metadata": {},
   "outputs": [],
   "source": [
    "Y = ultimate_df['COUNT']\n",
    "\n",
    "train_X, valid_X, train_Y, valid_Y =  train_test_split(X, Y, test_size = 0.2, random_state = 1)"
   ]
  },
  {
   "cell_type": "code",
   "execution_count": 20,
   "metadata": {},
   "outputs": [
    {
     "name": "stdout",
     "output_type": "stream",
     "text": [
      "\n",
      "Regression statistics\n",
      "\n",
      "                      Mean Error (ME) : 0.1343\n",
      "       Root Mean Squared Error (RMSE) : 2.1135\n",
      "            Mean Absolute Error (MAE) : 1.6914\n",
      "          Mean Percentage Error (MPE) : -54.8264\n",
      "Mean Absolute Percentage Error (MAPE) : 86.1793\n"
     ]
    }
   ],
   "source": [
    "# Does the model perform better than the null model?\n",
    "# Our created models must be able to beat this:\n",
    "# I'm comparing valid_Y to the mean of COUNT. \n",
    "\n",
    "regressionSummary(valid_Y, np.repeat(Y.mean(), valid_Y.shape))"
   ]
  },
  {
   "cell_type": "code",
   "execution_count": 12,
   "metadata": {},
   "outputs": [
    {
     "data": {
      "text/plain": [
       "LinearRegression()"
      ]
     },
     "execution_count": 12,
     "metadata": {},
     "output_type": "execute_result"
    }
   ],
   "source": [
    "linear_model = LinearRegression()\n",
    "linear_model.fit(train_X, train_Y)"
   ]
  },
  {
   "cell_type": "code",
   "execution_count": 13,
   "metadata": {},
   "outputs": [
    {
     "name": "stdout",
     "output_type": "stream",
     "text": [
      "\n",
      "Regression statistics\n",
      "\n",
      "                      Mean Error (ME) : -0.0000\n",
      "       Root Mean Squared Error (RMSE) : 1.9104\n",
      "            Mean Absolute Error (MAE) : 1.2948\n",
      "          Mean Percentage Error (MPE) : -42.6717\n",
      "Mean Absolute Percentage Error (MAPE) : 67.2195\n",
      "None\n",
      "\n",
      "Regression statistics\n",
      "\n",
      "                      Mean Error (ME) : -0.1180\n",
      "       Root Mean Squared Error (RMSE) : 1.6802\n",
      "            Mean Absolute Error (MAE) : 1.2587\n",
      "          Mean Percentage Error (MPE) : -47.4937\n",
      "Mean Absolute Percentage Error (MAPE) : 70.9392\n"
     ]
    }
   ],
   "source": [
    "print(regressionSummary(train_Y, linear_model.predict(train_X)))\n",
    "regressionSummary(valid_Y, linear_model.predict(valid_X))"
   ]
  },
  {
   "cell_type": "code",
   "execution_count": 21,
   "metadata": {},
   "outputs": [
    {
     "name": "stderr",
     "output_type": "stream",
     "text": [
      "Estimating transforms: 100%|██████████| 1000/1000 [00:02<00:00, 484.23it/s]\n"
     ]
    },
    {
     "data": {
      "image/png": "[encoded data removed]",
      "text/plain": [
       "<Figure size 576x684 with 2 Axes>"
      ]
     },
     "metadata": {
      "needs_background": "light"
     },
     "output_type": "display_data"
    }
   ],
   "source": [
    "explainer = shap.Explainer(linear_model, masker=shap.maskers.Impute(data= X),\n",
    "                           feature_names= X.columns, algorithm=\"linear\")\n",
    "shap_values = explainer.shap_values(X)\n",
    "shap.summary_plot(shap_values, X, plot_type = 'violin')"
   ]
  },
  {
   "cell_type": "code",
   "execution_count": 16,
   "metadata": {},
   "outputs": [
    {
     "data": {
      "text/html": [
       "<div>\n",
       "<style scoped>\n",
       "    .dataframe tbody tr th:only-of-type {\n",
       "        vertical-align: middle;\n",
       "    }\n",
       "\n",
       "    .dataframe tbody tr th {\n",
       "        vertical-align: top;\n",
       "    }\n",
       "\n",
       "    .dataframe thead th {\n",
       "        text-align: right;\n",
       "    }\n",
       "</style>\n",
       "<table border=\"1\" class=\"dataframe\">\n",
       "  <thead>\n",
       "    <tr style=\"text-align: right;\">\n",
       "      <th></th>\n",
       "      <th>Actual</th>\n",
       "      <th>Predicted</th>\n",
       "    </tr>\n",
       "  </thead>\n",
       "  <tbody>\n",
       "    <tr>\n",
       "      <th>1872</th>\n",
       "      <td>1</td>\n",
       "      <td>1.833358</td>\n",
       "    </tr>\n",
       "    <tr>\n",
       "      <th>1950</th>\n",
       "      <td>1</td>\n",
       "      <td>1.772283</td>\n",
       "    </tr>\n",
       "    <tr>\n",
       "      <th>1800</th>\n",
       "      <td>2</td>\n",
       "      <td>1.748335</td>\n",
       "    </tr>\n",
       "    <tr>\n",
       "      <th>995</th>\n",
       "      <td>4</td>\n",
       "      <td>1.692615</td>\n",
       "    </tr>\n",
       "    <tr>\n",
       "      <th>1537</th>\n",
       "      <td>4</td>\n",
       "      <td>1.824179</td>\n",
       "    </tr>\n",
       "    <tr>\n",
       "      <th>...</th>\n",
       "      <td>...</td>\n",
       "      <td>...</td>\n",
       "    </tr>\n",
       "    <tr>\n",
       "      <th>593</th>\n",
       "      <td>3</td>\n",
       "      <td>3.013186</td>\n",
       "    </tr>\n",
       "    <tr>\n",
       "      <th>3782</th>\n",
       "      <td>5</td>\n",
       "      <td>3.230583</td>\n",
       "    </tr>\n",
       "    <tr>\n",
       "      <th>1998</th>\n",
       "      <td>1</td>\n",
       "      <td>1.551506</td>\n",
       "    </tr>\n",
       "    <tr>\n",
       "      <th>1062</th>\n",
       "      <td>2</td>\n",
       "      <td>2.008641</td>\n",
       "    </tr>\n",
       "    <tr>\n",
       "      <th>2158</th>\n",
       "      <td>1</td>\n",
       "      <td>1.764431</td>\n",
       "    </tr>\n",
       "  </tbody>\n",
       "</table>\n",
       "<p>375 rows × 2 columns</p>\n",
       "</div>"
      ],
      "text/plain": [
       "      Actual  Predicted\n",
       "1872       1   1.833358\n",
       "1950       1   1.772283\n",
       "1800       2   1.748335\n",
       "995        4   1.692615\n",
       "1537       4   1.824179\n",
       "...      ...        ...\n",
       "593        3   3.013186\n",
       "3782       5   3.230583\n",
       "1998       1   1.551506\n",
       "1062       2   2.008641\n",
       "2158       1   1.764431\n",
       "\n",
       "[375 rows x 2 columns]"
      ]
     },
     "execution_count": 16,
     "metadata": {},
     "output_type": "execute_result"
    }
   ],
   "source": [
    "pd.DataFrame({'Actual': valid_Y, 'Predicted': linear_model.predict(valid_X)})"
   ]
  },
  {
   "cell_type": "code",
   "execution_count": 22,
   "metadata": {},
   "outputs": [
    {
     "data": {
      "text/plain": [
       "<AxesSubplot:xlabel='COUNT'>"
      ]
     },
     "execution_count": 22,
     "metadata": {},
     "output_type": "execute_result"
    },
    {
     "data": {
      "image/png": "[encoded data removed]",
      "text/plain": [
       "<Figure size 432x288 with 1 Axes>"
      ]
     },
     "metadata": {
      "needs_background": "light"
     },
     "output_type": "display_data"
    }
   ],
   "source": [
    "sns.residplot(y = linear_model.predict(valid_X), x = valid_Y)"
   ]
  },
  {
   "cell_type": "code",
   "execution_count": 23,
   "metadata": {},
   "outputs": [
    {
     "data": {
      "text/html": [
       "<div>\n",
       "<style scoped>\n",
       "    .dataframe tbody tr th:only-of-type {\n",
       "        vertical-align: middle;\n",
       "    }\n",
       "\n",
       "    .dataframe tbody tr th {\n",
       "        vertical-align: top;\n",
       "    }\n",
       "\n",
       "    .dataframe thead th {\n",
       "        text-align: right;\n",
       "    }\n",
       "</style>\n",
       "<table border=\"1\" class=\"dataframe\">\n",
       "  <thead>\n",
       "    <tr style=\"text-align: right;\">\n",
       "      <th></th>\n",
       "      <th>Feature</th>\n",
       "      <th>coefficients</th>\n",
       "    </tr>\n",
       "  </thead>\n",
       "  <tbody>\n",
       "    <tr>\n",
       "      <th>15</th>\n",
       "      <td>LIGHT_Dawn</td>\n",
       "      <td>1.633871</td>\n",
       "    </tr>\n",
       "    <tr>\n",
       "      <th>8</th>\n",
       "      <td>RDSFCOND_Loose Sand or Gravel</td>\n",
       "      <td>1.250665</td>\n",
       "    </tr>\n",
       "    <tr>\n",
       "      <th>23</th>\n",
       "      <td>TRAFFCTL_Traffic Signal</td>\n",
       "      <td>0.691140</td>\n",
       "    </tr>\n",
       "    <tr>\n",
       "      <th>19</th>\n",
       "      <td>TRAFFCTL_Controller present</td>\n",
       "      <td>0.685105</td>\n",
       "    </tr>\n",
       "    <tr>\n",
       "      <th>1</th>\n",
       "      <td>PercentOfVehicles</td>\n",
       "      <td>0.662217</td>\n",
       "    </tr>\n",
       "    <tr>\n",
       "      <th>27</th>\n",
       "      <td>DRIVCOND_Medical or Physical Disability</td>\n",
       "      <td>0.182091</td>\n",
       "    </tr>\n",
       "    <tr>\n",
       "      <th>0</th>\n",
       "      <td>AvgAcceleration</td>\n",
       "      <td>0.120435</td>\n",
       "    </tr>\n",
       "    <tr>\n",
       "      <th>5</th>\n",
       "      <td>INVAGE_Young Adult</td>\n",
       "      <td>0.085755</td>\n",
       "    </tr>\n",
       "    <tr>\n",
       "      <th>7</th>\n",
       "      <td>RDSFCOND_Ice</td>\n",
       "      <td>0.058316</td>\n",
       "    </tr>\n",
       "    <tr>\n",
       "      <th>17</th>\n",
       "      <td>LIGHT_Dusk</td>\n",
       "      <td>0.033479</td>\n",
       "    </tr>\n",
       "    <tr>\n",
       "      <th>3</th>\n",
       "      <td>INVAGE_Senior</td>\n",
       "      <td>0.027923</td>\n",
       "    </tr>\n",
       "    <tr>\n",
       "      <th>29</th>\n",
       "      <td>DRIVCOND_Other</td>\n",
       "      <td>0.012292</td>\n",
       "    </tr>\n",
       "    <tr>\n",
       "      <th>4</th>\n",
       "      <td>INVAGE_Super Senior</td>\n",
       "      <td>0.010274</td>\n",
       "    </tr>\n",
       "    <tr>\n",
       "      <th>30</th>\n",
       "      <td>DRIVCOND_Unknown</td>\n",
       "      <td>-0.009884</td>\n",
       "    </tr>\n",
       "    <tr>\n",
       "      <th>10</th>\n",
       "      <td>RDSFCOND_Other</td>\n",
       "      <td>-0.018714</td>\n",
       "    </tr>\n",
       "    <tr>\n",
       "      <th>14</th>\n",
       "      <td>LIGHT_Dark</td>\n",
       "      <td>-0.073883</td>\n",
       "    </tr>\n",
       "    <tr>\n",
       "      <th>26</th>\n",
       "      <td>DRIVCOND_Inattentive</td>\n",
       "      <td>-0.130756</td>\n",
       "    </tr>\n",
       "    <tr>\n",
       "      <th>16</th>\n",
       "      <td>LIGHT_Daylight</td>\n",
       "      <td>-0.162892</td>\n",
       "    </tr>\n",
       "    <tr>\n",
       "      <th>28</th>\n",
       "      <td>DRIVCOND_Normal</td>\n",
       "      <td>-0.176765</td>\n",
       "    </tr>\n",
       "    <tr>\n",
       "      <th>24</th>\n",
       "      <td>DRIVCOND_Ability Impaired (Drugs/Alcohol)</td>\n",
       "      <td>-0.224366</td>\n",
       "    </tr>\n",
       "    <tr>\n",
       "      <th>6</th>\n",
       "      <td>RDSFCOND_Dry</td>\n",
       "      <td>-0.282984</td>\n",
       "    </tr>\n",
       "    <tr>\n",
       "      <th>13</th>\n",
       "      <td>RDSFCOND_Wet</td>\n",
       "      <td>-0.297442</td>\n",
       "    </tr>\n",
       "    <tr>\n",
       "      <th>11</th>\n",
       "      <td>RDSFCOND_Packed Snow</td>\n",
       "      <td>-0.380462</td>\n",
       "    </tr>\n",
       "    <tr>\n",
       "      <th>25</th>\n",
       "      <td>DRIVCOND_Fatigue</td>\n",
       "      <td>-0.391302</td>\n",
       "    </tr>\n",
       "    <tr>\n",
       "      <th>2</th>\n",
       "      <td>INVAGE_Children</td>\n",
       "      <td>-0.401890</td>\n",
       "    </tr>\n",
       "    <tr>\n",
       "      <th>9</th>\n",
       "      <td>RDSFCOND_Loose Snow</td>\n",
       "      <td>-0.639871</td>\n",
       "    </tr>\n",
       "    <tr>\n",
       "      <th>20</th>\n",
       "      <td>TRAFFCTL_No Control</td>\n",
       "      <td>-0.711270</td>\n",
       "    </tr>\n",
       "    <tr>\n",
       "      <th>22</th>\n",
       "      <td>TRAFFCTL_Stop/Yield Sign</td>\n",
       "      <td>-0.735601</td>\n",
       "    </tr>\n",
       "    <tr>\n",
       "      <th>12</th>\n",
       "      <td>RDSFCOND_Slush</td>\n",
       "      <td>-0.752613</td>\n",
       "    </tr>\n",
       "    <tr>\n",
       "      <th>21</th>\n",
       "      <td>TRAFFCTL_Pedestrian Crossover</td>\n",
       "      <td>-0.914788</td>\n",
       "    </tr>\n",
       "    <tr>\n",
       "      <th>18</th>\n",
       "      <td>LIGHT_Other</td>\n",
       "      <td>-0.939036</td>\n",
       "    </tr>\n",
       "  </tbody>\n",
       "</table>\n",
       "</div>"
      ],
      "text/plain": [
       "                                      Feature  coefficients\n",
       "15                                 LIGHT_Dawn      1.633871\n",
       "8               RDSFCOND_Loose Sand or Gravel      1.250665\n",
       "23                    TRAFFCTL_Traffic Signal      0.691140\n",
       "19                TRAFFCTL_Controller present      0.685105\n",
       "1                           PercentOfVehicles      0.662217\n",
       "27    DRIVCOND_Medical or Physical Disability      0.182091\n",
       "0                             AvgAcceleration      0.120435\n",
       "5                          INVAGE_Young Adult      0.085755\n",
       "7                                RDSFCOND_Ice      0.058316\n",
       "17                                 LIGHT_Dusk      0.033479\n",
       "3                               INVAGE_Senior      0.027923\n",
       "29                             DRIVCOND_Other      0.012292\n",
       "4                         INVAGE_Super Senior      0.010274\n",
       "30                           DRIVCOND_Unknown     -0.009884\n",
       "10                             RDSFCOND_Other     -0.018714\n",
       "14                                 LIGHT_Dark     -0.073883\n",
       "26                       DRIVCOND_Inattentive     -0.130756\n",
       "16                             LIGHT_Daylight     -0.162892\n",
       "28                            DRIVCOND_Normal     -0.176765\n",
       "24  DRIVCOND_Ability Impaired (Drugs/Alcohol)     -0.224366\n",
       "6                                RDSFCOND_Dry     -0.282984\n",
       "13                               RDSFCOND_Wet     -0.297442\n",
       "11                       RDSFCOND_Packed Snow     -0.380462\n",
       "25                           DRIVCOND_Fatigue     -0.391302\n",
       "2                             INVAGE_Children     -0.401890\n",
       "9                         RDSFCOND_Loose Snow     -0.639871\n",
       "20                        TRAFFCTL_No Control     -0.711270\n",
       "22                   TRAFFCTL_Stop/Yield Sign     -0.735601\n",
       "12                             RDSFCOND_Slush     -0.752613\n",
       "21              TRAFFCTL_Pedestrian Crossover     -0.914788\n",
       "18                                LIGHT_Other     -0.939036"
      ]
     },
     "execution_count": 23,
     "metadata": {},
     "output_type": "execute_result"
    }
   ],
   "source": [
    "pd.DataFrame({'Feature': train_X.columns, 'coefficients': linear_model.coef_}).sort_values(by = 'coefficients', ascending = False)"
   ]
  },
  {
   "cell_type": "code",
   "execution_count": 24,
   "metadata": {},
   "outputs": [
    {
     "data": {
      "image/png": "[encoded data removed]",
      "text/plain": [
       "<Figure size 648x288 with 2 Axes>"
      ]
     },
     "metadata": {
      "needs_background": "light"
     },
     "output_type": "display_data"
    }
   ],
   "source": [
    "pred_error_train = pd.DataFrame({ \n",
    " 'residual': train_Y - linear_model.predict(train_X), \n",
    " 'data set': 'training' \n",
    "}) \n",
    "pred_error_test = pd.DataFrame({ \n",
    " 'residual': valid_Y - linear_model.predict(valid_X), \n",
    " 'data set': 'test' \n",
    "}) \n",
    "\n",
    "#boxdata_df = pred_error_train.append(pred_error_test, ignore_index=True) \n",
    "fig, axes = plt.subplots(nrows=1, ncols=2) \n",
    "fig.set_size_inches(9, 4) \n",
    "common = {'bins': 100, 'range': [-pred_error_test['residual'].max(), pred_error_test['residual'].max()]} \n",
    "pred_error_train.hist(ax=axes[0], **common) \n",
    "pred_error_test.hist(ax=axes[1], **common) \n",
    "#boxdata_df.boxplot(ax=axes[2], by = 'data set') \n",
    "axes[0].set_title('training') \n",
    "axes[1].set_title('test') \n",
    "#axes[2].set_title(' ') \n",
    "#axes[2].set_ylim(-50, 50) \n",
    "plt.suptitle('Prediction errors') \n",
    "plt.subplots_adjust(bottom=0.1, top=0.85, wspace=0.35) \n",
    "#plt.show() "
   ]
  },
  {
   "cell_type": "code",
   "execution_count": 25,
   "metadata": {},
   "outputs": [
    {
     "data": {
      "text/plain": [
       "residual    1.393199\n",
       "dtype: float64"
      ]
     },
     "execution_count": 25,
     "metadata": {},
     "output_type": "execute_result"
    }
   ],
   "source": [
    "pred_error_train.skew()"
   ]
  },
  {
   "cell_type": "code",
   "execution_count": 26,
   "metadata": {},
   "outputs": [
    {
     "data": {
      "text/plain": [
       "residual    1.271926\n",
       "dtype: float64"
      ]
     },
     "execution_count": 26,
     "metadata": {},
     "output_type": "execute_result"
    }
   ],
   "source": [
    "pred_error_test.skew()"
   ]
  },
  {
   "cell_type": "code",
   "execution_count": 27,
   "metadata": {},
   "outputs": [
    {
     "data": {
      "text/plain": [
       "0.1715599808168814"
      ]
     },
     "execution_count": 27,
     "metadata": {},
     "output_type": "execute_result"
    }
   ],
   "source": [
    "r2_score(valid_Y, linear_model.predict(valid_X))"
   ]
  },
  {
   "cell_type": "code",
   "execution_count": 14,
   "metadata": {},
   "outputs": [],
   "source": [
    "# these functions assume the existence of a train_Y \n",
    "def train_model(variables): \n",
    "    if len(variables) == 0: \n",
    "        return None \n",
    "    model = LinearRegression() \n",
    "    model.fit(train_X[variables], train_Y) \n",
    "    return model \n",
    "    \n",
    "def score_model(model, variables): \n",
    "    if len(variables) == 0: \n",
    "        return AIC_score(train_Y, [train_Y.mean()] * len(train_Y), model, df=1) \n",
    "    return AIC_score(train_Y, model.predict(train_X[variables]), model) "
   ]
  },
  {
   "cell_type": "code",
   "execution_count": 15,
   "metadata": {},
   "outputs": [
    {
     "name": "stdout",
     "output_type": "stream",
     "text": [
      "Variables: AvgAcceleration, PercentOfVehicles, INVAGE_Children, INVAGE_Senior, INVAGE_Super Senior, INVAGE_Young Adult, RDSFCOND_Ice, RDSFCOND_Loose Snow, RDSFCOND_Other, RDSFCOND_Packed Snow, RDSFCOND_Slush, RDSFCOND_Wet, LIGHT_Dark, LIGHT_Dawn, LIGHT_Daylight, LIGHT_Dusk, TRAFFCTL_Controller present, TRAFFCTL_No Control, TRAFFCTL_Pedestrian Crossover, TRAFFCTL_Stop/Yield Sign, TRAFFCTL_Streetcar (Stop for), TRAFFCTL_Traffic Signal, DRIVCOND_Ability Impaired (Drugs/Alcohol), DRIVCOND_Fatigue, DRIVCOND_Inattentive, DRIVCOND_Medical or Physical Disability, DRIVCOND_Normal, DRIVCOND_Other, DRIVCOND_Unknown\n",
      "Start: score=3174.83, constant\n",
      "Step: score=3068.26, add TRAFFCTL_Traffic Signal\n",
      "Step: score=3066.09, add LIGHT_Dusk\n",
      "Step: score=3064.69, add TRAFFCTL_Streetcar (Stop for)\n",
      "Step: score=3064.69, add None\n"
     ]
    }
   ],
   "source": [
    "forwards_model, best_variables_forward = forward_selection(train_X.columns, train_model, score_model, verbose = True)"
   ]
  },
  {
   "cell_type": "code",
   "execution_count": 16,
   "metadata": {},
   "outputs": [
    {
     "name": "stdout",
     "output_type": "stream",
     "text": [
      "\n",
      "Regression statistics\n",
      "\n",
      "                      Mean Error (ME) : -0.0000\n",
      "       Root Mean Squared Error (RMSE) : 1.9276\n",
      "            Mean Absolute Error (MAE) : 1.3045\n",
      "          Mean Percentage Error (MPE) : -43.6810\n",
      "Mean Absolute Percentage Error (MAPE) : 68.0597\n",
      "None\n",
      "\n",
      "Regression statistics\n",
      "\n",
      "                      Mean Error (ME) : -0.1305\n",
      "       Root Mean Squared Error (RMSE) : 1.6815\n",
      "            Mean Absolute Error (MAE) : 1.2581\n",
      "          Mean Percentage Error (MPE) : -49.0565\n",
      "Mean Absolute Percentage Error (MAPE) : 71.9135\n"
     ]
    }
   ],
   "source": [
    "print(regressionSummary(train_Y, forwards_model.predict(train_X[best_variables_forward])))\n",
    "regressionSummary(valid_Y, forwards_model.predict(valid_X[best_variables_forward]))"
   ]
  },
  {
   "cell_type": "code",
   "execution_count": 17,
   "metadata": {},
   "outputs": [
    {
     "data": {
      "image/png": "[encoded data removed]",
      "text/plain": [
       "<Figure size 576x194.4 with 2 Axes>"
      ]
     },
     "metadata": {
      "needs_background": "light"
     },
     "output_type": "display_data"
    }
   ],
   "source": [
    "masker = shap.maskers.Independent(data= valid_X[best_variables_forward])\n",
    "explainer = shap.Explainer(forwards_model, masker= masker,\n",
    "                           feature_names= valid_X[best_variables_forward].columns, algorithm=\"linear\")\n",
    "shap_values = explainer.shap_values(valid_X[best_variables_forward])\n",
    "shap.summary_plot(shap_values, valid_X[best_variables_forward])"
   ]
  },
  {
   "cell_type": "code",
   "execution_count": 18,
   "metadata": {},
   "outputs": [
    {
     "data": {
      "text/html": [
       "<div>\n",
       "<style scoped>\n",
       "    .dataframe tbody tr th:only-of-type {\n",
       "        vertical-align: middle;\n",
       "    }\n",
       "\n",
       "    .dataframe tbody tr th {\n",
       "        vertical-align: top;\n",
       "    }\n",
       "\n",
       "    .dataframe thead th {\n",
       "        text-align: right;\n",
       "    }\n",
       "</style>\n",
       "<table border=\"1\" class=\"dataframe\">\n",
       "  <thead>\n",
       "    <tr style=\"text-align: right;\">\n",
       "      <th></th>\n",
       "      <th>Feature</th>\n",
       "      <th>coefficients</th>\n",
       "    </tr>\n",
       "  </thead>\n",
       "  <tbody>\n",
       "    <tr>\n",
       "      <th>1</th>\n",
       "      <td>LIGHT_Dusk</td>\n",
       "      <td>1.781562</td>\n",
       "    </tr>\n",
       "    <tr>\n",
       "      <th>0</th>\n",
       "      <td>TRAFFCTL_Traffic Signal</td>\n",
       "      <td>1.578541</td>\n",
       "    </tr>\n",
       "    <tr>\n",
       "      <th>2</th>\n",
       "      <td>TRAFFCTL_Streetcar (Stop for)</td>\n",
       "      <td>1.462020</td>\n",
       "    </tr>\n",
       "  </tbody>\n",
       "</table>\n",
       "</div>"
      ],
      "text/plain": [
       "                         Feature  coefficients\n",
       "1                     LIGHT_Dusk      1.781562\n",
       "0        TRAFFCTL_Traffic Signal      1.578541\n",
       "2  TRAFFCTL_Streetcar (Stop for)      1.462020"
      ]
     },
     "execution_count": 18,
     "metadata": {},
     "output_type": "execute_result"
    }
   ],
   "source": [
    "pd.DataFrame({'Feature': best_variables_forward, 'coefficients': forwards_model.coef_}).sort_values(by = 'coefficients', ascending = False)"
   ]
  },
  {
   "cell_type": "code",
   "execution_count": 19,
   "metadata": {},
   "outputs": [
    {
     "data": {
      "image/png": "[encoded data removed]",
      "text/plain": [
       "<Figure size 648x288 with 2 Axes>"
      ]
     },
     "metadata": {
      "needs_background": "light"
     },
     "output_type": "display_data"
    }
   ],
   "source": [
    "pred_error_train = pd.DataFrame({ \n",
    " 'residual': train_Y - forwards_model.predict(train_X[best_variables_forward]), \n",
    " 'data set': 'training' \n",
    "}) \n",
    "pred_error_test = pd.DataFrame({ \n",
    " 'residual': valid_Y - forwards_model.predict(valid_X[best_variables_forward]), \n",
    " 'data set': 'test' \n",
    "}) \n",
    "\n",
    "#boxdata_df = pred_error_train.append(pred_error_test, ignore_index=True) \n",
    "fig, axes = plt.subplots(nrows=1, ncols=2) \n",
    "fig.set_size_inches(9, 4) \n",
    "common = {'bins': 100, 'range': [-pred_error_test['residual'].max(), pred_error_test['residual'].max()]} \n",
    "pred_error_train.hist(ax=axes[0], **common) \n",
    "pred_error_test.hist(ax=axes[1], **common) \n",
    "#boxdata_df.boxplot(ax=axes[2], by = 'data set') \n",
    "axes[0].set_title('training') \n",
    "axes[1].set_title('test') \n",
    "#axes[2].set_title(' ') \n",
    "#axes[2].set_ylim(-50, 50) \n",
    "plt.suptitle('Prediction errors') \n",
    "plt.subplots_adjust(bottom=0.1, top=0.85, wspace=0.35) \n",
    "#plt.show() "
   ]
  },
  {
   "cell_type": "code",
   "execution_count": 20,
   "metadata": {},
   "outputs": [
    {
     "data": {
      "text/plain": [
       "residual    2.24804\n",
       "dtype: float64"
      ]
     },
     "execution_count": 20,
     "metadata": {},
     "output_type": "execute_result"
    }
   ],
   "source": [
    "pred_error_train.skew()"
   ]
  },
  {
   "cell_type": "code",
   "execution_count": 21,
   "metadata": {},
   "outputs": [
    {
     "data": {
      "text/plain": [
       "residual    1.391361\n",
       "dtype: float64"
      ]
     },
     "execution_count": 21,
     "metadata": {},
     "output_type": "execute_result"
    }
   ],
   "source": [
    "pred_error_test.skew()"
   ]
  },
  {
   "cell_type": "code",
   "execution_count": 22,
   "metadata": {},
   "outputs": [
    {
     "data": {
      "text/plain": [
       "<AxesSubplot:xlabel='COUNT'>"
      ]
     },
     "execution_count": 22,
     "metadata": {},
     "output_type": "execute_result"
    },
    {
     "data": {
      "image/png": "[encoded data removed]",
      "text/plain": [
       "<Figure size 432x288 with 1 Axes>"
      ]
     },
     "metadata": {
      "needs_background": "light"
     },
     "output_type": "display_data"
    }
   ],
   "source": [
    "sns.residplot(y = forwards_model.predict(valid_X[best_variables_forward]), x = valid_Y)"
   ]
  },
  {
   "cell_type": "code",
   "execution_count": 29,
   "metadata": {},
   "outputs": [],
   "source": [
    "backwards_model, best_variables_backward = backward_elimination(train_X.columns, train_model, score_model, verbose = False)"
   ]
  },
  {
   "cell_type": "code",
   "execution_count": 30,
   "metadata": {},
   "outputs": [
    {
     "name": "stdout",
     "output_type": "stream",
     "text": [
      "\n",
      "Regression statistics\n",
      "\n",
      "                      Mean Error (ME) : 0.0000\n",
      "       Root Mean Squared Error (RMSE) : 1.9254\n",
      "            Mean Absolute Error (MAE) : 1.2994\n",
      "          Mean Percentage Error (MPE) : -43.4049\n",
      "Mean Absolute Percentage Error (MAPE) : 67.6133\n",
      "None\n",
      "\n",
      "Regression statistics\n",
      "\n",
      "                      Mean Error (ME) : -0.1326\n",
      "       Root Mean Squared Error (RMSE) : 1.6765\n",
      "            Mean Absolute Error (MAE) : 1.2541\n",
      "          Mean Percentage Error (MPE) : -49.0192\n",
      "Mean Absolute Percentage Error (MAPE) : 71.6278\n"
     ]
    }
   ],
   "source": [
    "print(regressionSummary(train_Y, backwards_model.predict(train_X[best_variables_backward])))\n",
    "regressionSummary(valid_Y, backwards_model.predict(valid_X[best_variables_backward]))"
   ]
  },
  {
   "cell_type": "code",
   "execution_count": 31,
   "metadata": {},
   "outputs": [
    {
     "data": {
      "text/html": [
       "<div>\n",
       "<style scoped>\n",
       "    .dataframe tbody tr th:only-of-type {\n",
       "        vertical-align: middle;\n",
       "    }\n",
       "\n",
       "    .dataframe tbody tr th {\n",
       "        vertical-align: top;\n",
       "    }\n",
       "\n",
       "    .dataframe thead th {\n",
       "        text-align: right;\n",
       "    }\n",
       "</style>\n",
       "<table border=\"1\" class=\"dataframe\">\n",
       "  <thead>\n",
       "    <tr style=\"text-align: right;\">\n",
       "      <th></th>\n",
       "      <th>Feature</th>\n",
       "      <th>coefficients</th>\n",
       "    </tr>\n",
       "  </thead>\n",
       "  <tbody>\n",
       "    <tr>\n",
       "      <th>1</th>\n",
       "      <td>LIGHT_Dusk</td>\n",
       "      <td>1.779753</td>\n",
       "    </tr>\n",
       "    <tr>\n",
       "      <th>0</th>\n",
       "      <td>RDSFCOND_Other</td>\n",
       "      <td>-0.990254</td>\n",
       "    </tr>\n",
       "    <tr>\n",
       "      <th>4</th>\n",
       "      <td>TRAFFCTL_Pedestrian Crossover</td>\n",
       "      <td>-1.405342</td>\n",
       "    </tr>\n",
       "    <tr>\n",
       "      <th>5</th>\n",
       "      <td>TRAFFCTL_Stop/Yield Sign</td>\n",
       "      <td>-1.550727</td>\n",
       "    </tr>\n",
       "    <tr>\n",
       "      <th>3</th>\n",
       "      <td>TRAFFCTL_No Control</td>\n",
       "      <td>-1.580625</td>\n",
       "    </tr>\n",
       "    <tr>\n",
       "      <th>2</th>\n",
       "      <td>TRAFFCTL_Controller present</td>\n",
       "      <td>-1.785830</td>\n",
       "    </tr>\n",
       "  </tbody>\n",
       "</table>\n",
       "</div>"
      ],
      "text/plain": [
       "                         Feature  coefficients\n",
       "1                     LIGHT_Dusk      1.779753\n",
       "0                 RDSFCOND_Other     -0.990254\n",
       "4  TRAFFCTL_Pedestrian Crossover     -1.405342\n",
       "5       TRAFFCTL_Stop/Yield Sign     -1.550727\n",
       "3            TRAFFCTL_No Control     -1.580625\n",
       "2    TRAFFCTL_Controller present     -1.785830"
      ]
     },
     "execution_count": 31,
     "metadata": {},
     "output_type": "execute_result"
    }
   ],
   "source": [
    "pd.DataFrame({'Feature': best_variables_backward, 'coefficients': backwards_model.coef_}).sort_values(by = 'coefficients', ascending = False)"
   ]
  },
  {
   "cell_type": "code",
   "execution_count": 25,
   "metadata": {},
   "outputs": [
    {
     "data": {
      "image/png": "[encoded data removed]",
      "text/plain": [
       "<Figure size 648x288 with 2 Axes>"
      ]
     },
     "metadata": {
      "needs_background": "light"
     },
     "output_type": "display_data"
    }
   ],
   "source": [
    "pred_error_train = pd.DataFrame({ \n",
    " 'residual': train_Y - backwards_model.predict(train_X[best_variables_backward]), \n",
    " 'data set': 'training' \n",
    "}) \n",
    "pred_error_test = pd.DataFrame({ \n",
    " 'residual': valid_Y - backwards_model.predict(valid_X[best_variables_backward]), \n",
    " 'data set': 'test' \n",
    "}) \n",
    "\n",
    "#boxdata_df = pred_error_train.append(pred_error_test, ignore_index=True) \n",
    "fig, axes = plt.subplots(nrows=1, ncols=2) \n",
    "fig.set_size_inches(9, 4) \n",
    "common = {'bins': 100, 'range': [-pred_error_test['residual'].max(), pred_error_test['residual'].max()]} \n",
    "pred_error_train.hist(ax=axes[0], **common) \n",
    "pred_error_test.hist(ax=axes[1], **common) \n",
    "#boxdata_df.boxplot(ax=axes[2], by = 'data set') \n",
    "axes[0].set_title('training') \n",
    "axes[1].set_title('test') \n",
    "#axes[2].set_title(' ') \n",
    "#axes[2].set_ylim(-50, 50) \n",
    "plt.suptitle('Prediction errors') \n",
    "plt.subplots_adjust(bottom=0.1, top=0.85, wspace=0.35) \n",
    "#plt.show() "
   ]
  },
  {
   "cell_type": "code",
   "execution_count": 26,
   "metadata": {},
   "outputs": [
    {
     "data": {
      "text/plain": [
       "<AxesSubplot:xlabel='COUNT'>"
      ]
     },
     "execution_count": 26,
     "metadata": {},
     "output_type": "execute_result"
    },
    {
     "data": {
      "image/png": "[encoded data removed]",
      "text/plain": [
       "<Figure size 432x288 with 1 Axes>"
      ]
     },
     "metadata": {
      "needs_background": "light"
     },
     "output_type": "display_data"
    }
   ],
   "source": [
    "sns.residplot(y = backwards_model.predict(valid_X[best_variables_backward]), x = valid_Y)"
   ]
  },
  {
   "cell_type": "code",
   "execution_count": 27,
   "metadata": {},
   "outputs": [
    {
     "data": {
      "image/png": "[encoded data removed]",
      "text/plain": [
       "<Figure size 576x280.8 with 2 Axes>"
      ]
     },
     "metadata": {
      "needs_background": "light"
     },
     "output_type": "display_data"
    }
   ],
   "source": [
    "masker = shap.maskers.Independent(data= valid_X[best_variables_backward])\n",
    "explainer = shap.Explainer(backwards_model, masker= masker,\n",
    "                           feature_names= valid_X[best_variables_backward].columns, algorithm=\"linear\")\n",
    "shap_values = explainer.shap_values(valid_X[best_variables_backward])\n",
    "shap.summary_plot(shap_values, valid_X[best_variables_backward])"
   ]
  }
 ],
 "metadata": {
  "interpreter": {
   "hash": "a00b87f3dafb8c5b0afdf77add0e2432ad578e1240a81446720c0c7d6c46e214"
  },
  "kernelspec": {
   "display_name": "Python 3.9.10 64-bit (windows store)",
   "language": "python",
   "name": "python3"
  },
  "language_info": {
   "codemirror_mode": {
    "name": "ipython",
    "version": 3
   },
   "file_extension": ".py",
   "mimetype": "text/x-python",
   "name": "python",
   "nbconvert_exporter": "python",
   "pygments_lexer": "ipython3",
   "version": "3.9.10"
  },
  "orig_nbformat": 4
 },
 "nbformat": 4,
 "nbformat_minor": 2
}
