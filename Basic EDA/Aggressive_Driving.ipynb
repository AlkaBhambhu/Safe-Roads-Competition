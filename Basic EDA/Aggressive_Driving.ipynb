{
  "nbformat": 4,
  "nbformat_minor": 0,
  "metadata": {
    "colab": {
      "name": "Aggressive_Driving",
      "provenance": [],
      "authorship_tag": "ABX9TyNQXFKw+KDDeIMttKegVoWF"
    },
    "kernelspec": {
      "name": "python3",
      "display_name": "Python 3"
    },
    "language_info": {
      "name": "python"
    }
  },
  "cells": [
    {
      "cell_type": "code",
      "execution_count": 1,
      "metadata": {
        "id": "_dZh-dtQuR7h"
      },
      "outputs": [],
      "source": [
        "import pandas as pd\n",
        "import numpy as np\n",
        "import seaborn as sns\n",
        "import matplotlib.pyplot as plt\n",
        "import datetime\n",
        "from datetime import datetime"
      ]
    },
    {
      "cell_type": "code",
      "source": [
        "verybad = pd.read_csv('Aggressive_Driving.csv')"
      ],
      "metadata": {
        "id": "diS0p07uuh9E"
      },
      "execution_count": 2,
      "outputs": []
    },
    {
      "cell_type": "code",
      "source": [
        "verybad.head()"
      ],
      "metadata": {
        "colab": {
          "base_uri": "https://localhost:8080/",
          "height": 461
        },
        "id": "5bejMopPu047",
        "outputId": "5f7a8bf3-5e65-40e9-b205-f8f8aaf93025"
      },
      "execution_count": null,
      "outputs": [
        {
          "output_type": "execute_result",
          "data": {
            "text/html": [
              "\n",
              "  <div id=\"df-a68314b8-0ec2-40f6-939c-1040171125d0\">\n",
              "    <div class=\"colab-df-container\">\n",
              "      <div>\n",
              "<style scoped>\n",
              "    .dataframe tbody tr th:only-of-type {\n",
              "        vertical-align: middle;\n",
              "    }\n",
              "\n",
              "    .dataframe tbody tr th {\n",
              "        vertical-align: top;\n",
              "    }\n",
              "\n",
              "    .dataframe thead th {\n",
              "        text-align: right;\n",
              "    }\n",
              "</style>\n",
              "<table border=\"1\" class=\"dataframe\">\n",
              "  <thead>\n",
              "    <tr style=\"text-align: right;\">\n",
              "      <th></th>\n",
              "      <th>X</th>\n",
              "      <th>Y</th>\n",
              "      <th>INDEX_</th>\n",
              "      <th>ACCNUM</th>\n",
              "      <th>YEAR</th>\n",
              "      <th>DATE</th>\n",
              "      <th>TIME</th>\n",
              "      <th>HOUR</th>\n",
              "      <th>STREET1</th>\n",
              "      <th>STREET2</th>\n",
              "      <th>OFFSET</th>\n",
              "      <th>ROAD_CLASS</th>\n",
              "      <th>DISTRICT</th>\n",
              "      <th>WARDNUM</th>\n",
              "      <th>DIVISION</th>\n",
              "      <th>LATITUDE</th>\n",
              "      <th>LONGITUDE</th>\n",
              "      <th>LOCCOORD</th>\n",
              "      <th>ACCLOC</th>\n",
              "      <th>TRAFFCTL</th>\n",
              "      <th>VISIBILITY</th>\n",
              "      <th>LIGHT</th>\n",
              "      <th>RDSFCOND</th>\n",
              "      <th>ACCLASS</th>\n",
              "      <th>IMPACTYPE</th>\n",
              "      <th>INVTYPE</th>\n",
              "      <th>INVAGE</th>\n",
              "      <th>INJURY</th>\n",
              "      <th>FATAL_NO</th>\n",
              "      <th>INITDIR</th>\n",
              "      <th>VEHTYPE</th>\n",
              "      <th>MANOEUVER</th>\n",
              "      <th>DRIVACT</th>\n",
              "      <th>DRIVCOND</th>\n",
              "      <th>PEDTYPE</th>\n",
              "      <th>PEDACT</th>\n",
              "      <th>PEDCOND</th>\n",
              "      <th>CYCLISTYPE</th>\n",
              "      <th>CYCACT</th>\n",
              "      <th>CYCCOND</th>\n",
              "      <th>PEDESTRIAN</th>\n",
              "      <th>CYCLIST</th>\n",
              "      <th>AUTOMOBILE</th>\n",
              "      <th>MOTORCYCLE</th>\n",
              "      <th>TRUCK</th>\n",
              "      <th>TRSN_CITY_VEH</th>\n",
              "      <th>EMERG_VEH</th>\n",
              "      <th>PASSENGER</th>\n",
              "      <th>SPEEDING</th>\n",
              "      <th>AG_DRIV</th>\n",
              "      <th>REDLIGHT</th>\n",
              "      <th>ALCOHOL</th>\n",
              "      <th>DISABILITY</th>\n",
              "      <th>POLICE_DIVISION</th>\n",
              "      <th>HOOD_ID</th>\n",
              "      <th>NEIGHBOURHOOD</th>\n",
              "      <th>ObjectId</th>\n",
              "    </tr>\n",
              "  </thead>\n",
              "  <tbody>\n",
              "    <tr>\n",
              "      <th>0</th>\n",
              "      <td>-8.842663e+06</td>\n",
              "      <td>5.412968e+06</td>\n",
              "      <td>3514248</td>\n",
              "      <td>939781</td>\n",
              "      <td>2006</td>\n",
              "      <td>2006/04/28 04:00:00+00</td>\n",
              "      <td>2349</td>\n",
              "      <td>23</td>\n",
              "      <td>BLOOR ST W</td>\n",
              "      <td>DUFFERIN ST</td>\n",
              "      <td>&lt;Null&gt;</td>\n",
              "      <td>Major Arterial</td>\n",
              "      <td>Toronto and East York</td>\n",
              "      <td>9</td>\n",
              "      <td>14</td>\n",
              "      <td>43.659945</td>\n",
              "      <td>-79.43499</td>\n",
              "      <td>Mid-Block</td>\n",
              "      <td>&lt;Null&gt;</td>\n",
              "      <td>No Control</td>\n",
              "      <td>Clear</td>\n",
              "      <td>Dark</td>\n",
              "      <td>Dry</td>\n",
              "      <td>Non-Fatal Injury</td>\n",
              "      <td>Cyclist Collisions</td>\n",
              "      <td>Driver</td>\n",
              "      <td>50 to 54</td>\n",
              "      <td>None</td>\n",
              "      <td>&lt;Null&gt;</td>\n",
              "      <td>West</td>\n",
              "      <td>Automobile, Station Wagon</td>\n",
              "      <td>Going Ahead</td>\n",
              "      <td>Driving Properly</td>\n",
              "      <td>Normal</td>\n",
              "      <td>&lt;Null&gt;</td>\n",
              "      <td>&lt;Null&gt;</td>\n",
              "      <td>&lt;Null&gt;</td>\n",
              "      <td>&lt;Null&gt;</td>\n",
              "      <td>&lt;Null&gt;</td>\n",
              "      <td>&lt;Null&gt;</td>\n",
              "      <td>&lt;Null&gt;</td>\n",
              "      <td>Yes</td>\n",
              "      <td>Yes</td>\n",
              "      <td>&lt;Null&gt;</td>\n",
              "      <td>&lt;Null&gt;</td>\n",
              "      <td>&lt;Null&gt;</td>\n",
              "      <td>&lt;Null&gt;</td>\n",
              "      <td>Yes</td>\n",
              "      <td>Yes</td>\n",
              "      <td>Yes</td>\n",
              "      <td>&lt;Null&gt;</td>\n",
              "      <td>&lt;Null&gt;</td>\n",
              "      <td>&lt;Null&gt;</td>\n",
              "      <td>D14</td>\n",
              "      <td>83</td>\n",
              "      <td>Dufferin Grove (83)</td>\n",
              "      <td>1</td>\n",
              "    </tr>\n",
              "    <tr>\n",
              "      <th>1</th>\n",
              "      <td>-8.842663e+06</td>\n",
              "      <td>5.412968e+06</td>\n",
              "      <td>3514249</td>\n",
              "      <td>939781</td>\n",
              "      <td>2006</td>\n",
              "      <td>2006/04/28 04:00:00+00</td>\n",
              "      <td>2349</td>\n",
              "      <td>23</td>\n",
              "      <td>BLOOR ST W</td>\n",
              "      <td>DUFFERIN ST</td>\n",
              "      <td>&lt;Null&gt;</td>\n",
              "      <td>Major Arterial</td>\n",
              "      <td>Toronto and East York</td>\n",
              "      <td>9</td>\n",
              "      <td>14</td>\n",
              "      <td>43.659945</td>\n",
              "      <td>-79.43499</td>\n",
              "      <td>Mid-Block</td>\n",
              "      <td>&lt;Null&gt;</td>\n",
              "      <td>No Control</td>\n",
              "      <td>Clear</td>\n",
              "      <td>Dark</td>\n",
              "      <td>Dry</td>\n",
              "      <td>Non-Fatal Injury</td>\n",
              "      <td>Cyclist Collisions</td>\n",
              "      <td>Driver</td>\n",
              "      <td>unknown</td>\n",
              "      <td>None</td>\n",
              "      <td>&lt;Null&gt;</td>\n",
              "      <td>East</td>\n",
              "      <td>Automobile, Station Wagon</td>\n",
              "      <td>Going Ahead</td>\n",
              "      <td>Speed too Fast For Condition</td>\n",
              "      <td>Normal</td>\n",
              "      <td>&lt;Null&gt;</td>\n",
              "      <td>&lt;Null&gt;</td>\n",
              "      <td>&lt;Null&gt;</td>\n",
              "      <td>&lt;Null&gt;</td>\n",
              "      <td>&lt;Null&gt;</td>\n",
              "      <td>&lt;Null&gt;</td>\n",
              "      <td>&lt;Null&gt;</td>\n",
              "      <td>Yes</td>\n",
              "      <td>Yes</td>\n",
              "      <td>&lt;Null&gt;</td>\n",
              "      <td>&lt;Null&gt;</td>\n",
              "      <td>&lt;Null&gt;</td>\n",
              "      <td>&lt;Null&gt;</td>\n",
              "      <td>Yes</td>\n",
              "      <td>Yes</td>\n",
              "      <td>Yes</td>\n",
              "      <td>&lt;Null&gt;</td>\n",
              "      <td>&lt;Null&gt;</td>\n",
              "      <td>&lt;Null&gt;</td>\n",
              "      <td>D14</td>\n",
              "      <td>83</td>\n",
              "      <td>Dufferin Grove (83)</td>\n",
              "      <td>2</td>\n",
              "    </tr>\n",
              "    <tr>\n",
              "      <th>2</th>\n",
              "      <td>-8.842663e+06</td>\n",
              "      <td>5.412968e+06</td>\n",
              "      <td>3514250</td>\n",
              "      <td>939781</td>\n",
              "      <td>2006</td>\n",
              "      <td>2006/04/28 04:00:00+00</td>\n",
              "      <td>2349</td>\n",
              "      <td>23</td>\n",
              "      <td>BLOOR ST W</td>\n",
              "      <td>DUFFERIN ST</td>\n",
              "      <td>&lt;Null&gt;</td>\n",
              "      <td>Major Arterial</td>\n",
              "      <td>Toronto and East York</td>\n",
              "      <td>9</td>\n",
              "      <td>14</td>\n",
              "      <td>43.659945</td>\n",
              "      <td>-79.43499</td>\n",
              "      <td>Mid-Block</td>\n",
              "      <td>&lt;Null&gt;</td>\n",
              "      <td>No Control</td>\n",
              "      <td>Clear</td>\n",
              "      <td>Dark</td>\n",
              "      <td>Dry</td>\n",
              "      <td>Non-Fatal Injury</td>\n",
              "      <td>Cyclist Collisions</td>\n",
              "      <td>Vehicle Owner</td>\n",
              "      <td>unknown</td>\n",
              "      <td>&lt;Null&gt;</td>\n",
              "      <td>&lt;Null&gt;</td>\n",
              "      <td>&lt;Null&gt;</td>\n",
              "      <td>Other</td>\n",
              "      <td>&lt;Null&gt;</td>\n",
              "      <td>&lt;Null&gt;</td>\n",
              "      <td>&lt;Null&gt;</td>\n",
              "      <td>&lt;Null&gt;</td>\n",
              "      <td>&lt;Null&gt;</td>\n",
              "      <td>&lt;Null&gt;</td>\n",
              "      <td>&lt;Null&gt;</td>\n",
              "      <td>&lt;Null&gt;</td>\n",
              "      <td>&lt;Null&gt;</td>\n",
              "      <td>&lt;Null&gt;</td>\n",
              "      <td>Yes</td>\n",
              "      <td>Yes</td>\n",
              "      <td>&lt;Null&gt;</td>\n",
              "      <td>&lt;Null&gt;</td>\n",
              "      <td>&lt;Null&gt;</td>\n",
              "      <td>&lt;Null&gt;</td>\n",
              "      <td>Yes</td>\n",
              "      <td>Yes</td>\n",
              "      <td>Yes</td>\n",
              "      <td>&lt;Null&gt;</td>\n",
              "      <td>&lt;Null&gt;</td>\n",
              "      <td>&lt;Null&gt;</td>\n",
              "      <td>D14</td>\n",
              "      <td>83</td>\n",
              "      <td>Dufferin Grove (83)</td>\n",
              "      <td>3</td>\n",
              "    </tr>\n",
              "    <tr>\n",
              "      <th>3</th>\n",
              "      <td>-8.842663e+06</td>\n",
              "      <td>5.412968e+06</td>\n",
              "      <td>3514251</td>\n",
              "      <td>939781</td>\n",
              "      <td>2006</td>\n",
              "      <td>2006/04/28 04:00:00+00</td>\n",
              "      <td>2349</td>\n",
              "      <td>23</td>\n",
              "      <td>BLOOR ST W</td>\n",
              "      <td>DUFFERIN ST</td>\n",
              "      <td>&lt;Null&gt;</td>\n",
              "      <td>Major Arterial</td>\n",
              "      <td>Toronto and East York</td>\n",
              "      <td>9</td>\n",
              "      <td>14</td>\n",
              "      <td>43.659945</td>\n",
              "      <td>-79.43499</td>\n",
              "      <td>Mid-Block</td>\n",
              "      <td>&lt;Null&gt;</td>\n",
              "      <td>No Control</td>\n",
              "      <td>Clear</td>\n",
              "      <td>Dark</td>\n",
              "      <td>Dry</td>\n",
              "      <td>Non-Fatal Injury</td>\n",
              "      <td>Cyclist Collisions</td>\n",
              "      <td>Vehicle Owner</td>\n",
              "      <td>unknown</td>\n",
              "      <td>&lt;Null&gt;</td>\n",
              "      <td>&lt;Null&gt;</td>\n",
              "      <td>&lt;Null&gt;</td>\n",
              "      <td>Other</td>\n",
              "      <td>&lt;Null&gt;</td>\n",
              "      <td>&lt;Null&gt;</td>\n",
              "      <td>&lt;Null&gt;</td>\n",
              "      <td>&lt;Null&gt;</td>\n",
              "      <td>&lt;Null&gt;</td>\n",
              "      <td>&lt;Null&gt;</td>\n",
              "      <td>&lt;Null&gt;</td>\n",
              "      <td>&lt;Null&gt;</td>\n",
              "      <td>&lt;Null&gt;</td>\n",
              "      <td>&lt;Null&gt;</td>\n",
              "      <td>Yes</td>\n",
              "      <td>Yes</td>\n",
              "      <td>&lt;Null&gt;</td>\n",
              "      <td>&lt;Null&gt;</td>\n",
              "      <td>&lt;Null&gt;</td>\n",
              "      <td>&lt;Null&gt;</td>\n",
              "      <td>Yes</td>\n",
              "      <td>Yes</td>\n",
              "      <td>Yes</td>\n",
              "      <td>&lt;Null&gt;</td>\n",
              "      <td>&lt;Null&gt;</td>\n",
              "      <td>&lt;Null&gt;</td>\n",
              "      <td>D14</td>\n",
              "      <td>83</td>\n",
              "      <td>Dufferin Grove (83)</td>\n",
              "      <td>4</td>\n",
              "    </tr>\n",
              "    <tr>\n",
              "      <th>4</th>\n",
              "      <td>-8.842663e+06</td>\n",
              "      <td>5.412968e+06</td>\n",
              "      <td>3514252</td>\n",
              "      <td>939781</td>\n",
              "      <td>2006</td>\n",
              "      <td>2006/04/28 04:00:00+00</td>\n",
              "      <td>2349</td>\n",
              "      <td>23</td>\n",
              "      <td>BLOOR ST W</td>\n",
              "      <td>DUFFERIN ST</td>\n",
              "      <td>&lt;Null&gt;</td>\n",
              "      <td>Major Arterial</td>\n",
              "      <td>Toronto and East York</td>\n",
              "      <td>9</td>\n",
              "      <td>14</td>\n",
              "      <td>43.659945</td>\n",
              "      <td>-79.43499</td>\n",
              "      <td>Mid-Block</td>\n",
              "      <td>&lt;Null&gt;</td>\n",
              "      <td>No Control</td>\n",
              "      <td>Clear</td>\n",
              "      <td>Dark</td>\n",
              "      <td>Dry</td>\n",
              "      <td>Non-Fatal Injury</td>\n",
              "      <td>Cyclist Collisions</td>\n",
              "      <td>Driver</td>\n",
              "      <td>35 to 39</td>\n",
              "      <td>Minor</td>\n",
              "      <td>&lt;Null&gt;</td>\n",
              "      <td>East</td>\n",
              "      <td>Automobile, Station Wagon</td>\n",
              "      <td>Going Ahead</td>\n",
              "      <td>Driving Properly</td>\n",
              "      <td>Normal</td>\n",
              "      <td>&lt;Null&gt;</td>\n",
              "      <td>&lt;Null&gt;</td>\n",
              "      <td>&lt;Null&gt;</td>\n",
              "      <td>&lt;Null&gt;</td>\n",
              "      <td>&lt;Null&gt;</td>\n",
              "      <td>&lt;Null&gt;</td>\n",
              "      <td>&lt;Null&gt;</td>\n",
              "      <td>Yes</td>\n",
              "      <td>Yes</td>\n",
              "      <td>&lt;Null&gt;</td>\n",
              "      <td>&lt;Null&gt;</td>\n",
              "      <td>&lt;Null&gt;</td>\n",
              "      <td>&lt;Null&gt;</td>\n",
              "      <td>Yes</td>\n",
              "      <td>Yes</td>\n",
              "      <td>Yes</td>\n",
              "      <td>&lt;Null&gt;</td>\n",
              "      <td>&lt;Null&gt;</td>\n",
              "      <td>&lt;Null&gt;</td>\n",
              "      <td>D14</td>\n",
              "      <td>83</td>\n",
              "      <td>Dufferin Grove (83)</td>\n",
              "      <td>5</td>\n",
              "    </tr>\n",
              "  </tbody>\n",
              "</table>\n",
              "</div>\n",
              "      <button class=\"colab-df-convert\" onclick=\"convertToInteractive('df-a68314b8-0ec2-40f6-939c-1040171125d0')\"\n",
              "              title=\"Convert this dataframe to an interactive table.\"\n",
              "              style=\"display:none;\">\n",
              "        \n",
              "  <svg xmlns=\"http://www.w3.org/2000/svg\" height=\"24px\"viewBox=\"0 0 24 24\"\n",
              "       width=\"24px\">\n",
              "    <path d=\"M0 0h24v24H0V0z\" fill=\"none\"/>\n",
              "    <path d=\"M18.56 5.44l.94 2.06.94-2.06 2.06-.94-2.06-.94-.94-2.06-.94 2.06-2.06.94zm-11 1L8.5 8.5l.94-2.06 2.06-.94-2.06-.94L8.5 2.5l-.94 2.06-2.06.94zm10 10l.94 2.06.94-2.06 2.06-.94-2.06-.94-.94-2.06-.94 2.06-2.06.94z\"/><path d=\"M17.41 7.96l-1.37-1.37c-.4-.4-.92-.59-1.43-.59-.52 0-1.04.2-1.43.59L10.3 9.45l-7.72 7.72c-.78.78-.78 2.05 0 2.83L4 21.41c.39.39.9.59 1.41.59.51 0 1.02-.2 1.41-.59l7.78-7.78 2.81-2.81c.8-.78.8-2.07 0-2.86zM5.41 20L4 18.59l7.72-7.72 1.47 1.35L5.41 20z\"/>\n",
              "  </svg>\n",
              "      </button>\n",
              "      \n",
              "  <style>\n",
              "    .colab-df-container {\n",
              "      display:flex;\n",
              "      flex-wrap:wrap;\n",
              "      gap: 12px;\n",
              "    }\n",
              "\n",
              "    .colab-df-convert {\n",
              "      background-color: #E8F0FE;\n",
              "      border: none;\n",
              "      border-radius: 50%;\n",
              "      cursor: pointer;\n",
              "      display: none;\n",
              "      fill: #1967D2;\n",
              "      height: 32px;\n",
              "      padding: 0 0 0 0;\n",
              "      width: 32px;\n",
              "    }\n",
              "\n",
              "    .colab-df-convert:hover {\n",
              "      background-color: #E2EBFA;\n",
              "      box-shadow: 0px 1px 2px rgba(60, 64, 67, 0.3), 0px 1px 3px 1px rgba(60, 64, 67, 0.15);\n",
              "      fill: #174EA6;\n",
              "    }\n",
              "\n",
              "    [theme=dark] .colab-df-convert {\n",
              "      background-color: #3B4455;\n",
              "      fill: #D2E3FC;\n",
              "    }\n",
              "\n",
              "    [theme=dark] .colab-df-convert:hover {\n",
              "      background-color: #434B5C;\n",
              "      box-shadow: 0px 1px 3px 1px rgba(0, 0, 0, 0.15);\n",
              "      filter: drop-shadow(0px 1px 2px rgba(0, 0, 0, 0.3));\n",
              "      fill: #FFFFFF;\n",
              "    }\n",
              "  </style>\n",
              "\n",
              "      <script>\n",
              "        const buttonEl =\n",
              "          document.querySelector('#df-a68314b8-0ec2-40f6-939c-1040171125d0 button.colab-df-convert');\n",
              "        buttonEl.style.display =\n",
              "          google.colab.kernel.accessAllowed ? 'block' : 'none';\n",
              "\n",
              "        async function convertToInteractive(key) {\n",
              "          const element = document.querySelector('#df-a68314b8-0ec2-40f6-939c-1040171125d0');\n",
              "          const dataTable =\n",
              "            await google.colab.kernel.invokeFunction('convertToInteractive',\n",
              "                                                     [key], {});\n",
              "          if (!dataTable) return;\n",
              "\n",
              "          const docLinkHtml = 'Like what you see? Visit the ' +\n",
              "            '<a target=\"_blank\" href=https://colab.research.google.com/notebooks/data_table.ipynb>data table notebook</a>'\n",
              "            + ' to learn more about interactive tables.';\n",
              "          element.innerHTML = '';\n",
              "          dataTable['output_type'] = 'display_data';\n",
              "          await google.colab.output.renderOutput(dataTable, element);\n",
              "          const docLink = document.createElement('div');\n",
              "          docLink.innerHTML = docLinkHtml;\n",
              "          element.appendChild(docLink);\n",
              "        }\n",
              "      </script>\n",
              "    </div>\n",
              "  </div>\n",
              "  "
            ],
            "text/plain": [
              "              X             Y   INDEX_  ...  HOOD_ID        NEIGHBOURHOOD ObjectId\n",
              "0 -8.842663e+06  5.412968e+06  3514248  ...       83  Dufferin Grove (83)        1\n",
              "1 -8.842663e+06  5.412968e+06  3514249  ...       83  Dufferin Grove (83)        2\n",
              "2 -8.842663e+06  5.412968e+06  3514250  ...       83  Dufferin Grove (83)        3\n",
              "3 -8.842663e+06  5.412968e+06  3514251  ...       83  Dufferin Grove (83)        4\n",
              "4 -8.842663e+06  5.412968e+06  3514252  ...       83  Dufferin Grove (83)        5\n",
              "\n",
              "[5 rows x 57 columns]"
            ]
          },
          "metadata": {},
          "execution_count": 3
        }
      ]
    },
    {
      "cell_type": "code",
      "source": [
        "verybad['MONTH'] = pd.DatetimeIndex(verybad['DATE']).month\n",
        "verybad['DAY'] = pd.DatetimeIndex(verybad['DATE']).day"
      ],
      "metadata": {
        "id": "j4TXqZk_xyXm"
      },
      "execution_count": 49,
      "outputs": []
    },
    {
      "cell_type": "code",
      "source": [
        "verybad.shape"
      ],
      "metadata": {
        "colab": {
          "base_uri": "https://localhost:8080/"
        },
        "id": "SM1OtpEbvWP8",
        "outputId": "573e8106-2a39-47a0-91e8-978bc3e78f6d"
      },
      "execution_count": 4,
      "outputs": [
        {
          "output_type": "execute_result",
          "data": {
            "text/plain": [
              "(8703, 59)"
            ]
          },
          "metadata": {},
          "execution_count": 4
        }
      ]
    },
    {
      "cell_type": "code",
      "source": [
        "verybad.info()"
      ],
      "metadata": {
        "colab": {
          "base_uri": "https://localhost:8080/"
        },
        "id": "Any8AM6Ava9X",
        "outputId": "a8da0219-bdc3-47b7-938c-67b15af164fe"
      },
      "execution_count": 5,
      "outputs": [
        {
          "output_type": "stream",
          "name": "stdout",
          "text": [
            "<class 'pandas.core.frame.DataFrame'>\n",
            "RangeIndex: 8703 entries, 0 to 8702\n",
            "Data columns (total 59 columns):\n",
            " #   Column           Non-Null Count  Dtype  \n",
            "---  ------           --------------  -----  \n",
            " 0   X                8703 non-null   float64\n",
            " 1   Y                8703 non-null   float64\n",
            " 2   INDEX_           8703 non-null   int64  \n",
            " 3   ACCNUM           8703 non-null   int64  \n",
            " 4   YEAR             8703 non-null   int64  \n",
            " 5   DATE             8703 non-null   object \n",
            " 6   TIME             8703 non-null   int64  \n",
            " 7   HOUR             8703 non-null   int64  \n",
            " 8   STREET1          8703 non-null   object \n",
            " 9   STREET2          8703 non-null   object \n",
            " 10  OFFSET           8703 non-null   object \n",
            " 11  ROAD_CLASS       8703 non-null   object \n",
            " 12  DISTRICT         8703 non-null   object \n",
            " 13  WARDNUM          8703 non-null   object \n",
            " 14  DIVISION         8703 non-null   object \n",
            " 15  LATITUDE         8703 non-null   float64\n",
            " 16  LONGITUDE        8703 non-null   float64\n",
            " 17  LOCCOORD         8703 non-null   object \n",
            " 18  ACCLOC           8703 non-null   object \n",
            " 19  TRAFFCTL         8703 non-null   object \n",
            " 20  VISIBILITY       8703 non-null   object \n",
            " 21  LIGHT            8703 non-null   object \n",
            " 22  RDSFCOND         8703 non-null   object \n",
            " 23  ACCLASS          8703 non-null   object \n",
            " 24  IMPACTYPE        8703 non-null   object \n",
            " 25  INVTYPE          8703 non-null   object \n",
            " 26  INVAGE           8703 non-null   object \n",
            " 27  INJURY           8703 non-null   object \n",
            " 28  FATAL_NO         8703 non-null   object \n",
            " 29  INITDIR          8703 non-null   object \n",
            " 30  VEHTYPE          8703 non-null   object \n",
            " 31  MANOEUVER        8703 non-null   object \n",
            " 32  DRIVACT          8703 non-null   object \n",
            " 33  DRIVCOND         8703 non-null   object \n",
            " 34  PEDTYPE          8703 non-null   object \n",
            " 35  PEDACT           8703 non-null   object \n",
            " 36  PEDCOND          8703 non-null   object \n",
            " 37  CYCLISTYPE       8703 non-null   object \n",
            " 38  CYCACT           8703 non-null   object \n",
            " 39  CYCCOND          8703 non-null   object \n",
            " 40  PEDESTRIAN       8703 non-null   object \n",
            " 41  CYCLIST          8703 non-null   object \n",
            " 42  AUTOMOBILE       8703 non-null   object \n",
            " 43  MOTORCYCLE       8703 non-null   object \n",
            " 44  TRUCK            8703 non-null   object \n",
            " 45  TRSN_CITY_VEH    8703 non-null   object \n",
            " 46  EMERG_VEH        8703 non-null   object \n",
            " 47  PASSENGER        8703 non-null   object \n",
            " 48  SPEEDING         8703 non-null   object \n",
            " 49  AG_DRIV          8703 non-null   object \n",
            " 50  REDLIGHT         8703 non-null   object \n",
            " 51  ALCOHOL          8703 non-null   object \n",
            " 52  DISABILITY       8703 non-null   object \n",
            " 53  POLICE_DIVISION  8703 non-null   object \n",
            " 54  HOOD_ID          8703 non-null   int64  \n",
            " 55  NEIGHBOURHOOD    8703 non-null   object \n",
            " 56  ObjectId         8703 non-null   int64  \n",
            " 57  MONTH            8703 non-null   int64  \n",
            " 58  DAY              8703 non-null   int64  \n",
            "dtypes: float64(4), int64(9), object(46)\n",
            "memory usage: 3.9+ MB\n"
          ]
        }
      ]
    },
    {
      "cell_type": "code",
      "source": [
        "verybad['ACCNUM'].nunique()"
      ],
      "metadata": {
        "colab": {
          "base_uri": "https://localhost:8080/"
        },
        "id": "mQIteHBqqk6j",
        "outputId": "fc2e3d51-29ae-4e9e-c100-d576b2cde7fd"
      },
      "execution_count": 70,
      "outputs": [
        {
          "output_type": "execute_result",
          "data": {
            "text/plain": [
              "2910"
            ]
          },
          "metadata": {},
          "execution_count": 70
        }
      ]
    },
    {
      "cell_type": "code",
      "source": [
        "# Accidents caused by aggressive driving per year\n",
        "verybad.groupby('YEAR')['ACCNUM'].nunique().plot(kind='bar')"
      ],
      "metadata": {
        "colab": {
          "base_uri": "https://localhost:8080/",
          "height": 313
        },
        "id": "_tS9nJ_IWjmK",
        "outputId": "5396772b-1ce6-45de-a0da-641019432166"
      },
      "execution_count": null,
      "outputs": [
        {
          "output_type": "execute_result",
          "data": {
            "text/plain": [
              "<matplotlib.axes._subplots.AxesSubplot at 0x7fc92fe2ef90>"
            ]
          },
          "metadata": {},
          "execution_count": 75
        },
        {
          "output_type": "display_data",
          "data": {
            "image/png": "[encoded data removed]",
            "text/plain": [
              "<Figure size 432x288 with 1 Axes>"
            ]
          },
          "metadata": {
            "needs_background": "light"
          }
        }
      ]
    },
    {
      "cell_type": "code",
      "source": [
        "# Number of accidents per year\n",
        "by_year = verybad.groupby(['YEAR'])['ACCNUM'].nunique()\n",
        "by_year"
      ],
      "metadata": {
        "colab": {
          "base_uri": "https://localhost:8080/"
        },
        "id": "2cWnFRTAYLuh",
        "outputId": "40d555fe-2ae5-4f68-f0d9-0d15b4d47d13"
      },
      "execution_count": 19,
      "outputs": [
        {
          "output_type": "execute_result",
          "data": {
            "text/plain": [
              "YEAR\n",
              "2006    217\n",
              "2007    216\n",
              "2008    198\n",
              "2009    195\n",
              "2010    190\n",
              "2011    190\n",
              "2012    221\n",
              "2013    206\n",
              "2014    184\n",
              "2015    172\n",
              "2016    204\n",
              "2017    183\n",
              "2018    207\n",
              "2019    196\n",
              "2020    131\n",
              "Name: ACCNUM, dtype: int64"
            ]
          },
          "metadata": {},
          "execution_count": 19
        }
      ]
    },
    {
      "cell_type": "code",
      "source": [
        "# Number of fatal accidents per year\n",
        "verybad[verybad['ACCLASS'] == 'Fatal'].groupby(['YEAR'])['ACCNUM'].count()"
      ],
      "metadata": {
        "colab": {
          "base_uri": "https://localhost:8080/"
        },
        "id": "CHRu_VnqWacm",
        "outputId": "1ef4499a-1b93-478a-e774-2fdd6adc5a60"
      },
      "execution_count": null,
      "outputs": [
        {
          "output_type": "execute_result",
          "data": {
            "text/plain": [
              "YEAR\n",
              "2006     91\n",
              "2007     72\n",
              "2008     90\n",
              "2009     45\n",
              "2010     79\n",
              "2011     69\n",
              "2012     48\n",
              "2013    128\n",
              "2014     60\n",
              "2015     78\n",
              "2016     99\n",
              "2017     68\n",
              "2018     73\n",
              "2019     64\n",
              "2020     35\n",
              "Name: ACCNUM, dtype: int64"
            ]
          },
          "metadata": {},
          "execution_count": 29
        }
      ]
    },
    {
      "cell_type": "code",
      "source": [
        "#Month with most agressive driving\n",
        "verybad.groupby(['MONTH','ACCLASS'])['ACCNUM'].nunique().unstack().plot(kind='bar', stacked=True)"
      ],
      "metadata": {
        "colab": {
          "base_uri": "https://localhost:8080/",
          "height": 299
        },
        "id": "Wmk-4W_cvfKF",
        "outputId": "f41fd586-d716-4021-b548-b0525cc2d03d"
      },
      "execution_count": null,
      "outputs": [
        {
          "output_type": "execute_result",
          "data": {
            "text/plain": [
              "<matplotlib.axes._subplots.AxesSubplot at 0x7fc9339e4cd0>"
            ]
          },
          "metadata": {},
          "execution_count": 26
        },
        {
          "output_type": "display_data",
          "data": {
            "image/png": "[encoded data removed]",
            "text/plain": [
              "<Figure size 432x288 with 1 Axes>"
            ]
          },
          "metadata": {
            "needs_background": "light"
          }
        }
      ]
    },
    {
      "cell_type": "code",
      "source": [
        "# Number of accidents per month from 2006-2020 combined\n",
        "verybad.groupby(['MONTH'])['ACCNUM'].count()"
      ],
      "metadata": {
        "colab": {
          "base_uri": "https://localhost:8080/"
        },
        "id": "u8RvVcGeYZeN",
        "outputId": "43ce8541-1765-440f-f6dc-b97586af85c9"
      },
      "execution_count": null,
      "outputs": [
        {
          "output_type": "execute_result",
          "data": {
            "text/plain": [
              "MONTH\n",
              "1     663\n",
              "2     600\n",
              "3     598\n",
              "4     687\n",
              "5     751\n",
              "6     780\n",
              "7     784\n",
              "8     892\n",
              "9     847\n",
              "10    823\n",
              "11    673\n",
              "12    605\n",
              "Name: ACCNUM, dtype: int64"
            ]
          },
          "metadata": {},
          "execution_count": 32
        }
      ]
    },
    {
      "cell_type": "code",
      "source": [
        "#First Week of School\n",
        "verybad[(verybad['MONTH'] == 9) & (verybad['DAY'] >= 3) & (verybad['DAY'] <= 10)].groupby(['YEAR', 'ACCLASS'])['ACCNUM'].nunique().unstack().plot(kind='bar', stacked = True)"
      ],
      "metadata": {
        "colab": {
          "base_uri": "https://localhost:8080/",
          "height": 313
        },
        "id": "FXzSGKWLUyKS",
        "outputId": "d8f4f392-b385-4e7d-c39c-6283bd8e7c60"
      },
      "execution_count": null,
      "outputs": [
        {
          "output_type": "execute_result",
          "data": {
            "text/plain": [
              "<matplotlib.axes._subplots.AxesSubplot at 0x7fc934074090>"
            ]
          },
          "metadata": {},
          "execution_count": 16
        },
        {
          "output_type": "display_data",
          "data": {
            "image/png": "[encoded data removed]",
            "text/plain": [
              "<Figure size 432x288 with 1 Axes>"
            ]
          },
          "metadata": {
            "needs_background": "light"
          }
        }
      ]
    },
    {
      "cell_type": "code",
      "source": [
        "verybad[(verybad['MONTH'] == 9) & (verybad['DAY'] >= 3) & (verybad['DAY'] <= 10)].groupby(['YEAR', 'ACCLASS'])['ACCNUM'].count()"
      ],
      "metadata": {
        "colab": {
          "base_uri": "https://localhost:8080/"
        },
        "id": "ER-ayOP1u850",
        "outputId": "7247099e-0ade-4140-b291-ab6d1d90eecf"
      },
      "execution_count": 6,
      "outputs": [
        {
          "output_type": "execute_result",
          "data": {
            "text/plain": [
              "YEAR  ACCLASS         \n",
              "2006  Fatal                5\n",
              "      Non-Fatal Injury    18\n",
              "2007  Non-Fatal Injury    13\n",
              "2008  Fatal                2\n",
              "      Non-Fatal Injury    19\n",
              "2009  Non-Fatal Injury     8\n",
              "2010  Non-Fatal Injury     7\n",
              "2011  Non-Fatal Injury     4\n",
              "2012  Fatal                3\n",
              "      Non-Fatal Injury    23\n",
              "2013  Fatal                7\n",
              "      Non-Fatal Injury     6\n",
              "2014  Non-Fatal Injury    15\n",
              "2015  Non-Fatal Injury     6\n",
              "2016  Fatal                4\n",
              "      Non-Fatal Injury    17\n",
              "2017  Fatal                2\n",
              "      Non-Fatal Injury     5\n",
              "2018  Non-Fatal Injury    12\n",
              "2019  Fatal                2\n",
              "      Non-Fatal Injury    17\n",
              "2020  Fatal                5\n",
              "      Non-Fatal Injury     4\n",
              "Name: ACCNUM, dtype: int64"
            ]
          },
          "metadata": {},
          "execution_count": 6
        }
      ]
    },
    {
      "cell_type": "code",
      "source": [
        "#Christmas Rush Accidents by Year for Aggressive Driving\n",
        "verybad[(verybad['MONTH'] == 12) & (verybad['DAY'] >= 21) & (verybad['DAY'] <= 25)].groupby(['YEAR', 'ACCLASS'])['ACCNUM'].nunique().unstack().plot(kind='bar', stacked = True)"
      ],
      "metadata": {
        "colab": {
          "base_uri": "https://localhost:8080/",
          "height": 313
        },
        "id": "4R2L2WqyZ6Q_",
        "outputId": "180d4147-c314-4ba6-e376-bd9540200123"
      },
      "execution_count": 36,
      "outputs": [
        {
          "output_type": "execute_result",
          "data": {
            "text/plain": [
              "<matplotlib.axes._subplots.AxesSubplot at 0x7fddc11e7ed0>"
            ]
          },
          "metadata": {},
          "execution_count": 36
        },
        {
          "output_type": "display_data",
          "data": {
            "image/png": "[encoded data removed]",
            "text/plain": [
              "<Figure size 432x288 with 1 Axes>"
            ]
          },
          "metadata": {
            "needs_background": "light"
          }
        }
      ]
    },
    {
      "cell_type": "code",
      "source": [
        "verybad[(verybad['MONTH'] == 12) & (verybad['DAY'] >= 21) & (verybad['DAY'] <= 25)].groupby(['YEAR', 'ACCLASS'])['ACCNUM'].count()"
      ],
      "metadata": {
        "colab": {
          "base_uri": "https://localhost:8080/"
        },
        "id": "9YE53f5nvIay",
        "outputId": "a9064316-c801-43ac-ae33-b457d02f2377"
      },
      "execution_count": 7,
      "outputs": [
        {
          "output_type": "execute_result",
          "data": {
            "text/plain": [
              "YEAR  ACCLASS         \n",
              "2006  Fatal                3\n",
              "      Non-Fatal Injury     7\n",
              "2008  Non-Fatal Injury     2\n",
              "2009  Non-Fatal Injury    13\n",
              "2010  Fatal                5\n",
              "2011  Fatal                6\n",
              "      Non-Fatal Injury     7\n",
              "2014  Non-Fatal Injury     6\n",
              "2015  Non-Fatal Injury     8\n",
              "2016  Non-Fatal Injury    10\n",
              "2017  Fatal                2\n",
              "2018  Fatal                3\n",
              "      Non-Fatal Injury    15\n",
              "2019  Non-Fatal Injury     7\n",
              "2020  Non-Fatal Injury     4\n",
              "Name: ACCNUM, dtype: int64"
            ]
          },
          "metadata": {},
          "execution_count": 7
        }
      ]
    },
    {
      "cell_type": "code",
      "source": [
        "# Aggressive Driving by day of the week\n",
        "verybad['DATE'] =  pd.to_datetime(verybad['DATE'])\n",
        "verybad['WEEKDAY'] = verybad['DATE'].dt.day_name()\n",
        "verybad.groupby('WEEKDAY', sort=False)['ACCNUM'].nunique().plot(kind='bar')"
      ],
      "metadata": {
        "colab": {
          "base_uri": "https://localhost:8080/",
          "height": 347
        },
        "id": "4jg6iMC0nLgi",
        "outputId": "1c9669a1-c0b2-49a6-9781-97e60738097d"
      },
      "execution_count": 62,
      "outputs": [
        {
          "output_type": "execute_result",
          "data": {
            "text/plain": [
              "<matplotlib.axes._subplots.AxesSubplot at 0x7fddb2562d50>"
            ]
          },
          "metadata": {},
          "execution_count": 62
        },
        {
          "output_type": "display_data",
          "data": {
            "image/png": "[encoded data removed]",
            "text/plain": [
              "<Figure size 432x288 with 1 Axes>"
            ]
          },
          "metadata": {
            "needs_background": "light"
          }
        }
      ]
    },
    {
      "cell_type": "code",
      "source": [
        "# Accidents by time of day\n",
        "verybad.groupby(['HOUR','ACCLASS'])['ACCNUM'].nunique().unstack().plot(kind='bar', stacked=True,figsize=(10, 5))"
      ],
      "metadata": {
        "colab": {
          "base_uri": "https://localhost:8080/",
          "height": 353
        },
        "id": "8TM9UEOiPtbQ",
        "outputId": "22587007-942f-49b6-ef8c-558b8eabb558"
      },
      "execution_count": null,
      "outputs": [
        {
          "output_type": "execute_result",
          "data": {
            "text/plain": [
              "<matplotlib.axes._subplots.AxesSubplot at 0x7fc9336c42d0>"
            ]
          },
          "metadata": {},
          "execution_count": 33
        },
        {
          "output_type": "display_data",
          "data": {
            "image/png": "[encoded data removed]",
            "text/plain": [
              "<Figure size 720x360 with 1 Axes>"
            ]
          },
          "metadata": {
            "needs_background": "light"
          }
        }
      ]
    },
    {
      "cell_type": "code",
      "source": [
        "# Accident times on Friday\n",
        "verybad[(verybad['WEEKDAY']=='Friday')].groupby(['HOUR','ACCLASS'])['ACCNUM'].nunique().unstack().plot(kind='bar', stacked=True,figsize=(10, 5))"
      ],
      "metadata": {
        "colab": {
          "base_uri": "https://localhost:8080/",
          "height": 353
        },
        "id": "0uU0OcopqRYy",
        "outputId": "39ac2b57-88fd-43df-e8c9-fc1f200c3a50"
      },
      "execution_count": 69,
      "outputs": [
        {
          "output_type": "execute_result",
          "data": {
            "text/plain": [
              "<matplotlib.axes._subplots.AxesSubplot at 0x7fddb21a93d0>"
            ]
          },
          "metadata": {},
          "execution_count": 69
        },
        {
          "output_type": "display_data",
          "data": {
            "image/png": "[encoded data removed]",
            "text/plain": [
              "<Figure size 720x360 with 1 Axes>"
            ]
          },
          "metadata": {
            "needs_background": "light"
          }
        }
      ]
    },
    {
      "cell_type": "code",
      "source": [
        "# Accidents at 6 p.m. per year\n",
        "verybad[verybad['HOUR'] == 18].groupby(['YEAR','ACCLASS'])['ACCNUM'].nunique().unstack().plot(kind='bar', stacked=True)"
      ],
      "metadata": {
        "colab": {
          "base_uri": "https://localhost:8080/",
          "height": 313
        },
        "id": "NkI-DgGdYvR3",
        "outputId": "1b797282-0856-41ee-82ea-576a9c8542f8"
      },
      "execution_count": null,
      "outputs": [
        {
          "output_type": "execute_result",
          "data": {
            "text/plain": [
              "<matplotlib.axes._subplots.AxesSubplot at 0x7fc9334ea850>"
            ]
          },
          "metadata": {},
          "execution_count": 36
        },
        {
          "output_type": "display_data",
          "data": {
            "image/png": "[encoded data removed]",
            "text/plain": [
              "<Figure size 432x288 with 1 Axes>"
            ]
          },
          "metadata": {
            "needs_background": "light"
          }
        }
      ]
    },
    {
      "cell_type": "code",
      "source": [
        "verybad[verybad['HOUR'] == 18].groupby(['YEAR','ACCLASS'])['ACCNUM'].count()"
      ],
      "metadata": {
        "colab": {
          "base_uri": "https://localhost:8080/"
        },
        "id": "-BeERVJmvRGh",
        "outputId": "e80bf74d-a130-4ef0-f1d5-66490c40eadf"
      },
      "execution_count": 8,
      "outputs": [
        {
          "output_type": "execute_result",
          "data": {
            "text/plain": [
              "YEAR  ACCLASS         \n",
              "2006  Fatal               15\n",
              "      Non-Fatal Injury    45\n",
              "2007  Fatal                2\n",
              "      Non-Fatal Injury    62\n",
              "2008  Fatal                4\n",
              "      Non-Fatal Injury    44\n",
              "2009  Non-Fatal Injury    41\n",
              "2010  Non-Fatal Injury    15\n",
              "2011  Fatal                2\n",
              "      Non-Fatal Injury    38\n",
              "2012  Fatal                2\n",
              "      Non-Fatal Injury    54\n",
              "2013  Fatal               17\n",
              "      Non-Fatal Injury    41\n",
              "2014  Fatal                2\n",
              "      Non-Fatal Injury    25\n",
              "2015  Non-Fatal Injury    33\n",
              "2016  Fatal               14\n",
              "      Non-Fatal Injury    24\n",
              "2017  Fatal                6\n",
              "      Non-Fatal Injury    29\n",
              "2018  Fatal                7\n",
              "      Non-Fatal Injury    26\n",
              "2019  Non-Fatal Injury    19\n",
              "2020  Fatal                5\n",
              "      Non-Fatal Injury    26\n",
              "Name: ACCNUM, dtype: int64"
            ]
          },
          "metadata": {},
          "execution_count": 8
        }
      ]
    },
    {
      "cell_type": "code",
      "source": [
        "# Agressive driving by location\n",
        "verybad.groupby('ACCLOC')['ACCNUM'].nunique().plot(kind='bar',figsize=(8, 5))"
      ],
      "metadata": {
        "colab": {
          "base_uri": "https://localhost:8080/",
          "height": 447
        },
        "id": "m36AeURPEN71",
        "outputId": "127bf408-8084-4f1b-ea6e-60bbd5a7a994"
      },
      "execution_count": null,
      "outputs": [
        {
          "output_type": "execute_result",
          "data": {
            "text/plain": [
              "<matplotlib.axes._subplots.AxesSubplot at 0x7fc9333cfed0>"
            ]
          },
          "metadata": {},
          "execution_count": 37
        },
        {
          "output_type": "display_data",
          "data": {
            "image/png": "[encoded data removed]",
            "text/plain": [
              "<Figure size 576x360 with 1 Axes>"
            ]
          },
          "metadata": {
            "needs_background": "light"
          }
        }
      ]
    },
    {
      "cell_type": "code",
      "source": [
        "verybad[verybad['ALCOHOL'] == 'Yes'].ACCNUM.count()"
      ],
      "metadata": {
        "colab": {
          "base_uri": "https://localhost:8080/"
        },
        "id": "2YzcNzc4vAIx",
        "outputId": "08c388af-4004-4ba1-fb03-2814411b1ca9"
      },
      "execution_count": null,
      "outputs": [
        {
          "output_type": "execute_result",
          "data": {
            "text/plain": [
              "498"
            ]
          },
          "metadata": {},
          "execution_count": 58
        }
      ]
    },
    {
      "cell_type": "code",
      "source": [
        "verybad[verybad['SPEEDING'] == 'Yes'].ACCNUM.count()"
      ],
      "metadata": {
        "colab": {
          "base_uri": "https://localhost:8080/"
        },
        "id": "HEAfi7pQvizi",
        "outputId": "cdd201ce-bd63-4de1-fb40-4a17a769a11a"
      },
      "execution_count": null,
      "outputs": [
        {
          "output_type": "execute_result",
          "data": {
            "text/plain": [
              "2285"
            ]
          },
          "metadata": {},
          "execution_count": 59
        }
      ]
    },
    {
      "cell_type": "code",
      "source": [
        "verybad[(verybad['ALCOHOL']== 'Yes') & (verybad['SPEEDING']== 'Yes')].ACCNUM.count()"
      ],
      "metadata": {
        "colab": {
          "base_uri": "https://localhost:8080/"
        },
        "id": "wQV5NC1Tvq_B",
        "outputId": "9f7dc52a-72ea-470c-f461-159fddd1ffd9"
      },
      "execution_count": null,
      "outputs": [
        {
          "output_type": "execute_result",
          "data": {
            "text/plain": [
              "313"
            ]
          },
          "metadata": {},
          "execution_count": 60
        }
      ]
    },
    {
      "cell_type": "code",
      "source": [
        "# Aggressive Driving Actions\n",
        "verybad[(verybad['DRIVACT'] != '<Null>') & (verybad['DRIVACT'] != 'Driving Properly')].groupby('DRIVACT')['ACCNUM'].nunique().plot(kind='bar')"
      ],
      "metadata": {
        "colab": {
          "base_uri": "https://localhost:8080/",
          "height": 435
        },
        "id": "yo47CVY1ze0x",
        "outputId": "dfb058b5-4463-45d4-85a4-a48c167458dc"
      },
      "execution_count": null,
      "outputs": [
        {
          "output_type": "execute_result",
          "data": {
            "text/plain": [
              "<matplotlib.axes._subplots.AxesSubplot at 0x7fc92ffac650>"
            ]
          },
          "metadata": {},
          "execution_count": 72
        },
        {
          "output_type": "display_data",
          "data": {
            "image/png": "[encoded data removed]",
            "text/plain": [
              "<Figure size 432x288 with 1 Axes>"
            ]
          },
          "metadata": {
            "needs_background": "light"
          }
        }
      ]
    },
    {
      "cell_type": "code",
      "source": [
        "# Unimpared Aggressive Driving Actions\n",
        "verybad[(verybad['ALCOHOL'] == '<Null>') & \n",
        "        (verybad['DRIVACT'] != '<Null>') &\n",
        "        (verybad['DRIVACT'] != 'Driving Properly')].groupby('DRIVACT')['ACCNUM'].nunique().plot(kind='bar')"
      ],
      "metadata": {
        "colab": {
          "base_uri": "https://localhost:8080/",
          "height": 435
        },
        "id": "HmKiAFdMwMoh",
        "outputId": "a3b4e524-c4b0-4347-8a00-aed76e623ddb"
      },
      "execution_count": null,
      "outputs": [
        {
          "output_type": "execute_result",
          "data": {
            "text/plain": [
              "<matplotlib.axes._subplots.AxesSubplot at 0x7fc92ff10050>"
            ]
          },
          "metadata": {},
          "execution_count": 74
        },
        {
          "output_type": "display_data",
          "data": {
            "image/png": "[encoded data removed]",
            "text/plain": [
              "<Figure size 432x288 with 1 Axes>"
            ]
          },
          "metadata": {
            "needs_background": "light"
          }
        }
      ]
    },
    {
      "cell_type": "code",
      "source": [
        "verybad[(verybad['VEHTYPE'] != '<Null>')].groupby('VEHTYPE')['ACCNUM'].nunique().plot(kind='bar')"
      ],
      "metadata": {
        "colab": {
          "base_uri": "https://localhost:8080/",
          "height": 455
        },
        "id": "klOiavxs0uTv",
        "outputId": "f78e039e-a5ee-443a-cd47-78ebfa857a9e"
      },
      "execution_count": null,
      "outputs": [
        {
          "output_type": "execute_result",
          "data": {
            "text/plain": [
              "<matplotlib.axes._subplots.AxesSubplot at 0x7fc92fbd7150>"
            ]
          },
          "metadata": {},
          "execution_count": 78
        },
        {
          "output_type": "display_data",
          "data": {
            "image/png": "[encoded data removed]",
            "text/plain": [
              "<Figure size 432x288 with 1 Axes>"
            ]
          },
          "metadata": {
            "needs_background": "light"
          }
        }
      ]
    },
    {
      "cell_type": "code",
      "source": [
        "verybad.groupby('ROAD_CLASS')['ACCNUM'].nunique().plot(kind = 'bar')"
      ],
      "metadata": {
        "colab": {
          "base_uri": "https://localhost:8080/",
          "height": 387
        },
        "id": "XlhK1J4212Mz",
        "outputId": "776d3327-2692-4557-c33d-3949052e3b3f"
      },
      "execution_count": 11,
      "outputs": [
        {
          "output_type": "execute_result",
          "data": {
            "text/plain": [
              "<matplotlib.axes._subplots.AxesSubplot at 0x7fddc3540a10>"
            ]
          },
          "metadata": {},
          "execution_count": 11
        },
        {
          "output_type": "display_data",
          "data": {
            "image/png": "[encoded data removed]",
            "text/plain": [
              "<Figure size 432x288 with 1 Axes>"
            ]
          },
          "metadata": {
            "needs_background": "light"
          }
        }
      ]
    },
    {
      "cell_type": "code",
      "source": [
        "# Age of injured party\n",
        "verybad.groupby('INVAGE')['ACCNUM'].nunique().plot(kind='bar')"
      ],
      "metadata": {
        "colab": {
          "base_uri": "https://localhost:8080/",
          "height": 333
        },
        "id": "CtXxUtC9753I",
        "outputId": "9c2d49c4-ae29-40e8-969c-ddbc75e5a7df"
      },
      "execution_count": 24,
      "outputs": [
        {
          "output_type": "execute_result",
          "data": {
            "text/plain": [
              "<matplotlib.axes._subplots.AxesSubplot at 0x7fddc16240d0>"
            ]
          },
          "metadata": {},
          "execution_count": 24
        },
        {
          "output_type": "display_data",
          "data": {
            "image/png": "[encoded data removed]",
            "text/plain": [
              "<Figure size 432x288 with 1 Axes>"
            ]
          },
          "metadata": {
            "needs_background": "light"
          }
        }
      ]
    },
    {
      "cell_type": "code",
      "source": [
        "# Age of Injured or Killed Driver\n",
        "verybad[(verybad['INVTYPE'] == 'Driver') & (verybad['INVAGE'] != 'Unknown')].groupby(['INVAGE', 'ACCLASS'])['ACCNUM'].nunique().unstack().plot(kind='bar', stacked=True)"
      ],
      "metadata": {
        "colab": {
          "base_uri": "https://localhost:8080/",
          "height": 333
        },
        "id": "5MzVjvR28PCE",
        "outputId": "6274d2d7-7f44-4553-9863-fca5b44225be"
      },
      "execution_count": 30,
      "outputs": [
        {
          "output_type": "execute_result",
          "data": {
            "text/plain": [
              "<matplotlib.axes._subplots.AxesSubplot at 0x7fddc13aec10>"
            ]
          },
          "metadata": {},
          "execution_count": 30
        },
        {
          "output_type": "display_data",
          "data": {
            "image/png": "[encoded data removed]",
            "text/plain": [
              "<Figure size 432x288 with 1 Axes>"
            ]
          },
          "metadata": {
            "needs_background": "light"
          }
        }
      ]
    },
    {
      "cell_type": "code",
      "source": [
        "#Age of Injured or Killed Passenger\n",
        "verybad[(verybad['INVTYPE'] == 'Passenger') & (verybad['INVAGE'] != 'Unknown')].groupby(['INVAGE', 'ACCLASS'])['ACCNUM'].nunique().unstack().plot(kind='bar', stacked=True)"
      ],
      "metadata": {
        "colab": {
          "base_uri": "https://localhost:8080/",
          "height": 333
        },
        "id": "GJrBjeyu-e6K",
        "outputId": "bb0168c2-f171-4cf7-c787-753750b6f0f8"
      },
      "execution_count": 73,
      "outputs": [
        {
          "output_type": "execute_result",
          "data": {
            "text/plain": [
              "<matplotlib.axes._subplots.AxesSubplot at 0x7fddb1d42110>"
            ]
          },
          "metadata": {},
          "execution_count": 73
        },
        {
          "output_type": "display_data",
          "data": {
            "image/png": "[encoded data removed]",
            "text/plain": [
              "<Figure size 432x288 with 1 Axes>"
            ]
          },
          "metadata": {
            "needs_background": "light"
          }
        }
      ]
    },
    {
      "cell_type": "code",
      "source": [
        "verybad.groupby('RDSFCOND')['ACCNUM'].nunique().plot(kind='bar')"
      ],
      "metadata": {
        "colab": {
          "base_uri": "https://localhost:8080/",
          "height": 351
        },
        "id": "UiyDoDzNtI32",
        "outputId": "2dac1f8b-ce5a-4131-8072-521ab7c8ed06"
      },
      "execution_count": 74,
      "outputs": [
        {
          "output_type": "execute_result",
          "data": {
            "text/plain": [
              "<matplotlib.axes._subplots.AxesSubplot at 0x7fddb004d150>"
            ]
          },
          "metadata": {},
          "execution_count": 74
        },
        {
          "output_type": "display_data",
          "data": {
            "image/png": "[encoded data removed]",
            "text/plain": [
              "<Figure size 432x288 with 1 Axes>"
            ]
          },
          "metadata": {
            "needs_background": "light"
          }
        }
      ]
    },
    {
      "cell_type": "code",
      "source": [
        "verybad.groupby('LIGHT')['ACCNUM'].nunique().plot(kind='bar')"
      ],
      "metadata": {
        "colab": {
          "base_uri": "https://localhost:8080/",
          "height": 377
        },
        "id": "HguFK7h8tbPM",
        "outputId": "b903a0d2-e868-4d32-df48-2bfb233b4c46"
      },
      "execution_count": 76,
      "outputs": [
        {
          "output_type": "execute_result",
          "data": {
            "text/plain": [
              "<matplotlib.axes._subplots.AxesSubplot at 0x7fddafd9dc90>"
            ]
          },
          "metadata": {},
          "execution_count": 76
        },
        {
          "output_type": "display_data",
          "data": {
            "image/png": "[encoded data removed]",
            "text/plain": [
              "<Figure size 432x288 with 1 Axes>"
            ]
          },
          "metadata": {
            "needs_background": "light"
          }
        }
      ]
    },
    {
      "cell_type": "code",
      "source": [
        "verybad.groupby('VISIBILITY')['ACCNUM'].nunique().plot(kind='bar')"
      ],
      "metadata": {
        "colab": {
          "base_uri": "https://localhost:8080/",
          "height": 401
        },
        "id": "Pg8TDelathLM",
        "outputId": "fdadfcd1-01df-4e87-c032-80d85615c4fb"
      },
      "execution_count": 77,
      "outputs": [
        {
          "output_type": "execute_result",
          "data": {
            "text/plain": [
              "<matplotlib.axes._subplots.AxesSubplot at 0x7fddafd32f10>"
            ]
          },
          "metadata": {},
          "execution_count": 77
        },
        {
          "output_type": "display_data",
          "data": {
            "image/png": "[encoded data removed]",
            "text/plain": [
              "<Figure size 432x288 with 1 Axes>"
            ]
          },
          "metadata": {
            "needs_background": "light"
          }
        }
      ]
    },
    {
      "cell_type": "code",
      "source": [
        "verybad.groupby('TRAFFCTL')['ACCNUM'].nunique().plot(kind='bar')"
      ],
      "metadata": {
        "colab": {
          "base_uri": "https://localhost:8080/",
          "height": 393
        },
        "id": "jzQmrqf-tpLp",
        "outputId": "a84e67d5-9661-43a7-d45c-97e6af51a5d7"
      },
      "execution_count": 78,
      "outputs": [
        {
          "output_type": "execute_result",
          "data": {
            "text/plain": [
              "<matplotlib.axes._subplots.AxesSubplot at 0x7fddafcba390>"
            ]
          },
          "metadata": {},
          "execution_count": 78
        },
        {
          "output_type": "display_data",
          "data": {
            "image/png": "[encoded data removed]",
            "text/plain": [
              "<Figure size 432x288 with 1 Axes>"
            ]
          },
          "metadata": {
            "needs_background": "light"
          }
        }
      ]
    }
  ]
}