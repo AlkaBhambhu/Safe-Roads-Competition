{
  "nbformat": 4,
  "nbformat_minor": 0,
  "metadata": {
    "colab": {
      "name": "Untitled14.ipynb",
      "provenance": [],
      "authorship_tag": "ABX9TyM80AySx6+eVjc4KqWJa1Ws",
      "include_colab_link": true
    },
    "kernelspec": {
      "name": "python3",
      "display_name": "Python 3"
    },
    "language_info": {
      "name": "python"
    }
  },
  "cells": [
    {
      "cell_type": "markdown",
      "metadata": {
        "id": "view-in-github",
        "colab_type": "text"
      },
      "source": [
        "<a href=\"https://colab.research.google.com/github/Vincent-Kwan/Safe-Roads-Competition/blob/master/TTC.ipynb\" target=\"_parent\"><img src=\"https://colab.research.google.com/assets/colab-badge.svg\" alt=\"Open In Colab\"/></a>"
      ]
    },
    {
      "cell_type": "code",
      "execution_count": 1,
      "metadata": {
        "id": "0qaKeNm_yh0r"
      },
      "outputs": [],
      "source": [
        "import pandas as pd\n",
        "import numpy as np\n",
        "import seaborn as sns\n",
        "import matplotlib.pyplot as plt"
      ]
    },
    {
      "cell_type": "code",
      "source": [
        "df = pd.read_csv('TTC_Municipal_Vehicle.csv')"
      ],
      "metadata": {
        "id": "yZttWMjY07D-"
      },
      "execution_count": 2,
      "outputs": []
    },
    {
      "cell_type": "code",
      "source": [
        "df.head(15)"
      ],
      "metadata": {
        "colab": {
          "base_uri": "https://localhost:8080/",
          "height": 1000
        },
        "id": "_aASXGL11Ewy",
        "outputId": "aa706fa4-2682-46f3-c7b0-2da8da3d20a3"
      },
      "execution_count": 61,
      "outputs": [
        {
          "output_type": "execute_result",
          "data": {
            "text/html": [
              "\n",
              "  <div id=\"df-bca78309-0982-4e71-970b-722329e75482\">\n",
              "    <div class=\"colab-df-container\">\n",
              "      <div>\n",
              "<style scoped>\n",
              "    .dataframe tbody tr th:only-of-type {\n",
              "        vertical-align: middle;\n",
              "    }\n",
              "\n",
              "    .dataframe tbody tr th {\n",
              "        vertical-align: top;\n",
              "    }\n",
              "\n",
              "    .dataframe thead th {\n",
              "        text-align: right;\n",
              "    }\n",
              "</style>\n",
              "<table border=\"1\" class=\"dataframe\">\n",
              "  <thead>\n",
              "    <tr style=\"text-align: right;\">\n",
              "      <th></th>\n",
              "      <th>X</th>\n",
              "      <th>Y</th>\n",
              "      <th>INDEX_</th>\n",
              "      <th>ACCNUM</th>\n",
              "      <th>YEAR</th>\n",
              "      <th>DATE</th>\n",
              "      <th>TIME</th>\n",
              "      <th>HOUR</th>\n",
              "      <th>STREET1</th>\n",
              "      <th>STREET2</th>\n",
              "      <th>OFFSET</th>\n",
              "      <th>ROAD_CLASS</th>\n",
              "      <th>DISTRICT</th>\n",
              "      <th>WARDNUM</th>\n",
              "      <th>DIVISION</th>\n",
              "      <th>LATITUDE</th>\n",
              "      <th>LONGITUDE</th>\n",
              "      <th>LOCCOORD</th>\n",
              "      <th>ACCLOC</th>\n",
              "      <th>TRAFFCTL</th>\n",
              "      <th>VISIBILITY</th>\n",
              "      <th>LIGHT</th>\n",
              "      <th>RDSFCOND</th>\n",
              "      <th>ACCLASS</th>\n",
              "      <th>IMPACTYPE</th>\n",
              "      <th>INVTYPE</th>\n",
              "      <th>INVAGE</th>\n",
              "      <th>INJURY</th>\n",
              "      <th>FATAL_NO</th>\n",
              "      <th>INITDIR</th>\n",
              "      <th>VEHTYPE</th>\n",
              "      <th>MANOEUVER</th>\n",
              "      <th>DRIVACT</th>\n",
              "      <th>DRIVCOND</th>\n",
              "      <th>PEDTYPE</th>\n",
              "      <th>PEDACT</th>\n",
              "      <th>PEDCOND</th>\n",
              "      <th>CYCLISTYPE</th>\n",
              "      <th>CYCACT</th>\n",
              "      <th>CYCCOND</th>\n",
              "      <th>PEDESTRIAN</th>\n",
              "      <th>CYCLIST</th>\n",
              "      <th>AUTOMOBILE</th>\n",
              "      <th>MOTORCYCLE</th>\n",
              "      <th>TRUCK</th>\n",
              "      <th>TRSN_CITY_VEH</th>\n",
              "      <th>EMERG_VEH</th>\n",
              "      <th>PASSENGER</th>\n",
              "      <th>SPEEDING</th>\n",
              "      <th>AG_DRIV</th>\n",
              "      <th>REDLIGHT</th>\n",
              "      <th>ALCOHOL</th>\n",
              "      <th>DISABILITY</th>\n",
              "      <th>POLICE_DIVISION</th>\n",
              "      <th>HOOD_ID</th>\n",
              "      <th>NEIGHBOURHOOD</th>\n",
              "      <th>ObjectId</th>\n",
              "      <th>Month</th>\n",
              "      <th>Season</th>\n",
              "    </tr>\n",
              "  </thead>\n",
              "  <tbody>\n",
              "    <tr>\n",
              "      <th>0</th>\n",
              "      <td>-8.844227e+06</td>\n",
              "      <td>5.410873e+06</td>\n",
              "      <td>5229859</td>\n",
              "      <td>1100239</td>\n",
              "      <td>2009</td>\n",
              "      <td>2009-04-20 04:00:00+00:00</td>\n",
              "      <td>1330</td>\n",
              "      <td>13</td>\n",
              "      <td>RONCESVALLES AVE</td>\n",
              "      <td>HIGH PARK BLVD</td>\n",
              "      <td>&lt;Null&gt;</td>\n",
              "      <td>Minor Arterial</td>\n",
              "      <td>Toronto and East York</td>\n",
              "      <td>4</td>\n",
              "      <td>11</td>\n",
              "      <td>43.646327</td>\n",
              "      <td>-79.449046</td>\n",
              "      <td>Intersection</td>\n",
              "      <td>&lt;Null&gt;</td>\n",
              "      <td>Traffic Signal</td>\n",
              "      <td>Rain</td>\n",
              "      <td>Daylight</td>\n",
              "      <td>Wet</td>\n",
              "      <td>Fatal</td>\n",
              "      <td>Pedestrian Collisions</td>\n",
              "      <td>Pedestrian</td>\n",
              "      <td>85 to 89</td>\n",
              "      <td>Fatal</td>\n",
              "      <td>13</td>\n",
              "      <td>West</td>\n",
              "      <td>Other</td>\n",
              "      <td>&lt;Null&gt;</td>\n",
              "      <td>&lt;Null&gt;</td>\n",
              "      <td>&lt;Null&gt;</td>\n",
              "      <td>Vehicle turns left while ped crosses with ROW ...</td>\n",
              "      <td>Crossing with right of way</td>\n",
              "      <td>Normal</td>\n",
              "      <td>&lt;Null&gt;</td>\n",
              "      <td>&lt;Null&gt;</td>\n",
              "      <td>&lt;Null&gt;</td>\n",
              "      <td>Yes</td>\n",
              "      <td>&lt;Null&gt;</td>\n",
              "      <td>&lt;Null&gt;</td>\n",
              "      <td>&lt;Null&gt;</td>\n",
              "      <td>&lt;Null&gt;</td>\n",
              "      <td>Yes</td>\n",
              "      <td>&lt;Null&gt;</td>\n",
              "      <td>&lt;Null&gt;</td>\n",
              "      <td>&lt;Null&gt;</td>\n",
              "      <td>Yes</td>\n",
              "      <td>&lt;Null&gt;</td>\n",
              "      <td>&lt;Null&gt;</td>\n",
              "      <td>&lt;Null&gt;</td>\n",
              "      <td>D11</td>\n",
              "      <td>86</td>\n",
              "      <td>Roncesvalles (86)</td>\n",
              "      <td>1</td>\n",
              "      <td>4</td>\n",
              "      <td>Summer</td>\n",
              "    </tr>\n",
              "    <tr>\n",
              "      <th>1</th>\n",
              "      <td>-8.844227e+06</td>\n",
              "      <td>5.410873e+06</td>\n",
              "      <td>5229860</td>\n",
              "      <td>1100239</td>\n",
              "      <td>2009</td>\n",
              "      <td>2009-04-20 04:00:00+00:00</td>\n",
              "      <td>1330</td>\n",
              "      <td>13</td>\n",
              "      <td>RONCESVALLES AVE</td>\n",
              "      <td>HIGH PARK BLVD</td>\n",
              "      <td>&lt;Null&gt;</td>\n",
              "      <td>Minor Arterial</td>\n",
              "      <td>Toronto and East York</td>\n",
              "      <td>4</td>\n",
              "      <td>11</td>\n",
              "      <td>43.646327</td>\n",
              "      <td>-79.449046</td>\n",
              "      <td>Intersection</td>\n",
              "      <td>&lt;Null&gt;</td>\n",
              "      <td>Traffic Signal</td>\n",
              "      <td>Rain</td>\n",
              "      <td>Daylight</td>\n",
              "      <td>Wet</td>\n",
              "      <td>Fatal</td>\n",
              "      <td>Pedestrian Collisions</td>\n",
              "      <td>Vehicle Owner</td>\n",
              "      <td>unknown</td>\n",
              "      <td>&lt;Null&gt;</td>\n",
              "      <td>&lt;Null&gt;</td>\n",
              "      <td>&lt;Null&gt;</td>\n",
              "      <td>Other</td>\n",
              "      <td>&lt;Null&gt;</td>\n",
              "      <td>&lt;Null&gt;</td>\n",
              "      <td>&lt;Null&gt;</td>\n",
              "      <td>&lt;Null&gt;</td>\n",
              "      <td>&lt;Null&gt;</td>\n",
              "      <td>&lt;Null&gt;</td>\n",
              "      <td>&lt;Null&gt;</td>\n",
              "      <td>&lt;Null&gt;</td>\n",
              "      <td>&lt;Null&gt;</td>\n",
              "      <td>Yes</td>\n",
              "      <td>&lt;Null&gt;</td>\n",
              "      <td>&lt;Null&gt;</td>\n",
              "      <td>&lt;Null&gt;</td>\n",
              "      <td>&lt;Null&gt;</td>\n",
              "      <td>Yes</td>\n",
              "      <td>&lt;Null&gt;</td>\n",
              "      <td>&lt;Null&gt;</td>\n",
              "      <td>&lt;Null&gt;</td>\n",
              "      <td>Yes</td>\n",
              "      <td>&lt;Null&gt;</td>\n",
              "      <td>&lt;Null&gt;</td>\n",
              "      <td>&lt;Null&gt;</td>\n",
              "      <td>D11</td>\n",
              "      <td>86</td>\n",
              "      <td>Roncesvalles (86)</td>\n",
              "      <td>2</td>\n",
              "      <td>4</td>\n",
              "      <td>Summer</td>\n",
              "    </tr>\n",
              "    <tr>\n",
              "      <th>2</th>\n",
              "      <td>-8.844227e+06</td>\n",
              "      <td>5.410873e+06</td>\n",
              "      <td>5229861</td>\n",
              "      <td>1100239</td>\n",
              "      <td>2009</td>\n",
              "      <td>2009-04-20 04:00:00+00:00</td>\n",
              "      <td>1330</td>\n",
              "      <td>13</td>\n",
              "      <td>RONCESVALLES AVE</td>\n",
              "      <td>HIGH PARK BLVD</td>\n",
              "      <td>&lt;Null&gt;</td>\n",
              "      <td>Minor Arterial</td>\n",
              "      <td>Toronto and East York</td>\n",
              "      <td>4</td>\n",
              "      <td>11</td>\n",
              "      <td>43.646327</td>\n",
              "      <td>-79.449046</td>\n",
              "      <td>Intersection</td>\n",
              "      <td>&lt;Null&gt;</td>\n",
              "      <td>Traffic Signal</td>\n",
              "      <td>Rain</td>\n",
              "      <td>Daylight</td>\n",
              "      <td>Wet</td>\n",
              "      <td>Fatal</td>\n",
              "      <td>Pedestrian Collisions</td>\n",
              "      <td>Driver</td>\n",
              "      <td>40 to 44</td>\n",
              "      <td>None</td>\n",
              "      <td>&lt;Null&gt;</td>\n",
              "      <td>East</td>\n",
              "      <td>Municipal Transit Bus (TTC)</td>\n",
              "      <td>Turning Left</td>\n",
              "      <td>Failed to Yield Right of Way</td>\n",
              "      <td>Inattentive</td>\n",
              "      <td>&lt;Null&gt;</td>\n",
              "      <td>&lt;Null&gt;</td>\n",
              "      <td>&lt;Null&gt;</td>\n",
              "      <td>&lt;Null&gt;</td>\n",
              "      <td>&lt;Null&gt;</td>\n",
              "      <td>&lt;Null&gt;</td>\n",
              "      <td>Yes</td>\n",
              "      <td>&lt;Null&gt;</td>\n",
              "      <td>&lt;Null&gt;</td>\n",
              "      <td>&lt;Null&gt;</td>\n",
              "      <td>&lt;Null&gt;</td>\n",
              "      <td>Yes</td>\n",
              "      <td>&lt;Null&gt;</td>\n",
              "      <td>&lt;Null&gt;</td>\n",
              "      <td>&lt;Null&gt;</td>\n",
              "      <td>Yes</td>\n",
              "      <td>&lt;Null&gt;</td>\n",
              "      <td>&lt;Null&gt;</td>\n",
              "      <td>&lt;Null&gt;</td>\n",
              "      <td>D11</td>\n",
              "      <td>86</td>\n",
              "      <td>Roncesvalles (86)</td>\n",
              "      <td>3</td>\n",
              "      <td>4</td>\n",
              "      <td>Summer</td>\n",
              "    </tr>\n",
              "    <tr>\n",
              "      <th>3</th>\n",
              "      <td>-8.821234e+06</td>\n",
              "      <td>5.433471e+06</td>\n",
              "      <td>5792490</td>\n",
              "      <td>1111945</td>\n",
              "      <td>2009</td>\n",
              "      <td>2009-06-30 04:00:00+00:00</td>\n",
              "      <td>1930</td>\n",
              "      <td>19</td>\n",
              "      <td>5050 SHEPPARD AVE E</td>\n",
              "      <td>&lt;Null&gt;</td>\n",
              "      <td>&lt;Null&gt;</td>\n",
              "      <td>Major Arterial</td>\n",
              "      <td>Scarborough</td>\n",
              "      <td>23</td>\n",
              "      <td>42</td>\n",
              "      <td>43.793045</td>\n",
              "      <td>-79.242490</td>\n",
              "      <td>Mid-Block</td>\n",
              "      <td>&lt;Null&gt;</td>\n",
              "      <td>No Control</td>\n",
              "      <td>Clear</td>\n",
              "      <td>Daylight</td>\n",
              "      <td>Dry</td>\n",
              "      <td>Fatal</td>\n",
              "      <td>Pedestrian Collisions</td>\n",
              "      <td>Vehicle Owner</td>\n",
              "      <td>unknown</td>\n",
              "      <td>&lt;Null&gt;</td>\n",
              "      <td>&lt;Null&gt;</td>\n",
              "      <td>&lt;Null&gt;</td>\n",
              "      <td>Other</td>\n",
              "      <td>&lt;Null&gt;</td>\n",
              "      <td>&lt;Null&gt;</td>\n",
              "      <td>&lt;Null&gt;</td>\n",
              "      <td>&lt;Null&gt;</td>\n",
              "      <td>&lt;Null&gt;</td>\n",
              "      <td>&lt;Null&gt;</td>\n",
              "      <td>&lt;Null&gt;</td>\n",
              "      <td>&lt;Null&gt;</td>\n",
              "      <td>&lt;Null&gt;</td>\n",
              "      <td>Yes</td>\n",
              "      <td>&lt;Null&gt;</td>\n",
              "      <td>&lt;Null&gt;</td>\n",
              "      <td>&lt;Null&gt;</td>\n",
              "      <td>&lt;Null&gt;</td>\n",
              "      <td>Yes</td>\n",
              "      <td>&lt;Null&gt;</td>\n",
              "      <td>&lt;Null&gt;</td>\n",
              "      <td>&lt;Null&gt;</td>\n",
              "      <td>Yes</td>\n",
              "      <td>&lt;Null&gt;</td>\n",
              "      <td>&lt;Null&gt;</td>\n",
              "      <td>&lt;Null&gt;</td>\n",
              "      <td>D42</td>\n",
              "      <td>128</td>\n",
              "      <td>Agincourt South-Malvern West (128)</td>\n",
              "      <td>4</td>\n",
              "      <td>6</td>\n",
              "      <td>Summer</td>\n",
              "    </tr>\n",
              "    <tr>\n",
              "      <th>4</th>\n",
              "      <td>-8.821234e+06</td>\n",
              "      <td>5.433471e+06</td>\n",
              "      <td>5792491</td>\n",
              "      <td>1111945</td>\n",
              "      <td>2009</td>\n",
              "      <td>2009-06-30 04:00:00+00:00</td>\n",
              "      <td>1930</td>\n",
              "      <td>19</td>\n",
              "      <td>5050 SHEPPARD AVE E</td>\n",
              "      <td>&lt;Null&gt;</td>\n",
              "      <td>&lt;Null&gt;</td>\n",
              "      <td>Major Arterial</td>\n",
              "      <td>Scarborough</td>\n",
              "      <td>23</td>\n",
              "      <td>42</td>\n",
              "      <td>43.793045</td>\n",
              "      <td>-79.242490</td>\n",
              "      <td>Mid-Block</td>\n",
              "      <td>&lt;Null&gt;</td>\n",
              "      <td>No Control</td>\n",
              "      <td>Clear</td>\n",
              "      <td>Daylight</td>\n",
              "      <td>Dry</td>\n",
              "      <td>Fatal</td>\n",
              "      <td>Pedestrian Collisions</td>\n",
              "      <td>Driver</td>\n",
              "      <td>50 to 54</td>\n",
              "      <td>None</td>\n",
              "      <td>&lt;Null&gt;</td>\n",
              "      <td>East</td>\n",
              "      <td>Municipal Transit Bus (TTC)</td>\n",
              "      <td>Turning Left</td>\n",
              "      <td>Failed to Yield Right of Way</td>\n",
              "      <td>Inattentive</td>\n",
              "      <td>&lt;Null&gt;</td>\n",
              "      <td>&lt;Null&gt;</td>\n",
              "      <td>&lt;Null&gt;</td>\n",
              "      <td>&lt;Null&gt;</td>\n",
              "      <td>&lt;Null&gt;</td>\n",
              "      <td>&lt;Null&gt;</td>\n",
              "      <td>Yes</td>\n",
              "      <td>&lt;Null&gt;</td>\n",
              "      <td>&lt;Null&gt;</td>\n",
              "      <td>&lt;Null&gt;</td>\n",
              "      <td>&lt;Null&gt;</td>\n",
              "      <td>Yes</td>\n",
              "      <td>&lt;Null&gt;</td>\n",
              "      <td>&lt;Null&gt;</td>\n",
              "      <td>&lt;Null&gt;</td>\n",
              "      <td>Yes</td>\n",
              "      <td>&lt;Null&gt;</td>\n",
              "      <td>&lt;Null&gt;</td>\n",
              "      <td>&lt;Null&gt;</td>\n",
              "      <td>D42</td>\n",
              "      <td>128</td>\n",
              "      <td>Agincourt South-Malvern West (128)</td>\n",
              "      <td>5</td>\n",
              "      <td>6</td>\n",
              "      <td>Summer</td>\n",
              "    </tr>\n",
              "    <tr>\n",
              "      <th>5</th>\n",
              "      <td>-8.821234e+06</td>\n",
              "      <td>5.433471e+06</td>\n",
              "      <td>5792492</td>\n",
              "      <td>1111945</td>\n",
              "      <td>2009</td>\n",
              "      <td>2009-06-30 04:00:00+00:00</td>\n",
              "      <td>1930</td>\n",
              "      <td>19</td>\n",
              "      <td>5050 SHEPPARD AVE E</td>\n",
              "      <td>&lt;Null&gt;</td>\n",
              "      <td>&lt;Null&gt;</td>\n",
              "      <td>Major Arterial</td>\n",
              "      <td>Scarborough</td>\n",
              "      <td>23</td>\n",
              "      <td>42</td>\n",
              "      <td>43.793045</td>\n",
              "      <td>-79.242490</td>\n",
              "      <td>Mid-Block</td>\n",
              "      <td>&lt;Null&gt;</td>\n",
              "      <td>No Control</td>\n",
              "      <td>Clear</td>\n",
              "      <td>Daylight</td>\n",
              "      <td>Dry</td>\n",
              "      <td>Fatal</td>\n",
              "      <td>Pedestrian Collisions</td>\n",
              "      <td>Pedestrian</td>\n",
              "      <td>70 to 74</td>\n",
              "      <td>Fatal</td>\n",
              "      <td>24</td>\n",
              "      <td>East</td>\n",
              "      <td>Other</td>\n",
              "      <td>&lt;Null&gt;</td>\n",
              "      <td>&lt;Null&gt;</td>\n",
              "      <td>&lt;Null&gt;</td>\n",
              "      <td>Pedestrian involved in a collision with transi...</td>\n",
              "      <td>On Sidewalk or Shoulder</td>\n",
              "      <td>Normal</td>\n",
              "      <td>&lt;Null&gt;</td>\n",
              "      <td>&lt;Null&gt;</td>\n",
              "      <td>&lt;Null&gt;</td>\n",
              "      <td>Yes</td>\n",
              "      <td>&lt;Null&gt;</td>\n",
              "      <td>&lt;Null&gt;</td>\n",
              "      <td>&lt;Null&gt;</td>\n",
              "      <td>&lt;Null&gt;</td>\n",
              "      <td>Yes</td>\n",
              "      <td>&lt;Null&gt;</td>\n",
              "      <td>&lt;Null&gt;</td>\n",
              "      <td>&lt;Null&gt;</td>\n",
              "      <td>Yes</td>\n",
              "      <td>&lt;Null&gt;</td>\n",
              "      <td>&lt;Null&gt;</td>\n",
              "      <td>&lt;Null&gt;</td>\n",
              "      <td>D42</td>\n",
              "      <td>128</td>\n",
              "      <td>Agincourt South-Malvern West (128)</td>\n",
              "      <td>6</td>\n",
              "      <td>6</td>\n",
              "      <td>Summer</td>\n",
              "    </tr>\n",
              "    <tr>\n",
              "      <th>6</th>\n",
              "      <td>-8.838677e+06</td>\n",
              "      <td>5.412337e+06</td>\n",
              "      <td>5807803</td>\n",
              "      <td>1122417</td>\n",
              "      <td>2009</td>\n",
              "      <td>2009-09-01 04:00:00+00:00</td>\n",
              "      <td>1203</td>\n",
              "      <td>12</td>\n",
              "      <td>SPADINA AVE</td>\n",
              "      <td>NASSAU ST</td>\n",
              "      <td>&lt;Null&gt;</td>\n",
              "      <td>Major Arterial</td>\n",
              "      <td>Toronto and East York</td>\n",
              "      <td>11</td>\n",
              "      <td>52,14</td>\n",
              "      <td>43.655845</td>\n",
              "      <td>-79.399190</td>\n",
              "      <td>Intersection</td>\n",
              "      <td>&lt;Null&gt;</td>\n",
              "      <td>Traffic Signal</td>\n",
              "      <td>Clear</td>\n",
              "      <td>Daylight</td>\n",
              "      <td>Dry</td>\n",
              "      <td>Fatal</td>\n",
              "      <td>Cyclist Collisions</td>\n",
              "      <td>Driver</td>\n",
              "      <td>45 to 49</td>\n",
              "      <td>None</td>\n",
              "      <td>&lt;Null&gt;</td>\n",
              "      <td>South</td>\n",
              "      <td>Municipal Transit Bus (TTC)</td>\n",
              "      <td>Going Ahead</td>\n",
              "      <td>Driving Properly</td>\n",
              "      <td>Unknown</td>\n",
              "      <td>&lt;Null&gt;</td>\n",
              "      <td>&lt;Null&gt;</td>\n",
              "      <td>&lt;Null&gt;</td>\n",
              "      <td>&lt;Null&gt;</td>\n",
              "      <td>&lt;Null&gt;</td>\n",
              "      <td>&lt;Null&gt;</td>\n",
              "      <td>&lt;Null&gt;</td>\n",
              "      <td>Yes</td>\n",
              "      <td>&lt;Null&gt;</td>\n",
              "      <td>&lt;Null&gt;</td>\n",
              "      <td>&lt;Null&gt;</td>\n",
              "      <td>Yes</td>\n",
              "      <td>&lt;Null&gt;</td>\n",
              "      <td>&lt;Null&gt;</td>\n",
              "      <td>&lt;Null&gt;</td>\n",
              "      <td>&lt;Null&gt;</td>\n",
              "      <td>&lt;Null&gt;</td>\n",
              "      <td>&lt;Null&gt;</td>\n",
              "      <td>&lt;Null&gt;</td>\n",
              "      <td>D52</td>\n",
              "      <td>78</td>\n",
              "      <td>Kensington-Chinatown (78)</td>\n",
              "      <td>7</td>\n",
              "      <td>9</td>\n",
              "      <td>Summer</td>\n",
              "    </tr>\n",
              "    <tr>\n",
              "      <th>7</th>\n",
              "      <td>-8.838677e+06</td>\n",
              "      <td>5.412337e+06</td>\n",
              "      <td>5807804</td>\n",
              "      <td>1122417</td>\n",
              "      <td>2009</td>\n",
              "      <td>2009-09-01 04:00:00+00:00</td>\n",
              "      <td>1203</td>\n",
              "      <td>12</td>\n",
              "      <td>SPADINA AVE</td>\n",
              "      <td>NASSAU ST</td>\n",
              "      <td>&lt;Null&gt;</td>\n",
              "      <td>Major Arterial</td>\n",
              "      <td>Toronto and East York</td>\n",
              "      <td>11</td>\n",
              "      <td>52,14</td>\n",
              "      <td>43.655845</td>\n",
              "      <td>-79.399190</td>\n",
              "      <td>Intersection</td>\n",
              "      <td>&lt;Null&gt;</td>\n",
              "      <td>Traffic Signal</td>\n",
              "      <td>Clear</td>\n",
              "      <td>Daylight</td>\n",
              "      <td>Dry</td>\n",
              "      <td>Fatal</td>\n",
              "      <td>Cyclist Collisions</td>\n",
              "      <td>Cyclist</td>\n",
              "      <td>65 to 69</td>\n",
              "      <td>Fatal</td>\n",
              "      <td>25</td>\n",
              "      <td>South</td>\n",
              "      <td>Bicycle</td>\n",
              "      <td>Turning Left</td>\n",
              "      <td>&lt;Null&gt;</td>\n",
              "      <td>&lt;Null&gt;</td>\n",
              "      <td>&lt;Null&gt;</td>\n",
              "      <td>&lt;Null&gt;</td>\n",
              "      <td>&lt;Null&gt;</td>\n",
              "      <td>Cyclist turned left across motorists path.</td>\n",
              "      <td>Disobeyed Traffic Control</td>\n",
              "      <td>Normal</td>\n",
              "      <td>&lt;Null&gt;</td>\n",
              "      <td>Yes</td>\n",
              "      <td>&lt;Null&gt;</td>\n",
              "      <td>&lt;Null&gt;</td>\n",
              "      <td>&lt;Null&gt;</td>\n",
              "      <td>Yes</td>\n",
              "      <td>&lt;Null&gt;</td>\n",
              "      <td>&lt;Null&gt;</td>\n",
              "      <td>&lt;Null&gt;</td>\n",
              "      <td>&lt;Null&gt;</td>\n",
              "      <td>&lt;Null&gt;</td>\n",
              "      <td>&lt;Null&gt;</td>\n",
              "      <td>&lt;Null&gt;</td>\n",
              "      <td>D52</td>\n",
              "      <td>78</td>\n",
              "      <td>Kensington-Chinatown (78)</td>\n",
              "      <td>8</td>\n",
              "      <td>9</td>\n",
              "      <td>Summer</td>\n",
              "    </tr>\n",
              "    <tr>\n",
              "      <th>8</th>\n",
              "      <td>-8.825853e+06</td>\n",
              "      <td>5.426472e+06</td>\n",
              "      <td>5302056</td>\n",
              "      <td>1132060</td>\n",
              "      <td>2009</td>\n",
              "      <td>2009-09-25 04:00:00+00:00</td>\n",
              "      <td>2315</td>\n",
              "      <td>23</td>\n",
              "      <td>LAWRENCE AVE E</td>\n",
              "      <td>BIRCHMOUNT RD</td>\n",
              "      <td>&lt;Null&gt;</td>\n",
              "      <td>Major Arterial</td>\n",
              "      <td>Scarborough</td>\n",
              "      <td>21</td>\n",
              "      <td>41</td>\n",
              "      <td>43.747645</td>\n",
              "      <td>-79.283990</td>\n",
              "      <td>Mid-Block</td>\n",
              "      <td>&lt;Null&gt;</td>\n",
              "      <td>No Control</td>\n",
              "      <td>Clear</td>\n",
              "      <td>Dark</td>\n",
              "      <td>Dry</td>\n",
              "      <td>Non-Fatal Injury</td>\n",
              "      <td>Pedestrian Collisions</td>\n",
              "      <td>Pedestrian</td>\n",
              "      <td>50 to 54</td>\n",
              "      <td>Major</td>\n",
              "      <td>&lt;Null&gt;</td>\n",
              "      <td>&lt;Null&gt;</td>\n",
              "      <td>Other</td>\n",
              "      <td>&lt;Null&gt;</td>\n",
              "      <td>&lt;Null&gt;</td>\n",
              "      <td>&lt;Null&gt;</td>\n",
              "      <td>Pedestrian involved in a collision with transi...</td>\n",
              "      <td>Running onto Roadway</td>\n",
              "      <td>Had Been Drinking</td>\n",
              "      <td>&lt;Null&gt;</td>\n",
              "      <td>&lt;Null&gt;</td>\n",
              "      <td>&lt;Null&gt;</td>\n",
              "      <td>Yes</td>\n",
              "      <td>&lt;Null&gt;</td>\n",
              "      <td>&lt;Null&gt;</td>\n",
              "      <td>&lt;Null&gt;</td>\n",
              "      <td>&lt;Null&gt;</td>\n",
              "      <td>Yes</td>\n",
              "      <td>&lt;Null&gt;</td>\n",
              "      <td>&lt;Null&gt;</td>\n",
              "      <td>&lt;Null&gt;</td>\n",
              "      <td>&lt;Null&gt;</td>\n",
              "      <td>&lt;Null&gt;</td>\n",
              "      <td>&lt;Null&gt;</td>\n",
              "      <td>&lt;Null&gt;</td>\n",
              "      <td>D41</td>\n",
              "      <td>126</td>\n",
              "      <td>Dorset Park (126)</td>\n",
              "      <td>9</td>\n",
              "      <td>9</td>\n",
              "      <td>Summer</td>\n",
              "    </tr>\n",
              "    <tr>\n",
              "      <th>9</th>\n",
              "      <td>-8.825853e+06</td>\n",
              "      <td>5.426472e+06</td>\n",
              "      <td>5302057</td>\n",
              "      <td>1132060</td>\n",
              "      <td>2009</td>\n",
              "      <td>2009-09-25 04:00:00+00:00</td>\n",
              "      <td>2315</td>\n",
              "      <td>23</td>\n",
              "      <td>LAWRENCE AVE E</td>\n",
              "      <td>BIRCHMOUNT RD</td>\n",
              "      <td>&lt;Null&gt;</td>\n",
              "      <td>Major Arterial</td>\n",
              "      <td>Scarborough</td>\n",
              "      <td>21</td>\n",
              "      <td>41</td>\n",
              "      <td>43.747645</td>\n",
              "      <td>-79.283990</td>\n",
              "      <td>Mid-Block</td>\n",
              "      <td>&lt;Null&gt;</td>\n",
              "      <td>No Control</td>\n",
              "      <td>Clear</td>\n",
              "      <td>Dark</td>\n",
              "      <td>Dry</td>\n",
              "      <td>Non-Fatal Injury</td>\n",
              "      <td>Pedestrian Collisions</td>\n",
              "      <td>Vehicle Owner</td>\n",
              "      <td>unknown</td>\n",
              "      <td>&lt;Null&gt;</td>\n",
              "      <td>&lt;Null&gt;</td>\n",
              "      <td>&lt;Null&gt;</td>\n",
              "      <td>Other</td>\n",
              "      <td>&lt;Null&gt;</td>\n",
              "      <td>&lt;Null&gt;</td>\n",
              "      <td>&lt;Null&gt;</td>\n",
              "      <td>&lt;Null&gt;</td>\n",
              "      <td>&lt;Null&gt;</td>\n",
              "      <td>&lt;Null&gt;</td>\n",
              "      <td>&lt;Null&gt;</td>\n",
              "      <td>&lt;Null&gt;</td>\n",
              "      <td>&lt;Null&gt;</td>\n",
              "      <td>Yes</td>\n",
              "      <td>&lt;Null&gt;</td>\n",
              "      <td>&lt;Null&gt;</td>\n",
              "      <td>&lt;Null&gt;</td>\n",
              "      <td>&lt;Null&gt;</td>\n",
              "      <td>Yes</td>\n",
              "      <td>&lt;Null&gt;</td>\n",
              "      <td>&lt;Null&gt;</td>\n",
              "      <td>&lt;Null&gt;</td>\n",
              "      <td>&lt;Null&gt;</td>\n",
              "      <td>&lt;Null&gt;</td>\n",
              "      <td>&lt;Null&gt;</td>\n",
              "      <td>&lt;Null&gt;</td>\n",
              "      <td>D41</td>\n",
              "      <td>126</td>\n",
              "      <td>Dorset Park (126)</td>\n",
              "      <td>10</td>\n",
              "      <td>9</td>\n",
              "      <td>Summer</td>\n",
              "    </tr>\n",
              "    <tr>\n",
              "      <th>10</th>\n",
              "      <td>-8.825853e+06</td>\n",
              "      <td>5.426472e+06</td>\n",
              "      <td>5302058</td>\n",
              "      <td>1132060</td>\n",
              "      <td>2009</td>\n",
              "      <td>2009-09-25 04:00:00+00:00</td>\n",
              "      <td>2315</td>\n",
              "      <td>23</td>\n",
              "      <td>LAWRENCE AVE E</td>\n",
              "      <td>BIRCHMOUNT RD</td>\n",
              "      <td>&lt;Null&gt;</td>\n",
              "      <td>Major Arterial</td>\n",
              "      <td>Scarborough</td>\n",
              "      <td>21</td>\n",
              "      <td>41</td>\n",
              "      <td>43.747645</td>\n",
              "      <td>-79.283990</td>\n",
              "      <td>Mid-Block</td>\n",
              "      <td>&lt;Null&gt;</td>\n",
              "      <td>No Control</td>\n",
              "      <td>Clear</td>\n",
              "      <td>Dark</td>\n",
              "      <td>Dry</td>\n",
              "      <td>Non-Fatal Injury</td>\n",
              "      <td>Pedestrian Collisions</td>\n",
              "      <td>Driver</td>\n",
              "      <td>50 to 54</td>\n",
              "      <td>None</td>\n",
              "      <td>&lt;Null&gt;</td>\n",
              "      <td>East</td>\n",
              "      <td>Municipal Transit Bus (TTC)</td>\n",
              "      <td>Pulling Away from Shoulder or Curb</td>\n",
              "      <td>Driving Properly</td>\n",
              "      <td>Normal</td>\n",
              "      <td>&lt;Null&gt;</td>\n",
              "      <td>&lt;Null&gt;</td>\n",
              "      <td>&lt;Null&gt;</td>\n",
              "      <td>&lt;Null&gt;</td>\n",
              "      <td>&lt;Null&gt;</td>\n",
              "      <td>&lt;Null&gt;</td>\n",
              "      <td>Yes</td>\n",
              "      <td>&lt;Null&gt;</td>\n",
              "      <td>&lt;Null&gt;</td>\n",
              "      <td>&lt;Null&gt;</td>\n",
              "      <td>&lt;Null&gt;</td>\n",
              "      <td>Yes</td>\n",
              "      <td>&lt;Null&gt;</td>\n",
              "      <td>&lt;Null&gt;</td>\n",
              "      <td>&lt;Null&gt;</td>\n",
              "      <td>&lt;Null&gt;</td>\n",
              "      <td>&lt;Null&gt;</td>\n",
              "      <td>&lt;Null&gt;</td>\n",
              "      <td>&lt;Null&gt;</td>\n",
              "      <td>D41</td>\n",
              "      <td>126</td>\n",
              "      <td>Dorset Park (126)</td>\n",
              "      <td>11</td>\n",
              "      <td>9</td>\n",
              "      <td>Summer</td>\n",
              "    </tr>\n",
              "    <tr>\n",
              "      <th>11</th>\n",
              "      <td>-8.845791e+06</td>\n",
              "      <td>5.415092e+06</td>\n",
              "      <td>5304054</td>\n",
              "      <td>1133805</td>\n",
              "      <td>2009</td>\n",
              "      <td>2009-10-06 04:00:00+00:00</td>\n",
              "      <td>701</td>\n",
              "      <td>7</td>\n",
              "      <td>OLD WESTON RD</td>\n",
              "      <td>ST CLAIR AVE W</td>\n",
              "      <td>&lt;Null&gt;</td>\n",
              "      <td>Major Arterial</td>\n",
              "      <td>Toronto and East York</td>\n",
              "      <td>9</td>\n",
              "      <td>12,11</td>\n",
              "      <td>43.673745</td>\n",
              "      <td>-79.463090</td>\n",
              "      <td>Mid-Block</td>\n",
              "      <td>&lt;Null&gt;</td>\n",
              "      <td>No Control</td>\n",
              "      <td>Clear</td>\n",
              "      <td>Daylight</td>\n",
              "      <td>Dry</td>\n",
              "      <td>Non-Fatal Injury</td>\n",
              "      <td>Pedestrian Collisions</td>\n",
              "      <td>Vehicle Owner</td>\n",
              "      <td>unknown</td>\n",
              "      <td>&lt;Null&gt;</td>\n",
              "      <td>&lt;Null&gt;</td>\n",
              "      <td>&lt;Null&gt;</td>\n",
              "      <td>Other</td>\n",
              "      <td>&lt;Null&gt;</td>\n",
              "      <td>&lt;Null&gt;</td>\n",
              "      <td>&lt;Null&gt;</td>\n",
              "      <td>&lt;Null&gt;</td>\n",
              "      <td>&lt;Null&gt;</td>\n",
              "      <td>&lt;Null&gt;</td>\n",
              "      <td>&lt;Null&gt;</td>\n",
              "      <td>&lt;Null&gt;</td>\n",
              "      <td>&lt;Null&gt;</td>\n",
              "      <td>Yes</td>\n",
              "      <td>&lt;Null&gt;</td>\n",
              "      <td>&lt;Null&gt;</td>\n",
              "      <td>&lt;Null&gt;</td>\n",
              "      <td>&lt;Null&gt;</td>\n",
              "      <td>Yes</td>\n",
              "      <td>&lt;Null&gt;</td>\n",
              "      <td>&lt;Null&gt;</td>\n",
              "      <td>&lt;Null&gt;</td>\n",
              "      <td>&lt;Null&gt;</td>\n",
              "      <td>&lt;Null&gt;</td>\n",
              "      <td>&lt;Null&gt;</td>\n",
              "      <td>&lt;Null&gt;</td>\n",
              "      <td>D12</td>\n",
              "      <td>91</td>\n",
              "      <td>Weston-Pellam Park (91)</td>\n",
              "      <td>12</td>\n",
              "      <td>10</td>\n",
              "      <td>Summer</td>\n",
              "    </tr>\n",
              "    <tr>\n",
              "      <th>12</th>\n",
              "      <td>-8.845791e+06</td>\n",
              "      <td>5.415092e+06</td>\n",
              "      <td>5304055</td>\n",
              "      <td>1133805</td>\n",
              "      <td>2009</td>\n",
              "      <td>2009-10-06 04:00:00+00:00</td>\n",
              "      <td>701</td>\n",
              "      <td>7</td>\n",
              "      <td>OLD WESTON RD</td>\n",
              "      <td>ST CLAIR AVE W</td>\n",
              "      <td>&lt;Null&gt;</td>\n",
              "      <td>Major Arterial</td>\n",
              "      <td>Toronto and East York</td>\n",
              "      <td>9</td>\n",
              "      <td>12,11</td>\n",
              "      <td>43.673745</td>\n",
              "      <td>-79.463090</td>\n",
              "      <td>Mid-Block</td>\n",
              "      <td>&lt;Null&gt;</td>\n",
              "      <td>No Control</td>\n",
              "      <td>Clear</td>\n",
              "      <td>Daylight</td>\n",
              "      <td>Dry</td>\n",
              "      <td>Non-Fatal Injury</td>\n",
              "      <td>Pedestrian Collisions</td>\n",
              "      <td>Driver</td>\n",
              "      <td>20 to 24</td>\n",
              "      <td>None</td>\n",
              "      <td>&lt;Null&gt;</td>\n",
              "      <td>North</td>\n",
              "      <td>Municipal Transit Bus (TTC)</td>\n",
              "      <td>Pulling Away from Shoulder or Curb</td>\n",
              "      <td>Driving Properly</td>\n",
              "      <td>Normal</td>\n",
              "      <td>&lt;Null&gt;</td>\n",
              "      <td>&lt;Null&gt;</td>\n",
              "      <td>&lt;Null&gt;</td>\n",
              "      <td>&lt;Null&gt;</td>\n",
              "      <td>&lt;Null&gt;</td>\n",
              "      <td>&lt;Null&gt;</td>\n",
              "      <td>Yes</td>\n",
              "      <td>&lt;Null&gt;</td>\n",
              "      <td>&lt;Null&gt;</td>\n",
              "      <td>&lt;Null&gt;</td>\n",
              "      <td>&lt;Null&gt;</td>\n",
              "      <td>Yes</td>\n",
              "      <td>&lt;Null&gt;</td>\n",
              "      <td>&lt;Null&gt;</td>\n",
              "      <td>&lt;Null&gt;</td>\n",
              "      <td>&lt;Null&gt;</td>\n",
              "      <td>&lt;Null&gt;</td>\n",
              "      <td>&lt;Null&gt;</td>\n",
              "      <td>&lt;Null&gt;</td>\n",
              "      <td>D12</td>\n",
              "      <td>91</td>\n",
              "      <td>Weston-Pellam Park (91)</td>\n",
              "      <td>13</td>\n",
              "      <td>10</td>\n",
              "      <td>Summer</td>\n",
              "    </tr>\n",
              "    <tr>\n",
              "      <th>13</th>\n",
              "      <td>-8.845791e+06</td>\n",
              "      <td>5.415092e+06</td>\n",
              "      <td>5304056</td>\n",
              "      <td>1133805</td>\n",
              "      <td>2009</td>\n",
              "      <td>2009-10-06 04:00:00+00:00</td>\n",
              "      <td>701</td>\n",
              "      <td>7</td>\n",
              "      <td>OLD WESTON RD</td>\n",
              "      <td>ST CLAIR AVE W</td>\n",
              "      <td>&lt;Null&gt;</td>\n",
              "      <td>Major Arterial</td>\n",
              "      <td>Toronto and East York</td>\n",
              "      <td>9</td>\n",
              "      <td>12,11</td>\n",
              "      <td>43.673745</td>\n",
              "      <td>-79.463090</td>\n",
              "      <td>Mid-Block</td>\n",
              "      <td>&lt;Null&gt;</td>\n",
              "      <td>No Control</td>\n",
              "      <td>Clear</td>\n",
              "      <td>Daylight</td>\n",
              "      <td>Dry</td>\n",
              "      <td>Non-Fatal Injury</td>\n",
              "      <td>Pedestrian Collisions</td>\n",
              "      <td>Pedestrian</td>\n",
              "      <td>65 to 69</td>\n",
              "      <td>Major</td>\n",
              "      <td>&lt;Null&gt;</td>\n",
              "      <td>Unknown</td>\n",
              "      <td>Other</td>\n",
              "      <td>&lt;Null&gt;</td>\n",
              "      <td>&lt;Null&gt;</td>\n",
              "      <td>&lt;Null&gt;</td>\n",
              "      <td>Pedestrian involved in a collision with transi...</td>\n",
              "      <td>Running onto Roadway</td>\n",
              "      <td>Inattentive</td>\n",
              "      <td>&lt;Null&gt;</td>\n",
              "      <td>&lt;Null&gt;</td>\n",
              "      <td>&lt;Null&gt;</td>\n",
              "      <td>Yes</td>\n",
              "      <td>&lt;Null&gt;</td>\n",
              "      <td>&lt;Null&gt;</td>\n",
              "      <td>&lt;Null&gt;</td>\n",
              "      <td>&lt;Null&gt;</td>\n",
              "      <td>Yes</td>\n",
              "      <td>&lt;Null&gt;</td>\n",
              "      <td>&lt;Null&gt;</td>\n",
              "      <td>&lt;Null&gt;</td>\n",
              "      <td>&lt;Null&gt;</td>\n",
              "      <td>&lt;Null&gt;</td>\n",
              "      <td>&lt;Null&gt;</td>\n",
              "      <td>&lt;Null&gt;</td>\n",
              "      <td>D12</td>\n",
              "      <td>91</td>\n",
              "      <td>Weston-Pellam Park (91)</td>\n",
              "      <td>14</td>\n",
              "      <td>10</td>\n",
              "      <td>Summer</td>\n",
              "    </tr>\n",
              "    <tr>\n",
              "      <th>14</th>\n",
              "      <td>-8.859561e+06</td>\n",
              "      <td>5.425409e+06</td>\n",
              "      <td>5860623</td>\n",
              "      <td>1132126</td>\n",
              "      <td>2009</td>\n",
              "      <td>2009-10-21 04:00:00+00:00</td>\n",
              "      <td>2023</td>\n",
              "      <td>20</td>\n",
              "      <td>1549 ALBION RD</td>\n",
              "      <td>&lt;Null&gt;</td>\n",
              "      <td>&lt;Null&gt;</td>\n",
              "      <td>Major Arterial</td>\n",
              "      <td>Etobicoke York</td>\n",
              "      <td>1</td>\n",
              "      <td>23</td>\n",
              "      <td>43.740745</td>\n",
              "      <td>-79.586790</td>\n",
              "      <td>Mid-Block</td>\n",
              "      <td>&lt;Null&gt;</td>\n",
              "      <td>No Control</td>\n",
              "      <td>Clear</td>\n",
              "      <td>Dark</td>\n",
              "      <td>Dry</td>\n",
              "      <td>Non-Fatal Injury</td>\n",
              "      <td>Pedestrian Collisions</td>\n",
              "      <td>Vehicle Owner</td>\n",
              "      <td>unknown</td>\n",
              "      <td>&lt;Null&gt;</td>\n",
              "      <td>&lt;Null&gt;</td>\n",
              "      <td>&lt;Null&gt;</td>\n",
              "      <td>Other</td>\n",
              "      <td>&lt;Null&gt;</td>\n",
              "      <td>&lt;Null&gt;</td>\n",
              "      <td>&lt;Null&gt;</td>\n",
              "      <td>&lt;Null&gt;</td>\n",
              "      <td>&lt;Null&gt;</td>\n",
              "      <td>&lt;Null&gt;</td>\n",
              "      <td>&lt;Null&gt;</td>\n",
              "      <td>&lt;Null&gt;</td>\n",
              "      <td>&lt;Null&gt;</td>\n",
              "      <td>Yes</td>\n",
              "      <td>&lt;Null&gt;</td>\n",
              "      <td>&lt;Null&gt;</td>\n",
              "      <td>&lt;Null&gt;</td>\n",
              "      <td>&lt;Null&gt;</td>\n",
              "      <td>Yes</td>\n",
              "      <td>&lt;Null&gt;</td>\n",
              "      <td>&lt;Null&gt;</td>\n",
              "      <td>&lt;Null&gt;</td>\n",
              "      <td>&lt;Null&gt;</td>\n",
              "      <td>&lt;Null&gt;</td>\n",
              "      <td>&lt;Null&gt;</td>\n",
              "      <td>&lt;Null&gt;</td>\n",
              "      <td>D23</td>\n",
              "      <td>2</td>\n",
              "      <td>Mount Olive-Silverstone-Jamestown (2)</td>\n",
              "      <td>15</td>\n",
              "      <td>10</td>\n",
              "      <td>Summer</td>\n",
              "    </tr>\n",
              "  </tbody>\n",
              "</table>\n",
              "</div>\n",
              "      <button class=\"colab-df-convert\" onclick=\"convertToInteractive('df-bca78309-0982-4e71-970b-722329e75482')\"\n",
              "              title=\"Convert this dataframe to an interactive table.\"\n",
              "              style=\"display:none;\">\n",
              "        \n",
              "  <svg xmlns=\"http://www.w3.org/2000/svg\" height=\"24px\"viewBox=\"0 0 24 24\"\n",
              "       width=\"24px\">\n",
              "    <path d=\"M0 0h24v24H0V0z\" fill=\"none\"/>\n",
              "    <path d=\"M18.56 5.44l.94 2.06.94-2.06 2.06-.94-2.06-.94-.94-2.06-.94 2.06-2.06.94zm-11 1L8.5 8.5l.94-2.06 2.06-.94-2.06-.94L8.5 2.5l-.94 2.06-2.06.94zm10 10l.94 2.06.94-2.06 2.06-.94-2.06-.94-.94-2.06-.94 2.06-2.06.94z\"/><path d=\"M17.41 7.96l-1.37-1.37c-.4-.4-.92-.59-1.43-.59-.52 0-1.04.2-1.43.59L10.3 9.45l-7.72 7.72c-.78.78-.78 2.05 0 2.83L4 21.41c.39.39.9.59 1.41.59.51 0 1.02-.2 1.41-.59l7.78-7.78 2.81-2.81c.8-.78.8-2.07 0-2.86zM5.41 20L4 18.59l7.72-7.72 1.47 1.35L5.41 20z\"/>\n",
              "  </svg>\n",
              "      </button>\n",
              "      \n",
              "  <style>\n",
              "    .colab-df-container {\n",
              "      display:flex;\n",
              "      flex-wrap:wrap;\n",
              "      gap: 12px;\n",
              "    }\n",
              "\n",
              "    .colab-df-convert {\n",
              "      background-color: #E8F0FE;\n",
              "      border: none;\n",
              "      border-radius: 50%;\n",
              "      cursor: pointer;\n",
              "      display: none;\n",
              "      fill: #1967D2;\n",
              "      height: 32px;\n",
              "      padding: 0 0 0 0;\n",
              "      width: 32px;\n",
              "    }\n",
              "\n",
              "    .colab-df-convert:hover {\n",
              "      background-color: #E2EBFA;\n",
              "      box-shadow: 0px 1px 2px rgba(60, 64, 67, 0.3), 0px 1px 3px 1px rgba(60, 64, 67, 0.15);\n",
              "      fill: #174EA6;\n",
              "    }\n",
              "\n",
              "    [theme=dark] .colab-df-convert {\n",
              "      background-color: #3B4455;\n",
              "      fill: #D2E3FC;\n",
              "    }\n",
              "\n",
              "    [theme=dark] .colab-df-convert:hover {\n",
              "      background-color: #434B5C;\n",
              "      box-shadow: 0px 1px 3px 1px rgba(0, 0, 0, 0.15);\n",
              "      filter: drop-shadow(0px 1px 2px rgba(0, 0, 0, 0.3));\n",
              "      fill: #FFFFFF;\n",
              "    }\n",
              "  </style>\n",
              "\n",
              "      <script>\n",
              "        const buttonEl =\n",
              "          document.querySelector('#df-bca78309-0982-4e71-970b-722329e75482 button.colab-df-convert');\n",
              "        buttonEl.style.display =\n",
              "          google.colab.kernel.accessAllowed ? 'block' : 'none';\n",
              "\n",
              "        async function convertToInteractive(key) {\n",
              "          const element = document.querySelector('#df-bca78309-0982-4e71-970b-722329e75482');\n",
              "          const dataTable =\n",
              "            await google.colab.kernel.invokeFunction('convertToInteractive',\n",
              "                                                     [key], {});\n",
              "          if (!dataTable) return;\n",
              "\n",
              "          const docLinkHtml = 'Like what you see? Visit the ' +\n",
              "            '<a target=\"_blank\" href=https://colab.research.google.com/notebooks/data_table.ipynb>data table notebook</a>'\n",
              "            + ' to learn more about interactive tables.';\n",
              "          element.innerHTML = '';\n",
              "          dataTable['output_type'] = 'display_data';\n",
              "          await google.colab.output.renderOutput(dataTable, element);\n",
              "          const docLink = document.createElement('div');\n",
              "          docLink.innerHTML = docLinkHtml;\n",
              "          element.appendChild(docLink);\n",
              "        }\n",
              "      </script>\n",
              "    </div>\n",
              "  </div>\n",
              "  "
            ],
            "text/plain": [
              "               X             Y   INDEX_  ...  ObjectId  Month  Season\n",
              "0  -8.844227e+06  5.410873e+06  5229859  ...         1      4  Summer\n",
              "1  -8.844227e+06  5.410873e+06  5229860  ...         2      4  Summer\n",
              "2  -8.844227e+06  5.410873e+06  5229861  ...         3      4  Summer\n",
              "3  -8.821234e+06  5.433471e+06  5792490  ...         4      6  Summer\n",
              "4  -8.821234e+06  5.433471e+06  5792491  ...         5      6  Summer\n",
              "5  -8.821234e+06  5.433471e+06  5792492  ...         6      6  Summer\n",
              "6  -8.838677e+06  5.412337e+06  5807803  ...         7      9  Summer\n",
              "7  -8.838677e+06  5.412337e+06  5807804  ...         8      9  Summer\n",
              "8  -8.825853e+06  5.426472e+06  5302056  ...         9      9  Summer\n",
              "9  -8.825853e+06  5.426472e+06  5302057  ...        10      9  Summer\n",
              "10 -8.825853e+06  5.426472e+06  5302058  ...        11      9  Summer\n",
              "11 -8.845791e+06  5.415092e+06  5304054  ...        12     10  Summer\n",
              "12 -8.845791e+06  5.415092e+06  5304055  ...        13     10  Summer\n",
              "13 -8.845791e+06  5.415092e+06  5304056  ...        14     10  Summer\n",
              "14 -8.859561e+06  5.425409e+06  5860623  ...        15     10  Summer\n",
              "\n",
              "[15 rows x 59 columns]"
            ]
          },
          "metadata": {},
          "execution_count": 61
        }
      ]
    },
    {
      "cell_type": "code",
      "source": [
        "df.shape"
      ],
      "metadata": {
        "colab": {
          "base_uri": "https://localhost:8080/"
        },
        "id": "04r-nsX01bDp",
        "outputId": "473a6db8-9589-49a5-cc17-fcebcb6db270"
      },
      "execution_count": 5,
      "outputs": [
        {
          "output_type": "execute_result",
          "data": {
            "text/plain": [
              "(1011, 57)"
            ]
          },
          "metadata": {},
          "execution_count": 5
        }
      ]
    },
    {
      "cell_type": "code",
      "source": [
        "df.info()"
      ],
      "metadata": {
        "colab": {
          "base_uri": "https://localhost:8080/"
        },
        "id": "YaXFmS2d1eXb",
        "outputId": "e284acaa-1c92-467e-c56e-867557ad15cb"
      },
      "execution_count": 6,
      "outputs": [
        {
          "output_type": "stream",
          "name": "stdout",
          "text": [
            "<class 'pandas.core.frame.DataFrame'>\n",
            "RangeIndex: 1011 entries, 0 to 1010\n",
            "Data columns (total 57 columns):\n",
            " #   Column           Non-Null Count  Dtype  \n",
            "---  ------           --------------  -----  \n",
            " 0   X                1011 non-null   float64\n",
            " 1   Y                1011 non-null   float64\n",
            " 2   INDEX_           1011 non-null   int64  \n",
            " 3   ACCNUM           1011 non-null   int64  \n",
            " 4   YEAR             1011 non-null   int64  \n",
            " 5   DATE             1011 non-null   object \n",
            " 6   TIME             1011 non-null   int64  \n",
            " 7   HOUR             1011 non-null   int64  \n",
            " 8   STREET1          1011 non-null   object \n",
            " 9   STREET2          1011 non-null   object \n",
            " 10  OFFSET           1011 non-null   object \n",
            " 11  ROAD_CLASS       1011 non-null   object \n",
            " 12  DISTRICT         1011 non-null   object \n",
            " 13  WARDNUM          1011 non-null   object \n",
            " 14  DIVISION         1011 non-null   object \n",
            " 15  LATITUDE         1011 non-null   float64\n",
            " 16  LONGITUDE        1011 non-null   float64\n",
            " 17  LOCCOORD         1011 non-null   object \n",
            " 18  ACCLOC           1011 non-null   object \n",
            " 19  TRAFFCTL         1011 non-null   object \n",
            " 20  VISIBILITY       1011 non-null   object \n",
            " 21  LIGHT            1011 non-null   object \n",
            " 22  RDSFCOND         1011 non-null   object \n",
            " 23  ACCLASS          1011 non-null   object \n",
            " 24  IMPACTYPE        1011 non-null   object \n",
            " 25  INVTYPE          1011 non-null   object \n",
            " 26  INVAGE           1011 non-null   object \n",
            " 27  INJURY           1011 non-null   object \n",
            " 28  FATAL_NO         1011 non-null   object \n",
            " 29  INITDIR          1011 non-null   object \n",
            " 30  VEHTYPE          1011 non-null   object \n",
            " 31  MANOEUVER        1011 non-null   object \n",
            " 32  DRIVACT          1011 non-null   object \n",
            " 33  DRIVCOND         1011 non-null   object \n",
            " 34  PEDTYPE          1011 non-null   object \n",
            " 35  PEDACT           1011 non-null   object \n",
            " 36  PEDCOND          1011 non-null   object \n",
            " 37  CYCLISTYPE       1011 non-null   object \n",
            " 38  CYCACT           1011 non-null   object \n",
            " 39  CYCCOND          1011 non-null   object \n",
            " 40  PEDESTRIAN       1011 non-null   object \n",
            " 41  CYCLIST          1011 non-null   object \n",
            " 42  AUTOMOBILE       1011 non-null   object \n",
            " 43  MOTORCYCLE       1011 non-null   object \n",
            " 44  TRUCK            1011 non-null   object \n",
            " 45  TRSN_CITY_VEH    1011 non-null   object \n",
            " 46  EMERG_VEH        1011 non-null   object \n",
            " 47  PASSENGER        1011 non-null   object \n",
            " 48  SPEEDING         1011 non-null   object \n",
            " 49  AG_DRIV          1011 non-null   object \n",
            " 50  REDLIGHT         1011 non-null   object \n",
            " 51  ALCOHOL          1011 non-null   object \n",
            " 52  DISABILITY       1011 non-null   object \n",
            " 53  POLICE_DIVISION  1011 non-null   object \n",
            " 54  HOOD_ID          1011 non-null   int64  \n",
            " 55  NEIGHBOURHOOD    1011 non-null   object \n",
            " 56  ObjectId         1011 non-null   int64  \n",
            "dtypes: float64(4), int64(7), object(46)\n",
            "memory usage: 450.3+ KB\n"
          ]
        }
      ]
    },
    {
      "cell_type": "code",
      "source": [
        "df.describe()"
      ],
      "metadata": {
        "colab": {
          "base_uri": "https://localhost:8080/",
          "height": 349
        },
        "id": "_zwYs7Vi1inz",
        "outputId": "182f0176-5c3c-4c8b-e424-91d64693b41f"
      },
      "execution_count": 12,
      "outputs": [
        {
          "output_type": "execute_result",
          "data": {
            "text/html": [
              "\n",
              "  <div id=\"df-d6b56f8c-e363-4559-a597-5711e52eec4d\">\n",
              "    <div class=\"colab-df-container\">\n",
              "      <div>\n",
              "<style scoped>\n",
              "    .dataframe tbody tr th:only-of-type {\n",
              "        vertical-align: middle;\n",
              "    }\n",
              "\n",
              "    .dataframe tbody tr th {\n",
              "        vertical-align: top;\n",
              "    }\n",
              "\n",
              "    .dataframe thead th {\n",
              "        text-align: right;\n",
              "    }\n",
              "</style>\n",
              "<table border=\"1\" class=\"dataframe\">\n",
              "  <thead>\n",
              "    <tr style=\"text-align: right;\">\n",
              "      <th></th>\n",
              "      <th>X</th>\n",
              "      <th>Y</th>\n",
              "      <th>INDEX_</th>\n",
              "      <th>ACCNUM</th>\n",
              "      <th>YEAR</th>\n",
              "      <th>TIME</th>\n",
              "      <th>HOUR</th>\n",
              "      <th>LATITUDE</th>\n",
              "      <th>LONGITUDE</th>\n",
              "      <th>HOOD_ID</th>\n",
              "      <th>ObjectId</th>\n",
              "    </tr>\n",
              "  </thead>\n",
              "  <tbody>\n",
              "    <tr>\n",
              "      <th>count</th>\n",
              "      <td>1.011000e+03</td>\n",
              "      <td>1.011000e+03</td>\n",
              "      <td>1.011000e+03</td>\n",
              "      <td>1.011000e+03</td>\n",
              "      <td>1011.000000</td>\n",
              "      <td>1011.000000</td>\n",
              "      <td>1011.000000</td>\n",
              "      <td>1011.000000</td>\n",
              "      <td>1011.000000</td>\n",
              "      <td>1011.000000</td>\n",
              "      <td>1011.000000</td>\n",
              "    </tr>\n",
              "    <tr>\n",
              "      <th>mean</th>\n",
              "      <td>-8.839268e+06</td>\n",
              "      <td>5.419132e+06</td>\n",
              "      <td>3.282094e+07</td>\n",
              "      <td>2.082214e+09</td>\n",
              "      <td>2012.479723</td>\n",
              "      <td>1263.544016</td>\n",
              "      <td>12.348170</td>\n",
              "      <td>43.699967</td>\n",
              "      <td>-79.404498</td>\n",
              "      <td>74.078140</td>\n",
              "      <td>506.000000</td>\n",
              "    </tr>\n",
              "    <tr>\n",
              "      <th>std</th>\n",
              "      <td>1.071325e+04</td>\n",
              "      <td>8.721848e+03</td>\n",
              "      <td>3.578327e+07</td>\n",
              "      <td>3.171182e+09</td>\n",
              "      <td>3.818187</td>\n",
              "      <td>625.433381</td>\n",
              "      <td>6.292023</td>\n",
              "      <td>0.056629</td>\n",
              "      <td>0.096239</td>\n",
              "      <td>38.210553</td>\n",
              "      <td>291.994863</td>\n",
              "    </tr>\n",
              "    <tr>\n",
              "      <th>min</th>\n",
              "      <td>-8.863020e+06</td>\n",
              "      <td>5.402603e+06</td>\n",
              "      <td>3.370695e+06</td>\n",
              "      <td>1.362700e+05</td>\n",
              "      <td>2006.000000</td>\n",
              "      <td>0.000000</td>\n",
              "      <td>0.000000</td>\n",
              "      <td>43.592545</td>\n",
              "      <td>-79.617862</td>\n",
              "      <td>1.000000</td>\n",
              "      <td>1.000000</td>\n",
              "    </tr>\n",
              "    <tr>\n",
              "      <th>25%</th>\n",
              "      <td>-8.845184e+06</td>\n",
              "      <td>5.412183e+06</td>\n",
              "      <td>6.150244e+06</td>\n",
              "      <td>1.149558e+06</td>\n",
              "      <td>2010.000000</td>\n",
              "      <td>847.500000</td>\n",
              "      <td>8.000000</td>\n",
              "      <td>43.654845</td>\n",
              "      <td>-79.457637</td>\n",
              "      <td>43.000000</td>\n",
              "      <td>253.500000</td>\n",
              "    </tr>\n",
              "    <tr>\n",
              "      <th>50%</th>\n",
              "      <td>-8.838893e+06</td>\n",
              "      <td>5.416530e+06</td>\n",
              "      <td>7.477448e+06</td>\n",
              "      <td>1.305424e+06</td>\n",
              "      <td>2012.000000</td>\n",
              "      <td>1352.000000</td>\n",
              "      <td>13.000000</td>\n",
              "      <td>43.683093</td>\n",
              "      <td>-79.401126</td>\n",
              "      <td>78.000000</td>\n",
              "      <td>506.000000</td>\n",
              "    </tr>\n",
              "    <tr>\n",
              "      <th>75%</th>\n",
              "      <td>-8.833032e+06</td>\n",
              "      <td>5.425819e+06</td>\n",
              "      <td>8.052851e+07</td>\n",
              "      <td>5.000221e+09</td>\n",
              "      <td>2015.000000</td>\n",
              "      <td>1734.000000</td>\n",
              "      <td>17.000000</td>\n",
              "      <td>43.743407</td>\n",
              "      <td>-79.348476</td>\n",
              "      <td>96.500000</td>\n",
              "      <td>758.500000</td>\n",
              "    </tr>\n",
              "    <tr>\n",
              "      <th>max</th>\n",
              "      <td>-8.815044e+06</td>\n",
              "      <td>5.440189e+06</td>\n",
              "      <td>8.151169e+07</td>\n",
              "      <td>9.002463e+09</td>\n",
              "      <td>2020.000000</td>\n",
              "      <td>2334.000000</td>\n",
              "      <td>23.000000</td>\n",
              "      <td>43.836589</td>\n",
              "      <td>-79.186890</td>\n",
              "      <td>140.000000</td>\n",
              "      <td>1011.000000</td>\n",
              "    </tr>\n",
              "  </tbody>\n",
              "</table>\n",
              "</div>\n",
              "      <button class=\"colab-df-convert\" onclick=\"convertToInteractive('df-d6b56f8c-e363-4559-a597-5711e52eec4d')\"\n",
              "              title=\"Convert this dataframe to an interactive table.\"\n",
              "              style=\"display:none;\">\n",
              "        \n",
              "  <svg xmlns=\"http://www.w3.org/2000/svg\" height=\"24px\"viewBox=\"0 0 24 24\"\n",
              "       width=\"24px\">\n",
              "    <path d=\"M0 0h24v24H0V0z\" fill=\"none\"/>\n",
              "    <path d=\"M18.56 5.44l.94 2.06.94-2.06 2.06-.94-2.06-.94-.94-2.06-.94 2.06-2.06.94zm-11 1L8.5 8.5l.94-2.06 2.06-.94-2.06-.94L8.5 2.5l-.94 2.06-2.06.94zm10 10l.94 2.06.94-2.06 2.06-.94-2.06-.94-.94-2.06-.94 2.06-2.06.94z\"/><path d=\"M17.41 7.96l-1.37-1.37c-.4-.4-.92-.59-1.43-.59-.52 0-1.04.2-1.43.59L10.3 9.45l-7.72 7.72c-.78.78-.78 2.05 0 2.83L4 21.41c.39.39.9.59 1.41.59.51 0 1.02-.2 1.41-.59l7.78-7.78 2.81-2.81c.8-.78.8-2.07 0-2.86zM5.41 20L4 18.59l7.72-7.72 1.47 1.35L5.41 20z\"/>\n",
              "  </svg>\n",
              "      </button>\n",
              "      \n",
              "  <style>\n",
              "    .colab-df-container {\n",
              "      display:flex;\n",
              "      flex-wrap:wrap;\n",
              "      gap: 12px;\n",
              "    }\n",
              "\n",
              "    .colab-df-convert {\n",
              "      background-color: #E8F0FE;\n",
              "      border: none;\n",
              "      border-radius: 50%;\n",
              "      cursor: pointer;\n",
              "      display: none;\n",
              "      fill: #1967D2;\n",
              "      height: 32px;\n",
              "      padding: 0 0 0 0;\n",
              "      width: 32px;\n",
              "    }\n",
              "\n",
              "    .colab-df-convert:hover {\n",
              "      background-color: #E2EBFA;\n",
              "      box-shadow: 0px 1px 2px rgba(60, 64, 67, 0.3), 0px 1px 3px 1px rgba(60, 64, 67, 0.15);\n",
              "      fill: #174EA6;\n",
              "    }\n",
              "\n",
              "    [theme=dark] .colab-df-convert {\n",
              "      background-color: #3B4455;\n",
              "      fill: #D2E3FC;\n",
              "    }\n",
              "\n",
              "    [theme=dark] .colab-df-convert:hover {\n",
              "      background-color: #434B5C;\n",
              "      box-shadow: 0px 1px 3px 1px rgba(0, 0, 0, 0.15);\n",
              "      filter: drop-shadow(0px 1px 2px rgba(0, 0, 0, 0.3));\n",
              "      fill: #FFFFFF;\n",
              "    }\n",
              "  </style>\n",
              "\n",
              "      <script>\n",
              "        const buttonEl =\n",
              "          document.querySelector('#df-d6b56f8c-e363-4559-a597-5711e52eec4d button.colab-df-convert');\n",
              "        buttonEl.style.display =\n",
              "          google.colab.kernel.accessAllowed ? 'block' : 'none';\n",
              "\n",
              "        async function convertToInteractive(key) {\n",
              "          const element = document.querySelector('#df-d6b56f8c-e363-4559-a597-5711e52eec4d');\n",
              "          const dataTable =\n",
              "            await google.colab.kernel.invokeFunction('convertToInteractive',\n",
              "                                                     [key], {});\n",
              "          if (!dataTable) return;\n",
              "\n",
              "          const docLinkHtml = 'Like what you see? Visit the ' +\n",
              "            '<a target=\"_blank\" href=https://colab.research.google.com/notebooks/data_table.ipynb>data table notebook</a>'\n",
              "            + ' to learn more about interactive tables.';\n",
              "          element.innerHTML = '';\n",
              "          dataTable['output_type'] = 'display_data';\n",
              "          await google.colab.output.renderOutput(dataTable, element);\n",
              "          const docLink = document.createElement('div');\n",
              "          docLink.innerHTML = docLinkHtml;\n",
              "          element.appendChild(docLink);\n",
              "        }\n",
              "      </script>\n",
              "    </div>\n",
              "  </div>\n",
              "  "
            ],
            "text/plain": [
              "                  X             Y  ...      HOOD_ID     ObjectId\n",
              "count  1.011000e+03  1.011000e+03  ...  1011.000000  1011.000000\n",
              "mean  -8.839268e+06  5.419132e+06  ...    74.078140   506.000000\n",
              "std    1.071325e+04  8.721848e+03  ...    38.210553   291.994863\n",
              "min   -8.863020e+06  5.402603e+06  ...     1.000000     1.000000\n",
              "25%   -8.845184e+06  5.412183e+06  ...    43.000000   253.500000\n",
              "50%   -8.838893e+06  5.416530e+06  ...    78.000000   506.000000\n",
              "75%   -8.833032e+06  5.425819e+06  ...    96.500000   758.500000\n",
              "max   -8.815044e+06  5.440189e+06  ...   140.000000  1011.000000\n",
              "\n",
              "[8 rows x 11 columns]"
            ]
          },
          "metadata": {},
          "execution_count": 12
        }
      ]
    },
    {
      "cell_type": "code",
      "source": [
        "df.groupby(['YEAR','ACCLASS'])['ACCNUM'].nunique().unstack().plot(kind='bar', stacked=True,figsize=(15, 5))\n"
      ],
      "metadata": {
        "colab": {
          "base_uri": "https://localhost:8080/",
          "height": 366
        },
        "id": "sfrTOqfs4hsO",
        "outputId": "5dc0212a-2fb5-47c5-9ba6-a409bc054378"
      },
      "execution_count": 23,
      "outputs": [
        {
          "output_type": "execute_result",
          "data": {
            "text/plain": [
              "<matplotlib.axes._subplots.AxesSubplot at 0x7fa7f78504d0>"
            ]
          },
          "metadata": {},
          "execution_count": 23
        },
        {
          "output_type": "display_data",
          "data": {
            "image/png": "[encoded data removed]",
            "text/plain": [
              "<Figure size 1080x360 with 1 Axes>"
            ]
          },
          "metadata": {
            "needs_background": "light"
          }
        }
      ]
    },
    {
      "cell_type": "code",
      "source": [
        "injury_over_years = df.groupby(['YEAR','ACCLASS'])['ACCNUM'].nunique()\n",
        "injury_over_years.groupby(level=[0]).apply(lambda g: 100* g / g.sum()).round(2)"
      ],
      "metadata": {
        "colab": {
          "base_uri": "https://localhost:8080/"
        },
        "id": "nimfoYwG6_jq",
        "outputId": "b1b9c54d-f0a4-4ec1-e561-9a71677edbea"
      },
      "execution_count": 36,
      "outputs": [
        {
          "output_type": "execute_result",
          "data": {
            "text/plain": [
              "YEAR  ACCLASS         \n",
              "2006  Fatal                13.33\n",
              "      Non-Fatal Injury     86.67\n",
              "2007  Fatal                12.50\n",
              "      Non-Fatal Injury     87.50\n",
              "2008  Fatal                15.38\n",
              "      Non-Fatal Injury     84.62\n",
              "2009  Fatal                23.53\n",
              "      Non-Fatal Injury     76.47\n",
              "2010  Fatal                27.27\n",
              "      Non-Fatal Injury     72.73\n",
              "2011  Fatal                22.73\n",
              "      Non-Fatal Injury     77.27\n",
              "2012  Fatal                 4.17\n",
              "      Non-Fatal Injury     95.83\n",
              "2013  Fatal                24.14\n",
              "      Non-Fatal Injury     75.86\n",
              "2014  Fatal                33.33\n",
              "      Non-Fatal Injury     66.67\n",
              "2015  Fatal                30.00\n",
              "      Non-Fatal Injury     70.00\n",
              "2016  Fatal                26.67\n",
              "      Non-Fatal Injury     73.33\n",
              "2017  Fatal                16.00\n",
              "      Non-Fatal Injury     84.00\n",
              "2018  Fatal                21.74\n",
              "      Non-Fatal Injury     78.26\n",
              "2019  Fatal                16.67\n",
              "      Non-Fatal Injury     83.33\n",
              "2020  Non-Fatal Injury    100.00\n",
              "Name: ACCNUM, dtype: float64"
            ]
          },
          "metadata": {},
          "execution_count": 36
        }
      ]
    },
    {
      "cell_type": "code",
      "source": [
        "df.groupby('ROAD_CLASS')['ACCNUM'].nunique().plot(kind='bar')"
      ],
      "metadata": {
        "colab": {
          "base_uri": "https://localhost:8080/",
          "height": 355
        },
        "id": "4qRjEJPf-TCs",
        "outputId": "60335a4b-d97a-4868-a3c7-c0632d2a3e61"
      },
      "execution_count": 37,
      "outputs": [
        {
          "output_type": "execute_result",
          "data": {
            "text/plain": [
              "<matplotlib.axes._subplots.AxesSubplot at 0x7fa7f76ea3d0>"
            ]
          },
          "metadata": {},
          "execution_count": 37
        },
        {
          "output_type": "display_data",
          "data": {
            "image/png": "[encoded data removed]",
            "text/plain": [
              "<Figure size 432x288 with 1 Axes>"
            ]
          },
          "metadata": {
            "needs_background": "light"
          }
        }
      ]
    },
    {
      "cell_type": "code",
      "source": [
        "df.groupby('DISTRICT')['ACCNUM'].nunique().plot(kind='bar')"
      ],
      "metadata": {
        "colab": {
          "base_uri": "https://localhost:8080/",
          "height": 393
        },
        "id": "tfUXn8WU-VT2",
        "outputId": "37ad42da-24d0-4adf-e0d4-d68081085229"
      },
      "execution_count": 38,
      "outputs": [
        {
          "output_type": "execute_result",
          "data": {
            "text/plain": [
              "<matplotlib.axes._subplots.AxesSubplot at 0x7fa7f76d0e90>"
            ]
          },
          "metadata": {},
          "execution_count": 38
        },
        {
          "output_type": "display_data",
          "data": {
            "image/png": "[encoded data removed]",
            "text/plain": [
              "<Figure size 432x288 with 1 Axes>"
            ]
          },
          "metadata": {
            "needs_background": "light"
          }
        }
      ]
    },
    {
      "cell_type": "code",
      "source": [
        "df.groupby('TRAFFCTL')['ACCNUM'].nunique().plot(kind='bar')"
      ],
      "metadata": {
        "colab": {
          "base_uri": "https://localhost:8080/",
          "height": 392
        },
        "id": "X_Z1qlHy-am5",
        "outputId": "3f5a7ba6-77ad-4246-cc55-9757945fa0f9"
      },
      "execution_count": 39,
      "outputs": [
        {
          "output_type": "execute_result",
          "data": {
            "text/plain": [
              "<matplotlib.axes._subplots.AxesSubplot at 0x7fa7f76450d0>"
            ]
          },
          "metadata": {},
          "execution_count": 39
        },
        {
          "output_type": "display_data",
          "data": {
            "image/png": "[encoded data removed]",
            "text/plain": [
              "<Figure size 432x288 with 1 Axes>"
            ]
          },
          "metadata": {
            "needs_background": "light"
          }
        }
      ]
    },
    {
      "cell_type": "code",
      "source": [
        "df.groupby('VISIBILITY')['ACCNUM'].nunique().plot(kind='bar')"
      ],
      "metadata": {
        "colab": {
          "base_uri": "https://localhost:8080/",
          "height": 353
        },
        "id": "cn8rpVxa-axa",
        "outputId": "ab10c787-791a-4904-93af-71bccc3883f7"
      },
      "execution_count": 40,
      "outputs": [
        {
          "output_type": "execute_result",
          "data": {
            "text/plain": [
              "<matplotlib.axes._subplots.AxesSubplot at 0x7fa7f75cb890>"
            ]
          },
          "metadata": {},
          "execution_count": 40
        },
        {
          "output_type": "display_data",
          "data": {
            "image/png": "[encoded data removed]",
            "text/plain": [
              "<Figure size 432x288 with 1 Axes>"
            ]
          },
          "metadata": {
            "needs_background": "light"
          }
        }
      ]
    },
    {
      "cell_type": "code",
      "source": [
        "df.groupby('RDSFCOND')['ACCNUM'].nunique().plot(kind='bar')"
      ],
      "metadata": {
        "colab": {
          "base_uri": "https://localhost:8080/",
          "height": 351
        },
        "id": "wS_p5dHm_Ab3",
        "outputId": "36dee0a3-125c-49e8-e9ea-57cfda917f04"
      },
      "execution_count": 41,
      "outputs": [
        {
          "output_type": "execute_result",
          "data": {
            "text/plain": [
              "<matplotlib.axes._subplots.AxesSubplot at 0x7fa7f75433d0>"
            ]
          },
          "metadata": {},
          "execution_count": 41
        },
        {
          "output_type": "display_data",
          "data": {
            "image/png": "[encoded data removed]",
            "text/plain": [
              "<Figure size 432x288 with 1 Axes>"
            ]
          },
          "metadata": {
            "needs_background": "light"
          }
        }
      ]
    },
    {
      "cell_type": "code",
      "source": [
        "#converting date column to datetime and saving month in new column\n",
        "df['DATE'] = pd.to_datetime(df['DATE'])\n",
        "df['Month'] = df['DATE'].dt.month"
      ],
      "metadata": {
        "id": "KWK_1e4cA2V3"
      },
      "execution_count": 43,
      "outputs": []
    },
    {
      "cell_type": "code",
      "source": [
        "df.groupby('Month')['ACCNUM'].nunique().plot(kind='bar')"
      ],
      "metadata": {
        "colab": {
          "base_uri": "https://localhost:8080/",
          "height": 299
        },
        "id": "HiUNAlBIA8VU",
        "outputId": "c39b8748-e7b0-4c66-fcd2-32d02c4ef925"
      },
      "execution_count": 46,
      "outputs": [
        {
          "output_type": "execute_result",
          "data": {
            "text/plain": [
              "<matplotlib.axes._subplots.AxesSubplot at 0x7fa7f74dcc50>"
            ]
          },
          "metadata": {},
          "execution_count": 46
        },
        {
          "output_type": "display_data",
          "data": {
            "image/png": "[encoded data removed]",
            "text/plain": [
              "<Figure size 432x288 with 1 Axes>"
            ]
          },
          "metadata": {
            "needs_background": "light"
          }
        }
      ]
    },
    {
      "cell_type": "code",
      "source": [
        "#Dividing data into two seasons\n",
        "df['Season'] = ['Summer' if 4 <= x <= 11 else 'Winter' for x in df['Month'] ]"
      ],
      "metadata": {
        "id": "eIb5JPJeBwn7"
      },
      "execution_count": 51,
      "outputs": []
    },
    {
      "cell_type": "code",
      "source": [
        "df.groupby('Season')['ACCNUM'].nunique().plot(kind='bar')"
      ],
      "metadata": {
        "colab": {
          "base_uri": "https://localhost:8080/",
          "height": 328
        },
        "id": "tI3E4l9yEdnq",
        "outputId": "2e7c0f6d-b1ea-48c5-b79a-fadaffabcbb6"
      },
      "execution_count": 50,
      "outputs": [
        {
          "output_type": "execute_result",
          "data": {
            "text/plain": [
              "<matplotlib.axes._subplots.AxesSubplot at 0x7fa7f74d8a10>"
            ]
          },
          "metadata": {},
          "execution_count": 50
        },
        {
          "output_type": "display_data",
          "data": {
            "image/png": "[encoded data removed]",
            "text/plain": [
              "<Figure size 432x288 with 1 Axes>"
            ]
          },
          "metadata": {
            "needs_background": "light"
          }
        }
      ]
    },
    {
      "cell_type": "code",
      "source": [
        "df[df['Season'] == 'Winter'].groupby('RDSFCOND')['ACCNUM'].nunique().plot(kind='bar')"
      ],
      "metadata": {
        "colab": {
          "base_uri": "https://localhost:8080/",
          "height": 351
        },
        "id": "1TdO6hGRE2BE",
        "outputId": "cb135674-1603-4a4c-9625-4d529cc1a36b"
      },
      "execution_count": 53,
      "outputs": [
        {
          "output_type": "execute_result",
          "data": {
            "text/plain": [
              "<matplotlib.axes._subplots.AxesSubplot at 0x7fa7f739ed90>"
            ]
          },
          "metadata": {},
          "execution_count": 53
        },
        {
          "output_type": "display_data",
          "data": {
            "image/png": "[encoded data removed]",
            "text/plain": [
              "<Figure size 432x288 with 1 Axes>"
            ]
          },
          "metadata": {
            "needs_background": "light"
          }
        }
      ]
    },
    {
      "cell_type": "code",
      "source": [
        "df[df['Season'] == 'Summer'].groupby('RDSFCOND')['ACCNUM'].nunique().plot(kind='bar')"
      ],
      "metadata": {
        "colab": {
          "base_uri": "https://localhost:8080/",
          "height": 306
        },
        "id": "MyhHMd3rFJEK",
        "outputId": "1647067a-4e30-4e4f-b928-cd6d4b399995"
      },
      "execution_count": 54,
      "outputs": [
        {
          "output_type": "execute_result",
          "data": {
            "text/plain": [
              "<matplotlib.axes._subplots.AxesSubplot at 0x7fa7f73d9750>"
            ]
          },
          "metadata": {},
          "execution_count": 54
        },
        {
          "output_type": "display_data",
          "data": {
            "image/png": "[encoded data removed]",
            "text/plain": [
              "<Figure size 432x288 with 1 Axes>"
            ]
          },
          "metadata": {
            "needs_background": "light"
          }
        }
      ]
    },
    {
      "cell_type": "code",
      "source": [
        "df.IMPACTYPE.unique()"
      ],
      "metadata": {
        "colab": {
          "base_uri": "https://localhost:8080/"
        },
        "id": "bXOjNEOwHOjr",
        "outputId": "8cfef45b-fd04-4d67-962f-7924fd0465a0"
      },
      "execution_count": 58,
      "outputs": [
        {
          "output_type": "execute_result",
          "data": {
            "text/plain": [
              "array(['Pedestrian Collisions', 'Cyclist Collisions', 'Turning Movement',\n",
              "       'Rear End', 'Angle', 'SMV Other', 'Other', 'Approaching',\n",
              "       'Sideswipe'], dtype=object)"
            ]
          },
          "metadata": {},
          "execution_count": 58
        }
      ]
    },
    {
      "cell_type": "code",
      "source": [
        "df.groupby('IMPACTYPE')['ACCNUM'].nunique().plot(kind='bar')"
      ],
      "metadata": {
        "colab": {
          "base_uri": "https://localhost:8080/",
          "height": 390
        },
        "id": "0hlkdrLTHaAp",
        "outputId": "3d585914-9206-4e7b-9bca-6649ad5ce8c3"
      },
      "execution_count": 59,
      "outputs": [
        {
          "output_type": "execute_result",
          "data": {
            "text/plain": [
              "<matplotlib.axes._subplots.AxesSubplot at 0x7fa7f7229f10>"
            ]
          },
          "metadata": {},
          "execution_count": 59
        },
        {
          "output_type": "display_data",
          "data": {
            "image/png": "[encoded data removed]",
            "text/plain": [
              "<Figure size 432x288 with 1 Axes>"
            ]
          },
          "metadata": {
            "needs_background": "light"
          }
        }
      ]
    },
    {
      "cell_type": "code",
      "source": [
        "df.groupby('INVAGE')['ACCNUM'].nunique().plot(kind='bar')"
      ],
      "metadata": {
        "colab": {
          "base_uri": "https://localhost:8080/",
          "height": 332
        },
        "id": "35J4tiyaHz4j",
        "outputId": "2fc17c39-2c51-4020-c0b7-8988aa1afda1"
      },
      "execution_count": 60,
      "outputs": [
        {
          "output_type": "execute_result",
          "data": {
            "text/plain": [
              "<matplotlib.axes._subplots.AxesSubplot at 0x7fa7f723d990>"
            ]
          },
          "metadata": {},
          "execution_count": 60
        },
        {
          "output_type": "display_data",
          "data": {
            "image/png": "[encoded data removed]",
            "text/plain": [
              "<Figure size 432x288 with 1 Axes>"
            ]
          },
          "metadata": {
            "needs_background": "light"
          }
        }
      ]
    },
    {
      "cell_type": "code",
      "source": [
        "df.groupby('INVTYPE')['ACCNUM'].nunique().plot(kind='bar')"
      ],
      "metadata": {
        "colab": {
          "base_uri": "https://localhost:8080/",
          "height": 395
        },
        "id": "WaYSGh3hJHIc",
        "outputId": "a53f6f0a-c637-4212-baa4-de6767f567d2"
      },
      "execution_count": 62,
      "outputs": [
        {
          "output_type": "execute_result",
          "data": {
            "text/plain": [
              "<matplotlib.axes._subplots.AxesSubplot at 0x7fa7f71121d0>"
            ]
          },
          "metadata": {},
          "execution_count": 62
        },
        {
          "output_type": "display_data",
          "data": {
            "image/png": "[encoded data removed]",
            "text/plain": [
              "<Figure size 432x288 with 1 Axes>"
            ]
          },
          "metadata": {
            "needs_background": "light"
          }
        }
      ]
    },
    {
      "cell_type": "code",
      "source": [
        "#How to analyse these two varaibles?\n",
        "df[['INITDIR', 'MANOEUVER']]"
      ],
      "metadata": {
        "colab": {
          "base_uri": "https://localhost:8080/",
          "height": 419
        },
        "id": "grVtq11wJeGu",
        "outputId": "1885bedc-b3f0-44c2-ed04-6c1dd7e59f7a"
      },
      "execution_count": 65,
      "outputs": [
        {
          "output_type": "execute_result",
          "data": {
            "text/html": [
              "\n",
              "  <div id=\"df-e933efe6-c7b4-46ee-b9a1-1888b9a9ad23\">\n",
              "    <div class=\"colab-df-container\">\n",
              "      <div>\n",
              "<style scoped>\n",
              "    .dataframe tbody tr th:only-of-type {\n",
              "        vertical-align: middle;\n",
              "    }\n",
              "\n",
              "    .dataframe tbody tr th {\n",
              "        vertical-align: top;\n",
              "    }\n",
              "\n",
              "    .dataframe thead th {\n",
              "        text-align: right;\n",
              "    }\n",
              "</style>\n",
              "<table border=\"1\" class=\"dataframe\">\n",
              "  <thead>\n",
              "    <tr style=\"text-align: right;\">\n",
              "      <th></th>\n",
              "      <th>INITDIR</th>\n",
              "      <th>MANOEUVER</th>\n",
              "    </tr>\n",
              "  </thead>\n",
              "  <tbody>\n",
              "    <tr>\n",
              "      <th>0</th>\n",
              "      <td>West</td>\n",
              "      <td>&lt;Null&gt;</td>\n",
              "    </tr>\n",
              "    <tr>\n",
              "      <th>1</th>\n",
              "      <td>&lt;Null&gt;</td>\n",
              "      <td>&lt;Null&gt;</td>\n",
              "    </tr>\n",
              "    <tr>\n",
              "      <th>2</th>\n",
              "      <td>East</td>\n",
              "      <td>Turning Left</td>\n",
              "    </tr>\n",
              "    <tr>\n",
              "      <th>3</th>\n",
              "      <td>&lt;Null&gt;</td>\n",
              "      <td>&lt;Null&gt;</td>\n",
              "    </tr>\n",
              "    <tr>\n",
              "      <th>4</th>\n",
              "      <td>East</td>\n",
              "      <td>Turning Left</td>\n",
              "    </tr>\n",
              "    <tr>\n",
              "      <th>...</th>\n",
              "      <td>...</td>\n",
              "      <td>...</td>\n",
              "    </tr>\n",
              "    <tr>\n",
              "      <th>1006</th>\n",
              "      <td>North</td>\n",
              "      <td>Going Ahead</td>\n",
              "    </tr>\n",
              "    <tr>\n",
              "      <th>1007</th>\n",
              "      <td>South</td>\n",
              "      <td>Slowing or Stopping</td>\n",
              "    </tr>\n",
              "    <tr>\n",
              "      <th>1008</th>\n",
              "      <td>&lt;Null&gt;</td>\n",
              "      <td>&lt;Null&gt;</td>\n",
              "    </tr>\n",
              "    <tr>\n",
              "      <th>1009</th>\n",
              "      <td>West</td>\n",
              "      <td>Going Ahead</td>\n",
              "    </tr>\n",
              "    <tr>\n",
              "      <th>1010</th>\n",
              "      <td>&lt;Null&gt;</td>\n",
              "      <td>&lt;Null&gt;</td>\n",
              "    </tr>\n",
              "  </tbody>\n",
              "</table>\n",
              "<p>1011 rows × 2 columns</p>\n",
              "</div>\n",
              "      <button class=\"colab-df-convert\" onclick=\"convertToInteractive('df-e933efe6-c7b4-46ee-b9a1-1888b9a9ad23')\"\n",
              "              title=\"Convert this dataframe to an interactive table.\"\n",
              "              style=\"display:none;\">\n",
              "        \n",
              "  <svg xmlns=\"http://www.w3.org/2000/svg\" height=\"24px\"viewBox=\"0 0 24 24\"\n",
              "       width=\"24px\">\n",
              "    <path d=\"M0 0h24v24H0V0z\" fill=\"none\"/>\n",
              "    <path d=\"M18.56 5.44l.94 2.06.94-2.06 2.06-.94-2.06-.94-.94-2.06-.94 2.06-2.06.94zm-11 1L8.5 8.5l.94-2.06 2.06-.94-2.06-.94L8.5 2.5l-.94 2.06-2.06.94zm10 10l.94 2.06.94-2.06 2.06-.94-2.06-.94-.94-2.06-.94 2.06-2.06.94z\"/><path d=\"M17.41 7.96l-1.37-1.37c-.4-.4-.92-.59-1.43-.59-.52 0-1.04.2-1.43.59L10.3 9.45l-7.72 7.72c-.78.78-.78 2.05 0 2.83L4 21.41c.39.39.9.59 1.41.59.51 0 1.02-.2 1.41-.59l7.78-7.78 2.81-2.81c.8-.78.8-2.07 0-2.86zM5.41 20L4 18.59l7.72-7.72 1.47 1.35L5.41 20z\"/>\n",
              "  </svg>\n",
              "      </button>\n",
              "      \n",
              "  <style>\n",
              "    .colab-df-container {\n",
              "      display:flex;\n",
              "      flex-wrap:wrap;\n",
              "      gap: 12px;\n",
              "    }\n",
              "\n",
              "    .colab-df-convert {\n",
              "      background-color: #E8F0FE;\n",
              "      border: none;\n",
              "      border-radius: 50%;\n",
              "      cursor: pointer;\n",
              "      display: none;\n",
              "      fill: #1967D2;\n",
              "      height: 32px;\n",
              "      padding: 0 0 0 0;\n",
              "      width: 32px;\n",
              "    }\n",
              "\n",
              "    .colab-df-convert:hover {\n",
              "      background-color: #E2EBFA;\n",
              "      box-shadow: 0px 1px 2px rgba(60, 64, 67, 0.3), 0px 1px 3px 1px rgba(60, 64, 67, 0.15);\n",
              "      fill: #174EA6;\n",
              "    }\n",
              "\n",
              "    [theme=dark] .colab-df-convert {\n",
              "      background-color: #3B4455;\n",
              "      fill: #D2E3FC;\n",
              "    }\n",
              "\n",
              "    [theme=dark] .colab-df-convert:hover {\n",
              "      background-color: #434B5C;\n",
              "      box-shadow: 0px 1px 3px 1px rgba(0, 0, 0, 0.15);\n",
              "      filter: drop-shadow(0px 1px 2px rgba(0, 0, 0, 0.3));\n",
              "      fill: #FFFFFF;\n",
              "    }\n",
              "  </style>\n",
              "\n",
              "      <script>\n",
              "        const buttonEl =\n",
              "          document.querySelector('#df-e933efe6-c7b4-46ee-b9a1-1888b9a9ad23 button.colab-df-convert');\n",
              "        buttonEl.style.display =\n",
              "          google.colab.kernel.accessAllowed ? 'block' : 'none';\n",
              "\n",
              "        async function convertToInteractive(key) {\n",
              "          const element = document.querySelector('#df-e933efe6-c7b4-46ee-b9a1-1888b9a9ad23');\n",
              "          const dataTable =\n",
              "            await google.colab.kernel.invokeFunction('convertToInteractive',\n",
              "                                                     [key], {});\n",
              "          if (!dataTable) return;\n",
              "\n",
              "          const docLinkHtml = 'Like what you see? Visit the ' +\n",
              "            '<a target=\"_blank\" href=https://colab.research.google.com/notebooks/data_table.ipynb>data table notebook</a>'\n",
              "            + ' to learn more about interactive tables.';\n",
              "          element.innerHTML = '';\n",
              "          dataTable['output_type'] = 'display_data';\n",
              "          await google.colab.output.renderOutput(dataTable, element);\n",
              "          const docLink = document.createElement('div');\n",
              "          docLink.innerHTML = docLinkHtml;\n",
              "          element.appendChild(docLink);\n",
              "        }\n",
              "      </script>\n",
              "    </div>\n",
              "  </div>\n",
              "  "
            ],
            "text/plain": [
              "     INITDIR            MANOEUVER\n",
              "0       West               <Null>\n",
              "1     <Null>               <Null>\n",
              "2       East         Turning Left\n",
              "3     <Null>               <Null>\n",
              "4       East         Turning Left\n",
              "...      ...                  ...\n",
              "1006   North          Going Ahead\n",
              "1007   South  Slowing or Stopping\n",
              "1008  <Null>               <Null>\n",
              "1009    West          Going Ahead\n",
              "1010  <Null>               <Null>\n",
              "\n",
              "[1011 rows x 2 columns]"
            ]
          },
          "metadata": {},
          "execution_count": 65
        }
      ]
    },
    {
      "cell_type": "code",
      "source": [
        "df.groupby('DRIVACT')['ACCNUM'].nunique().plot(kind='bar')"
      ],
      "metadata": {
        "colab": {
          "base_uri": "https://localhost:8080/",
          "height": 437
        },
        "id": "bILUhSHoKWhs",
        "outputId": "4377d9a6-6859-44f4-9513-3b87d500aeba"
      },
      "execution_count": 68,
      "outputs": [
        {
          "output_type": "execute_result",
          "data": {
            "text/plain": [
              "<matplotlib.axes._subplots.AxesSubplot at 0x7fa7f70b3190>"
            ]
          },
          "metadata": {},
          "execution_count": 68
        },
        {
          "output_type": "display_data",
          "data": {
            "image/png": "[encoded data removed]",
            "text/plain": [
              "<Figure size 432x288 with 1 Axes>"
            ]
          },
          "metadata": {
            "needs_background": "light"
          }
        }
      ]
    },
    {
      "cell_type": "code",
      "source": [
        "df[df['DRIVACT'] == 'Driving Properly'].groupby('IMPACTYPE')['ACCNUM'].count()"
      ],
      "metadata": {
        "colab": {
          "base_uri": "https://localhost:8080/"
        },
        "id": "xOGKgx6_KwJH",
        "outputId": "2b95b24b-480f-466c-fd27-d0f8860b4e33"
      },
      "execution_count": 78,
      "outputs": [
        {
          "output_type": "execute_result",
          "data": {
            "text/plain": [
              "IMPACTYPE\n",
              "Angle                     18\n",
              "Approaching               15\n",
              "Cyclist Collisions        24\n",
              "Other                     34\n",
              "Pedestrian Collisions    124\n",
              "Rear End                  25\n",
              "SMV Other                  2\n",
              "Sideswipe                  8\n",
              "Turning Movement          31\n",
              "Name: ACCNUM, dtype: int64"
            ]
          },
          "metadata": {},
          "execution_count": 78
        }
      ]
    },
    {
      "cell_type": "code",
      "source": [
        "df[df['DRIVACT'] == 'Failed to Yield Right of Way'].groupby('IMPACTYPE')['ACCNUM'].count()"
      ],
      "metadata": {
        "colab": {
          "base_uri": "https://localhost:8080/"
        },
        "id": "Sc6YdmQCL0JD",
        "outputId": "5557dd78-b03e-4323-e015-e019b43ffd51"
      },
      "execution_count": 79,
      "outputs": [
        {
          "output_type": "execute_result",
          "data": {
            "text/plain": [
              "IMPACTYPE\n",
              "Angle                     1\n",
              "Cyclist Collisions        3\n",
              "Pedestrian Collisions    29\n",
              "Sideswipe                 1\n",
              "Turning Movement         11\n",
              "Name: ACCNUM, dtype: int64"
            ]
          },
          "metadata": {},
          "execution_count": 79
        }
      ]
    }
  ]
}