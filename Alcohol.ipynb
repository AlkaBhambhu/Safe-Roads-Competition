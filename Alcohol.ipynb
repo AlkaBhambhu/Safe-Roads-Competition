{
  "nbformat": 4,
  "nbformat_minor": 0,
  "metadata": {
    "colab": {
      "name": "Untitled15.ipynb",
      "provenance": [],
      "authorship_tag": "ABX9TyPXiKGWBe38OTlW1MIKL2IP",
      "include_colab_link": true
    },
    "kernelspec": {
      "name": "python3",
      "display_name": "Python 3"
    },
    "language_info": {
      "name": "python"
    }
  },
  "cells": [
    {
      "cell_type": "markdown",
      "metadata": {
        "id": "view-in-github",
        "colab_type": "text"
      },
      "source": [
        "<a href=\"https://colab.research.google.com/github/Vincent-Kwan/Safe-Roads-Competition/blob/master/Alcohol.ipynb\" target=\"_parent\"><img src=\"https://colab.research.google.com/assets/colab-badge.svg\" alt=\"Open In Colab\"/></a>"
      ]
    },
    {
      "cell_type": "code",
      "execution_count": 1,
      "metadata": {
        "id": "o4OBum6jv5aL"
      },
      "outputs": [],
      "source": [
        "import pandas as pd\n",
        "import numpy as np\n",
        "import seaborn as sns\n",
        "import matplotlib.pyplot as plt"
      ]
    },
    {
      "cell_type": "code",
      "source": [
        "df = pd.read_csv('Alcohol_Related.csv')"
      ],
      "metadata": {
        "id": "C5H9mBOdv8OF"
      },
      "execution_count": 2,
      "outputs": []
    },
    {
      "cell_type": "code",
      "source": [
        "df.head()"
      ],
      "metadata": {
        "colab": {
          "base_uri": "https://localhost:8080/",
          "height": 426
        },
        "id": "GtM4z2SUwHVp",
        "outputId": "779630ae-fc6c-4abc-a123-bbc1470739dd"
      },
      "execution_count": 3,
      "outputs": [
        {
          "output_type": "execute_result",
          "data": {
            "text/html": [
              "\n",
              "  <div id=\"df-d07b2c90-4a46-4ba3-bc1c-7a482643939a\">\n",
              "    <div class=\"colab-df-container\">\n",
              "      <div>\n",
              "<style scoped>\n",
              "    .dataframe tbody tr th:only-of-type {\n",
              "        vertical-align: middle;\n",
              "    }\n",
              "\n",
              "    .dataframe tbody tr th {\n",
              "        vertical-align: top;\n",
              "    }\n",
              "\n",
              "    .dataframe thead th {\n",
              "        text-align: right;\n",
              "    }\n",
              "</style>\n",
              "<table border=\"1\" class=\"dataframe\">\n",
              "  <thead>\n",
              "    <tr style=\"text-align: right;\">\n",
              "      <th></th>\n",
              "      <th>X</th>\n",
              "      <th>Y</th>\n",
              "      <th>INDEX_</th>\n",
              "      <th>ACCNUM</th>\n",
              "      <th>YEAR</th>\n",
              "      <th>DATE</th>\n",
              "      <th>TIME</th>\n",
              "      <th>HOUR</th>\n",
              "      <th>STREET1</th>\n",
              "      <th>STREET2</th>\n",
              "      <th>OFFSET</th>\n",
              "      <th>ROAD_CLASS</th>\n",
              "      <th>DISTRICT</th>\n",
              "      <th>WARDNUM</th>\n",
              "      <th>DIVISION</th>\n",
              "      <th>LATITUDE</th>\n",
              "      <th>LONGITUDE</th>\n",
              "      <th>LOCCOORD</th>\n",
              "      <th>ACCLOC</th>\n",
              "      <th>TRAFFCTL</th>\n",
              "      <th>VISIBILITY</th>\n",
              "      <th>LIGHT</th>\n",
              "      <th>RDSFCOND</th>\n",
              "      <th>ACCLASS</th>\n",
              "      <th>IMPACTYPE</th>\n",
              "      <th>INVTYPE</th>\n",
              "      <th>INVAGE</th>\n",
              "      <th>INJURY</th>\n",
              "      <th>FATAL_NO</th>\n",
              "      <th>INITDIR</th>\n",
              "      <th>VEHTYPE</th>\n",
              "      <th>MANOEUVER</th>\n",
              "      <th>DRIVACT</th>\n",
              "      <th>DRIVCOND</th>\n",
              "      <th>PEDTYPE</th>\n",
              "      <th>PEDACT</th>\n",
              "      <th>PEDCOND</th>\n",
              "      <th>CYCLISTYPE</th>\n",
              "      <th>CYCACT</th>\n",
              "      <th>CYCCOND</th>\n",
              "      <th>PEDESTRIAN</th>\n",
              "      <th>CYCLIST</th>\n",
              "      <th>AUTOMOBILE</th>\n",
              "      <th>MOTORCYCLE</th>\n",
              "      <th>TRUCK</th>\n",
              "      <th>TRSN_CITY_VEH</th>\n",
              "      <th>EMERG_VEH</th>\n",
              "      <th>PASSENGER</th>\n",
              "      <th>SPEEDING</th>\n",
              "      <th>AG_DRIV</th>\n",
              "      <th>REDLIGHT</th>\n",
              "      <th>ALCOHOL</th>\n",
              "      <th>DISABILITY</th>\n",
              "      <th>POLICE_DIVISION</th>\n",
              "      <th>HOOD_ID</th>\n",
              "      <th>NEIGHBOURHOOD</th>\n",
              "      <th>ObjectId</th>\n",
              "    </tr>\n",
              "  </thead>\n",
              "  <tbody>\n",
              "    <tr>\n",
              "      <th>0</th>\n",
              "      <td>-8.850989e+06</td>\n",
              "      <td>5.406999e+06</td>\n",
              "      <td>5375829</td>\n",
              "      <td>1045558</td>\n",
              "      <td>2008</td>\n",
              "      <td>2008/06/30 04:00:00+00</td>\n",
              "      <td>120</td>\n",
              "      <td>1</td>\n",
              "      <td>F G GARDINER XY  W</td>\n",
              "      <td>ISLINGTON AVE</td>\n",
              "      <td>&lt;Null&gt;</td>\n",
              "      <td>&lt;Null&gt;</td>\n",
              "      <td>Etobicoke York</td>\n",
              "      <td>3</td>\n",
              "      <td>22</td>\n",
              "      <td>43.621145</td>\n",
              "      <td>-79.50979</td>\n",
              "      <td>Mid-Block</td>\n",
              "      <td>&lt;Null&gt;</td>\n",
              "      <td>No Control</td>\n",
              "      <td>Clear</td>\n",
              "      <td>Dark</td>\n",
              "      <td>Dry</td>\n",
              "      <td>Non-Fatal Injury</td>\n",
              "      <td>SMV Other</td>\n",
              "      <td>Passenger</td>\n",
              "      <td>20 to 24</td>\n",
              "      <td>Minor</td>\n",
              "      <td>&lt;Null&gt;</td>\n",
              "      <td>&lt;Null&gt;</td>\n",
              "      <td>Other</td>\n",
              "      <td>&lt;Null&gt;</td>\n",
              "      <td>&lt;Null&gt;</td>\n",
              "      <td>&lt;Null&gt;</td>\n",
              "      <td>&lt;Null&gt;</td>\n",
              "      <td>&lt;Null&gt;</td>\n",
              "      <td>&lt;Null&gt;</td>\n",
              "      <td>&lt;Null&gt;</td>\n",
              "      <td>&lt;Null&gt;</td>\n",
              "      <td>&lt;Null&gt;</td>\n",
              "      <td>&lt;Null&gt;</td>\n",
              "      <td>&lt;Null&gt;</td>\n",
              "      <td>Yes</td>\n",
              "      <td>&lt;Null&gt;</td>\n",
              "      <td>&lt;Null&gt;</td>\n",
              "      <td>&lt;Null&gt;</td>\n",
              "      <td>&lt;Null&gt;</td>\n",
              "      <td>Yes</td>\n",
              "      <td>&lt;Null&gt;</td>\n",
              "      <td>&lt;Null&gt;</td>\n",
              "      <td>&lt;Null&gt;</td>\n",
              "      <td>Yes</td>\n",
              "      <td>&lt;Null&gt;</td>\n",
              "      <td>D22</td>\n",
              "      <td>16</td>\n",
              "      <td>Stonegate-Queensway (16)</td>\n",
              "      <td>1</td>\n",
              "    </tr>\n",
              "    <tr>\n",
              "      <th>1</th>\n",
              "      <td>-8.850989e+06</td>\n",
              "      <td>5.406999e+06</td>\n",
              "      <td>5375830</td>\n",
              "      <td>1045558</td>\n",
              "      <td>2008</td>\n",
              "      <td>2008/06/30 04:00:00+00</td>\n",
              "      <td>120</td>\n",
              "      <td>1</td>\n",
              "      <td>F G GARDINER XY  W</td>\n",
              "      <td>ISLINGTON AVE</td>\n",
              "      <td>&lt;Null&gt;</td>\n",
              "      <td>&lt;Null&gt;</td>\n",
              "      <td>Etobicoke York</td>\n",
              "      <td>3</td>\n",
              "      <td>22</td>\n",
              "      <td>43.621145</td>\n",
              "      <td>-79.50979</td>\n",
              "      <td>Mid-Block</td>\n",
              "      <td>&lt;Null&gt;</td>\n",
              "      <td>No Control</td>\n",
              "      <td>Clear</td>\n",
              "      <td>Dark</td>\n",
              "      <td>Dry</td>\n",
              "      <td>Non-Fatal Injury</td>\n",
              "      <td>SMV Other</td>\n",
              "      <td>Passenger</td>\n",
              "      <td>25 to 29</td>\n",
              "      <td>Minor</td>\n",
              "      <td>&lt;Null&gt;</td>\n",
              "      <td>&lt;Null&gt;</td>\n",
              "      <td>Other</td>\n",
              "      <td>&lt;Null&gt;</td>\n",
              "      <td>&lt;Null&gt;</td>\n",
              "      <td>&lt;Null&gt;</td>\n",
              "      <td>&lt;Null&gt;</td>\n",
              "      <td>&lt;Null&gt;</td>\n",
              "      <td>&lt;Null&gt;</td>\n",
              "      <td>&lt;Null&gt;</td>\n",
              "      <td>&lt;Null&gt;</td>\n",
              "      <td>&lt;Null&gt;</td>\n",
              "      <td>&lt;Null&gt;</td>\n",
              "      <td>&lt;Null&gt;</td>\n",
              "      <td>Yes</td>\n",
              "      <td>&lt;Null&gt;</td>\n",
              "      <td>&lt;Null&gt;</td>\n",
              "      <td>&lt;Null&gt;</td>\n",
              "      <td>&lt;Null&gt;</td>\n",
              "      <td>Yes</td>\n",
              "      <td>&lt;Null&gt;</td>\n",
              "      <td>&lt;Null&gt;</td>\n",
              "      <td>&lt;Null&gt;</td>\n",
              "      <td>Yes</td>\n",
              "      <td>&lt;Null&gt;</td>\n",
              "      <td>D22</td>\n",
              "      <td>16</td>\n",
              "      <td>Stonegate-Queensway (16)</td>\n",
              "      <td>2</td>\n",
              "    </tr>\n",
              "    <tr>\n",
              "      <th>2</th>\n",
              "      <td>-8.850989e+06</td>\n",
              "      <td>5.406999e+06</td>\n",
              "      <td>5375831</td>\n",
              "      <td>1045558</td>\n",
              "      <td>2008</td>\n",
              "      <td>2008/06/30 04:00:00+00</td>\n",
              "      <td>120</td>\n",
              "      <td>1</td>\n",
              "      <td>F G GARDINER XY  W</td>\n",
              "      <td>ISLINGTON AVE</td>\n",
              "      <td>&lt;Null&gt;</td>\n",
              "      <td>&lt;Null&gt;</td>\n",
              "      <td>Etobicoke York</td>\n",
              "      <td>3</td>\n",
              "      <td>22</td>\n",
              "      <td>43.621145</td>\n",
              "      <td>-79.50979</td>\n",
              "      <td>Mid-Block</td>\n",
              "      <td>&lt;Null&gt;</td>\n",
              "      <td>No Control</td>\n",
              "      <td>Clear</td>\n",
              "      <td>Dark</td>\n",
              "      <td>Dry</td>\n",
              "      <td>Non-Fatal Injury</td>\n",
              "      <td>SMV Other</td>\n",
              "      <td>Passenger</td>\n",
              "      <td>25 to 29</td>\n",
              "      <td>Major</td>\n",
              "      <td>&lt;Null&gt;</td>\n",
              "      <td>&lt;Null&gt;</td>\n",
              "      <td>Other</td>\n",
              "      <td>&lt;Null&gt;</td>\n",
              "      <td>&lt;Null&gt;</td>\n",
              "      <td>&lt;Null&gt;</td>\n",
              "      <td>&lt;Null&gt;</td>\n",
              "      <td>&lt;Null&gt;</td>\n",
              "      <td>&lt;Null&gt;</td>\n",
              "      <td>&lt;Null&gt;</td>\n",
              "      <td>&lt;Null&gt;</td>\n",
              "      <td>&lt;Null&gt;</td>\n",
              "      <td>&lt;Null&gt;</td>\n",
              "      <td>&lt;Null&gt;</td>\n",
              "      <td>Yes</td>\n",
              "      <td>&lt;Null&gt;</td>\n",
              "      <td>&lt;Null&gt;</td>\n",
              "      <td>&lt;Null&gt;</td>\n",
              "      <td>&lt;Null&gt;</td>\n",
              "      <td>Yes</td>\n",
              "      <td>&lt;Null&gt;</td>\n",
              "      <td>&lt;Null&gt;</td>\n",
              "      <td>&lt;Null&gt;</td>\n",
              "      <td>Yes</td>\n",
              "      <td>&lt;Null&gt;</td>\n",
              "      <td>D22</td>\n",
              "      <td>16</td>\n",
              "      <td>Stonegate-Queensway (16)</td>\n",
              "      <td>3</td>\n",
              "    </tr>\n",
              "    <tr>\n",
              "      <th>3</th>\n",
              "      <td>-8.850989e+06</td>\n",
              "      <td>5.406999e+06</td>\n",
              "      <td>5375832</td>\n",
              "      <td>1045558</td>\n",
              "      <td>2008</td>\n",
              "      <td>2008/06/30 04:00:00+00</td>\n",
              "      <td>120</td>\n",
              "      <td>1</td>\n",
              "      <td>F G GARDINER XY  W</td>\n",
              "      <td>ISLINGTON AVE</td>\n",
              "      <td>&lt;Null&gt;</td>\n",
              "      <td>&lt;Null&gt;</td>\n",
              "      <td>Etobicoke York</td>\n",
              "      <td>3</td>\n",
              "      <td>22</td>\n",
              "      <td>43.621145</td>\n",
              "      <td>-79.50979</td>\n",
              "      <td>Mid-Block</td>\n",
              "      <td>&lt;Null&gt;</td>\n",
              "      <td>No Control</td>\n",
              "      <td>Clear</td>\n",
              "      <td>Dark</td>\n",
              "      <td>Dry</td>\n",
              "      <td>Non-Fatal Injury</td>\n",
              "      <td>SMV Other</td>\n",
              "      <td>Passenger</td>\n",
              "      <td>25 to 29</td>\n",
              "      <td>Major</td>\n",
              "      <td>&lt;Null&gt;</td>\n",
              "      <td>&lt;Null&gt;</td>\n",
              "      <td>Other</td>\n",
              "      <td>&lt;Null&gt;</td>\n",
              "      <td>&lt;Null&gt;</td>\n",
              "      <td>&lt;Null&gt;</td>\n",
              "      <td>&lt;Null&gt;</td>\n",
              "      <td>&lt;Null&gt;</td>\n",
              "      <td>&lt;Null&gt;</td>\n",
              "      <td>&lt;Null&gt;</td>\n",
              "      <td>&lt;Null&gt;</td>\n",
              "      <td>&lt;Null&gt;</td>\n",
              "      <td>&lt;Null&gt;</td>\n",
              "      <td>&lt;Null&gt;</td>\n",
              "      <td>Yes</td>\n",
              "      <td>&lt;Null&gt;</td>\n",
              "      <td>&lt;Null&gt;</td>\n",
              "      <td>&lt;Null&gt;</td>\n",
              "      <td>&lt;Null&gt;</td>\n",
              "      <td>Yes</td>\n",
              "      <td>&lt;Null&gt;</td>\n",
              "      <td>&lt;Null&gt;</td>\n",
              "      <td>&lt;Null&gt;</td>\n",
              "      <td>Yes</td>\n",
              "      <td>&lt;Null&gt;</td>\n",
              "      <td>D22</td>\n",
              "      <td>16</td>\n",
              "      <td>Stonegate-Queensway (16)</td>\n",
              "      <td>4</td>\n",
              "    </tr>\n",
              "    <tr>\n",
              "      <th>4</th>\n",
              "      <td>-8.850989e+06</td>\n",
              "      <td>5.406999e+06</td>\n",
              "      <td>5375833</td>\n",
              "      <td>1045558</td>\n",
              "      <td>2008</td>\n",
              "      <td>2008/06/30 04:00:00+00</td>\n",
              "      <td>120</td>\n",
              "      <td>1</td>\n",
              "      <td>F G GARDINER XY  W</td>\n",
              "      <td>ISLINGTON AVE</td>\n",
              "      <td>&lt;Null&gt;</td>\n",
              "      <td>&lt;Null&gt;</td>\n",
              "      <td>Etobicoke York</td>\n",
              "      <td>3</td>\n",
              "      <td>22</td>\n",
              "      <td>43.621145</td>\n",
              "      <td>-79.50979</td>\n",
              "      <td>Mid-Block</td>\n",
              "      <td>&lt;Null&gt;</td>\n",
              "      <td>No Control</td>\n",
              "      <td>Clear</td>\n",
              "      <td>Dark</td>\n",
              "      <td>Dry</td>\n",
              "      <td>Non-Fatal Injury</td>\n",
              "      <td>SMV Other</td>\n",
              "      <td>Driver</td>\n",
              "      <td>30 to 34</td>\n",
              "      <td>Major</td>\n",
              "      <td>&lt;Null&gt;</td>\n",
              "      <td>West</td>\n",
              "      <td>Automobile, Station Wagon</td>\n",
              "      <td>Going Ahead</td>\n",
              "      <td>Lost control</td>\n",
              "      <td>Ability Impaired, Alcohol</td>\n",
              "      <td>&lt;Null&gt;</td>\n",
              "      <td>&lt;Null&gt;</td>\n",
              "      <td>&lt;Null&gt;</td>\n",
              "      <td>&lt;Null&gt;</td>\n",
              "      <td>&lt;Null&gt;</td>\n",
              "      <td>&lt;Null&gt;</td>\n",
              "      <td>&lt;Null&gt;</td>\n",
              "      <td>&lt;Null&gt;</td>\n",
              "      <td>Yes</td>\n",
              "      <td>&lt;Null&gt;</td>\n",
              "      <td>&lt;Null&gt;</td>\n",
              "      <td>&lt;Null&gt;</td>\n",
              "      <td>&lt;Null&gt;</td>\n",
              "      <td>Yes</td>\n",
              "      <td>&lt;Null&gt;</td>\n",
              "      <td>&lt;Null&gt;</td>\n",
              "      <td>&lt;Null&gt;</td>\n",
              "      <td>Yes</td>\n",
              "      <td>&lt;Null&gt;</td>\n",
              "      <td>D22</td>\n",
              "      <td>16</td>\n",
              "      <td>Stonegate-Queensway (16)</td>\n",
              "      <td>5</td>\n",
              "    </tr>\n",
              "  </tbody>\n",
              "</table>\n",
              "</div>\n",
              "      <button class=\"colab-df-convert\" onclick=\"convertToInteractive('df-d07b2c90-4a46-4ba3-bc1c-7a482643939a')\"\n",
              "              title=\"Convert this dataframe to an interactive table.\"\n",
              "              style=\"display:none;\">\n",
              "        \n",
              "  <svg xmlns=\"http://www.w3.org/2000/svg\" height=\"24px\"viewBox=\"0 0 24 24\"\n",
              "       width=\"24px\">\n",
              "    <path d=\"M0 0h24v24H0V0z\" fill=\"none\"/>\n",
              "    <path d=\"M18.56 5.44l.94 2.06.94-2.06 2.06-.94-2.06-.94-.94-2.06-.94 2.06-2.06.94zm-11 1L8.5 8.5l.94-2.06 2.06-.94-2.06-.94L8.5 2.5l-.94 2.06-2.06.94zm10 10l.94 2.06.94-2.06 2.06-.94-2.06-.94-.94-2.06-.94 2.06-2.06.94z\"/><path d=\"M17.41 7.96l-1.37-1.37c-.4-.4-.92-.59-1.43-.59-.52 0-1.04.2-1.43.59L10.3 9.45l-7.72 7.72c-.78.78-.78 2.05 0 2.83L4 21.41c.39.39.9.59 1.41.59.51 0 1.02-.2 1.41-.59l7.78-7.78 2.81-2.81c.8-.78.8-2.07 0-2.86zM5.41 20L4 18.59l7.72-7.72 1.47 1.35L5.41 20z\"/>\n",
              "  </svg>\n",
              "      </button>\n",
              "      \n",
              "  <style>\n",
              "    .colab-df-container {\n",
              "      display:flex;\n",
              "      flex-wrap:wrap;\n",
              "      gap: 12px;\n",
              "    }\n",
              "\n",
              "    .colab-df-convert {\n",
              "      background-color: #E8F0FE;\n",
              "      border: none;\n",
              "      border-radius: 50%;\n",
              "      cursor: pointer;\n",
              "      display: none;\n",
              "      fill: #1967D2;\n",
              "      height: 32px;\n",
              "      padding: 0 0 0 0;\n",
              "      width: 32px;\n",
              "    }\n",
              "\n",
              "    .colab-df-convert:hover {\n",
              "      background-color: #E2EBFA;\n",
              "      box-shadow: 0px 1px 2px rgba(60, 64, 67, 0.3), 0px 1px 3px 1px rgba(60, 64, 67, 0.15);\n",
              "      fill: #174EA6;\n",
              "    }\n",
              "\n",
              "    [theme=dark] .colab-df-convert {\n",
              "      background-color: #3B4455;\n",
              "      fill: #D2E3FC;\n",
              "    }\n",
              "\n",
              "    [theme=dark] .colab-df-convert:hover {\n",
              "      background-color: #434B5C;\n",
              "      box-shadow: 0px 1px 3px 1px rgba(0, 0, 0, 0.15);\n",
              "      filter: drop-shadow(0px 1px 2px rgba(0, 0, 0, 0.3));\n",
              "      fill: #FFFFFF;\n",
              "    }\n",
              "  </style>\n",
              "\n",
              "      <script>\n",
              "        const buttonEl =\n",
              "          document.querySelector('#df-d07b2c90-4a46-4ba3-bc1c-7a482643939a button.colab-df-convert');\n",
              "        buttonEl.style.display =\n",
              "          google.colab.kernel.accessAllowed ? 'block' : 'none';\n",
              "\n",
              "        async function convertToInteractive(key) {\n",
              "          const element = document.querySelector('#df-d07b2c90-4a46-4ba3-bc1c-7a482643939a');\n",
              "          const dataTable =\n",
              "            await google.colab.kernel.invokeFunction('convertToInteractive',\n",
              "                                                     [key], {});\n",
              "          if (!dataTable) return;\n",
              "\n",
              "          const docLinkHtml = 'Like what you see? Visit the ' +\n",
              "            '<a target=\"_blank\" href=https://colab.research.google.com/notebooks/data_table.ipynb>data table notebook</a>'\n",
              "            + ' to learn more about interactive tables.';\n",
              "          element.innerHTML = '';\n",
              "          dataTable['output_type'] = 'display_data';\n",
              "          await google.colab.output.renderOutput(dataTable, element);\n",
              "          const docLink = document.createElement('div');\n",
              "          docLink.innerHTML = docLinkHtml;\n",
              "          element.appendChild(docLink);\n",
              "        }\n",
              "      </script>\n",
              "    </div>\n",
              "  </div>\n",
              "  "
            ],
            "text/plain": [
              "              X             Y  ...             NEIGHBOURHOOD  ObjectId\n",
              "0 -8.850989e+06  5.406999e+06  ...  Stonegate-Queensway (16)         1\n",
              "1 -8.850989e+06  5.406999e+06  ...  Stonegate-Queensway (16)         2\n",
              "2 -8.850989e+06  5.406999e+06  ...  Stonegate-Queensway (16)         3\n",
              "3 -8.850989e+06  5.406999e+06  ...  Stonegate-Queensway (16)         4\n",
              "4 -8.850989e+06  5.406999e+06  ...  Stonegate-Queensway (16)         5\n",
              "\n",
              "[5 rows x 57 columns]"
            ]
          },
          "metadata": {},
          "execution_count": 3
        }
      ]
    },
    {
      "cell_type": "code",
      "source": [
        "df.shape"
      ],
      "metadata": {
        "colab": {
          "base_uri": "https://localhost:8080/"
        },
        "id": "cmztf1jUjeIq",
        "outputId": "3807fcd4-671b-4776-a3d9-e23ef800d8f3"
      },
      "execution_count": 5,
      "outputs": [
        {
          "output_type": "execute_result",
          "data": {
            "text/plain": [
              "(739, 57)"
            ]
          },
          "metadata": {},
          "execution_count": 5
        }
      ]
    },
    {
      "cell_type": "code",
      "source": [
        "df.info()"
      ],
      "metadata": {
        "colab": {
          "base_uri": "https://localhost:8080/"
        },
        "id": "Nu5I65aWzRq3",
        "outputId": "e268f712-5723-4539-9ca1-1b2ceca0fb2d"
      },
      "execution_count": 6,
      "outputs": [
        {
          "output_type": "stream",
          "name": "stdout",
          "text": [
            "<class 'pandas.core.frame.DataFrame'>\n",
            "RangeIndex: 739 entries, 0 to 738\n",
            "Data columns (total 57 columns):\n",
            " #   Column           Non-Null Count  Dtype  \n",
            "---  ------           --------------  -----  \n",
            " 0   X                739 non-null    float64\n",
            " 1   Y                739 non-null    float64\n",
            " 2   INDEX_           739 non-null    int64  \n",
            " 3   ACCNUM           739 non-null    int64  \n",
            " 4   YEAR             739 non-null    int64  \n",
            " 5   DATE             739 non-null    object \n",
            " 6   TIME             739 non-null    int64  \n",
            " 7   HOUR             739 non-null    int64  \n",
            " 8   STREET1          739 non-null    object \n",
            " 9   STREET2          739 non-null    object \n",
            " 10  OFFSET           739 non-null    object \n",
            " 11  ROAD_CLASS       739 non-null    object \n",
            " 12  DISTRICT         739 non-null    object \n",
            " 13  WARDNUM          739 non-null    object \n",
            " 14  DIVISION         739 non-null    object \n",
            " 15  LATITUDE         739 non-null    float64\n",
            " 16  LONGITUDE        739 non-null    float64\n",
            " 17  LOCCOORD         739 non-null    object \n",
            " 18  ACCLOC           739 non-null    object \n",
            " 19  TRAFFCTL         739 non-null    object \n",
            " 20  VISIBILITY       739 non-null    object \n",
            " 21  LIGHT            739 non-null    object \n",
            " 22  RDSFCOND         739 non-null    object \n",
            " 23  ACCLASS          739 non-null    object \n",
            " 24  IMPACTYPE        739 non-null    object \n",
            " 25  INVTYPE          739 non-null    object \n",
            " 26  INVAGE           739 non-null    object \n",
            " 27  INJURY           739 non-null    object \n",
            " 28  FATAL_NO         739 non-null    object \n",
            " 29  INITDIR          739 non-null    object \n",
            " 30  VEHTYPE          739 non-null    object \n",
            " 31  MANOEUVER        739 non-null    object \n",
            " 32  DRIVACT          739 non-null    object \n",
            " 33  DRIVCOND         739 non-null    object \n",
            " 34  PEDTYPE          739 non-null    object \n",
            " 35  PEDACT           739 non-null    object \n",
            " 36  PEDCOND          739 non-null    object \n",
            " 37  CYCLISTYPE       739 non-null    object \n",
            " 38  CYCACT           739 non-null    object \n",
            " 39  CYCCOND          739 non-null    object \n",
            " 40  PEDESTRIAN       739 non-null    object \n",
            " 41  CYCLIST          739 non-null    object \n",
            " 42  AUTOMOBILE       739 non-null    object \n",
            " 43  MOTORCYCLE       739 non-null    object \n",
            " 44  TRUCK            739 non-null    object \n",
            " 45  TRSN_CITY_VEH    739 non-null    object \n",
            " 46  EMERG_VEH        739 non-null    object \n",
            " 47  PASSENGER        739 non-null    object \n",
            " 48  SPEEDING         739 non-null    object \n",
            " 49  AG_DRIV          739 non-null    object \n",
            " 50  REDLIGHT         739 non-null    object \n",
            " 51  ALCOHOL          739 non-null    object \n",
            " 52  DISABILITY       739 non-null    object \n",
            " 53  POLICE_DIVISION  739 non-null    object \n",
            " 54  HOOD_ID          739 non-null    int64  \n",
            " 55  NEIGHBOURHOOD    739 non-null    object \n",
            " 56  ObjectId         739 non-null    int64  \n",
            "dtypes: float64(4), int64(7), object(46)\n",
            "memory usage: 329.2+ KB\n"
          ]
        }
      ]
    },
    {
      "cell_type": "markdown",
      "source": [
        "Drivers in (DRIVCOND ==Ability Impaired, Alcohol Over .08 & Ability Impaired) are the drivers under influence or the drivers at fault."
      ],
      "metadata": {
        "id": "doBSkN7KQ7ay"
      }
    },
    {
      "cell_type": "code",
      "source": [
        "df.ACCNUM.nunique()"
      ],
      "metadata": {
        "colab": {
          "base_uri": "https://localhost:8080/"
        },
        "id": "OKCOOycWQZ_r",
        "outputId": "e897ca58-2ef2-4b2b-ad78-c22a239fb2fb"
      },
      "execution_count": 8,
      "outputs": [
        {
          "output_type": "execute_result",
          "data": {
            "text/plain": [
              "231"
            ]
          },
          "metadata": {},
          "execution_count": 8
        }
      ]
    },
    {
      "cell_type": "markdown",
      "source": [
        "231 accidents from 2006 to 2020."
      ],
      "metadata": {
        "id": "9PljWY3Vk8c1"
      }
    },
    {
      "cell_type": "code",
      "source": [
        "df.groupby(['YEAR','ACCLASS'])['ACCNUM'].nunique().unstack().plot(kind='bar', stacked=True,figsize=(15, 5))"
      ],
      "metadata": {
        "colab": {
          "base_uri": "https://localhost:8080/",
          "height": 368
        },
        "id": "kM28Fxyaz4_c",
        "outputId": "5286eddb-d04e-44f9-e395-521ff7efcf0b"
      },
      "execution_count": 10,
      "outputs": [
        {
          "output_type": "execute_result",
          "data": {
            "text/plain": [
              "<matplotlib.axes._subplots.AxesSubplot at 0x7fa226597bd0>"
            ]
          },
          "metadata": {},
          "execution_count": 10
        },
        {
          "output_type": "display_data",
          "data": {
            "image/png": "[encoded data removed]",
            "text/plain": [
              "<Figure size 1080x360 with 1 Axes>"
            ]
          },
          "metadata": {
            "needs_background": "light"
          }
        }
      ]
    },
    {
      "cell_type": "code",
      "source": [
        "injury_over_years = df.groupby(['YEAR','ACCLASS'])['ACCNUM'].nunique()\n",
        "injury_over_years.groupby(level=[0]).apply(lambda g: 100* g / g.sum()).round(2)"
      ],
      "metadata": {
        "colab": {
          "base_uri": "https://localhost:8080/"
        },
        "id": "MPlvVnEP0Eww",
        "outputId": "3b6ed45d-c186-42e2-9b24-8cdad2500966"
      },
      "execution_count": 11,
      "outputs": [
        {
          "output_type": "execute_result",
          "data": {
            "text/plain": [
              "YEAR  ACCLASS         \n",
              "2006  Fatal                 8.33\n",
              "      Non-Fatal Injury     91.67\n",
              "2007  Fatal                20.00\n",
              "      Non-Fatal Injury     80.00\n",
              "2008  Fatal                13.64\n",
              "      Non-Fatal Injury     86.36\n",
              "2009  Fatal                21.05\n",
              "      Non-Fatal Injury     78.95\n",
              "2010  Fatal                10.00\n",
              "      Non-Fatal Injury     90.00\n",
              "2011  Non-Fatal Injury    100.00\n",
              "2012  Fatal                12.50\n",
              "      Non-Fatal Injury     87.50\n",
              "2013  Fatal                23.08\n",
              "      Non-Fatal Injury     76.92\n",
              "2014  Fatal                14.29\n",
              "      Non-Fatal Injury     85.71\n",
              "2015  Fatal                30.00\n",
              "      Non-Fatal Injury     70.00\n",
              "2016  Fatal                20.00\n",
              "      Non-Fatal Injury     80.00\n",
              "2017  Fatal                30.77\n",
              "      Non-Fatal Injury     69.23\n",
              "2018  Fatal                18.75\n",
              "      Non-Fatal Injury     81.25\n",
              "2019  Fatal                 7.14\n",
              "      Non-Fatal Injury     92.86\n",
              "2020  Fatal                12.50\n",
              "      Non-Fatal Injury     87.50\n",
              "Name: ACCNUM, dtype: float64"
            ]
          },
          "metadata": {},
          "execution_count": 11
        }
      ]
    },
    {
      "cell_type": "markdown",
      "source": [
        "While the total number of accidents decreased in 2020, overall fatal accidents increased from 7% to 12.5%."
      ],
      "metadata": {
        "id": "iUyoOVEAlfNc"
      }
    },
    {
      "cell_type": "code",
      "source": [
        "#Plot fatality rate"
      ],
      "metadata": {
        "id": "o9HVk-2eKKQ9"
      },
      "execution_count": 9,
      "outputs": []
    },
    {
      "cell_type": "code",
      "source": [
        "#Number of deaths\n",
        "df[df['INJURY'] == 'Fatal'].groupby(['YEAR'])['ACCNUM'].count()"
      ],
      "metadata": {
        "colab": {
          "base_uri": "https://localhost:8080/"
        },
        "id": "nXleMw1Al_lg",
        "outputId": "c6fc6eab-e535-41a7-cf96-5bd5222631f1"
      },
      "execution_count": 14,
      "outputs": [
        {
          "output_type": "execute_result",
          "data": {
            "text/plain": [
              "YEAR\n",
              "2006    2\n",
              "2007    5\n",
              "2008    3\n",
              "2009    6\n",
              "2010    2\n",
              "2012    2\n",
              "2013    3\n",
              "2014    2\n",
              "2015    3\n",
              "2016    2\n",
              "2017    4\n",
              "2018    3\n",
              "2019    2\n",
              "2020    1\n",
              "Name: ACCNUM, dtype: int64"
            ]
          },
          "metadata": {},
          "execution_count": 14
        }
      ]
    },
    {
      "cell_type": "code",
      "source": [
        "#Age group of all people involved\n",
        "df.groupby('INVAGE')['ACCNUM'].nunique().plot(kind='bar')"
      ],
      "metadata": {
        "colab": {
          "base_uri": "https://localhost:8080/",
          "height": 332
        },
        "id": "RJLI1nVjor4r",
        "outputId": "d0aaa76e-d24d-46d4-db9e-58eb932f28c1"
      },
      "execution_count": 15,
      "outputs": [
        {
          "output_type": "execute_result",
          "data": {
            "text/plain": [
              "<matplotlib.axes._subplots.AxesSubplot at 0x7fea33d868d0>"
            ]
          },
          "metadata": {},
          "execution_count": 15
        },
        {
          "output_type": "display_data",
          "data": {
            "image/png": "[encoded data removed]",
            "text/plain": [
              "<Figure size 432x288 with 1 Axes>"
            ]
          },
          "metadata": {
            "needs_background": "light"
          }
        }
      ]
    },
    {
      "cell_type": "code",
      "source": [
        "#Age group of drivers\n",
        "df[df['INVTYPE'] == 'Driver'].groupby('INVAGE')['ACCNUM'].nunique().plot(kind='bar')"
      ],
      "metadata": {
        "colab": {
          "base_uri": "https://localhost:8080/",
          "height": 332
        },
        "id": "fzhylSAF0axz",
        "outputId": "4d6701ea-729d-49ff-cb09-7f0ceb4b02f8"
      },
      "execution_count": 17,
      "outputs": [
        {
          "output_type": "execute_result",
          "data": {
            "text/plain": [
              "<matplotlib.axes._subplots.AxesSubplot at 0x7fa225dc07d0>"
            ]
          },
          "metadata": {},
          "execution_count": 17
        },
        {
          "output_type": "display_data",
          "data": {
            "image/png": "[encoded data removed]",
            "text/plain": [
              "<Figure size 432x288 with 1 Axes>"
            ]
          },
          "metadata": {
            "needs_background": "light"
          }
        }
      ]
    },
    {
      "cell_type": "code",
      "source": [
        "df[(df['INVTYPE'] != 'Driver') & (df['INVAGE'] != 'unknown')].groupby('INVAGE')['ACCNUM'].nunique().plot(kind='bar')"
      ],
      "metadata": {
        "colab": {
          "base_uri": "https://localhost:8080/",
          "height": 330
        },
        "id": "qS9uNgZQqmjC",
        "outputId": "46658b62-39fe-4014-c1c4-a8966c777b02"
      },
      "execution_count": 17,
      "outputs": [
        {
          "output_type": "execute_result",
          "data": {
            "text/plain": [
              "<matplotlib.axes._subplots.AxesSubplot at 0x7fea33e13210>"
            ]
          },
          "metadata": {},
          "execution_count": 17
        },
        {
          "output_type": "display_data",
          "data": {
            "image/png": "[encoded data removed]",
            "text/plain": [
              "<Figure size 432x288 with 1 Axes>"
            ]
          },
          "metadata": {
            "needs_background": "light"
          }
        }
      ]
    },
    {
      "cell_type": "code",
      "source": [
        "#Age group of drivers under influence\n",
        "Drivers = df[(df['DRIVCOND'] == 'Ability Impaired, Alcohol Over .08') | (df['DRIVCOND'] == 'Ability Impaired, Alcohol')].groupby('INVAGE')['ACCNUM'].count().reset_index()\n",
        "Drivers['percent'] = 100*Drivers['ACCNUM']/Drivers['ACCNUM'].sum()\n",
        "Drivers"
      ],
      "metadata": {
        "colab": {
          "base_uri": "https://localhost:8080/",
          "height": 483
        },
        "id": "EP4XtkMRRWRo",
        "outputId": "02b5ce7d-b4a9-4fcf-f500-884327afc424"
      },
      "execution_count": 115,
      "outputs": [
        {
          "output_type": "execute_result",
          "data": {
            "text/html": [
              "\n",
              "  <div id=\"df-34ebce31-c7f2-463f-9d36-33cbf5f557d9\">\n",
              "    <div class=\"colab-df-container\">\n",
              "      <div>\n",
              "<style scoped>\n",
              "    .dataframe tbody tr th:only-of-type {\n",
              "        vertical-align: middle;\n",
              "    }\n",
              "\n",
              "    .dataframe tbody tr th {\n",
              "        vertical-align: top;\n",
              "    }\n",
              "\n",
              "    .dataframe thead th {\n",
              "        text-align: right;\n",
              "    }\n",
              "</style>\n",
              "<table border=\"1\" class=\"dataframe\">\n",
              "  <thead>\n",
              "    <tr style=\"text-align: right;\">\n",
              "      <th></th>\n",
              "      <th>INVAGE</th>\n",
              "      <th>ACCNUM</th>\n",
              "      <th>percent</th>\n",
              "    </tr>\n",
              "  </thead>\n",
              "  <tbody>\n",
              "    <tr>\n",
              "      <th>0</th>\n",
              "      <td>15 to 19</td>\n",
              "      <td>11</td>\n",
              "      <td>4.761905</td>\n",
              "    </tr>\n",
              "    <tr>\n",
              "      <th>1</th>\n",
              "      <td>20 to 24</td>\n",
              "      <td>51</td>\n",
              "      <td>22.077922</td>\n",
              "    </tr>\n",
              "    <tr>\n",
              "      <th>2</th>\n",
              "      <td>25 to 29</td>\n",
              "      <td>52</td>\n",
              "      <td>22.510823</td>\n",
              "    </tr>\n",
              "    <tr>\n",
              "      <th>3</th>\n",
              "      <td>30 to 34</td>\n",
              "      <td>29</td>\n",
              "      <td>12.554113</td>\n",
              "    </tr>\n",
              "    <tr>\n",
              "      <th>4</th>\n",
              "      <td>35 to 39</td>\n",
              "      <td>19</td>\n",
              "      <td>8.225108</td>\n",
              "    </tr>\n",
              "    <tr>\n",
              "      <th>5</th>\n",
              "      <td>40 to 44</td>\n",
              "      <td>12</td>\n",
              "      <td>5.194805</td>\n",
              "    </tr>\n",
              "    <tr>\n",
              "      <th>6</th>\n",
              "      <td>45 to 49</td>\n",
              "      <td>16</td>\n",
              "      <td>6.926407</td>\n",
              "    </tr>\n",
              "    <tr>\n",
              "      <th>7</th>\n",
              "      <td>50 to 54</td>\n",
              "      <td>14</td>\n",
              "      <td>6.060606</td>\n",
              "    </tr>\n",
              "    <tr>\n",
              "      <th>8</th>\n",
              "      <td>55 to 59</td>\n",
              "      <td>11</td>\n",
              "      <td>4.761905</td>\n",
              "    </tr>\n",
              "    <tr>\n",
              "      <th>9</th>\n",
              "      <td>60 to 64</td>\n",
              "      <td>6</td>\n",
              "      <td>2.597403</td>\n",
              "    </tr>\n",
              "    <tr>\n",
              "      <th>10</th>\n",
              "      <td>65 to 69</td>\n",
              "      <td>5</td>\n",
              "      <td>2.164502</td>\n",
              "    </tr>\n",
              "    <tr>\n",
              "      <th>11</th>\n",
              "      <td>70 to 74</td>\n",
              "      <td>3</td>\n",
              "      <td>1.298701</td>\n",
              "    </tr>\n",
              "    <tr>\n",
              "      <th>12</th>\n",
              "      <td>80 to 84</td>\n",
              "      <td>1</td>\n",
              "      <td>0.432900</td>\n",
              "    </tr>\n",
              "    <tr>\n",
              "      <th>13</th>\n",
              "      <td>unknown</td>\n",
              "      <td>1</td>\n",
              "      <td>0.432900</td>\n",
              "    </tr>\n",
              "  </tbody>\n",
              "</table>\n",
              "</div>\n",
              "      <button class=\"colab-df-convert\" onclick=\"convertToInteractive('df-34ebce31-c7f2-463f-9d36-33cbf5f557d9')\"\n",
              "              title=\"Convert this dataframe to an interactive table.\"\n",
              "              style=\"display:none;\">\n",
              "        \n",
              "  <svg xmlns=\"http://www.w3.org/2000/svg\" height=\"24px\"viewBox=\"0 0 24 24\"\n",
              "       width=\"24px\">\n",
              "    <path d=\"M0 0h24v24H0V0z\" fill=\"none\"/>\n",
              "    <path d=\"M18.56 5.44l.94 2.06.94-2.06 2.06-.94-2.06-.94-.94-2.06-.94 2.06-2.06.94zm-11 1L8.5 8.5l.94-2.06 2.06-.94-2.06-.94L8.5 2.5l-.94 2.06-2.06.94zm10 10l.94 2.06.94-2.06 2.06-.94-2.06-.94-.94-2.06-.94 2.06-2.06.94z\"/><path d=\"M17.41 7.96l-1.37-1.37c-.4-.4-.92-.59-1.43-.59-.52 0-1.04.2-1.43.59L10.3 9.45l-7.72 7.72c-.78.78-.78 2.05 0 2.83L4 21.41c.39.39.9.59 1.41.59.51 0 1.02-.2 1.41-.59l7.78-7.78 2.81-2.81c.8-.78.8-2.07 0-2.86zM5.41 20L4 18.59l7.72-7.72 1.47 1.35L5.41 20z\"/>\n",
              "  </svg>\n",
              "      </button>\n",
              "      \n",
              "  <style>\n",
              "    .colab-df-container {\n",
              "      display:flex;\n",
              "      flex-wrap:wrap;\n",
              "      gap: 12px;\n",
              "    }\n",
              "\n",
              "    .colab-df-convert {\n",
              "      background-color: #E8F0FE;\n",
              "      border: none;\n",
              "      border-radius: 50%;\n",
              "      cursor: pointer;\n",
              "      display: none;\n",
              "      fill: #1967D2;\n",
              "      height: 32px;\n",
              "      padding: 0 0 0 0;\n",
              "      width: 32px;\n",
              "    }\n",
              "\n",
              "    .colab-df-convert:hover {\n",
              "      background-color: #E2EBFA;\n",
              "      box-shadow: 0px 1px 2px rgba(60, 64, 67, 0.3), 0px 1px 3px 1px rgba(60, 64, 67, 0.15);\n",
              "      fill: #174EA6;\n",
              "    }\n",
              "\n",
              "    [theme=dark] .colab-df-convert {\n",
              "      background-color: #3B4455;\n",
              "      fill: #D2E3FC;\n",
              "    }\n",
              "\n",
              "    [theme=dark] .colab-df-convert:hover {\n",
              "      background-color: #434B5C;\n",
              "      box-shadow: 0px 1px 3px 1px rgba(0, 0, 0, 0.15);\n",
              "      filter: drop-shadow(0px 1px 2px rgba(0, 0, 0, 0.3));\n",
              "      fill: #FFFFFF;\n",
              "    }\n",
              "  </style>\n",
              "\n",
              "      <script>\n",
              "        const buttonEl =\n",
              "          document.querySelector('#df-34ebce31-c7f2-463f-9d36-33cbf5f557d9 button.colab-df-convert');\n",
              "        buttonEl.style.display =\n",
              "          google.colab.kernel.accessAllowed ? 'block' : 'none';\n",
              "\n",
              "        async function convertToInteractive(key) {\n",
              "          const element = document.querySelector('#df-34ebce31-c7f2-463f-9d36-33cbf5f557d9');\n",
              "          const dataTable =\n",
              "            await google.colab.kernel.invokeFunction('convertToInteractive',\n",
              "                                                     [key], {});\n",
              "          if (!dataTable) return;\n",
              "\n",
              "          const docLinkHtml = 'Like what you see? Visit the ' +\n",
              "            '<a target=\"_blank\" href=https://colab.research.google.com/notebooks/data_table.ipynb>data table notebook</a>'\n",
              "            + ' to learn more about interactive tables.';\n",
              "          element.innerHTML = '';\n",
              "          dataTable['output_type'] = 'display_data';\n",
              "          await google.colab.output.renderOutput(dataTable, element);\n",
              "          const docLink = document.createElement('div');\n",
              "          docLink.innerHTML = docLinkHtml;\n",
              "          element.appendChild(docLink);\n",
              "        }\n",
              "      </script>\n",
              "    </div>\n",
              "  </div>\n",
              "  "
            ],
            "text/plain": [
              "      INVAGE  ACCNUM    percent\n",
              "0   15 to 19      11   4.761905\n",
              "1   20 to 24      51  22.077922\n",
              "2   25 to 29      52  22.510823\n",
              "3   30 to 34      29  12.554113\n",
              "4   35 to 39      19   8.225108\n",
              "5   40 to 44      12   5.194805\n",
              "6   45 to 49      16   6.926407\n",
              "7   50 to 54      14   6.060606\n",
              "8   55 to 59      11   4.761905\n",
              "9   60 to 64       6   2.597403\n",
              "10  65 to 69       5   2.164502\n",
              "11  70 to 74       3   1.298701\n",
              "12  80 to 84       1   0.432900\n",
              "13   unknown       1   0.432900"
            ]
          },
          "metadata": {},
          "execution_count": 115
        }
      ]
    },
    {
      "cell_type": "markdown",
      "source": [
        "45% of drivers fall under age group 20-30"
      ],
      "metadata": {
        "id": "3aE35ym6qAfp"
      }
    },
    {
      "cell_type": "code",
      "source": [
        "df[df['INVTYPE'] == 'Driver'].groupby(['INVAGE','ACCLASS'])['ACCNUM'].nunique().unstack().plot(kind='bar', stacked=True,figsize=(15, 5))"
      ],
      "metadata": {
        "colab": {
          "base_uri": "https://localhost:8080/",
          "height": 386
        },
        "id": "0d3ttT_5y1nk",
        "outputId": "f3fefbe7-a07c-4c6b-d36f-56cd1a540250"
      },
      "execution_count": 89,
      "outputs": [
        {
          "output_type": "execute_result",
          "data": {
            "text/plain": [
              "<matplotlib.axes._subplots.AxesSubplot at 0x7ffb98070650>"
            ]
          },
          "metadata": {},
          "execution_count": 89
        },
        {
          "output_type": "display_data",
          "data": {
            "image/png": "[encoded data removed]",
            "text/plain": [
              "<Figure size 1080x360 with 1 Axes>"
            ]
          },
          "metadata": {
            "needs_background": "light"
          }
        }
      ]
    },
    {
      "cell_type": "code",
      "source": [
        "df[df['INJURY'] == 'Fatal'].groupby(['INVAGE'])['ACCNUM'].count()"
      ],
      "metadata": {
        "colab": {
          "base_uri": "https://localhost:8080/"
        },
        "id": "nqZEKGSprk3D",
        "outputId": "a0bd680e-065c-4fca-a634-b58e674887dd"
      },
      "execution_count": 18,
      "outputs": [
        {
          "output_type": "execute_result",
          "data": {
            "text/plain": [
              "INVAGE\n",
              "15 to 19     5\n",
              "20 to 24    11\n",
              "25 to 29     8\n",
              "30 to 34     1\n",
              "35 to 39     2\n",
              "40 to 44     4\n",
              "45 to 49     2\n",
              "55 to 59     1\n",
              "60 to 64     3\n",
              "80 to 84     2\n",
              "85 to 89     1\n",
              "Name: ACCNUM, dtype: int64"
            ]
          },
          "metadata": {},
          "execution_count": 18
        }
      ]
    },
    {
      "cell_type": "markdown",
      "source": [
        "Fatality rate is high among young people"
      ],
      "metadata": {
        "id": "dCM5ehAHr_46"
      }
    },
    {
      "cell_type": "code",
      "source": [
        "df[df['INVTYPE'] == 'Driver'].groupby(['INVAGE','INJURY'])['ACCNUM'].nunique().unstack().plot(kind='bar', stacked=True,figsize=(15, 5))"
      ],
      "metadata": {
        "colab": {
          "base_uri": "https://localhost:8080/",
          "height": 386
        },
        "id": "GG6IIVIuzR9B",
        "outputId": "e8885b35-cf8a-47fa-9d83-78edee1ee98a"
      },
      "execution_count": 91,
      "outputs": [
        {
          "output_type": "execute_result",
          "data": {
            "text/plain": [
              "<matplotlib.axes._subplots.AxesSubplot at 0x7ffb97f70a10>"
            ]
          },
          "metadata": {},
          "execution_count": 91
        },
        {
          "output_type": "display_data",
          "data": {
            "image/png": "[encoded data removed]",
            "text/plain": [
              "<Figure size 1080x360 with 1 Axes>"
            ]
          },
          "metadata": {
            "needs_background": "light"
          }
        }
      ]
    },
    {
      "cell_type": "code",
      "source": [
        "df[df['INVTYPE'] == 'Passenger'].groupby('INVAGE')['ACCNUM'].nunique().plot(kind='bar')"
      ],
      "metadata": {
        "colab": {
          "base_uri": "https://localhost:8080/",
          "height": 332
        },
        "id": "gtCtes2a1HcV",
        "outputId": "d9133735-5bb9-4e29-f732-76f4fbd35475"
      },
      "execution_count": 18,
      "outputs": [
        {
          "output_type": "execute_result",
          "data": {
            "text/plain": [
              "<matplotlib.axes._subplots.AxesSubplot at 0x7fa2265a0710>"
            ]
          },
          "metadata": {},
          "execution_count": 18
        },
        {
          "output_type": "display_data",
          "data": {
            "image/png": "[encoded data removed]",
            "text/plain": [
              "<Figure size 432x288 with 1 Axes>"
            ]
          },
          "metadata": {
            "needs_background": "light"
          }
        }
      ]
    },
    {
      "cell_type": "code",
      "source": [
        "df.groupby('HOUR')['ACCNUM'].nunique().plot(kind='bar')"
      ],
      "metadata": {
        "colab": {
          "base_uri": "https://localhost:8080/",
          "height": 299
        },
        "id": "wPp92E9x0PhX",
        "outputId": "8d88bdcd-bad5-46c9-9322-9bfc8844774e"
      },
      "execution_count": 12,
      "outputs": [
        {
          "output_type": "execute_result",
          "data": {
            "text/plain": [
              "<matplotlib.axes._subplots.AxesSubplot at 0x7fa2263c0150>"
            ]
          },
          "metadata": {},
          "execution_count": 12
        },
        {
          "output_type": "display_data",
          "data": {
            "image/png": "[encoded data removed]",
            "text/plain": [
              "<Figure size 432x288 with 1 Axes>"
            ]
          },
          "metadata": {
            "needs_background": "light"
          }
        }
      ]
    },
    {
      "cell_type": "code",
      "source": [
        "df['DATE'] = pd.to_datetime(df['DATE'])\n",
        "df[\"IsWeekend\"] = (df[\"DATE\"].dt.weekday >= 5).astype('int')"
      ],
      "metadata": {
        "id": "4wFW58wBIqbc"
      },
      "execution_count": 19,
      "outputs": []
    },
    {
      "cell_type": "code",
      "source": [
        "df[df['IsWeekend'] == 0].groupby('HOUR')['ACCNUM'].nunique().plot(kind='line', color = 'red')\n",
        "df[df['IsWeekend'] == 1].groupby('HOUR')['ACCNUM'].nunique().plot(kind='line')\n",
        "plt.legend(['Weekday', 'Weekend'])"
      ],
      "metadata": {
        "colab": {
          "base_uri": "https://localhost:8080/",
          "height": 296
        },
        "id": "0Yq7O4AHaeHF",
        "outputId": "7a71959d-f1b0-41a0-930a-499c7eea2cb8"
      },
      "execution_count": 37,
      "outputs": [
        {
          "output_type": "execute_result",
          "data": {
            "text/plain": [
              "<matplotlib.legend.Legend at 0x7ffb97d1dd90>"
            ]
          },
          "metadata": {},
          "execution_count": 37
        },
        {
          "output_type": "display_data",
          "data": {
            "image/png": "[encoded data removed]",
            "text/plain": [
              "<Figure size 432x288 with 1 Axes>"
            ]
          },
          "metadata": {
            "needs_background": "light"
          }
        }
      ]
    },
    {
      "cell_type": "code",
      "source": [
        "df[df['ACCLASS'] == 'Fatal'].groupby('HOUR')['ACCNUM'].nunique().plot(kind='line', color = 'red')\n",
        "df[df['ACCLASS'] == 'Non-Fatal Injury'].groupby('HOUR')['ACCNUM'].nunique().plot(kind='line')\n",
        "plt.legend(['Fatal', 'Non-Fatal Injury'])"
      ],
      "metadata": {
        "colab": {
          "base_uri": "https://localhost:8080/",
          "height": 296
        },
        "id": "b3bZixUUbFO4",
        "outputId": "8e407ce7-9942-4880-f8ee-eaecba5bc0ab"
      },
      "execution_count": 39,
      "outputs": [
        {
          "output_type": "execute_result",
          "data": {
            "text/plain": [
              "<matplotlib.legend.Legend at 0x7ffb97daadd0>"
            ]
          },
          "metadata": {},
          "execution_count": 39
        },
        {
          "output_type": "display_data",
          "data": {
            "image/png": "[encoded data removed]",
            "text/plain": [
              "<Figure size 432x288 with 1 Axes>"
            ]
          },
          "metadata": {
            "needs_background": "light"
          }
        }
      ]
    },
    {
      "cell_type": "code",
      "source": [
        "df.INVTYPE.unique()"
      ],
      "metadata": {
        "colab": {
          "base_uri": "https://localhost:8080/"
        },
        "id": "l6ZV3_zC0ujc",
        "outputId": "3ddda67b-0da5-475a-9e5a-5abb12b2ff9a"
      },
      "execution_count": 14,
      "outputs": [
        {
          "output_type": "execute_result",
          "data": {
            "text/plain": [
              "array(['Passenger', 'Driver', 'Motorcycle Driver', 'Vehicle Owner',\n",
              "       'Cyclist', 'Pedestrian', 'Other', 'Other Property Owner',\n",
              "       'Witness', 'Truck Driver'], dtype=object)"
            ]
          },
          "metadata": {},
          "execution_count": 14
        }
      ]
    },
    {
      "cell_type": "code",
      "source": [
        "df.IMPACTYPE.unique()"
      ],
      "metadata": {
        "colab": {
          "base_uri": "https://localhost:8080/"
        },
        "id": "aPrc64Xh1c63",
        "outputId": "6246054c-43e1-4e58-9d39-93002b03924d"
      },
      "execution_count": 20,
      "outputs": [
        {
          "output_type": "execute_result",
          "data": {
            "text/plain": [
              "array(['SMV Other', 'Turning Movement', 'Cyclist Collisions',\n",
              "       'Pedestrian Collisions', 'Sideswipe', 'Angle', 'Approaching',\n",
              "       'Rear End', 'SMV Unattended Vehicle'], dtype=object)"
            ]
          },
          "metadata": {},
          "execution_count": 20
        }
      ]
    },
    {
      "cell_type": "code",
      "source": [
        "df.groupby('IMPACTYPE')['ACCNUM'].nunique().plot(kind= 'pie')"
      ],
      "metadata": {
        "colab": {
          "base_uri": "https://localhost:8080/",
          "height": 265
        },
        "id": "ENqQpHF-2G3q",
        "outputId": "876b7340-73b2-4ba3-9bb5-9e161756f3bf"
      },
      "execution_count": 23,
      "outputs": [
        {
          "output_type": "execute_result",
          "data": {
            "text/plain": [
              "<matplotlib.axes._subplots.AxesSubplot at 0x7fa223eabbd0>"
            ]
          },
          "metadata": {},
          "execution_count": 23
        },
        {
          "output_type": "display_data",
          "data": {
            "image/png": "[encoded data removed]",
            "text/plain": [
              "<Figure size 432x288 with 1 Axes>"
            ]
          },
          "metadata": {}
        }
      ]
    },
    {
      "cell_type": "code",
      "source": [
        "#Single moving veh collides with other object\n",
        "df[(df['IMPACTYPE'] == 'SMV Other') & (df['AG_DRIV'] == 'Yes')].ACCNUM.count()"
      ],
      "metadata": {
        "colab": {
          "base_uri": "https://localhost:8080/"
        },
        "id": "lkckATqF2PTa",
        "outputId": "380b18ff-2600-4761-d041-539a782dc698"
      },
      "execution_count": 30,
      "outputs": [
        {
          "output_type": "execute_result",
          "data": {
            "text/plain": [
              "93"
            ]
          },
          "metadata": {},
          "execution_count": 30
        }
      ]
    },
    {
      "cell_type": "code",
      "source": [
        "df[df['IMPACTYPE'] == 'SMV Other'].ACCNUM.count()"
      ],
      "metadata": {
        "colab": {
          "base_uri": "https://localhost:8080/"
        },
        "id": "Qahc7tIJ3tgz",
        "outputId": "95e5d290-58b8-4228-c7a9-fb78fbaf013e"
      },
      "execution_count": 31,
      "outputs": [
        {
          "output_type": "execute_result",
          "data": {
            "text/plain": [
              "174"
            ]
          },
          "metadata": {},
          "execution_count": 31
        }
      ]
    },
    {
      "cell_type": "code",
      "source": [
        "df[(df['IMPACTYPE'] == 'SMV Other') & (df['AG_DRIV'] == 'Yes')].ACCNUM.count()/df[df['IMPACTYPE'] == 'SMV Other'].ACCNUM.count()"
      ],
      "metadata": {
        "colab": {
          "base_uri": "https://localhost:8080/"
        },
        "id": "TO7hq0PM35IY",
        "outputId": "4c3f293b-e012-4463-c5f8-35af45fdd05c"
      },
      "execution_count": 32,
      "outputs": [
        {
          "output_type": "execute_result",
          "data": {
            "text/plain": [
              "0.5344827586206896"
            ]
          },
          "metadata": {},
          "execution_count": 32
        }
      ]
    },
    {
      "cell_type": "code",
      "source": [
        "df[(df['IMPACTYPE'] == 'SMV Other') & (df['SPEEDING'] == 'Yes')].ACCNUM.count()/df[df['IMPACTYPE'] == 'SMV Other'].ACCNUM.count()"
      ],
      "metadata": {
        "colab": {
          "base_uri": "https://localhost:8080/"
        },
        "id": "NXslEb294Bzb",
        "outputId": "f53acfd2-8937-4900-ceb1-642f6a7d4b88"
      },
      "execution_count": 34,
      "outputs": [
        {
          "output_type": "execute_result",
          "data": {
            "text/plain": [
              "0.45977011494252873"
            ]
          },
          "metadata": {},
          "execution_count": 34
        }
      ]
    },
    {
      "cell_type": "code",
      "source": [
        "df[(df['IMPACTYPE'] == 'SMV Other') & (df['AG_DRIV'] == 'Yes')& (df['SPEEDING'] == 'Yes')].ACCNUM.count()/df[df['IMPACTYPE'] == 'SMV Other'].ACCNUM.count()"
      ],
      "metadata": {
        "colab": {
          "base_uri": "https://localhost:8080/"
        },
        "id": "66CXE1jYt4eT",
        "outputId": "80bd12de-528f-476b-9703-a382c543bc69"
      },
      "execution_count": 20,
      "outputs": [
        {
          "output_type": "execute_result",
          "data": {
            "text/plain": [
              "0.45977011494252873"
            ]
          },
          "metadata": {},
          "execution_count": 20
        }
      ]
    },
    {
      "cell_type": "markdown",
      "source": [
        "More about SMV"
      ],
      "metadata": {
        "id": "MFcUlIl7uG6R"
      }
    },
    {
      "cell_type": "code",
      "source": [
        "df[(df['SPEEDING'] == 'Yes') & (df['AG_DRIV'] == 'Yes')].ACCNUM.count()"
      ],
      "metadata": {
        "colab": {
          "base_uri": "https://localhost:8080/"
        },
        "id": "ke3rvOg-4Q8P",
        "outputId": "f4727353-d3a6-4713-9615-38cd49d834fd"
      },
      "execution_count": 35,
      "outputs": [
        {
          "output_type": "execute_result",
          "data": {
            "text/plain": [
              "313"
            ]
          },
          "metadata": {},
          "execution_count": 35
        }
      ]
    },
    {
      "cell_type": "code",
      "source": [
        "df.groupby(['INJURY','ACCLASS'])['ACCNUM'].nunique().unstack().plot(kind='bar', stacked=True,figsize=(15, 5))"
      ],
      "metadata": {
        "colab": {
          "base_uri": "https://localhost:8080/",
          "height": 380
        },
        "id": "phYEkHQA5C3Q",
        "outputId": "3af764b6-c111-40c6-eb49-3e4157350027"
      },
      "execution_count": 21,
      "outputs": [
        {
          "output_type": "execute_result",
          "data": {
            "text/plain": [
              "<matplotlib.axes._subplots.AxesSubplot at 0x7fea35c2cbd0>"
            ]
          },
          "metadata": {},
          "execution_count": 21
        },
        {
          "output_type": "display_data",
          "data": {
            "image/png": "[encoded data removed]",
            "text/plain": [
              "<Figure size 1080x360 with 1 Axes>"
            ]
          },
          "metadata": {
            "needs_background": "light"
          }
        }
      ]
    },
    {
      "cell_type": "code",
      "source": [
        "df[(df['DRIVACT'] != '<Null>') & (df['DRIVACT'] != 'Driving Properly')].groupby('DRIVACT')['ACCNUM'].nunique().plot(kind='bar')"
      ],
      "metadata": {
        "colab": {
          "base_uri": "https://localhost:8080/",
          "height": 434
        },
        "id": "OnZuLdbL6Xgj",
        "outputId": "2062bf1f-012b-4a32-bb23-a131960d11d3"
      },
      "execution_count": 22,
      "outputs": [
        {
          "output_type": "execute_result",
          "data": {
            "text/plain": [
              "<matplotlib.axes._subplots.AxesSubplot at 0x7fea35bf9c50>"
            ]
          },
          "metadata": {},
          "execution_count": 22
        },
        {
          "output_type": "display_data",
          "data": {
            "image/png": "[encoded data removed]",
            "text/plain": [
              "<Figure size 432x288 with 1 Axes>"
            ]
          },
          "metadata": {
            "needs_background": "light"
          }
        }
      ]
    },
    {
      "cell_type": "code",
      "source": [
        "df[df['DRIVCOND'] != '<Null>'].groupby('DRIVCOND')['ACCNUM'].nunique().plot(kind='bar')"
      ],
      "metadata": {
        "colab": {
          "base_uri": "https://localhost:8080/",
          "height": 454
        },
        "id": "ziXgIQk46wM_",
        "outputId": "0efdd00a-3256-4bb2-eb05-08b9f303ac14"
      },
      "execution_count": 6,
      "outputs": [
        {
          "output_type": "execute_result",
          "data": {
            "text/plain": [
              "<matplotlib.axes._subplots.AxesSubplot at 0x7ffb99aba250>"
            ]
          },
          "metadata": {},
          "execution_count": 6
        },
        {
          "output_type": "display_data",
          "data": {
            "image/png": "[encoded data removed]",
            "text/plain": [
              "<Figure size 432x288 with 1 Axes>"
            ]
          },
          "metadata": {
            "needs_background": "light"
          }
        }
      ]
    },
    {
      "cell_type": "code",
      "source": [
        "df[df['DRIVACT'] == 'Driving Properly'].groupby('DRIVCOND')['ACCNUM'].nunique().plot(kind='bar')"
      ],
      "metadata": {
        "colab": {
          "base_uri": "https://localhost:8080/",
          "height": 454
        },
        "id": "M92f7Q8Imn3c",
        "outputId": "6ce98b47-d1e7-4cf6-8648-6151941c1afb"
      },
      "execution_count": 79,
      "outputs": [
        {
          "output_type": "execute_result",
          "data": {
            "text/plain": [
              "<matplotlib.axes._subplots.AxesSubplot at 0x7ffb981d5b90>"
            ]
          },
          "metadata": {},
          "execution_count": 79
        },
        {
          "output_type": "display_data",
          "data": {
            "image/png": "[encoded data removed]",
            "text/plain": [
              "<Figure size 432x288 with 1 Axes>"
            ]
          },
          "metadata": {
            "needs_background": "light"
          }
        }
      ]
    },
    {
      "cell_type": "code",
      "source": [
        "df[(df['DRIVCOND'] == 'Normal')].groupby('DRIVACT')['ACCNUM'].nunique().plot(kind='bar')\n"
      ],
      "metadata": {
        "colab": {
          "base_uri": "https://localhost:8080/",
          "height": 411
        },
        "id": "JJSuE9Rgl6X1",
        "outputId": "e501f389-5144-44e3-e1cf-9c9263953c79"
      },
      "execution_count": 78,
      "outputs": [
        {
          "output_type": "execute_result",
          "data": {
            "text/plain": [
              "<matplotlib.axes._subplots.AxesSubplot at 0x7ffb97b98c50>"
            ]
          },
          "metadata": {},
          "execution_count": 78
        },
        {
          "output_type": "display_data",
          "data": {
            "image/png": "[encoded data removed]",
            "text/plain": [
              "<Figure size 432x288 with 1 Axes>"
            ]
          },
          "metadata": {
            "needs_background": "light"
          }
        }
      ]
    },
    {
      "cell_type": "code",
      "source": [
        "df[df['DRIVCOND'] == 'Normal'].groupby('SPEEDING')['ACCNUM'].nunique()"
      ],
      "metadata": {
        "colab": {
          "base_uri": "https://localhost:8080/"
        },
        "id": "AGfQ49zTncbs",
        "outputId": "e69fbf8f-3bb7-4484-f535-e6ba2b0d56c6"
      },
      "execution_count": 23,
      "outputs": [
        {
          "output_type": "execute_result",
          "data": {
            "text/plain": [
              "SPEEDING\n",
              "<Null>    61\n",
              "Yes       42\n",
              "Name: ACCNUM, dtype: int64"
            ]
          },
          "metadata": {},
          "execution_count": 23
        }
      ]
    },
    {
      "cell_type": "code",
      "source": [
        "df[df['DRIVCOND'] == 'Normal'].groupby('AG_DRIV')['ACCNUM'].nunique()"
      ],
      "metadata": {
        "colab": {
          "base_uri": "https://localhost:8080/"
        },
        "id": "AHPqE1Q8pzpo",
        "outputId": "92774329-8459-443d-9feb-115a8e3a7c87"
      },
      "execution_count": 24,
      "outputs": [
        {
          "output_type": "execute_result",
          "data": {
            "text/plain": [
              "AG_DRIV\n",
              "<Null>    28\n",
              "Yes       75\n",
              "Name: ACCNUM, dtype: int64"
            ]
          },
          "metadata": {},
          "execution_count": 24
        }
      ]
    },
    {
      "cell_type": "code",
      "source": [
        "df[(df['DRIVACT'] == 'Driving Properly') & (df['AG_DRIV'] == 'Yes')].groupby('SPEEDING')['ACCNUM'].nunique()"
      ],
      "metadata": {
        "colab": {
          "base_uri": "https://localhost:8080/"
        },
        "id": "v2Fo2olOp_zl",
        "outputId": "c924f1b0-36fa-4e3d-c7c0-c5cdcfbf7a24"
      },
      "execution_count": 83,
      "outputs": [
        {
          "output_type": "execute_result",
          "data": {
            "text/plain": [
              "SPEEDING\n",
              "<Null>    36\n",
              "Yes       38\n",
              "Name: ACCNUM, dtype: int64"
            ]
          },
          "metadata": {},
          "execution_count": 83
        }
      ]
    },
    {
      "cell_type": "code",
      "source": [
        "#converting date column to datetime and saving month in new column\n",
        "df['DATE'] = pd.to_datetime(df['DATE'])\n",
        "df['Month'] = df['DATE'].dt.month"
      ],
      "metadata": {
        "id": "SOHAYwTAb5pH"
      },
      "execution_count": 43,
      "outputs": []
    },
    {
      "cell_type": "code",
      "source": [
        "df.groupby('Month')['ACCNUM'].mean() #How is this average calculated?"
      ],
      "metadata": {
        "colab": {
          "base_uri": "https://localhost:8080/"
        },
        "id": "tbbrePiKdo21",
        "outputId": "4571c8c5-44ad-403f-c1c5-c6a12ffd0d8e"
      },
      "execution_count": 54,
      "outputs": [
        {
          "output_type": "execute_result",
          "data": {
            "text/plain": [
              "Month\n",
              "1     2.757409e+09\n",
              "2     2.817895e+09\n",
              "3     2.316630e+09\n",
              "4     4.214116e+08\n",
              "5     2.144084e+09\n",
              "6     1.844852e+09\n",
              "7     1.705388e+09\n",
              "8     9.647846e+08\n",
              "9     1.957396e+09\n",
              "10    1.595135e+09\n",
              "11    1.210887e+09\n",
              "12    2.474452e+09\n",
              "Name: ACCNUM, dtype: float64"
            ]
          },
          "metadata": {},
          "execution_count": 54
        }
      ]
    },
    {
      "cell_type": "code",
      "source": [
        "df.groupby('Month')['ACCNUM'].nunique()"
      ],
      "metadata": {
        "colab": {
          "base_uri": "https://localhost:8080/"
        },
        "id": "afkweHjfdtrx",
        "outputId": "049e3535-bdad-431c-ab76-f6dda5794a34"
      },
      "execution_count": 53,
      "outputs": [
        {
          "output_type": "execute_result",
          "data": {
            "text/plain": [
              "Month\n",
              "1     11\n",
              "2     28\n",
              "3     19\n",
              "4     19\n",
              "5     14\n",
              "6     20\n",
              "7     21\n",
              "8     16\n",
              "9     30\n",
              "10    17\n",
              "11    17\n",
              "12    19\n",
              "Name: ACCNUM, dtype: int64"
            ]
          },
          "metadata": {},
          "execution_count": 53
        }
      ]
    },
    {
      "cell_type": "code",
      "source": [
        "df.groupby('Month')['ACCNUM'].mean().plot(kind='bar')"
      ],
      "metadata": {
        "colab": {
          "base_uri": "https://localhost:8080/",
          "height": 310
        },
        "id": "J4uCHeT4cgRQ",
        "outputId": "05671f6d-fedd-4441-c486-1da93eac8861"
      },
      "execution_count": 46,
      "outputs": [
        {
          "output_type": "execute_result",
          "data": {
            "text/plain": [
              "<matplotlib.axes._subplots.AxesSubplot at 0x7ffb97a0f850>"
            ]
          },
          "metadata": {},
          "execution_count": 46
        },
        {
          "output_type": "display_data",
          "data": {
            "image/png": "[encoded data removed]",
            "text/plain": [
              "<Figure size 432x288 with 1 Axes>"
            ]
          },
          "metadata": {
            "needs_background": "light"
          }
        }
      ]
    },
    {
      "cell_type": "code",
      "source": [
        "df.groupby('Month')['ACCNUM'].nunique.plot(kind='bar')"
      ],
      "metadata": {
        "colab": {
          "base_uri": "https://localhost:8080/",
          "height": 299
        },
        "id": "bZbWGwjedDFB",
        "outputId": "0aacace8-77e6-4dce-ed74-de465448fe9c"
      },
      "execution_count": 47,
      "outputs": [
        {
          "output_type": "execute_result",
          "data": {
            "text/plain": [
              "<matplotlib.axes._subplots.AxesSubplot at 0x7ffb9793e0d0>"
            ]
          },
          "metadata": {},
          "execution_count": 47
        },
        {
          "output_type": "display_data",
          "data": {
            "image/png": "[encoded data removed]",
            "text/plain": [
              "<Figure size 432x288 with 1 Axes>"
            ]
          },
          "metadata": {
            "needs_background": "light"
          }
        }
      ]
    },
    {
      "cell_type": "code",
      "source": [
        "df['STREET1'].value_counts()[:10].plot.barh()"
      ],
      "metadata": {
        "colab": {
          "base_uri": "https://localhost:8080/",
          "height": 282
        },
        "id": "Usqd3F9Bler9",
        "outputId": "8ff6f04f-22b2-421f-b5fb-b2c3364281ed"
      },
      "execution_count": 55,
      "outputs": [
        {
          "output_type": "execute_result",
          "data": {
            "text/plain": [
              "<matplotlib.axes._subplots.AxesSubplot at 0x7ffb984cb610>"
            ]
          },
          "metadata": {},
          "execution_count": 55
        },
        {
          "output_type": "display_data",
          "data": {
            "image/png": "[encoded data removed]",
            "text/plain": [
              "<Figure size 432x288 with 1 Axes>"
            ]
          },
          "metadata": {
            "needs_background": "light"
          }
        }
      ]
    },
    {
      "cell_type": "code",
      "source": [
        "df.groupby('TRAFFCTL')['ACCNUM'].nunique().plot(kind='bar')"
      ],
      "metadata": {
        "colab": {
          "base_uri": "https://localhost:8080/",
          "height": 392
        },
        "id": "7Fdx8cnLuRGK",
        "outputId": "06ebf02a-e4ff-46c0-d219-edcf1235e4f0"
      },
      "execution_count": 85,
      "outputs": [
        {
          "output_type": "execute_result",
          "data": {
            "text/plain": [
              "<matplotlib.axes._subplots.AxesSubplot at 0x7ffb981848d0>"
            ]
          },
          "metadata": {},
          "execution_count": 85
        },
        {
          "output_type": "display_data",
          "data": {
            "image/png": "[encoded data removed]",
            "text/plain": [
              "<Figure size 432x288 with 1 Axes>"
            ]
          },
          "metadata": {
            "needs_background": "light"
          }
        }
      ]
    },
    {
      "cell_type": "code",
      "source": [
        "df.groupby('ROAD_CLASS')['ACCNUM'].nunique().plot(kind='bar')"
      ],
      "metadata": {
        "colab": {
          "base_uri": "https://localhost:8080/",
          "height": 355
        },
        "id": "fXzmS7jouniZ",
        "outputId": "94f53b62-c44c-41c9-b116-2b08e70da684"
      },
      "execution_count": 87,
      "outputs": [
        {
          "output_type": "execute_result",
          "data": {
            "text/plain": [
              "<matplotlib.axes._subplots.AxesSubplot at 0x7ffb97fef1d0>"
            ]
          },
          "metadata": {},
          "execution_count": 87
        },
        {
          "output_type": "display_data",
          "data": {
            "image/png": "[encoded data removed]",
            "text/plain": [
              "<Figure size 432x288 with 1 Axes>"
            ]
          },
          "metadata": {
            "needs_background": "light"
          }
        }
      ]
    }
  ]
}