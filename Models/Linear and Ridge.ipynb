{
 "cells": [
  {
   "cell_type": "code",
   "execution_count": 1,
   "metadata": {},
   "outputs": [],
   "source": [
    "import pandas as pd\n",
    "import sklearn\n",
    "import numpy as np\n",
    "import util\n",
    "import seaborn as sns\n",
    "import matplotlib.pyplot as plt\n",
    "import shap\n",
    "import seaborn as sns"
   ]
  },
  {
   "cell_type": "code",
   "execution_count": 2,
   "metadata": {},
   "outputs": [],
   "source": [
    "from sklearn.linear_model import LinearRegression, RidgeCV\n",
    "import statsmodels.api as sm \n",
    "import matplotlib.pylab as plt \n",
    "from dmba import regressionSummary, exhaustive_search \n",
    "from dmba import adjusted_r2_score, AIC_score, BIC_score\n",
    "from sklearn.metrics import r2_score\n",
    "from dmba import backward_elimination, forward_selection\n",
    "from sklearn.model_selection import train_test_split, cross_val_score, GridSearchCV\n",
    "from sklearn.preprocessing import QuantileTransformer, quantile_transform"
   ]
  },
  {
   "cell_type": "code",
   "execution_count": 3,
   "metadata": {},
   "outputs": [],
   "source": [
    "pd.set_option('max_columns', None)\n",
    "pd.set_option('max_rows', 81)"
   ]
  },
  {
   "cell_type": "code",
   "execution_count": 37,
   "metadata": {},
   "outputs": [],
   "source": [
    "ultimate_df = pd.read_csv('Data/Created Datasets/ALL_merge_truncate3.csv', index_col = 0)"
   ]
  },
  {
   "cell_type": "code",
   "execution_count": 4,
   "metadata": {},
   "outputs": [],
   "source": [
    "# dataset without hazardous dataset - this dataset is bigger\n",
    "ultimate_df = pd.read_csv('Data/Created Datasets/Impediments_Feature_Count.csv', index_col = 0)"
   ]
  },
  {
   "cell_type": "code",
   "execution_count": null,
   "metadata": {},
   "outputs": [],
   "source": [
    "ultimate_df['COUNT'].plot(kind = 'hist')"
   ]
  },
  {
   "cell_type": "code",
   "execution_count": 201,
   "metadata": {},
   "outputs": [],
   "source": [
    "# capping - removing extreme outliers\n",
    "#ultimate_df['COUNT'] = ultimate_df[ultimate_df['COUNT'] <= 8]\n",
    "\n",
    "#ultimate_df['COUNT'] = np.log(ultimate_df['COUNT'])\n",
    "\n",
    "# ultimate_df['COUNT'] = quantile_transform(\n",
    "#     ultimate_df['COUNT'].to_frame(), n_quantiles=500, output_distribution=\"normal\", copy=True\n",
    "# ).squeeze()"
   ]
  },
  {
   "cell_type": "code",
   "execution_count": null,
   "metadata": {},
   "outputs": [],
   "source": [
    "ultimate_df['COUNT'].plot(kind = 'hist')"
   ]
  },
  {
   "cell_type": "code",
   "execution_count": 6,
   "metadata": {},
   "outputs": [],
   "source": [
    "# only downtown\n",
    "\n",
    "ultimate_df = ultimate_df[(ultimate_df['LATITUDE'] < 43.6688) & (ultimate_df['LONGITUDE'] > -79.46935) & (ultimate_df['LONGITUDE'] < -79.330700)]"
   ]
  },
  {
   "cell_type": "code",
   "execution_count": 25,
   "metadata": {},
   "outputs": [
    {
     "data": {
      "text/plain": [
       "(921, 20)"
      ]
     },
     "execution_count": 25,
     "metadata": {},
     "output_type": "execute_result"
    }
   ],
   "source": [
    "ultimate_df.shape"
   ]
  },
  {
   "cell_type": "code",
   "execution_count": 5,
   "metadata": {},
   "outputs": [],
   "source": [
    "# not downtown\n",
    "\n",
    "ultimate_df = ultimate_df[~((ultimate_df['LATITUDE'] < 43.6688) & (ultimate_df['LONGITUDE'] > -79.46935) & (ultimate_df['LONGITUDE'] < -79.330700))]"
   ]
  },
  {
   "cell_type": "code",
   "execution_count": 28,
   "metadata": {},
   "outputs": [
    {
     "data": {
      "text/plain": [
       "(3030, 20)"
      ]
     },
     "execution_count": 28,
     "metadata": {},
     "output_type": "execute_result"
    }
   ],
   "source": [
    "ultimate_df.shape"
   ]
  },
  {
   "cell_type": "code",
   "execution_count": 6,
   "metadata": {},
   "outputs": [],
   "source": [
    "ultimate_df['LIGHT'] = ultimate_df['LIGHT'].apply(util.lc)\n",
    "ultimate_df['TRAFFCTL'] = ultimate_df['TRAFFCTL'].apply(util.tc)\n",
    "ultimate_df['DRIVACT'] = ultimate_df['DRIVACT'].apply(util.actc)\n",
    "ultimate_df['DRIVCOND'] = ultimate_df['DRIVCOND'].apply(util.condc)\n",
    "ultimate_df['VEHTYPE'] = ultimate_df['VEHTYPE'].apply(util.vehc)\n",
    "ultimate_df['INVAGE'] = ultimate_df['INVAGE'].apply(util.agec)\n",
    "#ultimate_df['MANOEUVER'] = ultimate_df['MANOEUVER'].apply(util.manc)"
   ]
  },
  {
   "cell_type": "code",
   "execution_count": 7,
   "metadata": {},
   "outputs": [],
   "source": [
    "ultimate_df = ultimate_df.replace('Yes', 1).replace('<Null>', 0).replace('<Null', 0)"
   ]
  },
  {
   "cell_type": "code",
   "execution_count": 8,
   "metadata": {},
   "outputs": [],
   "source": [
    "ultimate_df['TIME'] = round(ultimate_df['TIME']/100,3)"
   ]
  },
  {
   "cell_type": "code",
   "execution_count": 151,
   "metadata": {},
   "outputs": [
    {
     "data": {
      "text/plain": [
       "Index(['LATITUDE', 'LONGITUDE', 'INVAGE', 'RDSFCOND', 'VISIBILITY', 'LIGHT',\n",
       "       'TRAFFCTL', 'DRIVACT', 'DRIVCOND', 'VEHTYPE', 'TIME', 'AvgAcceleration',\n",
       "       'PercentCar', 'PercentHDT', 'PercentLDT', 'PercentMDT', 'PercentMPV',\n",
       "       'PercentOfVehicles', 'PercentOther', 'COUNT'],\n",
       "      dtype='object')"
      ]
     },
     "execution_count": 151,
     "metadata": {},
     "output_type": "execute_result"
    }
   ],
   "source": [
    "ultimate_df.columns"
   ]
  },
  {
   "cell_type": "code",
   "execution_count": 9,
   "metadata": {},
   "outputs": [],
   "source": [
    "#X = ultimate_df[[col for col in ultimate_df.columns if col not in ('COUNT', 'WARDNUM', 'LATITUDE', 'LONGITUDE', 'Latitude', 'Longitude')]]\n",
    "# for smaller complete dataset\n",
    "#X = ultimate_df[['SeverityScore', 'DRIVACT', 'DRIVCOND', 'TRAFFCTL', 'INVAGE', 'AvgAcceleration', 'VEHTYPE', 'VISIBILITY', 'PercentOfVehicles',  'LIGHT']]\n",
    "# for bigger dataset\n",
    "X = ultimate_df[['DRIVACT', 'DRIVCOND','TRAFFCTL', 'INVAGE', 'AvgAcceleration', 'VEHTYPE', 'VISIBILITY', 'PercentOfVehicles']]\n",
    "Y = ultimate_df['COUNT']\n",
    "X = pd.get_dummies(X, drop_first = True)\n",
    "\n",
    "\n",
    "#X = sm.add_constant(X)\n",
    "\n"
   ]
  },
  {
   "cell_type": "code",
   "execution_count": 60,
   "metadata": {},
   "outputs": [],
   "source": [
    "model = sm.OLS(Y, X)\n",
    "results = model.fit()"
   ]
  },
  {
   "cell_type": "code",
   "execution_count": 61,
   "metadata": {},
   "outputs": [
    {
     "data": {
      "text/html": [
       "<table class=\"simpletable\">\n",
       "<caption>OLS Regression Results</caption>\n",
       "<tr>\n",
       "  <th>Dep. Variable:</th>          <td>COUNT</td>      <th>  R-squared:         </th> <td>   0.211</td> \n",
       "</tr>\n",
       "<tr>\n",
       "  <th>Model:</th>                   <td>OLS</td>       <th>  Adj. R-squared:    </th> <td>   0.200</td> \n",
       "</tr>\n",
       "<tr>\n",
       "  <th>Method:</th>             <td>Least Squares</td>  <th>  F-statistic:       </th> <td>   19.03</td> \n",
       "</tr>\n",
       "<tr>\n",
       "  <th>Date:</th>             <td>Thu, 03 Mar 2022</td> <th>  Prob (F-statistic):</th> <td>8.14e-123</td>\n",
       "</tr>\n",
       "<tr>\n",
       "  <th>Time:</th>                 <td>20:43:22</td>     <th>  Log-Likelihood:    </th> <td> -5262.4</td> \n",
       "</tr>\n",
       "<tr>\n",
       "  <th>No. Observations:</th>      <td>  3030</td>      <th>  AIC:               </th> <td>1.061e+04</td>\n",
       "</tr>\n",
       "<tr>\n",
       "  <th>Df Residuals:</th>          <td>  2987</td>      <th>  BIC:               </th> <td>1.087e+04</td>\n",
       "</tr>\n",
       "<tr>\n",
       "  <th>Df Model:</th>              <td>    42</td>      <th>                     </th>     <td> </td>    \n",
       "</tr>\n",
       "<tr>\n",
       "  <th>Covariance Type:</th>      <td>nonrobust</td>    <th>                     </th>     <td> </td>    \n",
       "</tr>\n",
       "</table>\n",
       "<table class=\"simpletable\">\n",
       "<tr>\n",
       "                      <td></td>                         <th>coef</th>     <th>std err</th>      <th>t</th>      <th>P>|t|</th>  <th>[0.025</th>    <th>0.975]</th>  \n",
       "</tr>\n",
       "<tr>\n",
       "  <th>const</th>                                     <td>    2.0971</td> <td>    1.004</td> <td>    2.088</td> <td> 0.037</td> <td>    0.128</td> <td>    4.066</td>\n",
       "</tr>\n",
       "<tr>\n",
       "  <th>AvgAcceleration</th>                           <td>    0.1694</td> <td>    0.151</td> <td>    1.119</td> <td> 0.263</td> <td>   -0.127</td> <td>    0.466</td>\n",
       "</tr>\n",
       "<tr>\n",
       "  <th>PercentOfVehicles</th>                         <td>   -0.0802</td> <td>    0.654</td> <td>   -0.123</td> <td> 0.902</td> <td>   -1.363</td> <td>    1.202</td>\n",
       "</tr>\n",
       "<tr>\n",
       "  <th>DRIVACT_Disobeyed Traffic Control</th>         <td>   -1.3946</td> <td>    0.631</td> <td>   -2.211</td> <td> 0.027</td> <td>   -2.632</td> <td>   -0.158</td>\n",
       "</tr>\n",
       "<tr>\n",
       "  <th>DRIVACT_Failed to Yield Right of Way</th>      <td>   -1.5999</td> <td>    0.627</td> <td>   -2.551</td> <td> 0.011</td> <td>   -2.829</td> <td>   -0.370</td>\n",
       "</tr>\n",
       "<tr>\n",
       "  <th>DRIVACT_Following too Close</th>               <td>   -1.6363</td> <td>    0.630</td> <td>   -2.596</td> <td> 0.009</td> <td>   -2.872</td> <td>   -0.400</td>\n",
       "</tr>\n",
       "<tr>\n",
       "  <th>DRIVACT_Improper Lane Change</th>              <td>   -1.6487</td> <td>    0.647</td> <td>   -2.548</td> <td> 0.011</td> <td>   -2.918</td> <td>   -0.380</td>\n",
       "</tr>\n",
       "<tr>\n",
       "  <th>DRIVACT_Improper Passing</th>                  <td>   -1.5665</td> <td>    0.655</td> <td>   -2.390</td> <td> 0.017</td> <td>   -2.851</td> <td>   -0.281</td>\n",
       "</tr>\n",
       "<tr>\n",
       "  <th>DRIVACT_Improper Turn</th>                     <td>   -1.5279</td> <td>    0.630</td> <td>   -2.425</td> <td> 0.015</td> <td>   -2.763</td> <td>   -0.293</td>\n",
       "</tr>\n",
       "<tr>\n",
       "  <th>DRIVACT_Lost control</th>                      <td>   -1.7648</td> <td>    0.627</td> <td>   -2.814</td> <td> 0.005</td> <td>   -2.995</td> <td>   -0.535</td>\n",
       "</tr>\n",
       "<tr>\n",
       "  <th>DRIVACT_Other</th>                             <td>   -1.6913</td> <td>    0.630</td> <td>   -2.685</td> <td> 0.007</td> <td>   -2.927</td> <td>   -0.456</td>\n",
       "</tr>\n",
       "<tr>\n",
       "  <th>DRIVACT_Speed too Fast For Condition</th>      <td>   -1.7542</td> <td>    0.638</td> <td>   -2.751</td> <td> 0.006</td> <td>   -3.005</td> <td>   -0.504</td>\n",
       "</tr>\n",
       "<tr>\n",
       "  <th>DRIVACT_Speed too Slow</th>                    <td>   -1.7842</td> <td>    1.163</td> <td>   -1.534</td> <td> 0.125</td> <td>   -4.064</td> <td>    0.496</td>\n",
       "</tr>\n",
       "<tr>\n",
       "  <th>DRIVACT_Speeding</th>                          <td>   -1.6179</td> <td>    0.636</td> <td>   -2.545</td> <td> 0.011</td> <td>   -2.865</td> <td>   -0.371</td>\n",
       "</tr>\n",
       "<tr>\n",
       "  <th>DRIVACT_Wrong Way on One Way Road</th>         <td>   -2.4750</td> <td>    0.932</td> <td>   -2.655</td> <td> 0.008</td> <td>   -4.303</td> <td>   -0.647</td>\n",
       "</tr>\n",
       "<tr>\n",
       "  <th>DRIVCOND_Ability Impaired (Drugs/Alcohol)</th> <td>    1.3891</td> <td>    0.638</td> <td>    2.176</td> <td> 0.030</td> <td>    0.137</td> <td>    2.641</td>\n",
       "</tr>\n",
       "<tr>\n",
       "  <th>DRIVCOND_Fatigue</th>                          <td>    1.2574</td> <td>    0.688</td> <td>    1.828</td> <td> 0.068</td> <td>   -0.092</td> <td>    2.606</td>\n",
       "</tr>\n",
       "<tr>\n",
       "  <th>DRIVCOND_Inattentive</th>                      <td>    1.4371</td> <td>    0.642</td> <td>    2.240</td> <td> 0.025</td> <td>    0.179</td> <td>    2.695</td>\n",
       "</tr>\n",
       "<tr>\n",
       "  <th>DRIVCOND_Medical or Physical Disability</th>   <td>    1.7635</td> <td>    0.652</td> <td>    2.703</td> <td> 0.007</td> <td>    0.484</td> <td>    3.043</td>\n",
       "</tr>\n",
       "<tr>\n",
       "  <th>DRIVCOND_Normal</th>                           <td>    1.4328</td> <td>    0.641</td> <td>    2.236</td> <td> 0.025</td> <td>    0.176</td> <td>    2.689</td>\n",
       "</tr>\n",
       "<tr>\n",
       "  <th>DRIVCOND_Other</th>                            <td>    1.5851</td> <td>    0.698</td> <td>    2.272</td> <td> 0.023</td> <td>    0.217</td> <td>    2.953</td>\n",
       "</tr>\n",
       "<tr>\n",
       "  <th>DRIVCOND_Unknown</th>                          <td>    1.5384</td> <td>    0.641</td> <td>    2.400</td> <td> 0.016</td> <td>    0.281</td> <td>    2.795</td>\n",
       "</tr>\n",
       "<tr>\n",
       "  <th>TRAFFCTL_Controller present</th>               <td>    0.4485</td> <td>    0.845</td> <td>    0.531</td> <td> 0.596</td> <td>   -1.208</td> <td>    2.105</td>\n",
       "</tr>\n",
       "<tr>\n",
       "  <th>TRAFFCTL_No Control</th>                       <td>   -0.7837</td> <td>    0.796</td> <td>   -0.985</td> <td> 0.325</td> <td>   -2.344</td> <td>    0.776</td>\n",
       "</tr>\n",
       "<tr>\n",
       "  <th>TRAFFCTL_Pedestrian Crossover</th>             <td>   -0.9871</td> <td>    0.826</td> <td>   -1.194</td> <td> 0.232</td> <td>   -2.608</td> <td>    0.633</td>\n",
       "</tr>\n",
       "<tr>\n",
       "  <th>TRAFFCTL_Stop/Yield Sign</th>                  <td>   -0.8992</td> <td>    0.798</td> <td>   -1.127</td> <td> 0.260</td> <td>   -2.464</td> <td>    0.665</td>\n",
       "</tr>\n",
       "<tr>\n",
       "  <th>TRAFFCTL_Traffic Signal</th>                   <td>    0.5024</td> <td>    0.795</td> <td>    0.632</td> <td> 0.528</td> <td>   -1.057</td> <td>    2.062</td>\n",
       "</tr>\n",
       "<tr>\n",
       "  <th>INVAGE_Children</th>                           <td>    0.8296</td> <td>    0.844</td> <td>    0.982</td> <td> 0.326</td> <td>   -0.826</td> <td>    2.485</td>\n",
       "</tr>\n",
       "<tr>\n",
       "  <th>INVAGE_Senior</th>                             <td>    0.0125</td> <td>    0.079</td> <td>    0.158</td> <td> 0.875</td> <td>   -0.143</td> <td>    0.168</td>\n",
       "</tr>\n",
       "<tr>\n",
       "  <th>INVAGE_Super Senior</th>                       <td>    0.0068</td> <td>    0.084</td> <td>    0.080</td> <td> 0.936</td> <td>   -0.158</td> <td>    0.172</td>\n",
       "</tr>\n",
       "<tr>\n",
       "  <th>INVAGE_Young Adult</th>                        <td>    0.0809</td> <td>    0.073</td> <td>    1.112</td> <td> 0.266</td> <td>   -0.062</td> <td>    0.224</td>\n",
       "</tr>\n",
       "<tr>\n",
       "  <th>VEHTYPE_Medium-size Vehicle</th>               <td>   -0.2670</td> <td>    0.168</td> <td>   -1.590</td> <td> 0.112</td> <td>   -0.596</td> <td>    0.062</td>\n",
       "</tr>\n",
       "<tr>\n",
       "  <th>VEHTYPE_Other</th>                             <td>   -0.2069</td> <td>    0.337</td> <td>   -0.613</td> <td> 0.540</td> <td>   -0.869</td> <td>    0.455</td>\n",
       "</tr>\n",
       "<tr>\n",
       "  <th>VEHTYPE_Small-size Vehicle</th>                <td>   -0.1720</td> <td>    0.127</td> <td>   -1.358</td> <td> 0.175</td> <td>   -0.421</td> <td>    0.076</td>\n",
       "</tr>\n",
       "<tr>\n",
       "  <th>VEHTYPE_Two Wheeler</th>                       <td>   -0.2440</td> <td>    0.164</td> <td>   -1.486</td> <td> 0.137</td> <td>   -0.566</td> <td>    0.078</td>\n",
       "</tr>\n",
       "<tr>\n",
       "  <th>VISIBILITY_Clear</th>                          <td>    0.4900</td> <td>    0.623</td> <td>    0.787</td> <td> 0.432</td> <td>   -0.732</td> <td>    1.712</td>\n",
       "</tr>\n",
       "<tr>\n",
       "  <th>VISIBILITY_Drifting Snow</th>                  <td>   -0.2850</td> <td>    0.956</td> <td>   -0.298</td> <td> 0.766</td> <td>   -2.160</td> <td>    1.590</td>\n",
       "</tr>\n",
       "<tr>\n",
       "  <th>VISIBILITY_Fog, Mist, Smoke, Dust</th>         <td>    0.8766</td> <td>    0.742</td> <td>    1.182</td> <td> 0.237</td> <td>   -0.578</td> <td>    2.331</td>\n",
       "</tr>\n",
       "<tr>\n",
       "  <th>VISIBILITY_Freezing Rain</th>                  <td>    1.0453</td> <td>    0.750</td> <td>    1.393</td> <td> 0.164</td> <td>   -0.426</td> <td>    2.517</td>\n",
       "</tr>\n",
       "<tr>\n",
       "  <th>VISIBILITY_Other</th>                          <td>    0.5889</td> <td>    0.775</td> <td>    0.760</td> <td> 0.448</td> <td>   -0.931</td> <td>    2.109</td>\n",
       "</tr>\n",
       "<tr>\n",
       "  <th>VISIBILITY_Rain</th>                           <td>    0.6135</td> <td>    0.628</td> <td>    0.977</td> <td> 0.329</td> <td>   -0.618</td> <td>    1.845</td>\n",
       "</tr>\n",
       "<tr>\n",
       "  <th>VISIBILITY_Snow</th>                           <td>    0.3572</td> <td>    0.646</td> <td>    0.553</td> <td> 0.580</td> <td>   -0.910</td> <td>    1.624</td>\n",
       "</tr>\n",
       "<tr>\n",
       "  <th>VISIBILITY_Strong wind</th>                    <td>    0.3600</td> <td>    1.542</td> <td>    0.233</td> <td> 0.815</td> <td>   -2.663</td> <td>    3.383</td>\n",
       "</tr>\n",
       "</table>\n",
       "<table class=\"simpletable\">\n",
       "<tr>\n",
       "  <th>Omnibus:</th>       <td>765.631</td> <th>  Durbin-Watson:     </th> <td>   0.783</td>\n",
       "</tr>\n",
       "<tr>\n",
       "  <th>Prob(Omnibus):</th> <td> 0.000</td>  <th>  Jarque-Bera (JB):  </th> <td>1828.664</td>\n",
       "</tr>\n",
       "<tr>\n",
       "  <th>Skew:</th>          <td> 1.392</td>  <th>  Prob(JB):          </th> <td>    0.00</td>\n",
       "</tr>\n",
       "<tr>\n",
       "  <th>Kurtosis:</th>      <td> 5.594</td>  <th>  Cond. No.          </th> <td>    208.</td>\n",
       "</tr>\n",
       "</table><br/><br/>Notes:<br/>[1] Standard Errors assume that the covariance matrix of the errors is correctly specified."
      ],
      "text/plain": [
       "<class 'statsmodels.iolib.summary.Summary'>\n",
       "\"\"\"\n",
       "                            OLS Regression Results                            \n",
       "==============================================================================\n",
       "Dep. Variable:                  COUNT   R-squared:                       0.211\n",
       "Model:                            OLS   Adj. R-squared:                  0.200\n",
       "Method:                 Least Squares   F-statistic:                     19.03\n",
       "Date:                Thu, 03 Mar 2022   Prob (F-statistic):          8.14e-123\n",
       "Time:                        20:43:22   Log-Likelihood:                -5262.4\n",
       "No. Observations:                3030   AIC:                         1.061e+04\n",
       "Df Residuals:                    2987   BIC:                         1.087e+04\n",
       "Df Model:                          42                                         \n",
       "Covariance Type:            nonrobust                                         \n",
       "=============================================================================================================\n",
       "                                                coef    std err          t      P>|t|      [0.025      0.975]\n",
       "-------------------------------------------------------------------------------------------------------------\n",
       "const                                         2.0971      1.004      2.088      0.037       0.128       4.066\n",
       "AvgAcceleration                               0.1694      0.151      1.119      0.263      -0.127       0.466\n",
       "PercentOfVehicles                            -0.0802      0.654     -0.123      0.902      -1.363       1.202\n",
       "DRIVACT_Disobeyed Traffic Control            -1.3946      0.631     -2.211      0.027      -2.632      -0.158\n",
       "DRIVACT_Failed to Yield Right of Way         -1.5999      0.627     -2.551      0.011      -2.829      -0.370\n",
       "DRIVACT_Following too Close                  -1.6363      0.630     -2.596      0.009      -2.872      -0.400\n",
       "DRIVACT_Improper Lane Change                 -1.6487      0.647     -2.548      0.011      -2.918      -0.380\n",
       "DRIVACT_Improper Passing                     -1.5665      0.655     -2.390      0.017      -2.851      -0.281\n",
       "DRIVACT_Improper Turn                        -1.5279      0.630     -2.425      0.015      -2.763      -0.293\n",
       "DRIVACT_Lost control                         -1.7648      0.627     -2.814      0.005      -2.995      -0.535\n",
       "DRIVACT_Other                                -1.6913      0.630     -2.685      0.007      -2.927      -0.456\n",
       "DRIVACT_Speed too Fast For Condition         -1.7542      0.638     -2.751      0.006      -3.005      -0.504\n",
       "DRIVACT_Speed too Slow                       -1.7842      1.163     -1.534      0.125      -4.064       0.496\n",
       "DRIVACT_Speeding                             -1.6179      0.636     -2.545      0.011      -2.865      -0.371\n",
       "DRIVACT_Wrong Way on One Way Road            -2.4750      0.932     -2.655      0.008      -4.303      -0.647\n",
       "DRIVCOND_Ability Impaired (Drugs/Alcohol)     1.3891      0.638      2.176      0.030       0.137       2.641\n",
       "DRIVCOND_Fatigue                              1.2574      0.688      1.828      0.068      -0.092       2.606\n",
       "DRIVCOND_Inattentive                          1.4371      0.642      2.240      0.025       0.179       2.695\n",
       "DRIVCOND_Medical or Physical Disability       1.7635      0.652      2.703      0.007       0.484       3.043\n",
       "DRIVCOND_Normal                               1.4328      0.641      2.236      0.025       0.176       2.689\n",
       "DRIVCOND_Other                                1.5851      0.698      2.272      0.023       0.217       2.953\n",
       "DRIVCOND_Unknown                              1.5384      0.641      2.400      0.016       0.281       2.795\n",
       "TRAFFCTL_Controller present                   0.4485      0.845      0.531      0.596      -1.208       2.105\n",
       "TRAFFCTL_No Control                          -0.7837      0.796     -0.985      0.325      -2.344       0.776\n",
       "TRAFFCTL_Pedestrian Crossover                -0.9871      0.826     -1.194      0.232      -2.608       0.633\n",
       "TRAFFCTL_Stop/Yield Sign                     -0.8992      0.798     -1.127      0.260      -2.464       0.665\n",
       "TRAFFCTL_Traffic Signal                       0.5024      0.795      0.632      0.528      -1.057       2.062\n",
       "INVAGE_Children                               0.8296      0.844      0.982      0.326      -0.826       2.485\n",
       "INVAGE_Senior                                 0.0125      0.079      0.158      0.875      -0.143       0.168\n",
       "INVAGE_Super Senior                           0.0068      0.084      0.080      0.936      -0.158       0.172\n",
       "INVAGE_Young Adult                            0.0809      0.073      1.112      0.266      -0.062       0.224\n",
       "VEHTYPE_Medium-size Vehicle                  -0.2670      0.168     -1.590      0.112      -0.596       0.062\n",
       "VEHTYPE_Other                                -0.2069      0.337     -0.613      0.540      -0.869       0.455\n",
       "VEHTYPE_Small-size Vehicle                   -0.1720      0.127     -1.358      0.175      -0.421       0.076\n",
       "VEHTYPE_Two Wheeler                          -0.2440      0.164     -1.486      0.137      -0.566       0.078\n",
       "VISIBILITY_Clear                              0.4900      0.623      0.787      0.432      -0.732       1.712\n",
       "VISIBILITY_Drifting Snow                     -0.2850      0.956     -0.298      0.766      -2.160       1.590\n",
       "VISIBILITY_Fog, Mist, Smoke, Dust             0.8766      0.742      1.182      0.237      -0.578       2.331\n",
       "VISIBILITY_Freezing Rain                      1.0453      0.750      1.393      0.164      -0.426       2.517\n",
       "VISIBILITY_Other                              0.5889      0.775      0.760      0.448      -0.931       2.109\n",
       "VISIBILITY_Rain                               0.6135      0.628      0.977      0.329      -0.618       1.845\n",
       "VISIBILITY_Snow                               0.3572      0.646      0.553      0.580      -0.910       1.624\n",
       "VISIBILITY_Strong wind                        0.3600      1.542      0.233      0.815      -2.663       3.383\n",
       "==============================================================================\n",
       "Omnibus:                      765.631   Durbin-Watson:                   0.783\n",
       "Prob(Omnibus):                  0.000   Jarque-Bera (JB):             1828.664\n",
       "Skew:                           1.392   Prob(JB):                         0.00\n",
       "Kurtosis:                       5.594   Cond. No.                         208.\n",
       "==============================================================================\n",
       "\n",
       "Notes:\n",
       "[1] Standard Errors assume that the covariance matrix of the errors is correctly specified.\n",
       "\"\"\""
      ]
     },
     "execution_count": 61,
     "metadata": {},
     "output_type": "execute_result"
    }
   ],
   "source": [
    "results.summary()"
   ]
  },
  {
   "cell_type": "code",
   "execution_count": 24,
   "metadata": {},
   "outputs": [
    {
     "data": {
      "text/plain": [
       "<AxesSubplot:xlabel='COUNT'>"
      ]
     },
     "execution_count": 24,
     "metadata": {},
     "output_type": "execute_result"
    },
    {
     "data": {
      "image/png": "[encoded data removed]",
      "text/plain": [
       "<Figure size 432x288 with 1 Axes>"
      ]
     },
     "metadata": {
      "needs_background": "light"
     },
     "output_type": "display_data"
    }
   ],
   "source": [
    "sns.residplot(y = results.predict(X), x = Y)"
   ]
  },
  {
   "cell_type": "code",
   "execution_count": 10,
   "metadata": {},
   "outputs": [
    {
     "ename": "NameError",
     "evalue": "name 'results' is not defined",
     "output_type": "error",
     "traceback": [
      "\u001b[1;31m---------------------------------------------------------------------------\u001b[0m",
      "\u001b[1;31mNameError\u001b[0m                                 Traceback (most recent call last)",
      "\u001b[1;32m<ipython-input-10-43c93ff971fe>\u001b[0m in \u001b[0;36m<module>\u001b[1;34m\u001b[0m\n\u001b[1;32m----> 1\u001b[1;33m \u001b[0mregressionSummary\u001b[0m\u001b[1;33m(\u001b[0m\u001b[0mY\u001b[0m\u001b[1;33m,\u001b[0m \u001b[0mresults\u001b[0m\u001b[1;33m.\u001b[0m\u001b[0mpredict\u001b[0m\u001b[1;33m(\u001b[0m\u001b[0mX\u001b[0m\u001b[1;33m)\u001b[0m\u001b[1;33m)\u001b[0m\u001b[1;33m\u001b[0m\u001b[1;33m\u001b[0m\u001b[0m\n\u001b[0m",
      "\u001b[1;31mNameError\u001b[0m: name 'results' is not defined"
     ]
    }
   ],
   "source": [
    "regressionSummary(Y, results.predict(X))"
   ]
  },
  {
   "cell_type": "code",
   "execution_count": null,
   "metadata": {},
   "outputs": [],
   "source": [
    "#results.params.reset_index().rename(columns = {'index': 'Variables', '0': 'Coefficients'})"
   ]
  },
  {
   "cell_type": "code",
   "execution_count": 15,
   "metadata": {},
   "outputs": [],
   "source": [
    "#X = ultimate_df[[col for col in ultimate_df.columns if col not in ('COUNT', 'WARDNUM', 'LATITUDE', 'LONGITUDE', 'Latitude', 'Longitude',  'PercentCar', 'PercentHDT', 'PercentLDT', 'PercentMDT', 'PercentMPV', 'PercentOther', 'VEHTYPE', 'INVAGE')]]\n",
    "# X = ultimate_df[['SeverityScore', 'DRIVACT', 'DRIVCOND', 'TRAFFCTL', 'INVAGE', 'AvgAcceleration', 'VEHTYPE', 'VISIBILITY', 'PercentOfVehicles',  'LIGHT']]\n",
    "\n",
    "# X = pd.get_dummies(X, drop_first = True)\n",
    "\n",
    "# need to remove the columns with 0s in their names\n",
    "# the columns with 0 in their names are the ones which are structural zeros/not applicables\n",
    "\n",
    "#X = X[[col for col in X.columns if '0' not in col]]"
   ]
  },
  {
   "cell_type": "code",
   "execution_count": 16,
   "metadata": {},
   "outputs": [
    {
     "data": {
      "text/plain": [
       "(706, 44)"
      ]
     },
     "execution_count": 16,
     "metadata": {},
     "output_type": "execute_result"
    }
   ],
   "source": [
    "X.shape"
   ]
  },
  {
   "cell_type": "code",
   "execution_count": 11,
   "metadata": {},
   "outputs": [],
   "source": [
    "Y = ultimate_df['COUNT']\n",
    "\n",
    "train_X, valid_X, train_Y, valid_Y =  train_test_split(X, Y, test_size = 0.2, random_state = 1)"
   ]
  },
  {
   "cell_type": "code",
   "execution_count": 12,
   "metadata": {},
   "outputs": [
    {
     "name": "stdout",
     "output_type": "stream",
     "text": [
      "\n",
      "Regression statistics\n",
      "\n",
      "                      Mean Error (ME) : -0.0300\n",
      "       Root Mean Squared Error (RMSE) : 1.4807\n",
      "            Mean Absolute Error (MAE) : 1.1277\n",
      "          Mean Percentage Error (MPE) : -44.3746\n",
      "Mean Absolute Percentage Error (MAPE) : 68.6258\n"
     ]
    }
   ],
   "source": [
    "# Does the model perform better than the null model?\n",
    "# Our created models must be able to beat this:\n",
    "# I'm comparing valid_Y to the mean of COUNT. \n",
    "\n",
    "regressionSummary(valid_Y, np.repeat(Y.mean(), valid_Y.shape))"
   ]
  },
  {
   "cell_type": "code",
   "execution_count": 13,
   "metadata": {},
   "outputs": [
    {
     "data": {
      "text/plain": [
       "LinearRegression()"
      ]
     },
     "execution_count": 13,
     "metadata": {},
     "output_type": "execute_result"
    }
   ],
   "source": [
    "linear_model = LinearRegression()\n",
    "linear_model.fit(train_X, train_Y)"
   ]
  },
  {
   "cell_type": "code",
   "execution_count": 14,
   "metadata": {},
   "outputs": [
    {
     "name": "stdout",
     "output_type": "stream",
     "text": [
      "\n",
      "Regression statistics\n",
      "\n",
      "                      Mean Error (ME) : -0.0000\n",
      "       Root Mean Squared Error (RMSE) : 1.3859\n",
      "            Mean Absolute Error (MAE) : 1.0127\n",
      "          Mean Percentage Error (MPE) : -33.3989\n",
      "Mean Absolute Percentage Error (MAPE) : 57.4912\n",
      "None\n",
      "\n",
      "Regression statistics\n",
      "\n",
      "                      Mean Error (ME) : -0.0325\n",
      "       Root Mean Squared Error (RMSE) : 1.3395\n",
      "            Mean Absolute Error (MAE) : 0.9889\n",
      "          Mean Percentage Error (MPE) : -33.3973\n",
      "Mean Absolute Percentage Error (MAPE) : 57.4172\n"
     ]
    }
   ],
   "source": [
    "print(regressionSummary(train_Y, linear_model.predict(train_X)))\n",
    "regressionSummary(valid_Y, linear_model.predict(valid_X))"
   ]
  },
  {
   "cell_type": "code",
   "execution_count": 15,
   "metadata": {},
   "outputs": [
    {
     "name": "stderr",
     "output_type": "stream",
     "text": [
      "Estimating transforms: 100%|██████████| 1000/1000 [00:03<00:00, 323.34it/s]\n"
     ]
    },
    {
     "data": {
      "image/png": "[encoded data removed]",
      "text/plain": [
       "<Figure size 576x684 with 2 Axes>"
      ]
     },
     "metadata": {
      "needs_background": "light"
     },
     "output_type": "display_data"
    }
   ],
   "source": [
    "explainer = shap.Explainer(linear_model, masker=shap.maskers.Impute(data= X),\n",
    "                           feature_names= X.columns, algorithm=\"linear\")\n",
    "shap_values = explainer.shap_values(X)\n",
    "shap.summary_plot(shap_values, X, plot_type = 'violin')"
   ]
  },
  {
   "cell_type": "code",
   "execution_count": 22,
   "metadata": {},
   "outputs": [
    {
     "data": {
      "text/html": [
       "<div>\n",
       "<style scoped>\n",
       "    .dataframe tbody tr th:only-of-type {\n",
       "        vertical-align: middle;\n",
       "    }\n",
       "\n",
       "    .dataframe tbody tr th {\n",
       "        vertical-align: top;\n",
       "    }\n",
       "\n",
       "    .dataframe thead th {\n",
       "        text-align: right;\n",
       "    }\n",
       "</style>\n",
       "<table border=\"1\" class=\"dataframe\">\n",
       "  <thead>\n",
       "    <tr style=\"text-align: right;\">\n",
       "      <th></th>\n",
       "      <th>Actual</th>\n",
       "      <th>Predicted</th>\n",
       "    </tr>\n",
       "  </thead>\n",
       "  <tbody>\n",
       "    <tr>\n",
       "      <th>605</th>\n",
       "      <td>1</td>\n",
       "      <td>2.919491</td>\n",
       "    </tr>\n",
       "    <tr>\n",
       "      <th>425</th>\n",
       "      <td>2</td>\n",
       "      <td>3.627372</td>\n",
       "    </tr>\n",
       "    <tr>\n",
       "      <th>334</th>\n",
       "      <td>1</td>\n",
       "      <td>2.210006</td>\n",
       "    </tr>\n",
       "    <tr>\n",
       "      <th>457</th>\n",
       "      <td>4</td>\n",
       "      <td>3.600056</td>\n",
       "    </tr>\n",
       "    <tr>\n",
       "      <th>187</th>\n",
       "      <td>1</td>\n",
       "      <td>1.024437</td>\n",
       "    </tr>\n",
       "    <tr>\n",
       "      <th>...</th>\n",
       "      <td>...</td>\n",
       "      <td>...</td>\n",
       "    </tr>\n",
       "    <tr>\n",
       "      <th>119</th>\n",
       "      <td>4</td>\n",
       "      <td>3.859712</td>\n",
       "    </tr>\n",
       "    <tr>\n",
       "      <th>82</th>\n",
       "      <td>6</td>\n",
       "      <td>3.828721</td>\n",
       "    </tr>\n",
       "    <tr>\n",
       "      <th>615</th>\n",
       "      <td>4</td>\n",
       "      <td>2.878520</td>\n",
       "    </tr>\n",
       "    <tr>\n",
       "      <th>311</th>\n",
       "      <td>3</td>\n",
       "      <td>1.302319</td>\n",
       "    </tr>\n",
       "    <tr>\n",
       "      <th>277</th>\n",
       "      <td>4</td>\n",
       "      <td>1.750408</td>\n",
       "    </tr>\n",
       "  </tbody>\n",
       "</table>\n",
       "<p>142 rows × 2 columns</p>\n",
       "</div>"
      ],
      "text/plain": [
       "     Actual  Predicted\n",
       "605       1   2.919491\n",
       "425       2   3.627372\n",
       "334       1   2.210006\n",
       "457       4   3.600056\n",
       "187       1   1.024437\n",
       "..      ...        ...\n",
       "119       4   3.859712\n",
       "82        6   3.828721\n",
       "615       4   2.878520\n",
       "311       3   1.302319\n",
       "277       4   1.750408\n",
       "\n",
       "[142 rows x 2 columns]"
      ]
     },
     "execution_count": 22,
     "metadata": {},
     "output_type": "execute_result"
    }
   ],
   "source": [
    "pd.DataFrame({'Actual': valid_Y, 'Predicted': linear_model.predict(valid_X)})"
   ]
  },
  {
   "cell_type": "code",
   "execution_count": 68,
   "metadata": {},
   "outputs": [
    {
     "data": {
      "text/plain": [
       "<AxesSubplot:xlabel='COUNT'>"
      ]
     },
     "execution_count": 68,
     "metadata": {},
     "output_type": "execute_result"
    },
    {
     "data": {
      "image/png": "[encoded data removed]",
      "text/plain": [
       "<Figure size 432x288 with 1 Axes>"
      ]
     },
     "metadata": {
      "needs_background": "light"
     },
     "output_type": "display_data"
    }
   ],
   "source": [
    "sns.residplot(y = linear_model.predict(valid_X), x = valid_Y)"
   ]
  },
  {
   "cell_type": "code",
   "execution_count": 69,
   "metadata": {},
   "outputs": [
    {
     "data": {
      "text/html": [
       "<div>\n",
       "<style scoped>\n",
       "    .dataframe tbody tr th:only-of-type {\n",
       "        vertical-align: middle;\n",
       "    }\n",
       "\n",
       "    .dataframe tbody tr th {\n",
       "        vertical-align: top;\n",
       "    }\n",
       "\n",
       "    .dataframe thead th {\n",
       "        text-align: right;\n",
       "    }\n",
       "</style>\n",
       "<table border=\"1\" class=\"dataframe\">\n",
       "  <thead>\n",
       "    <tr style=\"text-align: right;\">\n",
       "      <th></th>\n",
       "      <th>Feature</th>\n",
       "      <th>coefficients</th>\n",
       "    </tr>\n",
       "  </thead>\n",
       "  <tbody>\n",
       "    <tr>\n",
       "      <th>17</th>\n",
       "      <td>DRIVCOND_Medical or Physical Disability</td>\n",
       "      <td>1.971175</td>\n",
       "    </tr>\n",
       "    <tr>\n",
       "      <th>19</th>\n",
       "      <td>DRIVCOND_Other</td>\n",
       "      <td>1.787897</td>\n",
       "    </tr>\n",
       "    <tr>\n",
       "      <th>20</th>\n",
       "      <td>DRIVCOND_Unknown</td>\n",
       "      <td>1.712872</td>\n",
       "    </tr>\n",
       "    <tr>\n",
       "      <th>14</th>\n",
       "      <td>DRIVCOND_Ability Impaired (Drugs/Alcohol)</td>\n",
       "      <td>1.526826</td>\n",
       "    </tr>\n",
       "    <tr>\n",
       "      <th>16</th>\n",
       "      <td>DRIVCOND_Inattentive</td>\n",
       "      <td>1.512426</td>\n",
       "    </tr>\n",
       "    <tr>\n",
       "      <th>18</th>\n",
       "      <td>DRIVCOND_Normal</td>\n",
       "      <td>1.477186</td>\n",
       "    </tr>\n",
       "    <tr>\n",
       "      <th>15</th>\n",
       "      <td>DRIVCOND_Fatigue</td>\n",
       "      <td>1.311871</td>\n",
       "    </tr>\n",
       "    <tr>\n",
       "      <th>21</th>\n",
       "      <td>TRAFFCTL_Controller present</td>\n",
       "      <td>0.775210</td>\n",
       "    </tr>\n",
       "    <tr>\n",
       "      <th>37</th>\n",
       "      <td>VISIBILITY_Freezing Rain</td>\n",
       "      <td>0.753105</td>\n",
       "    </tr>\n",
       "    <tr>\n",
       "      <th>25</th>\n",
       "      <td>TRAFFCTL_Traffic Signal</td>\n",
       "      <td>0.685132</td>\n",
       "    </tr>\n",
       "    <tr>\n",
       "      <th>1</th>\n",
       "      <td>PercentOfVehicles</td>\n",
       "      <td>0.455959</td>\n",
       "    </tr>\n",
       "    <tr>\n",
       "      <th>36</th>\n",
       "      <td>VISIBILITY_Fog, Mist, Smoke, Dust</td>\n",
       "      <td>0.446020</td>\n",
       "    </tr>\n",
       "    <tr>\n",
       "      <th>38</th>\n",
       "      <td>VISIBILITY_Other</td>\n",
       "      <td>0.318635</td>\n",
       "    </tr>\n",
       "    <tr>\n",
       "      <th>39</th>\n",
       "      <td>VISIBILITY_Rain</td>\n",
       "      <td>0.131263</td>\n",
       "    </tr>\n",
       "    <tr>\n",
       "      <th>29</th>\n",
       "      <td>INVAGE_Young Adult</td>\n",
       "      <td>0.106588</td>\n",
       "    </tr>\n",
       "    <tr>\n",
       "      <th>0</th>\n",
       "      <td>AvgAcceleration</td>\n",
       "      <td>0.105572</td>\n",
       "    </tr>\n",
       "    <tr>\n",
       "      <th>34</th>\n",
       "      <td>VISIBILITY_Clear</td>\n",
       "      <td>0.041747</td>\n",
       "    </tr>\n",
       "    <tr>\n",
       "      <th>41</th>\n",
       "      <td>VISIBILITY_Strong wind</td>\n",
       "      <td>0.034635</td>\n",
       "    </tr>\n",
       "    <tr>\n",
       "      <th>27</th>\n",
       "      <td>INVAGE_Senior</td>\n",
       "      <td>-0.001756</td>\n",
       "    </tr>\n",
       "    <tr>\n",
       "      <th>28</th>\n",
       "      <td>INVAGE_Super Senior</td>\n",
       "      <td>-0.030592</td>\n",
       "    </tr>\n",
       "    <tr>\n",
       "      <th>32</th>\n",
       "      <td>VEHTYPE_Small-size Vehicle</td>\n",
       "      <td>-0.085345</td>\n",
       "    </tr>\n",
       "    <tr>\n",
       "      <th>33</th>\n",
       "      <td>VEHTYPE_Two Wheeler</td>\n",
       "      <td>-0.115910</td>\n",
       "    </tr>\n",
       "    <tr>\n",
       "      <th>26</th>\n",
       "      <td>INVAGE_Children</td>\n",
       "      <td>-0.181547</td>\n",
       "    </tr>\n",
       "    <tr>\n",
       "      <th>30</th>\n",
       "      <td>VEHTYPE_Medium-size Vehicle</td>\n",
       "      <td>-0.191589</td>\n",
       "    </tr>\n",
       "    <tr>\n",
       "      <th>40</th>\n",
       "      <td>VISIBILITY_Snow</td>\n",
       "      <td>-0.218918</td>\n",
       "    </tr>\n",
       "    <tr>\n",
       "      <th>35</th>\n",
       "      <td>VISIBILITY_Drifting Snow</td>\n",
       "      <td>-0.253578</td>\n",
       "    </tr>\n",
       "    <tr>\n",
       "      <th>31</th>\n",
       "      <td>VEHTYPE_Other</td>\n",
       "      <td>-0.331662</td>\n",
       "    </tr>\n",
       "    <tr>\n",
       "      <th>22</th>\n",
       "      <td>TRAFFCTL_No Control</td>\n",
       "      <td>-0.616026</td>\n",
       "    </tr>\n",
       "    <tr>\n",
       "      <th>24</th>\n",
       "      <td>TRAFFCTL_Stop/Yield Sign</td>\n",
       "      <td>-0.733003</td>\n",
       "    </tr>\n",
       "    <tr>\n",
       "      <th>23</th>\n",
       "      <td>TRAFFCTL_Pedestrian Crossover</td>\n",
       "      <td>-0.921708</td>\n",
       "    </tr>\n",
       "    <tr>\n",
       "      <th>2</th>\n",
       "      <td>DRIVACT_Disobeyed Traffic Control</td>\n",
       "      <td>-1.464174</td>\n",
       "    </tr>\n",
       "    <tr>\n",
       "      <th>7</th>\n",
       "      <td>DRIVACT_Improper Turn</td>\n",
       "      <td>-1.620826</td>\n",
       "    </tr>\n",
       "    <tr>\n",
       "      <th>3</th>\n",
       "      <td>DRIVACT_Failed to Yield Right of Way</td>\n",
       "      <td>-1.632563</td>\n",
       "    </tr>\n",
       "    <tr>\n",
       "      <th>4</th>\n",
       "      <td>DRIVACT_Following too Close</td>\n",
       "      <td>-1.681384</td>\n",
       "    </tr>\n",
       "    <tr>\n",
       "      <th>12</th>\n",
       "      <td>DRIVACT_Speeding</td>\n",
       "      <td>-1.708304</td>\n",
       "    </tr>\n",
       "    <tr>\n",
       "      <th>5</th>\n",
       "      <td>DRIVACT_Improper Lane Change</td>\n",
       "      <td>-1.708866</td>\n",
       "    </tr>\n",
       "    <tr>\n",
       "      <th>9</th>\n",
       "      <td>DRIVACT_Other</td>\n",
       "      <td>-1.717725</td>\n",
       "    </tr>\n",
       "    <tr>\n",
       "      <th>6</th>\n",
       "      <td>DRIVACT_Improper Passing</td>\n",
       "      <td>-1.722020</td>\n",
       "    </tr>\n",
       "    <tr>\n",
       "      <th>10</th>\n",
       "      <td>DRIVACT_Speed too Fast For Condition</td>\n",
       "      <td>-1.814369</td>\n",
       "    </tr>\n",
       "    <tr>\n",
       "      <th>11</th>\n",
       "      <td>DRIVACT_Speed too Slow</td>\n",
       "      <td>-1.847235</td>\n",
       "    </tr>\n",
       "    <tr>\n",
       "      <th>8</th>\n",
       "      <td>DRIVACT_Lost control</td>\n",
       "      <td>-1.884228</td>\n",
       "    </tr>\n",
       "    <tr>\n",
       "      <th>13</th>\n",
       "      <td>DRIVACT_Wrong Way on One Way Road</td>\n",
       "      <td>-2.731323</td>\n",
       "    </tr>\n",
       "  </tbody>\n",
       "</table>\n",
       "</div>"
      ],
      "text/plain": [
       "                                      Feature  coefficients\n",
       "17    DRIVCOND_Medical or Physical Disability      1.971175\n",
       "19                             DRIVCOND_Other      1.787897\n",
       "20                           DRIVCOND_Unknown      1.712872\n",
       "14  DRIVCOND_Ability Impaired (Drugs/Alcohol)      1.526826\n",
       "16                       DRIVCOND_Inattentive      1.512426\n",
       "18                            DRIVCOND_Normal      1.477186\n",
       "15                           DRIVCOND_Fatigue      1.311871\n",
       "21                TRAFFCTL_Controller present      0.775210\n",
       "37                   VISIBILITY_Freezing Rain      0.753105\n",
       "25                    TRAFFCTL_Traffic Signal      0.685132\n",
       "1                           PercentOfVehicles      0.455959\n",
       "36          VISIBILITY_Fog, Mist, Smoke, Dust      0.446020\n",
       "38                           VISIBILITY_Other      0.318635\n",
       "39                            VISIBILITY_Rain      0.131263\n",
       "29                         INVAGE_Young Adult      0.106588\n",
       "0                             AvgAcceleration      0.105572\n",
       "34                           VISIBILITY_Clear      0.041747\n",
       "41                     VISIBILITY_Strong wind      0.034635\n",
       "27                              INVAGE_Senior     -0.001756\n",
       "28                        INVAGE_Super Senior     -0.030592\n",
       "32                 VEHTYPE_Small-size Vehicle     -0.085345\n",
       "33                        VEHTYPE_Two Wheeler     -0.115910\n",
       "26                            INVAGE_Children     -0.181547\n",
       "30                VEHTYPE_Medium-size Vehicle     -0.191589\n",
       "40                            VISIBILITY_Snow     -0.218918\n",
       "35                   VISIBILITY_Drifting Snow     -0.253578\n",
       "31                              VEHTYPE_Other     -0.331662\n",
       "22                        TRAFFCTL_No Control     -0.616026\n",
       "24                   TRAFFCTL_Stop/Yield Sign     -0.733003\n",
       "23              TRAFFCTL_Pedestrian Crossover     -0.921708\n",
       "2           DRIVACT_Disobeyed Traffic Control     -1.464174\n",
       "7                       DRIVACT_Improper Turn     -1.620826\n",
       "3        DRIVACT_Failed to Yield Right of Way     -1.632563\n",
       "4                 DRIVACT_Following too Close     -1.681384\n",
       "12                           DRIVACT_Speeding     -1.708304\n",
       "5                DRIVACT_Improper Lane Change     -1.708866\n",
       "9                               DRIVACT_Other     -1.717725\n",
       "6                    DRIVACT_Improper Passing     -1.722020\n",
       "10       DRIVACT_Speed too Fast For Condition     -1.814369\n",
       "11                     DRIVACT_Speed too Slow     -1.847235\n",
       "8                        DRIVACT_Lost control     -1.884228\n",
       "13          DRIVACT_Wrong Way on One Way Road     -2.731323"
      ]
     },
     "execution_count": 69,
     "metadata": {},
     "output_type": "execute_result"
    }
   ],
   "source": [
    "pd.DataFrame({'Feature': train_X.columns, 'coefficients': linear_model.coef_}).sort_values(by = 'coefficients', ascending = False)"
   ]
  },
  {
   "cell_type": "code",
   "execution_count": 70,
   "metadata": {},
   "outputs": [
    {
     "data": {
      "image/png": "[encoded data removed]",
      "text/plain": [
       "<Figure size 648x288 with 2 Axes>"
      ]
     },
     "metadata": {
      "needs_background": "light"
     },
     "output_type": "display_data"
    }
   ],
   "source": [
    "pred_error_train = pd.DataFrame({ \n",
    " 'residual': train_Y - linear_model.predict(train_X), \n",
    " 'data set': 'training' \n",
    "}) \n",
    "pred_error_test = pd.DataFrame({ \n",
    " 'residual': valid_Y - linear_model.predict(valid_X), \n",
    " 'data set': 'test' \n",
    "}) \n",
    "\n",
    "#boxdata_df = pred_error_train.append(pred_error_test, ignore_index=True) \n",
    "fig, axes = plt.subplots(nrows=1, ncols=2) \n",
    "fig.set_size_inches(9, 4) \n",
    "common = {'bins': 100, 'range': [-pred_error_test['residual'].max(), pred_error_test['residual'].max()]} \n",
    "pred_error_train.hist(ax=axes[0], **common) \n",
    "pred_error_test.hist(ax=axes[1], **common) \n",
    "#boxdata_df.boxplot(ax=axes[2], by = 'data set') \n",
    "axes[0].set_title('training') \n",
    "axes[1].set_title('test') \n",
    "#fig.text(0.5, 0.05, 'Skew: ' + str(pred_error_train.skew()), ha = 'center')\n",
    "#axes[2].set_title(' ') \n",
    "#axes[2].set_ylim(-50, 50) \n",
    "plt.suptitle('Prediction errors') \n",
    "plt.subplots_adjust(bottom=0.1, top=0.85, wspace=0.35) \n",
    "#plt.show() "
   ]
  },
  {
   "cell_type": "code",
   "execution_count": 71,
   "metadata": {},
   "outputs": [
    {
     "data": {
      "text/plain": [
       "residual    1.385782\n",
       "dtype: float64"
      ]
     },
     "execution_count": 71,
     "metadata": {},
     "output_type": "execute_result"
    }
   ],
   "source": [
    "pred_error_train.skew()"
   ]
  },
  {
   "cell_type": "code",
   "execution_count": 72,
   "metadata": {},
   "outputs": [
    {
     "data": {
      "text/plain": [
       "residual    1.328044\n",
       "dtype: float64"
      ]
     },
     "execution_count": 72,
     "metadata": {},
     "output_type": "execute_result"
    }
   ],
   "source": [
    "pred_error_test.skew()"
   ]
  },
  {
   "cell_type": "code",
   "execution_count": 38,
   "metadata": {},
   "outputs": [
    {
     "data": {
      "text/plain": [
       "0.11091770962826886"
      ]
     },
     "execution_count": 38,
     "metadata": {},
     "output_type": "execute_result"
    }
   ],
   "source": [
    "r2_score(valid_Y, linear_model.predict(valid_X))"
   ]
  },
  {
   "cell_type": "code",
   "execution_count": 16,
   "metadata": {},
   "outputs": [],
   "source": [
    "# these functions assume the existence of a train_Y \n",
    "def train_model(variables): \n",
    "    if len(variables) == 0: \n",
    "        return None \n",
    "    model = LinearRegression() \n",
    "    model.fit(train_X[variables], train_Y) \n",
    "    return model \n",
    "    \n",
    "def score_model(model, variables): \n",
    "    if len(variables) == 0: \n",
    "        return AIC_score(train_Y, [train_Y.mean()] * len(train_Y), model, df=1) \n",
    "    return AIC_score(train_Y, model.predict(train_X[variables]), model) "
   ]
  },
  {
   "cell_type": "code",
   "execution_count": 17,
   "metadata": {},
   "outputs": [
    {
     "name": "stdout",
     "output_type": "stream",
     "text": [
      "Variables: AvgAcceleration, PercentOfVehicles, DRIVACT_Disobeyed Traffic Control, DRIVACT_Failed to Yield Right of Way, DRIVACT_Following too Close, DRIVACT_Improper Lane Change, DRIVACT_Improper Passing, DRIVACT_Improper Turn, DRIVACT_Lost control, DRIVACT_Other, DRIVACT_Speed too Fast For Condition, DRIVACT_Speed too Slow, DRIVACT_Speeding, DRIVACT_Wrong Way on One Way Road, DRIVCOND_Ability Impaired (Drugs/Alcohol), DRIVCOND_Fatigue, DRIVCOND_Inattentive, DRIVCOND_Medical or Physical Disability, DRIVCOND_Normal, DRIVCOND_Other, DRIVCOND_Unknown, TRAFFCTL_Controller present, TRAFFCTL_No Control, TRAFFCTL_Pedestrian Crossover, TRAFFCTL_Stop/Yield Sign, TRAFFCTL_Traffic Signal, INVAGE_Children, INVAGE_Senior, INVAGE_Super Senior, INVAGE_Young Adult, VEHTYPE_Medium-size Vehicle, VEHTYPE_Other, VEHTYPE_Small-size Vehicle, VEHTYPE_Two Wheeler, VISIBILITY_Clear, VISIBILITY_Drifting Snow, VISIBILITY_Fog, Mist, Smoke, Dust, VISIBILITY_Freezing Rain, VISIBILITY_Other, VISIBILITY_Rain, VISIBILITY_Snow, VISIBILITY_Strong wind\n",
      "Start: score=9048.71, constant\n",
      "Step: score=8533.88, add TRAFFCTL_Traffic Signal\n",
      "Step: score=8515.04, add TRAFFCTL_Controller present\n",
      "Step: score=8512.44, add DRIVCOND_Unknown\n",
      "Step: score=8509.08, add DRIVCOND_Medical or Physical Disability\n",
      "Step: score=8504.12, add DRIVACT_Lost control\n",
      "Step: score=8503.41, add DRIVACT_Disobeyed Traffic Control\n",
      "Step: score=8502.68, add VISIBILITY_Snow\n",
      "Step: score=8502.27, add VISIBILITY_Other\n",
      "Step: score=8502.26, add VISIBILITY_Freezing Rain\n",
      "Step: score=8502.26, add None\n"
     ]
    }
   ],
   "source": [
    "forwards_model, best_variables_forward = forward_selection(train_X.columns, train_model, score_model, verbose = True)"
   ]
  },
  {
   "cell_type": "code",
   "execution_count": 18,
   "metadata": {},
   "outputs": [
    {
     "name": "stdout",
     "output_type": "stream",
     "text": [
      "\n",
      "Regression statistics\n",
      "\n",
      "                      Mean Error (ME) : -0.0000\n",
      "       Root Mean Squared Error (RMSE) : 1.3914\n",
      "            Mean Absolute Error (MAE) : 1.0200\n",
      "          Mean Percentage Error (MPE) : -33.6916\n",
      "Mean Absolute Percentage Error (MAPE) : 57.8530\n",
      "None\n",
      "\n",
      "Regression statistics\n",
      "\n",
      "                      Mean Error (ME) : -0.0455\n",
      "       Root Mean Squared Error (RMSE) : 1.3406\n",
      "            Mean Absolute Error (MAE) : 0.9895\n",
      "          Mean Percentage Error (MPE) : -34.6224\n",
      "Mean Absolute Percentage Error (MAPE) : 57.6319\n"
     ]
    }
   ],
   "source": [
    "print(regressionSummary(train_Y, forwards_model.predict(train_X[best_variables_forward])))\n",
    "regressionSummary(valid_Y, forwards_model.predict(valid_X[best_variables_forward]))"
   ]
  },
  {
   "cell_type": "code",
   "execution_count": 19,
   "metadata": {},
   "outputs": [
    {
     "data": {
      "image/png": "[encoded data removed]",
      "text/plain": [
       "<Figure size 576x367.2 with 2 Axes>"
      ]
     },
     "metadata": {
      "needs_background": "light"
     },
     "output_type": "display_data"
    }
   ],
   "source": [
    "masker = shap.maskers.Independent(data= X[best_variables_forward])\n",
    "explainer = shap.Explainer(forwards_model, masker= masker,\n",
    "                           feature_names= valid_X[best_variables_forward].columns, algorithm=\"linear\")\n",
    "shap_values = explainer.shap_values(valid_X[best_variables_forward])\n",
    "shap.summary_plot(shap_values, valid_X[best_variables_forward], plot_type = 'violin')"
   ]
  },
  {
   "cell_type": "code",
   "execution_count": 19,
   "metadata": {},
   "outputs": [
    {
     "data": {
      "text/html": [
       "<div>\n",
       "<style scoped>\n",
       "    .dataframe tbody tr th:only-of-type {\n",
       "        vertical-align: middle;\n",
       "    }\n",
       "\n",
       "    .dataframe tbody tr th {\n",
       "        vertical-align: top;\n",
       "    }\n",
       "\n",
       "    .dataframe thead th {\n",
       "        text-align: right;\n",
       "    }\n",
       "</style>\n",
       "<table border=\"1\" class=\"dataframe\">\n",
       "  <thead>\n",
       "    <tr style=\"text-align: right;\">\n",
       "      <th></th>\n",
       "      <th>Feature</th>\n",
       "      <th>coefficients</th>\n",
       "    </tr>\n",
       "  </thead>\n",
       "  <tbody>\n",
       "    <tr>\n",
       "      <th>1</th>\n",
       "      <td>TRAFFCTL_Controller present</td>\n",
       "      <td>1.442174</td>\n",
       "    </tr>\n",
       "    <tr>\n",
       "      <th>0</th>\n",
       "      <td>TRAFFCTL_Traffic Signal</td>\n",
       "      <td>1.354114</td>\n",
       "    </tr>\n",
       "    <tr>\n",
       "      <th>8</th>\n",
       "      <td>VISIBILITY_Freezing Rain</td>\n",
       "      <td>0.699923</td>\n",
       "    </tr>\n",
       "    <tr>\n",
       "      <th>7</th>\n",
       "      <td>VISIBILITY_Other</td>\n",
       "      <td>0.654248</td>\n",
       "    </tr>\n",
       "    <tr>\n",
       "      <th>3</th>\n",
       "      <td>DRIVCOND_Medical or Physical Disability</td>\n",
       "      <td>0.425919</td>\n",
       "    </tr>\n",
       "    <tr>\n",
       "      <th>2</th>\n",
       "      <td>DRIVCOND_Unknown</td>\n",
       "      <td>0.190974</td>\n",
       "    </tr>\n",
       "    <tr>\n",
       "      <th>5</th>\n",
       "      <td>DRIVACT_Disobeyed Traffic Control</td>\n",
       "      <td>0.173310</td>\n",
       "    </tr>\n",
       "    <tr>\n",
       "      <th>4</th>\n",
       "      <td>DRIVACT_Lost control</td>\n",
       "      <td>-0.183744</td>\n",
       "    </tr>\n",
       "    <tr>\n",
       "      <th>6</th>\n",
       "      <td>VISIBILITY_Snow</td>\n",
       "      <td>-0.304348</td>\n",
       "    </tr>\n",
       "  </tbody>\n",
       "</table>\n",
       "</div>"
      ],
      "text/plain": [
       "                                   Feature  coefficients\n",
       "1              TRAFFCTL_Controller present      1.442174\n",
       "0                  TRAFFCTL_Traffic Signal      1.354114\n",
       "8                 VISIBILITY_Freezing Rain      0.699923\n",
       "7                         VISIBILITY_Other      0.654248\n",
       "3  DRIVCOND_Medical or Physical Disability      0.425919\n",
       "2                         DRIVCOND_Unknown      0.190974\n",
       "5        DRIVACT_Disobeyed Traffic Control      0.173310\n",
       "4                     DRIVACT_Lost control     -0.183744\n",
       "6                          VISIBILITY_Snow     -0.304348"
      ]
     },
     "execution_count": 19,
     "metadata": {},
     "output_type": "execute_result"
    }
   ],
   "source": [
    "pd.DataFrame({'Feature': best_variables_forward, 'coefficients': forwards_model.coef_}).sort_values(by = 'coefficients', ascending = False)"
   ]
  },
  {
   "cell_type": "code",
   "execution_count": 20,
   "metadata": {},
   "outputs": [
    {
     "data": {
      "image/png": "[encoded data removed]",
      "text/plain": [
       "<Figure size 648x288 with 2 Axes>"
      ]
     },
     "metadata": {
      "needs_background": "light"
     },
     "output_type": "display_data"
    }
   ],
   "source": [
    "pred_error_train = pd.DataFrame({ \n",
    " 'residual': train_Y - forwards_model.predict(train_X[best_variables_forward]), \n",
    " 'data set': 'training' \n",
    "}) \n",
    "pred_error_test = pd.DataFrame({ \n",
    " 'residual': valid_Y - forwards_model.predict(valid_X[best_variables_forward]), \n",
    " 'data set': 'test' \n",
    "}) \n",
    "\n",
    "#boxdata_df = pred_error_train.append(pred_error_test, ignore_index=True) \n",
    "fig, axes = plt.subplots(nrows=1, ncols=2) \n",
    "fig.set_size_inches(9, 4) \n",
    "common = {'bins': 100, 'range': [-pred_error_test['residual'].max(), pred_error_test['residual'].max()]} \n",
    "pred_error_train.hist(ax=axes[0], **common) \n",
    "pred_error_test.hist(ax=axes[1], **common) \n",
    "#boxdata_df.boxplot(ax=axes[2], by = 'data set') \n",
    "axes[0].set_title('training') \n",
    "axes[1].set_title('test') \n",
    "#axes[2].set_title(' ') \n",
    "#axes[2].set_ylim(-50, 50) \n",
    "plt.suptitle('Prediction errors') \n",
    "plt.subplots_adjust(bottom=0.1, top=0.85, wspace=0.35) \n",
    "#plt.show() "
   ]
  },
  {
   "cell_type": "code",
   "execution_count": 21,
   "metadata": {},
   "outputs": [
    {
     "data": {
      "text/plain": [
       "residual    1.389508\n",
       "dtype: float64"
      ]
     },
     "execution_count": 21,
     "metadata": {},
     "output_type": "execute_result"
    }
   ],
   "source": [
    "pred_error_train.skew()"
   ]
  },
  {
   "cell_type": "code",
   "execution_count": 22,
   "metadata": {},
   "outputs": [
    {
     "data": {
      "text/plain": [
       "residual    1.338226\n",
       "dtype: float64"
      ]
     },
     "execution_count": 22,
     "metadata": {},
     "output_type": "execute_result"
    }
   ],
   "source": [
    "pred_error_test.skew()"
   ]
  },
  {
   "cell_type": "code",
   "execution_count": 24,
   "metadata": {},
   "outputs": [
    {
     "data": {
      "text/plain": [
       "<AxesSubplot:xlabel='COUNT'>"
      ]
     },
     "execution_count": 24,
     "metadata": {},
     "output_type": "execute_result"
    },
    {
     "data": {
      "image/png": "[encoded data removed]",
      "text/plain": [
       "<Figure size 432x288 with 1 Axes>"
      ]
     },
     "metadata": {
      "needs_background": "light"
     },
     "output_type": "display_data"
    }
   ],
   "source": [
    "sns.residplot(y = forwards_model.predict(valid_X[best_variables_forward]), x = valid_Y)"
   ]
  },
  {
   "cell_type": "code",
   "execution_count": 21,
   "metadata": {},
   "outputs": [],
   "source": [
    "backwards_model, best_variables_backward = backward_elimination(train_X.columns, train_model, score_model, verbose = False)"
   ]
  },
  {
   "cell_type": "code",
   "execution_count": 22,
   "metadata": {},
   "outputs": [
    {
     "name": "stdout",
     "output_type": "stream",
     "text": [
      "\n",
      "Regression statistics\n",
      "\n",
      "                      Mean Error (ME) : -0.0000\n",
      "       Root Mean Squared Error (RMSE) : 1.3874\n",
      "            Mean Absolute Error (MAE) : 1.0144\n",
      "          Mean Percentage Error (MPE) : -33.4452\n",
      "Mean Absolute Percentage Error (MAPE) : 57.5403\n",
      "None\n",
      "\n",
      "Regression statistics\n",
      "\n",
      "                      Mean Error (ME) : -0.0352\n",
      "       Root Mean Squared Error (RMSE) : 1.3397\n",
      "            Mean Absolute Error (MAE) : 0.9889\n",
      "          Mean Percentage Error (MPE) : -33.6665\n",
      "Mean Absolute Percentage Error (MAPE) : 57.5381\n"
     ]
    }
   ],
   "source": [
    "print(regressionSummary(train_Y, backwards_model.predict(train_X[best_variables_backward])))\n",
    "regressionSummary(valid_Y, backwards_model.predict(valid_X[best_variables_backward]))"
   ]
  },
  {
   "cell_type": "code",
   "execution_count": 25,
   "metadata": {},
   "outputs": [
    {
     "data": {
      "text/html": [
       "<div>\n",
       "<style scoped>\n",
       "    .dataframe tbody tr th:only-of-type {\n",
       "        vertical-align: middle;\n",
       "    }\n",
       "\n",
       "    .dataframe tbody tr th {\n",
       "        vertical-align: top;\n",
       "    }\n",
       "\n",
       "    .dataframe thead th {\n",
       "        text-align: right;\n",
       "    }\n",
       "</style>\n",
       "<table border=\"1\" class=\"dataframe\">\n",
       "  <thead>\n",
       "    <tr style=\"text-align: right;\">\n",
       "      <th></th>\n",
       "      <th>Feature</th>\n",
       "      <th>coefficients</th>\n",
       "    </tr>\n",
       "  </thead>\n",
       "  <tbody>\n",
       "    <tr>\n",
       "      <th>15</th>\n",
       "      <td>DRIVCOND_Medical or Physical Disability</td>\n",
       "      <td>2.015323</td>\n",
       "    </tr>\n",
       "    <tr>\n",
       "      <th>17</th>\n",
       "      <td>DRIVCOND_Other</td>\n",
       "      <td>1.842972</td>\n",
       "    </tr>\n",
       "    <tr>\n",
       "      <th>18</th>\n",
       "      <td>DRIVCOND_Unknown</td>\n",
       "      <td>1.761366</td>\n",
       "    </tr>\n",
       "    <tr>\n",
       "      <th>12</th>\n",
       "      <td>DRIVCOND_Ability Impaired (Drugs/Alcohol)</td>\n",
       "      <td>1.586314</td>\n",
       "    </tr>\n",
       "    <tr>\n",
       "      <th>14</th>\n",
       "      <td>DRIVCOND_Inattentive</td>\n",
       "      <td>1.561216</td>\n",
       "    </tr>\n",
       "    <tr>\n",
       "      <th>16</th>\n",
       "      <td>DRIVCOND_Normal</td>\n",
       "      <td>1.526615</td>\n",
       "    </tr>\n",
       "    <tr>\n",
       "      <th>13</th>\n",
       "      <td>DRIVCOND_Fatigue</td>\n",
       "      <td>1.389964</td>\n",
       "    </tr>\n",
       "    <tr>\n",
       "      <th>23</th>\n",
       "      <td>VISIBILITY_Freezing Rain</td>\n",
       "      <td>0.718152</td>\n",
       "    </tr>\n",
       "    <tr>\n",
       "      <th>22</th>\n",
       "      <td>INVAGE_Young Adult</td>\n",
       "      <td>0.116414</td>\n",
       "    </tr>\n",
       "    <tr>\n",
       "      <th>24</th>\n",
       "      <td>VISIBILITY_Snow</td>\n",
       "      <td>-0.274221</td>\n",
       "    </tr>\n",
       "    <tr>\n",
       "      <th>19</th>\n",
       "      <td>TRAFFCTL_No Control</td>\n",
       "      <td>-1.302532</td>\n",
       "    </tr>\n",
       "    <tr>\n",
       "      <th>21</th>\n",
       "      <td>TRAFFCTL_Stop/Yield Sign</td>\n",
       "      <td>-1.424448</td>\n",
       "    </tr>\n",
       "    <tr>\n",
       "      <th>0</th>\n",
       "      <td>DRIVACT_Disobeyed Traffic Control</td>\n",
       "      <td>-1.468992</td>\n",
       "    </tr>\n",
       "    <tr>\n",
       "      <th>20</th>\n",
       "      <td>TRAFFCTL_Pedestrian Crossover</td>\n",
       "      <td>-1.594272</td>\n",
       "    </tr>\n",
       "    <tr>\n",
       "      <th>5</th>\n",
       "      <td>DRIVACT_Improper Turn</td>\n",
       "      <td>-1.622809</td>\n",
       "    </tr>\n",
       "    <tr>\n",
       "      <th>1</th>\n",
       "      <td>DRIVACT_Failed to Yield Right of Way</td>\n",
       "      <td>-1.632495</td>\n",
       "    </tr>\n",
       "    <tr>\n",
       "      <th>2</th>\n",
       "      <td>DRIVACT_Following too Close</td>\n",
       "      <td>-1.685664</td>\n",
       "    </tr>\n",
       "    <tr>\n",
       "      <th>3</th>\n",
       "      <td>DRIVACT_Improper Lane Change</td>\n",
       "      <td>-1.711151</td>\n",
       "    </tr>\n",
       "    <tr>\n",
       "      <th>10</th>\n",
       "      <td>DRIVACT_Speeding</td>\n",
       "      <td>-1.718385</td>\n",
       "    </tr>\n",
       "    <tr>\n",
       "      <th>7</th>\n",
       "      <td>DRIVACT_Other</td>\n",
       "      <td>-1.720082</td>\n",
       "    </tr>\n",
       "    <tr>\n",
       "      <th>4</th>\n",
       "      <td>DRIVACT_Improper Passing</td>\n",
       "      <td>-1.742989</td>\n",
       "    </tr>\n",
       "    <tr>\n",
       "      <th>8</th>\n",
       "      <td>DRIVACT_Speed too Fast For Condition</td>\n",
       "      <td>-1.801444</td>\n",
       "    </tr>\n",
       "    <tr>\n",
       "      <th>9</th>\n",
       "      <td>DRIVACT_Speed too Slow</td>\n",
       "      <td>-1.860492</td>\n",
       "    </tr>\n",
       "    <tr>\n",
       "      <th>6</th>\n",
       "      <td>DRIVACT_Lost control</td>\n",
       "      <td>-1.893731</td>\n",
       "    </tr>\n",
       "    <tr>\n",
       "      <th>11</th>\n",
       "      <td>DRIVACT_Wrong Way on One Way Road</td>\n",
       "      <td>-2.765656</td>\n",
       "    </tr>\n",
       "  </tbody>\n",
       "</table>\n",
       "</div>"
      ],
      "text/plain": [
       "                                      Feature  coefficients\n",
       "15    DRIVCOND_Medical or Physical Disability      2.015323\n",
       "17                             DRIVCOND_Other      1.842972\n",
       "18                           DRIVCOND_Unknown      1.761366\n",
       "12  DRIVCOND_Ability Impaired (Drugs/Alcohol)      1.586314\n",
       "14                       DRIVCOND_Inattentive      1.561216\n",
       "16                            DRIVCOND_Normal      1.526615\n",
       "13                           DRIVCOND_Fatigue      1.389964\n",
       "23                   VISIBILITY_Freezing Rain      0.718152\n",
       "22                         INVAGE_Young Adult      0.116414\n",
       "24                            VISIBILITY_Snow     -0.274221\n",
       "19                        TRAFFCTL_No Control     -1.302532\n",
       "21                   TRAFFCTL_Stop/Yield Sign     -1.424448\n",
       "0           DRIVACT_Disobeyed Traffic Control     -1.468992\n",
       "20              TRAFFCTL_Pedestrian Crossover     -1.594272\n",
       "5                       DRIVACT_Improper Turn     -1.622809\n",
       "1        DRIVACT_Failed to Yield Right of Way     -1.632495\n",
       "2                 DRIVACT_Following too Close     -1.685664\n",
       "3                DRIVACT_Improper Lane Change     -1.711151\n",
       "10                           DRIVACT_Speeding     -1.718385\n",
       "7                               DRIVACT_Other     -1.720082\n",
       "4                    DRIVACT_Improper Passing     -1.742989\n",
       "8        DRIVACT_Speed too Fast For Condition     -1.801444\n",
       "9                      DRIVACT_Speed too Slow     -1.860492\n",
       "6                        DRIVACT_Lost control     -1.893731\n",
       "11          DRIVACT_Wrong Way on One Way Road     -2.765656"
      ]
     },
     "execution_count": 25,
     "metadata": {},
     "output_type": "execute_result"
    }
   ],
   "source": [
    "pd.DataFrame({'Feature': best_variables_backward, 'coefficients': backwards_model.coef_}).sort_values(by = 'coefficients', ascending = False)"
   ]
  },
  {
   "cell_type": "code",
   "execution_count": 26,
   "metadata": {},
   "outputs": [
    {
     "data": {
      "image/png": "[encoded data removed]",
      "text/plain": [
       "<Figure size 648x288 with 2 Axes>"
      ]
     },
     "metadata": {
      "needs_background": "light"
     },
     "output_type": "display_data"
    }
   ],
   "source": [
    "pred_error_train = pd.DataFrame({ \n",
    " 'residual': train_Y - backwards_model.predict(train_X[best_variables_backward]), \n",
    " 'data set': 'training' \n",
    "}) \n",
    "pred_error_test = pd.DataFrame({ \n",
    " 'residual': valid_Y - backwards_model.predict(valid_X[best_variables_backward]), \n",
    " 'data set': 'test' \n",
    "}) \n",
    "\n",
    "#boxdata_df = pred_error_train.append(pred_error_test, ignore_index=True) \n",
    "fig, axes = plt.subplots(nrows=1, ncols=2) \n",
    "fig.set_size_inches(9, 4) \n",
    "common = {'bins': 100, 'range': [-pred_error_test['residual'].max(), pred_error_test['residual'].max()]} \n",
    "pred_error_train.hist(ax=axes[0], **common) \n",
    "pred_error_test.hist(ax=axes[1], **common) \n",
    "#boxdata_df.boxplot(ax=axes[2], by = 'data set') \n",
    "axes[0].set_title('training') \n",
    "axes[1].set_title('test') \n",
    "#axes[2].set_title(' ') \n",
    "#axes[2].set_ylim(-50, 50) \n",
    "plt.suptitle('Prediction errors') \n",
    "plt.subplots_adjust(bottom=0.1, top=0.85, wspace=0.35) \n",
    "#plt.show() "
   ]
  },
  {
   "cell_type": "code",
   "execution_count": 30,
   "metadata": {},
   "outputs": [
    {
     "data": {
      "text/plain": [
       "residual    2.033159\n",
       "dtype: float64"
      ]
     },
     "execution_count": 30,
     "metadata": {},
     "output_type": "execute_result"
    }
   ],
   "source": [
    "pred_error_train.skew()"
   ]
  },
  {
   "cell_type": "code",
   "execution_count": 31,
   "metadata": {},
   "outputs": [
    {
     "data": {
      "text/plain": [
       "residual    1.302312\n",
       "dtype: float64"
      ]
     },
     "execution_count": 31,
     "metadata": {},
     "output_type": "execute_result"
    }
   ],
   "source": [
    "pred_error_test.skew()"
   ]
  },
  {
   "cell_type": "code",
   "execution_count": 32,
   "metadata": {},
   "outputs": [
    {
     "data": {
      "text/plain": [
       "<AxesSubplot:xlabel='COUNT'>"
      ]
     },
     "execution_count": 32,
     "metadata": {},
     "output_type": "execute_result"
    },
    {
     "data": {
      "image/png": "[encoded data removed]",
      "text/plain": [
       "<Figure size 432x288 with 1 Axes>"
      ]
     },
     "metadata": {
      "needs_background": "light"
     },
     "output_type": "display_data"
    }
   ],
   "source": [
    "sns.residplot(y = backwards_model.predict(valid_X[best_variables_backward]), x = valid_Y)"
   ]
  },
  {
   "cell_type": "code",
   "execution_count": 23,
   "metadata": {},
   "outputs": [
    {
     "data": {
      "image/png": "[encoded data removed]",
      "text/plain": [
       "<Figure size 576x684 with 2 Axes>"
      ]
     },
     "metadata": {
      "needs_background": "light"
     },
     "output_type": "display_data"
    }
   ],
   "source": [
    "masker = shap.maskers.Independent(data= X[best_variables_backward])\n",
    "explainer = shap.Explainer(backwards_model, masker= masker,\n",
    "                           feature_names= valid_X[best_variables_backward].columns, algorithm=\"linear\")\n",
    "shap_values = explainer.shap_values(valid_X[best_variables_backward])\n",
    "shap.summary_plot(shap_values, valid_X[best_variables_backward])"
   ]
  },
  {
   "cell_type": "code",
   "execution_count": 127,
   "metadata": {},
   "outputs": [],
   "source": [
    "ultimate_df = pd.read_csv('Data/Created Datasets/ALL_merge_truncate3.csv', index_col = 0)\n",
    "X = ultimate_df[[col for col in ultimate_df.columns if col not in ('COUNT', 'WARDNUM', 'LATITUDE', 'LONGITUDE', 'Latitude', 'Longitude')]]\n",
    "# for smaller complete dataset\n",
    "#X = ultimate_df[['SeverityScore', 'DRIVACT', 'DRIVCOND', 'TRAFFCTL', 'INVAGE', 'AvgAcceleration', 'VEHTYPE', 'VISIBILITY', 'PercentOfVehicles',  'LIGHT']]\n",
    "# for bigger dataset\n",
    "X = pd.get_dummies(X, drop_first = True)\n",
    "\n",
    "#X = sm.add_constant(X)\n",
    "\n",
    "Y = ultimate_df['COUNT']\n",
    "\n",
    "train_X, valid_X, train_Y, valid_Y =  train_test_split(X, Y, test_size = 0.2, random_state = 1)"
   ]
  },
  {
   "cell_type": "code",
   "execution_count": 128,
   "metadata": {},
   "outputs": [
    {
     "data": {
      "text/plain": [
       "RidgeCV(alphas=array([ 0.1,  1. , 10. ]))"
      ]
     },
     "execution_count": 128,
     "metadata": {},
     "output_type": "execute_result"
    }
   ],
   "source": [
    "ridge_model = RidgeCV()\n",
    "ridge_model.fit(train_X, train_Y)"
   ]
  },
  {
   "cell_type": "code",
   "execution_count": 129,
   "metadata": {},
   "outputs": [
    {
     "name": "stdout",
     "output_type": "stream",
     "text": [
      "\n",
      "Regression statistics\n",
      "\n",
      "                      Mean Error (ME) : 0.0000\n",
      "       Root Mean Squared Error (RMSE) : 1.7527\n",
      "            Mean Absolute Error (MAE) : 1.3597\n",
      "          Mean Percentage Error (MPE) : -43.0487\n",
      "Mean Absolute Percentage Error (MAPE) : 68.1889\n",
      "None\n",
      "\n",
      "Regression statistics\n",
      "\n",
      "                      Mean Error (ME) : 0.0408\n",
      "       Root Mean Squared Error (RMSE) : 2.1193\n",
      "            Mean Absolute Error (MAE) : 1.6427\n",
      "          Mean Percentage Error (MPE) : -50.1937\n",
      "Mean Absolute Percentage Error (MAPE) : 80.2193\n"
     ]
    }
   ],
   "source": [
    "print(regressionSummary(train_Y, ridge_model.predict(train_X)))\n",
    "regressionSummary(valid_Y, ridge_model.predict(valid_X))"
   ]
  },
  {
   "cell_type": "code",
   "execution_count": 130,
   "metadata": {},
   "outputs": [
    {
     "data": {
      "text/plain": [
       "<AxesSubplot:xlabel='COUNT'>"
      ]
     },
     "execution_count": 130,
     "metadata": {},
     "output_type": "execute_result"
    },
    {
     "data": {
      "image/png": "[encoded data removed]",
      "text/plain": [
       "<Figure size 432x288 with 1 Axes>"
      ]
     },
     "metadata": {
      "needs_background": "light"
     },
     "output_type": "display_data"
    }
   ],
   "source": [
    "sns.residplot(y = ridge_model.predict(valid_X), x = valid_Y)"
   ]
  },
  {
   "cell_type": "code",
   "execution_count": 131,
   "metadata": {},
   "outputs": [
    {
     "data": {
      "image/png": "[encoded data removed]",
      "text/plain": [
       "<Figure size 648x288 with 2 Axes>"
      ]
     },
     "metadata": {
      "needs_background": "light"
     },
     "output_type": "display_data"
    }
   ],
   "source": [
    "pred_error_train = pd.DataFrame({ \n",
    " 'residual': train_Y - ridge_model.predict(train_X), \n",
    " 'data set': 'training' \n",
    "}) \n",
    "pred_error_test = pd.DataFrame({ \n",
    " 'residual': valid_Y - ridge_model.predict(valid_X), \n",
    " 'data set': 'test' \n",
    "}) \n",
    "\n",
    "#boxdata_df = pred_error_train.append(pred_error_test, ignore_index=True) \n",
    "fig, axes = plt.subplots(nrows=1, ncols=2) \n",
    "fig.set_size_inches(9, 4) \n",
    "common = {'bins': 100, 'range': [-pred_error_test['residual'].max(), pred_error_test['residual'].max()]} \n",
    "pred_error_train.hist(ax=axes[0], **common) \n",
    "pred_error_test.hist(ax=axes[1], **common) \n",
    "#boxdata_df.boxplot(ax=axes[2], by = 'data set') \n",
    "axes[0].set_title('training') \n",
    "axes[1].set_title('test') \n",
    "#axes[2].set_title(' ') \n",
    "#axes[2].set_ylim(-50, 50) \n",
    "plt.suptitle('Prediction errors') \n",
    "plt.subplots_adjust(bottom=0.1, top=0.85, wspace=0.35) \n",
    "#plt.show() "
   ]
  },
  {
   "cell_type": "code",
   "execution_count": 132,
   "metadata": {},
   "outputs": [
    {
     "data": {
      "text/plain": [
       "residual    1.04578\n",
       "dtype: float64"
      ]
     },
     "execution_count": 132,
     "metadata": {},
     "output_type": "execute_result"
    }
   ],
   "source": [
    "pred_error_train.skew()"
   ]
  },
  {
   "cell_type": "code",
   "execution_count": 133,
   "metadata": {},
   "outputs": [
    {
     "data": {
      "text/plain": [
       "residual    0.499259\n",
       "dtype: float64"
      ]
     },
     "execution_count": 133,
     "metadata": {},
     "output_type": "execute_result"
    }
   ],
   "source": [
    "pred_error_test.skew()"
   ]
  },
  {
   "cell_type": "code",
   "execution_count": 135,
   "metadata": {},
   "outputs": [
    {
     "data": {
      "text/html": [
       "<div>\n",
       "<style scoped>\n",
       "    .dataframe tbody tr th:only-of-type {\n",
       "        vertical-align: middle;\n",
       "    }\n",
       "\n",
       "    .dataframe tbody tr th {\n",
       "        vertical-align: top;\n",
       "    }\n",
       "\n",
       "    .dataframe thead th {\n",
       "        text-align: right;\n",
       "    }\n",
       "</style>\n",
       "<table border=\"1\" class=\"dataframe\">\n",
       "  <thead>\n",
       "    <tr style=\"text-align: right;\">\n",
       "      <th></th>\n",
       "      <th>Feature</th>\n",
       "      <th>coefficients</th>\n",
       "    </tr>\n",
       "  </thead>\n",
       "  <tbody>\n",
       "    <tr>\n",
       "      <th>45</th>\n",
       "      <td>TRAFFCTL_Traffic Signal</td>\n",
       "      <td>0.928779</td>\n",
       "    </tr>\n",
       "    <tr>\n",
       "      <th>60</th>\n",
       "      <td>DRIVCOND_Ability Impaired, Drugs</td>\n",
       "      <td>0.731386</td>\n",
       "    </tr>\n",
       "    <tr>\n",
       "      <th>73</th>\n",
       "      <td>VEHTYPE_Municipal Transit Bus (TTC)</td>\n",
       "      <td>0.652432</td>\n",
       "    </tr>\n",
       "    <tr>\n",
       "      <th>47</th>\n",
       "      <td>DRIVACT_Disobeyed Traffic Control</td>\n",
       "      <td>0.638186</td>\n",
       "    </tr>\n",
       "    <tr>\n",
       "      <th>39</th>\n",
       "      <td>LIGHT_Dusk</td>\n",
       "      <td>0.522550</td>\n",
       "    </tr>\n",
       "    <tr>\n",
       "      <th>...</th>\n",
       "      <td>...</td>\n",
       "      <td>...</td>\n",
       "    </tr>\n",
       "    <tr>\n",
       "      <th>68</th>\n",
       "      <td>VEHTYPE_Automobile, Station Wagon</td>\n",
       "      <td>-0.353282</td>\n",
       "    </tr>\n",
       "    <tr>\n",
       "      <th>72</th>\n",
       "      <td>VEHTYPE_Motorcycle</td>\n",
       "      <td>-0.440388</td>\n",
       "    </tr>\n",
       "    <tr>\n",
       "      <th>56</th>\n",
       "      <td>DRIVACT_Speed too Fast For Condition</td>\n",
       "      <td>-0.477026</td>\n",
       "    </tr>\n",
       "    <tr>\n",
       "      <th>18</th>\n",
       "      <td>INVAGE_80 to 84</td>\n",
       "      <td>-0.555840</td>\n",
       "    </tr>\n",
       "    <tr>\n",
       "      <th>61</th>\n",
       "      <td>DRIVCOND_Fatigue</td>\n",
       "      <td>-0.638095</td>\n",
       "    </tr>\n",
       "  </tbody>\n",
       "</table>\n",
       "<p>85 rows × 2 columns</p>\n",
       "</div>"
      ],
      "text/plain": [
       "                                 Feature  coefficients\n",
       "45               TRAFFCTL_Traffic Signal      0.928779\n",
       "60      DRIVCOND_Ability Impaired, Drugs      0.731386\n",
       "73   VEHTYPE_Municipal Transit Bus (TTC)      0.652432\n",
       "47     DRIVACT_Disobeyed Traffic Control      0.638186\n",
       "39                            LIGHT_Dusk      0.522550\n",
       "..                                   ...           ...\n",
       "68     VEHTYPE_Automobile, Station Wagon     -0.353282\n",
       "72                    VEHTYPE_Motorcycle     -0.440388\n",
       "56  DRIVACT_Speed too Fast For Condition     -0.477026\n",
       "18                       INVAGE_80 to 84     -0.555840\n",
       "61                      DRIVCOND_Fatigue     -0.638095\n",
       "\n",
       "[85 rows x 2 columns]"
      ]
     },
     "execution_count": 135,
     "metadata": {},
     "output_type": "execute_result"
    }
   ],
   "source": [
    "pd.DataFrame({'Feature': X.columns, 'coefficients': ridge_model.coef_}).sort_values(by = 'coefficients', ascending = False)"
   ]
  },
  {
   "cell_type": "code",
   "execution_count": 142,
   "metadata": {},
   "outputs": [
    {
     "data": {
      "image/png": "[encoded data removed]",
      "text/plain": [
       "<Figure size 576x684 with 2 Axes>"
      ]
     },
     "metadata": {
      "needs_background": "light"
     },
     "output_type": "display_data"
    }
   ],
   "source": [
    "masker = shap.maskers.Independent(data= valid_X)\n",
    "explainer = shap.Explainer(ridge_model, masker= masker,\n",
    "                           feature_names= valid_X.columns, algorithm=\"auto\")\n",
    "shap_values = explainer.shap_values(valid_X)\n",
    "shap.summary_plot(shap_values, valid_X)"
   ]
  }
 ],
 "metadata": {
  "interpreter": {
   "hash": "a00b87f3dafb8c5b0afdf77add0e2432ad578e1240a81446720c0c7d6c46e214"
  },
  "kernelspec": {
   "display_name": "Python 3.9.10 64-bit (windows store)",
   "language": "python",
   "name": "python3"
  },
  "language_info": {
   "codemirror_mode": {
    "name": "ipython",
    "version": 3
   },
   "file_extension": ".py",
   "mimetype": "text/x-python",
   "name": "python",
   "nbconvert_exporter": "python",
   "pygments_lexer": "ipython3",
   "version": "3.9.10"
  },
  "orig_nbformat": 4
 },
 "nbformat": 4,
 "nbformat_minor": 2
}
