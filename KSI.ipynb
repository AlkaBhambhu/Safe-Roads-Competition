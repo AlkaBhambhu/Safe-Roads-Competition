{
 "cells": [
  {
   "cell_type": "code",
   "execution_count": 1,
   "metadata": {},
   "outputs": [],
   "source": [
    "import pandas as pd\n",
    "import seaborn as sns\n",
    "import numpy as np\n",
    "import matplotlib.pyplot as plt\n",
    "import util"
   ]
  },
  {
   "cell_type": "code",
   "execution_count": 2,
   "metadata": {},
   "outputs": [],
   "source": [
    "pd.set_option('max_columns', None)"
   ]
  },
  {
   "cell_type": "code",
   "execution_count": 3,
   "metadata": {},
   "outputs": [],
   "source": [
    "df = pd.read_csv('Data/KSI.csv')"
   ]
  },
  {
   "cell_type": "code",
   "execution_count": 3,
   "metadata": {},
   "outputs": [
    {
     "data": {
      "text/plain": [
       "(16860, 57)"
      ]
     },
     "execution_count": 3,
     "metadata": {},
     "output_type": "execute_result"
    }
   ],
   "source": [
    "df.shape"
   ]
  },
  {
   "cell_type": "code",
   "execution_count": 4,
   "metadata": {},
   "outputs": [],
   "source": [
    "# converting column to datetype\n",
    "\n",
    "df['DATE'] = pd.to_datetime(df['DATE'])"
   ]
  },
  {
   "cell_type": "code",
   "execution_count": 5,
   "metadata": {},
   "outputs": [],
   "source": [
    "# extracting month name\n",
    "\n",
    "df['Month'] = df['DATE'].dt.month_name()\n",
    "df['YEAR'] = df['DATE'].dt.year\n",
    "df['DAY'] = df['DATE'].dt.day_name()"
   ]
  },
  {
   "cell_type": "code",
   "execution_count": 6,
   "metadata": {},
   "outputs": [
    {
     "data": {
      "text/html": [
       "<div>\n",
       "<style scoped>\n",
       "    .dataframe tbody tr th:only-of-type {\n",
       "        vertical-align: middle;\n",
       "    }\n",
       "\n",
       "    .dataframe tbody tr th {\n",
       "        vertical-align: top;\n",
       "    }\n",
       "\n",
       "    .dataframe thead th {\n",
       "        text-align: right;\n",
       "    }\n",
       "</style>\n",
       "<table border=\"1\" class=\"dataframe\">\n",
       "  <thead>\n",
       "    <tr style=\"text-align: right;\">\n",
       "      <th></th>\n",
       "      <th>X</th>\n",
       "      <th>Y</th>\n",
       "      <th>INDEX_</th>\n",
       "      <th>ACCNUM</th>\n",
       "      <th>YEAR</th>\n",
       "      <th>DATE</th>\n",
       "      <th>TIME</th>\n",
       "      <th>HOUR</th>\n",
       "      <th>STREET1</th>\n",
       "      <th>STREET2</th>\n",
       "      <th>OFFSET</th>\n",
       "      <th>ROAD_CLASS</th>\n",
       "      <th>DISTRICT</th>\n",
       "      <th>WARDNUM</th>\n",
       "      <th>DIVISION</th>\n",
       "      <th>LATITUDE</th>\n",
       "      <th>LONGITUDE</th>\n",
       "      <th>LOCCOORD</th>\n",
       "      <th>ACCLOC</th>\n",
       "      <th>TRAFFCTL</th>\n",
       "      <th>VISIBILITY</th>\n",
       "      <th>LIGHT</th>\n",
       "      <th>RDSFCOND</th>\n",
       "      <th>ACCLASS</th>\n",
       "      <th>IMPACTYPE</th>\n",
       "      <th>INVTYPE</th>\n",
       "      <th>INVAGE</th>\n",
       "      <th>INJURY</th>\n",
       "      <th>FATAL_NO</th>\n",
       "      <th>INITDIR</th>\n",
       "      <th>VEHTYPE</th>\n",
       "      <th>MANOEUVER</th>\n",
       "      <th>DRIVACT</th>\n",
       "      <th>DRIVCOND</th>\n",
       "      <th>PEDTYPE</th>\n",
       "      <th>PEDACT</th>\n",
       "      <th>PEDCOND</th>\n",
       "      <th>CYCLISTYPE</th>\n",
       "      <th>CYCACT</th>\n",
       "      <th>CYCCOND</th>\n",
       "      <th>PEDESTRIAN</th>\n",
       "      <th>CYCLIST</th>\n",
       "      <th>AUTOMOBILE</th>\n",
       "      <th>MOTORCYCLE</th>\n",
       "      <th>TRUCK</th>\n",
       "      <th>TRSN_CITY_VEH</th>\n",
       "      <th>EMERG_VEH</th>\n",
       "      <th>PASSENGER</th>\n",
       "      <th>SPEEDING</th>\n",
       "      <th>AG_DRIV</th>\n",
       "      <th>REDLIGHT</th>\n",
       "      <th>ALCOHOL</th>\n",
       "      <th>DISABILITY</th>\n",
       "      <th>POLICE_DIVISION</th>\n",
       "      <th>HOOD_ID</th>\n",
       "      <th>NEIGHBOURHOOD</th>\n",
       "      <th>ObjectId</th>\n",
       "    </tr>\n",
       "  </thead>\n",
       "  <tbody>\n",
       "    <tr>\n",
       "      <th>0</th>\n",
       "      <td>-8.844611e+06</td>\n",
       "      <td>5.412414e+06</td>\n",
       "      <td>3387730</td>\n",
       "      <td>892658</td>\n",
       "      <td>2006</td>\n",
       "      <td>2006/03/11 05:00:00+00</td>\n",
       "      <td>852</td>\n",
       "      <td>8</td>\n",
       "      <td>BLOOR ST W</td>\n",
       "      <td>DUNDAS ST W</td>\n",
       "      <td>&lt;Null&gt;</td>\n",
       "      <td>Major Arterial</td>\n",
       "      <td>Toronto and East York</td>\n",
       "      <td>4</td>\n",
       "      <td>11</td>\n",
       "      <td>43.656345</td>\n",
       "      <td>-79.45249</td>\n",
       "      <td>Intersection</td>\n",
       "      <td>At Intersection</td>\n",
       "      <td>Traffic Signal</td>\n",
       "      <td>Clear</td>\n",
       "      <td>Daylight</td>\n",
       "      <td>Dry</td>\n",
       "      <td>Fatal</td>\n",
       "      <td>Pedestrian Collisions</td>\n",
       "      <td>Driver</td>\n",
       "      <td>unknown</td>\n",
       "      <td>None</td>\n",
       "      <td>&lt;Null&gt;</td>\n",
       "      <td>South</td>\n",
       "      <td>Automobile, Station Wagon</td>\n",
       "      <td>Turning Left</td>\n",
       "      <td>Failed to Yield Right of Way</td>\n",
       "      <td>Unknown</td>\n",
       "      <td>&lt;Null&gt;</td>\n",
       "      <td>&lt;Null&gt;</td>\n",
       "      <td>&lt;Null&gt;</td>\n",
       "      <td>&lt;Null&gt;</td>\n",
       "      <td>&lt;Null&gt;</td>\n",
       "      <td>&lt;Null&gt;</td>\n",
       "      <td>Yes</td>\n",
       "      <td>&lt;Null&gt;</td>\n",
       "      <td>Yes</td>\n",
       "      <td>&lt;Null&gt;</td>\n",
       "      <td>&lt;Null&gt;</td>\n",
       "      <td>&lt;Null&gt;</td>\n",
       "      <td>&lt;Null&gt;</td>\n",
       "      <td>&lt;Null&gt;</td>\n",
       "      <td>&lt;Null&gt;</td>\n",
       "      <td>Yes</td>\n",
       "      <td>&lt;Null&gt;</td>\n",
       "      <td>&lt;Null&gt;</td>\n",
       "      <td>&lt;Null&gt;</td>\n",
       "      <td>D11</td>\n",
       "      <td>88</td>\n",
       "      <td>High Park North (88)</td>\n",
       "      <td>1</td>\n",
       "    </tr>\n",
       "    <tr>\n",
       "      <th>1</th>\n",
       "      <td>-8.844611e+06</td>\n",
       "      <td>5.412414e+06</td>\n",
       "      <td>3387731</td>\n",
       "      <td>892658</td>\n",
       "      <td>2006</td>\n",
       "      <td>2006/03/11 05:00:00+00</td>\n",
       "      <td>852</td>\n",
       "      <td>8</td>\n",
       "      <td>BLOOR ST W</td>\n",
       "      <td>DUNDAS ST W</td>\n",
       "      <td>&lt;Null&gt;</td>\n",
       "      <td>Major Arterial</td>\n",
       "      <td>Toronto and East York</td>\n",
       "      <td>4</td>\n",
       "      <td>11</td>\n",
       "      <td>43.656345</td>\n",
       "      <td>-79.45249</td>\n",
       "      <td>Intersection</td>\n",
       "      <td>At Intersection</td>\n",
       "      <td>Traffic Signal</td>\n",
       "      <td>Clear</td>\n",
       "      <td>Daylight</td>\n",
       "      <td>Dry</td>\n",
       "      <td>Fatal</td>\n",
       "      <td>Pedestrian Collisions</td>\n",
       "      <td>Pedestrian</td>\n",
       "      <td>65 to 69</td>\n",
       "      <td>Fatal</td>\n",
       "      <td>&lt;Null&gt;</td>\n",
       "      <td>North</td>\n",
       "      <td>Other</td>\n",
       "      <td>&lt;Null&gt;</td>\n",
       "      <td>&lt;Null&gt;</td>\n",
       "      <td>&lt;Null&gt;</td>\n",
       "      <td>Vehicle turns left while ped crosses with ROW ...</td>\n",
       "      <td>Crossing with right of way</td>\n",
       "      <td>Unknown</td>\n",
       "      <td>&lt;Null&gt;</td>\n",
       "      <td>&lt;Null&gt;</td>\n",
       "      <td>&lt;Null&gt;</td>\n",
       "      <td>Yes</td>\n",
       "      <td>&lt;Null&gt;</td>\n",
       "      <td>Yes</td>\n",
       "      <td>&lt;Null&gt;</td>\n",
       "      <td>&lt;Null&gt;</td>\n",
       "      <td>&lt;Null&gt;</td>\n",
       "      <td>&lt;Null&gt;</td>\n",
       "      <td>&lt;Null&gt;</td>\n",
       "      <td>&lt;Null&gt;</td>\n",
       "      <td>Yes</td>\n",
       "      <td>&lt;Null&gt;</td>\n",
       "      <td>&lt;Null&gt;</td>\n",
       "      <td>&lt;Null&gt;</td>\n",
       "      <td>D11</td>\n",
       "      <td>88</td>\n",
       "      <td>High Park North (88)</td>\n",
       "      <td>2</td>\n",
       "    </tr>\n",
       "  </tbody>\n",
       "</table>\n",
       "</div>"
      ],
      "text/plain": [
       "              X             Y   INDEX_  ACCNUM  YEAR                    DATE  \\\n",
       "0 -8.844611e+06  5.412414e+06  3387730  892658  2006  2006/03/11 05:00:00+00   \n",
       "1 -8.844611e+06  5.412414e+06  3387731  892658  2006  2006/03/11 05:00:00+00   \n",
       "\n",
       "   TIME  HOUR     STREET1      STREET2  OFFSET      ROAD_CLASS  \\\n",
       "0   852     8  BLOOR ST W  DUNDAS ST W  <Null>  Major Arterial   \n",
       "1   852     8  BLOOR ST W  DUNDAS ST W  <Null>  Major Arterial   \n",
       "\n",
       "                DISTRICT WARDNUM DIVISION   LATITUDE  LONGITUDE      LOCCOORD  \\\n",
       "0  Toronto and East York       4       11  43.656345  -79.45249  Intersection   \n",
       "1  Toronto and East York       4       11  43.656345  -79.45249  Intersection   \n",
       "\n",
       "            ACCLOC        TRAFFCTL VISIBILITY     LIGHT RDSFCOND ACCLASS  \\\n",
       "0  At Intersection  Traffic Signal      Clear  Daylight      Dry   Fatal   \n",
       "1  At Intersection  Traffic Signal      Clear  Daylight      Dry   Fatal   \n",
       "\n",
       "               IMPACTYPE     INVTYPE    INVAGE INJURY FATAL_NO INITDIR  \\\n",
       "0  Pedestrian Collisions      Driver   unknown   None   <Null>   South   \n",
       "1  Pedestrian Collisions  Pedestrian  65 to 69  Fatal   <Null>   North   \n",
       "\n",
       "                     VEHTYPE     MANOEUVER                       DRIVACT  \\\n",
       "0  Automobile, Station Wagon  Turning Left  Failed to Yield Right of Way   \n",
       "1                      Other        <Null>                        <Null>   \n",
       "\n",
       "  DRIVCOND                                            PEDTYPE  \\\n",
       "0  Unknown                                             <Null>   \n",
       "1   <Null>  Vehicle turns left while ped crosses with ROW ...   \n",
       "\n",
       "                       PEDACT  PEDCOND CYCLISTYPE  CYCACT CYCCOND PEDESTRIAN  \\\n",
       "0                      <Null>   <Null>     <Null>  <Null>  <Null>        Yes   \n",
       "1  Crossing with right of way  Unknown     <Null>  <Null>  <Null>        Yes   \n",
       "\n",
       "  CYCLIST AUTOMOBILE MOTORCYCLE   TRUCK TRSN_CITY_VEH EMERG_VEH PASSENGER  \\\n",
       "0  <Null>        Yes     <Null>  <Null>        <Null>    <Null>    <Null>   \n",
       "1  <Null>        Yes     <Null>  <Null>        <Null>    <Null>    <Null>   \n",
       "\n",
       "  SPEEDING AG_DRIV REDLIGHT ALCOHOL DISABILITY POLICE_DIVISION  HOOD_ID  \\\n",
       "0   <Null>     Yes   <Null>  <Null>     <Null>             D11       88   \n",
       "1   <Null>     Yes   <Null>  <Null>     <Null>             D11       88   \n",
       "\n",
       "          NEIGHBOURHOOD  ObjectId  \n",
       "0  High Park North (88)         1  \n",
       "1  High Park North (88)         2  "
      ]
     },
     "execution_count": 6,
     "metadata": {},
     "output_type": "execute_result"
    }
   ],
   "source": [
    "df.head(2)"
   ]
  },
  {
   "cell_type": "code",
   "execution_count": 22,
   "metadata": {},
   "outputs": [
    {
     "data": {
      "text/plain": [
       "array([ 8,  9,  2, 19, 15, 17,  6,  3, 21,  7, 14, 11, 18, 16, 22, 23, 13,\n",
       "       12, 20,  5,  1, 10,  0,  4], dtype=int64)"
      ]
     },
     "execution_count": 22,
     "metadata": {},
     "output_type": "execute_result"
    }
   ],
   "source": [
    "df['HOUR'].unique()"
   ]
  },
  {
   "cell_type": "code",
   "execution_count": 13,
   "metadata": {},
   "outputs": [
    {
     "name": "stderr",
     "output_type": "stream",
     "text": [
      "C:\\Users\\kwanv\\AppData\\Local\\Packages\\PythonSoftwareFoundation.Python.3.9_qbz5n2kfra8p0\\LocalCache\\local-packages\\Python39\\site-packages\\seaborn\\_decorators.py:36: FutureWarning: Pass the following variables as keyword args: x, y. From version 0.12, the only valid positional argument will be `data`, and passing other arguments without an explicit keyword will result in an error or misinterpretation.\n",
      "  warnings.warn(\n"
     ]
    },
    {
     "data": {
      "image/png": "[encoded data removed]",
      "text/plain": [
       "<Figure size 720x360 with 1 Axes>"
      ]
     },
     "metadata": {},
     "output_type": "display_data"
    }
   ],
   "source": [
    "accidentsperyear = df.groupby(['YEAR'])['ACCNUM'].nunique()\n",
    "\n",
    "# prepare plot\n",
    "plt.style.use('dark_background')\n",
    "plt.figure(figsize=(10,5))\n",
    "colors = sns.color_palette(\"plasma\", n_colors=7)\n",
    "sns.barplot(accidentsperyear.index,accidentsperyear.values, palette=colors)\n",
    "sns.despine(top=True, right=True, left=True, bottom=True)\n",
    "plt.title(\"Accidents Per Year\",fontsize=20,fontweight=\"bold\")\n",
    "plt.xlabel(\"\\nYear\", fontsize=15, fontweight=\"bold\")\n",
    "plt.ylabel(\"Number of Accidents\", fontsize=15, fontweight=\"bold\")\n",
    "plt.tight_layout()\n"
   ]
  },
  {
   "cell_type": "code",
   "execution_count": 21,
   "metadata": {},
   "outputs": [
    {
     "data": {
      "image/png": "[encoded data removed]",
      "text/plain": [
       "<Figure size 1080x720 with 2 Axes>"
      ]
     },
     "metadata": {},
     "output_type": "display_data"
    }
   ],
   "source": [
    "\n",
    "\n",
    "weekdays = ['Monday', 'Tuesday','Wednesday','Thursday', 'Friday', 'Saturday', 'Sunday']\n",
    "accweekday = df.groupby(['YEAR', 'DAY']).size()\n",
    "accweekday = accweekday.rename_axis(['YEAR', 'DAY'])\\\n",
    "                               .unstack('DAY')\\\n",
    "                               .reindex(columns=weekdays).sort_values(by = 'YEAR', ascending = False)\n",
    "plt.figure(figsize=(15,10))\n",
    "plt.style.use('dark_background')\n",
    "sns.heatmap(accweekday, cmap='plasma_r')\n",
    "plt.title('\\nAccidents by Weekday per Year\\n', fontsize=14, fontweight='bold')\n",
    "plt.xticks(fontsize=15)\n",
    "plt.yticks(fontsize=12)\n",
    "plt.xlabel('')\n",
    "plt.ylabel('')\n",
    "plt.show()\n",
    "\n"
   ]
  },
  {
   "cell_type": "code",
   "execution_count": 14,
   "metadata": {},
   "outputs": [],
   "source": [
    "# need this for the plots - this is used to add the % tick marks in the plots\n",
    "# the length of KSI.csv (removing accnum duplicates)\n",
    "\n",
    "nstotal = float(len(df['ACCNUM'].drop_duplicates()))"
   ]
  },
  {
   "cell_type": "code",
   "execution_count": 16,
   "metadata": {},
   "outputs": [
    {
     "name": "stderr",
     "output_type": "stream",
     "text": [
      "C:\\Users\\kwanv\\AppData\\Local\\Packages\\PythonSoftwareFoundation.Python.3.9_qbz5n2kfra8p0\\LocalCache\\local-packages\\Python39\\site-packages\\seaborn\\_decorators.py:36: FutureWarning: Pass the following variables as keyword args: x, y. From version 0.12, the only valid positional argument will be `data`, and passing other arguments without an explicit keyword will result in an error or misinterpretation.\n",
      "  warnings.warn(\n"
     ]
    },
    {
     "data": {
      "image/png": "[encoded data removed]",
      "text/plain": [
       "<Figure size 1080x720 with 1 Axes>"
      ]
     },
     "metadata": {},
     "output_type": "display_data"
    }
   ],
   "source": [
    "df['DAYTIME'] = df['HOUR'].apply(util.daygroup)\n",
    "accidentspertod = df.groupby(['DAYTIME'])['ACCNUM'].nunique()\n",
    "\n",
    "plt.style.use('dark_background')\n",
    "plt.figure(figsize=(15,10))\n",
    "tod=[\"Morning\", \"Day\", \"Lunch\", \"Afternoon\", \"Evening\", \"Late Evening\", \"Night\"]\n",
    "ax1 = sns.barplot(accidentspertod.index,accidentspertod.values, order = tod, palette='rainbow')\n",
    "for p in ax1.patches:\n",
    "    height = p.get_height()\n",
    "    ax1.text(p.get_x()+p.get_width()/2.,\n",
    "            height + 4,\n",
    "            '{:1.2f}%'.format(height/nstotal*100),\n",
    "            ha=\"center\",fontsize=12) \n",
    "sns.despine(top=True, right=True, left=True, bottom=True)\n",
    "plt.title(\"Accidents Per Time of Day\",fontsize=20,fontweight=\"bold\")\n",
    "plt.xticks(fontsize=15)\n",
    "plt.yticks(fontsize=12)\n",
    "\n",
    "plt.xlabel(\"\", fontsize=15, fontweight=\"bold\")\n",
    "plt.ylabel(\"\\nNumber of Accidents\", fontsize=15, fontweight=\"bold\")\n",
    "plt.tight_layout()\n",
    "plt.savefig('accidentspertod.png')"
   ]
  },
  {
   "cell_type": "code",
   "execution_count": 17,
   "metadata": {},
   "outputs": [
    {
     "data": {
      "text/plain": [
       "<AxesSubplot:>"
      ]
     },
     "execution_count": 17,
     "metadata": {},
     "output_type": "execute_result"
    },
    {
     "data": {
      "image/png": "[encoded data removed]",
      "text/plain": [
       "<Figure size 432x288 with 1 Axes>"
      ]
     },
     "metadata": {
      "needs_background": "light"
     },
     "output_type": "display_data"
    }
   ],
   "source": [
    "# More fatal accidents occur in Summer. Is it because people drive more in Summer?\n",
    "\n",
    "# What we need to see is frequency of accidents per number of trips if possible (per capita)\n",
    "\n",
    "df['Season'].value_counts().sort_values(ascending = False).plot(kind = 'barh')"
   ]
  },
  {
   "cell_type": "code",
   "execution_count": 23,
   "metadata": {},
   "outputs": [
    {
     "data": {
      "text/html": [
       "<div>\n",
       "<style scoped>\n",
       "    .dataframe tbody tr th:only-of-type {\n",
       "        vertical-align: middle;\n",
       "    }\n",
       "\n",
       "    .dataframe tbody tr th {\n",
       "        vertical-align: top;\n",
       "    }\n",
       "\n",
       "    .dataframe thead th {\n",
       "        text-align: right;\n",
       "    }\n",
       "</style>\n",
       "<table border=\"1\" class=\"dataframe\">\n",
       "  <thead>\n",
       "    <tr style=\"text-align: right;\">\n",
       "      <th>Season</th>\n",
       "      <th>Fall</th>\n",
       "      <th>Spring</th>\n",
       "      <th>Summer</th>\n",
       "      <th>Winter</th>\n",
       "    </tr>\n",
       "    <tr>\n",
       "      <th>LIGHT</th>\n",
       "      <th></th>\n",
       "      <th></th>\n",
       "      <th></th>\n",
       "      <th></th>\n",
       "    </tr>\n",
       "  </thead>\n",
       "  <tbody>\n",
       "    <tr>\n",
       "      <th>Dark</th>\n",
       "      <td>391.0</td>\n",
       "      <td>210.0</td>\n",
       "      <td>262.0</td>\n",
       "      <td>342.0</td>\n",
       "    </tr>\n",
       "    <tr>\n",
       "      <th>Dark, artificial</th>\n",
       "      <td>343.0</td>\n",
       "      <td>191.0</td>\n",
       "      <td>213.0</td>\n",
       "      <td>322.0</td>\n",
       "    </tr>\n",
       "    <tr>\n",
       "      <th>Dawn</th>\n",
       "      <td>9.0</td>\n",
       "      <td>12.0</td>\n",
       "      <td>5.0</td>\n",
       "      <td>10.0</td>\n",
       "    </tr>\n",
       "    <tr>\n",
       "      <th>Dawn, artificial</th>\n",
       "      <td>19.0</td>\n",
       "      <td>5.0</td>\n",
       "      <td>7.0</td>\n",
       "      <td>7.0</td>\n",
       "    </tr>\n",
       "    <tr>\n",
       "      <th>Daylight</th>\n",
       "      <td>891.0</td>\n",
       "      <td>839.0</td>\n",
       "      <td>1181.0</td>\n",
       "      <td>537.0</td>\n",
       "    </tr>\n",
       "    <tr>\n",
       "      <th>Daylight, artificial</th>\n",
       "      <td>19.0</td>\n",
       "      <td>13.0</td>\n",
       "      <td>13.0</td>\n",
       "      <td>6.0</td>\n",
       "    </tr>\n",
       "    <tr>\n",
       "      <th>Dusk</th>\n",
       "      <td>33.0</td>\n",
       "      <td>14.0</td>\n",
       "      <td>20.0</td>\n",
       "      <td>17.0</td>\n",
       "    </tr>\n",
       "    <tr>\n",
       "      <th>Dusk, artificial</th>\n",
       "      <td>19.0</td>\n",
       "      <td>14.0</td>\n",
       "      <td>16.0</td>\n",
       "      <td>19.0</td>\n",
       "    </tr>\n",
       "    <tr>\n",
       "      <th>Other</th>\n",
       "      <td>1.0</td>\n",
       "      <td>2.0</td>\n",
       "      <td>NaN</td>\n",
       "      <td>NaN</td>\n",
       "    </tr>\n",
       "  </tbody>\n",
       "</table>\n",
       "</div>"
      ],
      "text/plain": [
       "Season                 Fall  Spring  Summer  Winter\n",
       "LIGHT                                              \n",
       "Dark                  391.0   210.0   262.0   342.0\n",
       "Dark, artificial      343.0   191.0   213.0   322.0\n",
       "Dawn                    9.0    12.0     5.0    10.0\n",
       "Dawn, artificial       19.0     5.0     7.0     7.0\n",
       "Daylight              891.0   839.0  1181.0   537.0\n",
       "Daylight, artificial   19.0    13.0    13.0     6.0\n",
       "Dusk                   33.0    14.0    20.0    17.0\n",
       "Dusk, artificial       19.0    14.0    16.0    19.0\n",
       "Other                   1.0     2.0     NaN     NaN"
      ]
     },
     "execution_count": 23,
     "metadata": {},
     "output_type": "execute_result"
    }
   ],
   "source": [
    "df.groupby(['LIGHT','Season'])['ACCNUM'].nunique().unstack()"
   ]
  },
  {
   "cell_type": "code",
   "execution_count": 38,
   "metadata": {},
   "outputs": [
    {
     "data": {
      "text/plain": [
       "<AxesSubplot:xlabel='LIGHT'>"
      ]
     },
     "execution_count": 38,
     "metadata": {},
     "output_type": "execute_result"
    },
    {
     "data": {
      "image/png": "[encoded data removed]",
      "text/plain": [
       "<Figure size 720x360 with 1 Axes>"
      ]
     },
     "metadata": {
      "needs_background": "light"
     },
     "output_type": "display_data"
    }
   ],
   "source": [
    "df.groupby(['LIGHT','Season'])['ACCNUM'].nunique().unstack().plot(kind = 'bar', stacked=True, figsize = (10, 5))"
   ]
  },
  {
   "cell_type": "code",
   "execution_count": 36,
   "metadata": {},
   "outputs": [
    {
     "data": {
      "text/plain": [
       "<AxesSubplot:xlabel='LIGHT'>"
      ]
     },
     "execution_count": 36,
     "metadata": {},
     "output_type": "execute_result"
    },
    {
     "data": {
      "image/png": "[encoded data removed]",
      "text/plain": [
       "<Figure size 720x360 with 1 Axes>"
      ]
     },
     "metadata": {
      "needs_background": "light"
     },
     "output_type": "display_data"
    }
   ],
   "source": [
    "df.groupby('LIGHT')['ACCNUM'].nunique().sort_values(ascending = False).plot(kind = 'bar', stacked=True, figsize = (10, 5))"
   ]
  },
  {
   "cell_type": "code",
   "execution_count": 37,
   "metadata": {},
   "outputs": [
    {
     "data": {
      "text/plain": [
       "<AxesSubplot:xlabel='LIGHT'>"
      ]
     },
     "execution_count": 37,
     "metadata": {},
     "output_type": "execute_result"
    },
    {
     "data": {
      "image/png": "[encoded data removed]",
      "text/plain": [
       "<Figure size 720x360 with 1 Axes>"
      ]
     },
     "metadata": {
      "needs_background": "light"
     },
     "output_type": "display_data"
    }
   ],
   "source": [
    "df[df['Season'] == 'Winter'].groupby(['LIGHT'])['ACCNUM'].nunique().sort_values(ascending = False).plot(kind = 'bar', stacked=True, figsize = (10, 5))"
   ]
  },
  {
   "cell_type": "code",
   "execution_count": 13,
   "metadata": {},
   "outputs": [
    {
     "data": {
      "text/plain": [
       "<AxesSubplot:xlabel='YEAR'>"
      ]
     },
     "execution_count": 13,
     "metadata": {},
     "output_type": "execute_result"
    },
    {
     "data": {
      "image/png": "[encoded data removed]",
      "text/plain": [
       "<Figure size 1080x360 with 1 Axes>"
      ]
     },
     "metadata": {
      "needs_background": "light"
     },
     "output_type": "display_data"
    }
   ],
   "source": [
    "df.groupby(['YEAR','ACCLASS'])['ACCNUM'].nunique().unstack().plot(kind = 'bar', stacked=True, figsize = (15, 5))"
   ]
  },
  {
   "cell_type": "code",
   "execution_count": 13,
   "metadata": {},
   "outputs": [
    {
     "data": {
      "text/plain": [
       "array(['Unknown', '<Null>', 'Ability Impaired, Alcohol',\n",
       "       'Ability Impaired, Alcohol Over .08', 'Normal',\n",
       "       'Had Been Drinking', 'Other', 'Inattentive',\n",
       "       'Medical or Physical Disability', 'Fatigue',\n",
       "       'Ability Impaired, Drugs'], dtype=object)"
      ]
     },
     "execution_count": 13,
     "metadata": {},
     "output_type": "execute_result"
    }
   ],
   "source": [
    "df['DRIVCOND'].unique()"
   ]
  },
  {
   "cell_type": "code",
   "execution_count": 14,
   "metadata": {},
   "outputs": [
    {
     "data": {
      "text/plain": [
       "array(['None', 'Fatal', 'Minor', 'Major', 'Minimal', '<Null>'],\n",
       "      dtype=object)"
      ]
     },
     "execution_count": 14,
     "metadata": {},
     "output_type": "execute_result"
    }
   ],
   "source": [
    "df['INJURY'].unique()"
   ]
  },
  {
   "cell_type": "code",
   "execution_count": 15,
   "metadata": {},
   "outputs": [
    {
     "data": {
      "text/plain": [
       "array(['<Null>',\n",
       "       'Vehicle turns left while ped crosses with ROW at inter.',\n",
       "       'Pedestrian hit at mid-block',\n",
       "       'Vehicle is going straight thru inter.while ped cross without ROW',\n",
       "       'Pedestrian hit a PXO/ped. Mid-block signal',\n",
       "       'Vehicle is going straight thru inter.while ped cross with ROW',\n",
       "       'Other / Undefined',\n",
       "       'Vehicle turns right while ped crosses without ROW at inter.',\n",
       "       'Vehicle hits the pedestrian walking or running out from between parked vehicles at mid-block',\n",
       "       'Pedestrian hit on sidewalk or shoulder',\n",
       "       'Vehicle turns right while ped crosses with ROW at inter.',\n",
       "       'Pedestrian involved in a collision with transit vehicle anywhere along roadway',\n",
       "       'Unknown',\n",
       "       'Vehicle turns left while ped crosses without ROW at inter.',\n",
       "       'Vehicle is reversing and hits pedestrian',\n",
       "       'Pedestrian hit at private driveway',\n",
       "       'Pedestrian hit at parking lot'], dtype=object)"
      ]
     },
     "execution_count": 15,
     "metadata": {},
     "output_type": "execute_result"
    }
   ],
   "source": [
    "df['PEDTYPE'].unique()"
   ]
  },
  {
   "cell_type": "code",
   "execution_count": 16,
   "metadata": {},
   "outputs": [
    {
     "data": {
      "text/plain": [
       "array(['<Null>', 'Crossing with right of way',\n",
       "       'Crossing, no Traffic Control', 'Crossing without right of way',\n",
       "       'Crossing, Pedestrian Crossover', 'Running onto Roadway', 'Other',\n",
       "       'Coming From Behind Parked Vehicle', 'On Sidewalk or Shoulder',\n",
       "       'Pushing/Working on Vehicle', 'Walking on Roadway Against Traffic',\n",
       "       'Walking on Roadway with Traffic', 'Person Getting on/off Vehicle',\n",
       "       'Playing or Working on Highway',\n",
       "       'Crossing marked crosswalk without ROW',\n",
       "       'Person Getting on/off School Bus'], dtype=object)"
      ]
     },
     "execution_count": 16,
     "metadata": {},
     "output_type": "execute_result"
    }
   ],
   "source": [
    "df['PEDACT'].unique()"
   ]
  },
  {
   "cell_type": "code",
   "execution_count": 8,
   "metadata": {},
   "outputs": [],
   "source": [
    "# annoying to open results in new page to see everything\n",
    "# this shows me all columns\n",
    "pd.set_option('display.max_columns', None)\n"
   ]
  },
  {
   "cell_type": "code",
   "execution_count": 20,
   "metadata": {},
   "outputs": [
    {
     "data": {
      "text/html": [
       "<div>\n",
       "<style scoped>\n",
       "    .dataframe tbody tr th:only-of-type {\n",
       "        vertical-align: middle;\n",
       "    }\n",
       "\n",
       "    .dataframe tbody tr th {\n",
       "        vertical-align: top;\n",
       "    }\n",
       "\n",
       "    .dataframe thead th {\n",
       "        text-align: right;\n",
       "    }\n",
       "</style>\n",
       "<table border=\"1\" class=\"dataframe\">\n",
       "  <thead>\n",
       "    <tr style=\"text-align: right;\">\n",
       "      <th></th>\n",
       "      <th>X</th>\n",
       "      <th>Y</th>\n",
       "      <th>INDEX_</th>\n",
       "      <th>ACCNUM</th>\n",
       "      <th>YEAR</th>\n",
       "      <th>DATE</th>\n",
       "      <th>TIME</th>\n",
       "      <th>HOUR</th>\n",
       "      <th>STREET1</th>\n",
       "      <th>STREET2</th>\n",
       "      <th>OFFSET</th>\n",
       "      <th>ROAD_CLASS</th>\n",
       "      <th>DISTRICT</th>\n",
       "      <th>WARDNUM</th>\n",
       "      <th>DIVISION</th>\n",
       "      <th>LATITUDE</th>\n",
       "      <th>LONGITUDE</th>\n",
       "      <th>LOCCOORD</th>\n",
       "      <th>ACCLOC</th>\n",
       "      <th>TRAFFCTL</th>\n",
       "      <th>VISIBILITY</th>\n",
       "      <th>LIGHT</th>\n",
       "      <th>RDSFCOND</th>\n",
       "      <th>ACCLASS</th>\n",
       "      <th>IMPACTYPE</th>\n",
       "      <th>INVTYPE</th>\n",
       "      <th>INVAGE</th>\n",
       "      <th>INJURY</th>\n",
       "      <th>FATAL_NO</th>\n",
       "      <th>INITDIR</th>\n",
       "      <th>VEHTYPE</th>\n",
       "      <th>MANOEUVER</th>\n",
       "      <th>DRIVACT</th>\n",
       "      <th>DRIVCOND</th>\n",
       "      <th>PEDTYPE</th>\n",
       "      <th>PEDACT</th>\n",
       "      <th>PEDCOND</th>\n",
       "      <th>CYCLISTYPE</th>\n",
       "      <th>CYCACT</th>\n",
       "      <th>CYCCOND</th>\n",
       "      <th>PEDESTRIAN</th>\n",
       "      <th>CYCLIST</th>\n",
       "      <th>AUTOMOBILE</th>\n",
       "      <th>MOTORCYCLE</th>\n",
       "      <th>TRUCK</th>\n",
       "      <th>TRSN_CITY_VEH</th>\n",
       "      <th>EMERG_VEH</th>\n",
       "      <th>PASSENGER</th>\n",
       "      <th>SPEEDING</th>\n",
       "      <th>AG_DRIV</th>\n",
       "      <th>REDLIGHT</th>\n",
       "      <th>ALCOHOL</th>\n",
       "      <th>DISABILITY</th>\n",
       "      <th>POLICE_DIVISION</th>\n",
       "      <th>HOOD_ID</th>\n",
       "      <th>NEIGHBOURHOOD</th>\n",
       "      <th>ObjectId</th>\n",
       "    </tr>\n",
       "  </thead>\n",
       "  <tbody>\n",
       "    <tr>\n",
       "      <th>12708</th>\n",
       "      <td>-8.851369e+06</td>\n",
       "      <td>5.425199e+06</td>\n",
       "      <td>80503019</td>\n",
       "      <td>6000607400</td>\n",
       "      <td>2016</td>\n",
       "      <td>2016/04/10 04:00:00+00</td>\n",
       "      <td>326</td>\n",
       "      <td>3</td>\n",
       "      <td>JANE ST</td>\n",
       "      <td>SHEPPARD AVE W</td>\n",
       "      <td>&lt;Null&gt;</td>\n",
       "      <td>Major Arterial</td>\n",
       "      <td>Etobicoke York</td>\n",
       "      <td>7,6</td>\n",
       "      <td>31</td>\n",
       "      <td>43.739379</td>\n",
       "      <td>-79.513202</td>\n",
       "      <td>Intersection</td>\n",
       "      <td>Intersection Related</td>\n",
       "      <td>Traffic Signal</td>\n",
       "      <td>Clear</td>\n",
       "      <td>Dark, artificial</td>\n",
       "      <td>Dry</td>\n",
       "      <td>Fatal</td>\n",
       "      <td>Rear End</td>\n",
       "      <td>Passenger</td>\n",
       "      <td>20 to 24</td>\n",
       "      <td>Fatal</td>\n",
       "      <td>23</td>\n",
       "      <td>&lt;Null&gt;</td>\n",
       "      <td>&lt;Null&gt;</td>\n",
       "      <td>&lt;Null&gt;</td>\n",
       "      <td>&lt;Null&gt;</td>\n",
       "      <td>&lt;Null&gt;</td>\n",
       "      <td>&lt;Null&gt;</td>\n",
       "      <td>&lt;Null&gt;</td>\n",
       "      <td>&lt;Null&gt;</td>\n",
       "      <td>&lt;Null&gt;</td>\n",
       "      <td>&lt;Null&gt;</td>\n",
       "      <td>&lt;Null&gt;</td>\n",
       "      <td>&lt;Null&gt;</td>\n",
       "      <td>&lt;Null&gt;</td>\n",
       "      <td>Yes</td>\n",
       "      <td>&lt;Null&gt;</td>\n",
       "      <td>&lt;Null&gt;</td>\n",
       "      <td>&lt;Null&gt;</td>\n",
       "      <td>&lt;Null&gt;</td>\n",
       "      <td>Yes</td>\n",
       "      <td>Yes</td>\n",
       "      <td>Yes</td>\n",
       "      <td>&lt;Null&gt;</td>\n",
       "      <td>&lt;Null&gt;</td>\n",
       "      <td>&lt;Null&gt;</td>\n",
       "      <td>D31</td>\n",
       "      <td>25</td>\n",
       "      <td>Glenfield-Jane Heights (25)</td>\n",
       "      <td>12709</td>\n",
       "    </tr>\n",
       "    <tr>\n",
       "      <th>12709</th>\n",
       "      <td>-8.851369e+06</td>\n",
       "      <td>5.425199e+06</td>\n",
       "      <td>80503077</td>\n",
       "      <td>6000607400</td>\n",
       "      <td>2016</td>\n",
       "      <td>2016/04/10 04:00:00+00</td>\n",
       "      <td>326</td>\n",
       "      <td>3</td>\n",
       "      <td>JANE ST</td>\n",
       "      <td>SHEPPARD AVE W</td>\n",
       "      <td>&lt;Null&gt;</td>\n",
       "      <td>Major Arterial</td>\n",
       "      <td>Etobicoke York</td>\n",
       "      <td>7,6</td>\n",
       "      <td>31</td>\n",
       "      <td>43.739379</td>\n",
       "      <td>-79.513202</td>\n",
       "      <td>Intersection</td>\n",
       "      <td>Intersection Related</td>\n",
       "      <td>Traffic Signal</td>\n",
       "      <td>Clear</td>\n",
       "      <td>Dark, artificial</td>\n",
       "      <td>Dry</td>\n",
       "      <td>Fatal</td>\n",
       "      <td>Rear End</td>\n",
       "      <td>Passenger</td>\n",
       "      <td>20 to 24</td>\n",
       "      <td>Fatal</td>\n",
       "      <td>24</td>\n",
       "      <td>&lt;Null&gt;</td>\n",
       "      <td>&lt;Null&gt;</td>\n",
       "      <td>&lt;Null&gt;</td>\n",
       "      <td>&lt;Null&gt;</td>\n",
       "      <td>&lt;Null&gt;</td>\n",
       "      <td>&lt;Null&gt;</td>\n",
       "      <td>&lt;Null&gt;</td>\n",
       "      <td>&lt;Null&gt;</td>\n",
       "      <td>&lt;Null&gt;</td>\n",
       "      <td>&lt;Null&gt;</td>\n",
       "      <td>&lt;Null&gt;</td>\n",
       "      <td>&lt;Null&gt;</td>\n",
       "      <td>&lt;Null&gt;</td>\n",
       "      <td>Yes</td>\n",
       "      <td>&lt;Null&gt;</td>\n",
       "      <td>&lt;Null&gt;</td>\n",
       "      <td>&lt;Null&gt;</td>\n",
       "      <td>&lt;Null&gt;</td>\n",
       "      <td>Yes</td>\n",
       "      <td>Yes</td>\n",
       "      <td>Yes</td>\n",
       "      <td>&lt;Null&gt;</td>\n",
       "      <td>&lt;Null&gt;</td>\n",
       "      <td>&lt;Null&gt;</td>\n",
       "      <td>D31</td>\n",
       "      <td>25</td>\n",
       "      <td>Glenfield-Jane Heights (25)</td>\n",
       "      <td>12710</td>\n",
       "    </tr>\n",
       "    <tr>\n",
       "      <th>12710</th>\n",
       "      <td>-8.851369e+06</td>\n",
       "      <td>5.425199e+06</td>\n",
       "      <td>80503078</td>\n",
       "      <td>6000607400</td>\n",
       "      <td>2016</td>\n",
       "      <td>2016/04/10 04:00:00+00</td>\n",
       "      <td>326</td>\n",
       "      <td>3</td>\n",
       "      <td>JANE ST</td>\n",
       "      <td>SHEPPARD AVE W</td>\n",
       "      <td>&lt;Null&gt;</td>\n",
       "      <td>Major Arterial</td>\n",
       "      <td>Etobicoke York</td>\n",
       "      <td>7,6</td>\n",
       "      <td>31</td>\n",
       "      <td>43.739379</td>\n",
       "      <td>-79.513202</td>\n",
       "      <td>Intersection</td>\n",
       "      <td>Intersection Related</td>\n",
       "      <td>Traffic Signal</td>\n",
       "      <td>Clear</td>\n",
       "      <td>Dark, artificial</td>\n",
       "      <td>Dry</td>\n",
       "      <td>Fatal</td>\n",
       "      <td>Rear End</td>\n",
       "      <td>Passenger</td>\n",
       "      <td>15 to 19</td>\n",
       "      <td>Fatal</td>\n",
       "      <td>22</td>\n",
       "      <td>&lt;Null&gt;</td>\n",
       "      <td>&lt;Null&gt;</td>\n",
       "      <td>&lt;Null&gt;</td>\n",
       "      <td>&lt;Null&gt;</td>\n",
       "      <td>&lt;Null&gt;</td>\n",
       "      <td>&lt;Null&gt;</td>\n",
       "      <td>&lt;Null&gt;</td>\n",
       "      <td>&lt;Null&gt;</td>\n",
       "      <td>&lt;Null&gt;</td>\n",
       "      <td>&lt;Null&gt;</td>\n",
       "      <td>&lt;Null&gt;</td>\n",
       "      <td>&lt;Null&gt;</td>\n",
       "      <td>&lt;Null&gt;</td>\n",
       "      <td>Yes</td>\n",
       "      <td>&lt;Null&gt;</td>\n",
       "      <td>&lt;Null&gt;</td>\n",
       "      <td>&lt;Null&gt;</td>\n",
       "      <td>&lt;Null&gt;</td>\n",
       "      <td>Yes</td>\n",
       "      <td>Yes</td>\n",
       "      <td>Yes</td>\n",
       "      <td>&lt;Null&gt;</td>\n",
       "      <td>&lt;Null&gt;</td>\n",
       "      <td>&lt;Null&gt;</td>\n",
       "      <td>D31</td>\n",
       "      <td>25</td>\n",
       "      <td>Glenfield-Jane Heights (25)</td>\n",
       "      <td>12711</td>\n",
       "    </tr>\n",
       "    <tr>\n",
       "      <th>12711</th>\n",
       "      <td>-8.851369e+06</td>\n",
       "      <td>5.425199e+06</td>\n",
       "      <td>80503079</td>\n",
       "      <td>6000607400</td>\n",
       "      <td>2016</td>\n",
       "      <td>2016/04/10 04:00:00+00</td>\n",
       "      <td>326</td>\n",
       "      <td>3</td>\n",
       "      <td>JANE ST</td>\n",
       "      <td>SHEPPARD AVE W</td>\n",
       "      <td>&lt;Null&gt;</td>\n",
       "      <td>Major Arterial</td>\n",
       "      <td>Etobicoke York</td>\n",
       "      <td>7,6</td>\n",
       "      <td>31</td>\n",
       "      <td>43.739379</td>\n",
       "      <td>-79.513202</td>\n",
       "      <td>Intersection</td>\n",
       "      <td>Intersection Related</td>\n",
       "      <td>Traffic Signal</td>\n",
       "      <td>Clear</td>\n",
       "      <td>Dark, artificial</td>\n",
       "      <td>Dry</td>\n",
       "      <td>Fatal</td>\n",
       "      <td>Rear End</td>\n",
       "      <td>Passenger</td>\n",
       "      <td>20 to 24</td>\n",
       "      <td>Major</td>\n",
       "      <td>&lt;Null&gt;</td>\n",
       "      <td>&lt;Null&gt;</td>\n",
       "      <td>&lt;Null&gt;</td>\n",
       "      <td>&lt;Null&gt;</td>\n",
       "      <td>&lt;Null&gt;</td>\n",
       "      <td>&lt;Null&gt;</td>\n",
       "      <td>&lt;Null&gt;</td>\n",
       "      <td>&lt;Null&gt;</td>\n",
       "      <td>&lt;Null&gt;</td>\n",
       "      <td>&lt;Null&gt;</td>\n",
       "      <td>&lt;Null&gt;</td>\n",
       "      <td>&lt;Null&gt;</td>\n",
       "      <td>&lt;Null&gt;</td>\n",
       "      <td>&lt;Null&gt;</td>\n",
       "      <td>Yes</td>\n",
       "      <td>&lt;Null&gt;</td>\n",
       "      <td>&lt;Null&gt;</td>\n",
       "      <td>&lt;Null&gt;</td>\n",
       "      <td>&lt;Null&gt;</td>\n",
       "      <td>Yes</td>\n",
       "      <td>Yes</td>\n",
       "      <td>Yes</td>\n",
       "      <td>&lt;Null&gt;</td>\n",
       "      <td>&lt;Null&gt;</td>\n",
       "      <td>&lt;Null&gt;</td>\n",
       "      <td>D31</td>\n",
       "      <td>25</td>\n",
       "      <td>Glenfield-Jane Heights (25)</td>\n",
       "      <td>12712</td>\n",
       "    </tr>\n",
       "    <tr>\n",
       "      <th>12712</th>\n",
       "      <td>-8.851369e+06</td>\n",
       "      <td>5.425199e+06</td>\n",
       "      <td>80503080</td>\n",
       "      <td>6000607400</td>\n",
       "      <td>2016</td>\n",
       "      <td>2016/04/10 04:00:00+00</td>\n",
       "      <td>326</td>\n",
       "      <td>3</td>\n",
       "      <td>JANE ST</td>\n",
       "      <td>SHEPPARD AVE W</td>\n",
       "      <td>&lt;Null&gt;</td>\n",
       "      <td>Major Arterial</td>\n",
       "      <td>Etobicoke York</td>\n",
       "      <td>7,6</td>\n",
       "      <td>31</td>\n",
       "      <td>43.739379</td>\n",
       "      <td>-79.513202</td>\n",
       "      <td>Intersection</td>\n",
       "      <td>Intersection Related</td>\n",
       "      <td>Traffic Signal</td>\n",
       "      <td>Clear</td>\n",
       "      <td>Dark, artificial</td>\n",
       "      <td>Dry</td>\n",
       "      <td>Fatal</td>\n",
       "      <td>Rear End</td>\n",
       "      <td>Driver</td>\n",
       "      <td>20 to 24</td>\n",
       "      <td>Major</td>\n",
       "      <td>&lt;Null&gt;</td>\n",
       "      <td>South</td>\n",
       "      <td>Automobile, Station Wagon</td>\n",
       "      <td>Changing Lanes</td>\n",
       "      <td>Speed too Fast For Condition</td>\n",
       "      <td>Had Been Drinking</td>\n",
       "      <td>&lt;Null&gt;</td>\n",
       "      <td>&lt;Null&gt;</td>\n",
       "      <td>&lt;Null&gt;</td>\n",
       "      <td>&lt;Null&gt;</td>\n",
       "      <td>&lt;Null&gt;</td>\n",
       "      <td>&lt;Null&gt;</td>\n",
       "      <td>&lt;Null&gt;</td>\n",
       "      <td>&lt;Null&gt;</td>\n",
       "      <td>Yes</td>\n",
       "      <td>&lt;Null&gt;</td>\n",
       "      <td>&lt;Null&gt;</td>\n",
       "      <td>&lt;Null&gt;</td>\n",
       "      <td>&lt;Null&gt;</td>\n",
       "      <td>Yes</td>\n",
       "      <td>Yes</td>\n",
       "      <td>Yes</td>\n",
       "      <td>&lt;Null&gt;</td>\n",
       "      <td>&lt;Null&gt;</td>\n",
       "      <td>&lt;Null&gt;</td>\n",
       "      <td>D31</td>\n",
       "      <td>25</td>\n",
       "      <td>Glenfield-Jane Heights (25)</td>\n",
       "      <td>12713</td>\n",
       "    </tr>\n",
       "    <tr>\n",
       "      <th>12713</th>\n",
       "      <td>-8.851369e+06</td>\n",
       "      <td>5.425199e+06</td>\n",
       "      <td>80503081</td>\n",
       "      <td>6000607400</td>\n",
       "      <td>2016</td>\n",
       "      <td>2016/04/10 04:00:00+00</td>\n",
       "      <td>326</td>\n",
       "      <td>3</td>\n",
       "      <td>JANE ST</td>\n",
       "      <td>SHEPPARD AVE W</td>\n",
       "      <td>&lt;Null&gt;</td>\n",
       "      <td>Major Arterial</td>\n",
       "      <td>Etobicoke York</td>\n",
       "      <td>7,6</td>\n",
       "      <td>31</td>\n",
       "      <td>43.739379</td>\n",
       "      <td>-79.513202</td>\n",
       "      <td>Intersection</td>\n",
       "      <td>Intersection Related</td>\n",
       "      <td>Traffic Signal</td>\n",
       "      <td>Clear</td>\n",
       "      <td>Dark, artificial</td>\n",
       "      <td>Dry</td>\n",
       "      <td>Fatal</td>\n",
       "      <td>Rear End</td>\n",
       "      <td>Driver</td>\n",
       "      <td>45 to 49</td>\n",
       "      <td>Minor</td>\n",
       "      <td>&lt;Null&gt;</td>\n",
       "      <td>South</td>\n",
       "      <td>Automobile, Station Wagon</td>\n",
       "      <td>Stopped</td>\n",
       "      <td>Driving Properly</td>\n",
       "      <td>Normal</td>\n",
       "      <td>&lt;Null&gt;</td>\n",
       "      <td>&lt;Null&gt;</td>\n",
       "      <td>&lt;Null&gt;</td>\n",
       "      <td>&lt;Null&gt;</td>\n",
       "      <td>&lt;Null&gt;</td>\n",
       "      <td>&lt;Null&gt;</td>\n",
       "      <td>&lt;Null&gt;</td>\n",
       "      <td>&lt;Null&gt;</td>\n",
       "      <td>Yes</td>\n",
       "      <td>&lt;Null&gt;</td>\n",
       "      <td>&lt;Null&gt;</td>\n",
       "      <td>&lt;Null&gt;</td>\n",
       "      <td>&lt;Null&gt;</td>\n",
       "      <td>Yes</td>\n",
       "      <td>Yes</td>\n",
       "      <td>Yes</td>\n",
       "      <td>&lt;Null&gt;</td>\n",
       "      <td>&lt;Null&gt;</td>\n",
       "      <td>&lt;Null&gt;</td>\n",
       "      <td>D31</td>\n",
       "      <td>25</td>\n",
       "      <td>Glenfield-Jane Heights (25)</td>\n",
       "      <td>12714</td>\n",
       "    </tr>\n",
       "  </tbody>\n",
       "</table>\n",
       "</div>"
      ],
      "text/plain": [
       "                  X             Y    INDEX_      ACCNUM  YEAR  \\\n",
       "12708 -8.851369e+06  5.425199e+06  80503019  6000607400  2016   \n",
       "12709 -8.851369e+06  5.425199e+06  80503077  6000607400  2016   \n",
       "12710 -8.851369e+06  5.425199e+06  80503078  6000607400  2016   \n",
       "12711 -8.851369e+06  5.425199e+06  80503079  6000607400  2016   \n",
       "12712 -8.851369e+06  5.425199e+06  80503080  6000607400  2016   \n",
       "12713 -8.851369e+06  5.425199e+06  80503081  6000607400  2016   \n",
       "\n",
       "                         DATE  TIME  HOUR  STREET1         STREET2  OFFSET  \\\n",
       "12708  2016/04/10 04:00:00+00   326     3  JANE ST  SHEPPARD AVE W  <Null>   \n",
       "12709  2016/04/10 04:00:00+00   326     3  JANE ST  SHEPPARD AVE W  <Null>   \n",
       "12710  2016/04/10 04:00:00+00   326     3  JANE ST  SHEPPARD AVE W  <Null>   \n",
       "12711  2016/04/10 04:00:00+00   326     3  JANE ST  SHEPPARD AVE W  <Null>   \n",
       "12712  2016/04/10 04:00:00+00   326     3  JANE ST  SHEPPARD AVE W  <Null>   \n",
       "12713  2016/04/10 04:00:00+00   326     3  JANE ST  SHEPPARD AVE W  <Null>   \n",
       "\n",
       "           ROAD_CLASS        DISTRICT WARDNUM DIVISION   LATITUDE  LONGITUDE  \\\n",
       "12708  Major Arterial  Etobicoke York     7,6       31  43.739379 -79.513202   \n",
       "12709  Major Arterial  Etobicoke York     7,6       31  43.739379 -79.513202   \n",
       "12710  Major Arterial  Etobicoke York     7,6       31  43.739379 -79.513202   \n",
       "12711  Major Arterial  Etobicoke York     7,6       31  43.739379 -79.513202   \n",
       "12712  Major Arterial  Etobicoke York     7,6       31  43.739379 -79.513202   \n",
       "12713  Major Arterial  Etobicoke York     7,6       31  43.739379 -79.513202   \n",
       "\n",
       "           LOCCOORD                ACCLOC        TRAFFCTL VISIBILITY  \\\n",
       "12708  Intersection  Intersection Related  Traffic Signal      Clear   \n",
       "12709  Intersection  Intersection Related  Traffic Signal      Clear   \n",
       "12710  Intersection  Intersection Related  Traffic Signal      Clear   \n",
       "12711  Intersection  Intersection Related  Traffic Signal      Clear   \n",
       "12712  Intersection  Intersection Related  Traffic Signal      Clear   \n",
       "12713  Intersection  Intersection Related  Traffic Signal      Clear   \n",
       "\n",
       "                  LIGHT RDSFCOND ACCLASS IMPACTYPE    INVTYPE    INVAGE  \\\n",
       "12708  Dark, artificial      Dry   Fatal  Rear End  Passenger  20 to 24   \n",
       "12709  Dark, artificial      Dry   Fatal  Rear End  Passenger  20 to 24   \n",
       "12710  Dark, artificial      Dry   Fatal  Rear End  Passenger  15 to 19   \n",
       "12711  Dark, artificial      Dry   Fatal  Rear End  Passenger  20 to 24   \n",
       "12712  Dark, artificial      Dry   Fatal  Rear End     Driver  20 to 24   \n",
       "12713  Dark, artificial      Dry   Fatal  Rear End     Driver  45 to 49   \n",
       "\n",
       "      INJURY FATAL_NO INITDIR                    VEHTYPE       MANOEUVER  \\\n",
       "12708  Fatal       23  <Null>                     <Null>          <Null>   \n",
       "12709  Fatal       24  <Null>                     <Null>          <Null>   \n",
       "12710  Fatal       22  <Null>                     <Null>          <Null>   \n",
       "12711  Major   <Null>  <Null>                     <Null>          <Null>   \n",
       "12712  Major   <Null>   South  Automobile, Station Wagon  Changing Lanes   \n",
       "12713  Minor   <Null>   South  Automobile, Station Wagon         Stopped   \n",
       "\n",
       "                            DRIVACT           DRIVCOND PEDTYPE  PEDACT  \\\n",
       "12708                        <Null>             <Null>  <Null>  <Null>   \n",
       "12709                        <Null>             <Null>  <Null>  <Null>   \n",
       "12710                        <Null>             <Null>  <Null>  <Null>   \n",
       "12711                        <Null>             <Null>  <Null>  <Null>   \n",
       "12712  Speed too Fast For Condition  Had Been Drinking  <Null>  <Null>   \n",
       "12713              Driving Properly             Normal  <Null>  <Null>   \n",
       "\n",
       "      PEDCOND CYCLISTYPE  CYCACT CYCCOND PEDESTRIAN CYCLIST AUTOMOBILE  \\\n",
       "12708  <Null>     <Null>  <Null>  <Null>     <Null>  <Null>        Yes   \n",
       "12709  <Null>     <Null>  <Null>  <Null>     <Null>  <Null>        Yes   \n",
       "12710  <Null>     <Null>  <Null>  <Null>     <Null>  <Null>        Yes   \n",
       "12711  <Null>     <Null>  <Null>  <Null>     <Null>  <Null>        Yes   \n",
       "12712  <Null>     <Null>  <Null>  <Null>     <Null>  <Null>        Yes   \n",
       "12713  <Null>     <Null>  <Null>  <Null>     <Null>  <Null>        Yes   \n",
       "\n",
       "      MOTORCYCLE   TRUCK TRSN_CITY_VEH EMERG_VEH PASSENGER SPEEDING AG_DRIV  \\\n",
       "12708     <Null>  <Null>        <Null>    <Null>       Yes      Yes     Yes   \n",
       "12709     <Null>  <Null>        <Null>    <Null>       Yes      Yes     Yes   \n",
       "12710     <Null>  <Null>        <Null>    <Null>       Yes      Yes     Yes   \n",
       "12711     <Null>  <Null>        <Null>    <Null>       Yes      Yes     Yes   \n",
       "12712     <Null>  <Null>        <Null>    <Null>       Yes      Yes     Yes   \n",
       "12713     <Null>  <Null>        <Null>    <Null>       Yes      Yes     Yes   \n",
       "\n",
       "      REDLIGHT ALCOHOL DISABILITY POLICE_DIVISION  HOOD_ID  \\\n",
       "12708   <Null>  <Null>     <Null>             D31       25   \n",
       "12709   <Null>  <Null>     <Null>             D31       25   \n",
       "12710   <Null>  <Null>     <Null>             D31       25   \n",
       "12711   <Null>  <Null>     <Null>             D31       25   \n",
       "12712   <Null>  <Null>     <Null>             D31       25   \n",
       "12713   <Null>  <Null>     <Null>             D31       25   \n",
       "\n",
       "                     NEIGHBOURHOOD  ObjectId  \n",
       "12708  Glenfield-Jane Heights (25)     12709  \n",
       "12709  Glenfield-Jane Heights (25)     12710  \n",
       "12710  Glenfield-Jane Heights (25)     12711  \n",
       "12711  Glenfield-Jane Heights (25)     12712  \n",
       "12712  Glenfield-Jane Heights (25)     12713  \n",
       "12713  Glenfield-Jane Heights (25)     12714  "
      ]
     },
     "execution_count": 20,
     "metadata": {},
     "output_type": "execute_result"
    }
   ],
   "source": [
    "df[df['ACCNUM'] == 6000607400]"
   ]
  },
  {
   "cell_type": "code",
   "execution_count": 50,
   "metadata": {},
   "outputs": [],
   "source": [
    "# making small function to collapse all drinking conditions into one\n",
    "\n",
    "def drivcond(col):\n",
    "    if col['DRIVCOND'] in ('Ability Impaired, Alcohol Over .08', 'Had Been Drinking', 'Ability Impaired, Alcohol'):\n",
    "        return 'Drinking'\n",
    "    \n",
    "    # if not drinking, return condition\n",
    "    \n",
    "    return col['DRIVCOND']"
   ]
  },
  {
   "cell_type": "code",
   "execution_count": 51,
   "metadata": {},
   "outputs": [],
   "source": [
    "df['DRIVCOND2'] = df.apply(drivcond, axis = 1)"
   ]
  },
  {
   "cell_type": "code",
   "execution_count": 52,
   "metadata": {},
   "outputs": [
    {
     "data": {
      "text/plain": [
       "<AxesSubplot:ylabel='DRIVCOND2'>"
      ]
     },
     "execution_count": 52,
     "metadata": {},
     "output_type": "execute_result"
    },
    {
     "data": {
      "image/png": "[encoded data removed]",
      "text/plain": [
       "<Figure size 432x288 with 1 Axes>"
      ]
     },
     "metadata": {
      "needs_background": "light"
     },
     "output_type": "display_data"
    }
   ],
   "source": [
    "df.groupby('DRIVCOND2')['ACCNUM'].nunique().sort_values().plot(kind = 'barh')"
   ]
  },
  {
   "cell_type": "code",
   "execution_count": 41,
   "metadata": {},
   "outputs": [
    {
     "data": {
      "text/plain": [
       "<AxesSubplot:ylabel='INVAGE'>"
      ]
     },
     "execution_count": 41,
     "metadata": {},
     "output_type": "execute_result"
    },
    {
     "data": {
      "image/png": "[encoded data removed]",
      "text/plain": [
       "<Figure size 576x360 with 1 Axes>"
      ]
     },
     "metadata": {
      "needs_background": "light"
     },
     "output_type": "display_data"
    }
   ],
   "source": [
    "df.groupby('INVAGE')['ACCNUM'].nunique().sort_values().plot(kind = 'barh', figsize = (8,5))"
   ]
  },
  {
   "cell_type": "code",
   "execution_count": 43,
   "metadata": {},
   "outputs": [
    {
     "data": {
      "text/plain": [
       "<AxesSubplot:>"
      ]
     },
     "execution_count": 43,
     "metadata": {},
     "output_type": "execute_result"
    },
    {
     "data": {
      "image/png": "[encoded data removed]",
      "text/plain": [
       "<Figure size 432x288 with 1 Axes>"
      ]
     },
     "metadata": {
      "needs_background": "light"
     },
     "output_type": "display_data"
    }
   ],
   "source": [
    "df['STREET1'].value_counts().sort_values(ascending = False)[:20].plot.barh()"
   ]
  },
  {
   "cell_type": "code",
   "execution_count": 45,
   "metadata": {},
   "outputs": [
    {
     "data": {
      "text/plain": [
       "<AxesSubplot:>"
      ]
     },
     "execution_count": 45,
     "metadata": {},
     "output_type": "execute_result"
    },
    {
     "data": {
      "image/png": "[encoded data removed]",
      "text/plain": [
       "<Figure size 432x288 with 1 Axes>"
      ]
     },
     "metadata": {
      "needs_background": "light"
     },
     "output_type": "display_data"
    }
   ],
   "source": [
    "df['STREET2'].value_counts().sort_values(ascending = False)[:10].plot.barh()"
   ]
  }
 ],
 "metadata": {
  "interpreter": {
   "hash": "a00b87f3dafb8c5b0afdf77add0e2432ad578e1240a81446720c0c7d6c46e214"
  },
  "kernelspec": {
   "display_name": "Python 3.9.10 64-bit (windows store)",
   "language": "python",
   "name": "python3"
  },
  "language_info": {
   "codemirror_mode": {
    "name": "ipython",
    "version": 3
   },
   "file_extension": ".py",
   "mimetype": "text/x-python",
   "name": "python",
   "nbconvert_exporter": "python",
   "pygments_lexer": "ipython3",
   "version": "3.9.10"
  },
  "orig_nbformat": 4
 },
 "nbformat": 4,
 "nbformat_minor": 2
}
