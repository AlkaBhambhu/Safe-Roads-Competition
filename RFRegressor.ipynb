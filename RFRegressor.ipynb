{
 "cells": [
  {
   "cell_type": "code",
   "execution_count": 1,
   "metadata": {},
   "outputs": [],
   "source": [
    "import pandas as pd\n",
    "import sklearn\n",
    "import numpy as np\n",
    "import util\n",
    "import seaborn as sns\n",
    "import matplotlib.pyplot as plt"
   ]
  },
  {
   "cell_type": "code",
   "execution_count": 2,
   "metadata": {},
   "outputs": [],
   "source": [
    "from sklearn.ensemble import RandomForestClassifier, GradientBoostingClassifier, RandomForestRegressor\n",
    "from sklearn.tree import DecisionTreeClassifier, DecisionTreeRegressor\n",
    "from sklearn.model_selection import train_test_split, cross_val_score, GridSearchCV\n",
    "import pydotplus\n",
    "from dmba import plotDecisionTree, classificationSummary, regressionSummary"
   ]
  },
  {
   "cell_type": "code",
   "execution_count": 3,
   "metadata": {},
   "outputs": [],
   "source": [
    "from sklearn.linear_model import LinearRegression, Lasso, Ridge, LassoCV, BayesianRidge \n",
    "import statsmodels.formula.api as sm \n",
    "import matplotlib.pylab as plt \n",
    "from dmba import regressionSummary, exhaustive_search \n",
    "from dmba import adjusted_r2_score, AIC_score, BIC_score"
   ]
  },
  {
   "cell_type": "code",
   "execution_count": 4,
   "metadata": {},
   "outputs": [],
   "source": [
    "pd.set_option('max_columns', None)"
   ]
  },
  {
   "cell_type": "code",
   "execution_count": 6,
   "metadata": {},
   "outputs": [],
   "source": [
    "ksi_collapse = pd.read_csv('Data/KSI_Collapse_Count.csv', index_col = 0)\n",
    "hazardous_df = pd.read_csv('Data/Hazardous_Driving_Areas_Toronto.csv')\n",
    "road_df = pd.read_csv('Data/Road_Impediments_Toronto.csv')"
   ]
  },
  {
   "cell_type": "code",
   "execution_count": 5,
   "metadata": {},
   "outputs": [],
   "source": [
    "#df = pd.read_csv('Data/Hazardous_KSI_Merge.csv', index_col = 0)\n",
    "df2 = pd.read_csv('Data/Hazardous_KSI_Merge_round2.csv', index_col = 0)\n",
    "df3 = pd.read_csv('Data/KSI_Reg_Collapse.csv', index_col = 0)"
   ]
  },
  {
   "cell_type": "code",
   "execution_count": 33,
   "metadata": {},
   "outputs": [
    {
     "data": {
      "text/html": [
       "<div>\n",
       "<style scoped>\n",
       "    .dataframe tbody tr th:only-of-type {\n",
       "        vertical-align: middle;\n",
       "    }\n",
       "\n",
       "    .dataframe tbody tr th {\n",
       "        vertical-align: top;\n",
       "    }\n",
       "\n",
       "    .dataframe thead th {\n",
       "        text-align: right;\n",
       "    }\n",
       "</style>\n",
       "<table border=\"1\" class=\"dataframe\">\n",
       "  <thead>\n",
       "    <tr style=\"text-align: right;\">\n",
       "      <th></th>\n",
       "      <th>Latitude</th>\n",
       "      <th>Longitude</th>\n",
       "      <th>IncidentsTotal</th>\n",
       "      <th>SeverityScore</th>\n",
       "      <th>LATITUDE</th>\n",
       "      <th>LONGITUDE</th>\n",
       "      <th>COUNT</th>\n",
       "    </tr>\n",
       "  </thead>\n",
       "  <tbody>\n",
       "    <tr>\n",
       "      <th>75</th>\n",
       "      <td>43.65</td>\n",
       "      <td>-79.38</td>\n",
       "      <td>441</td>\n",
       "      <td>0.012690</td>\n",
       "      <td>43.65</td>\n",
       "      <td>-79.38</td>\n",
       "      <td>84</td>\n",
       "    </tr>\n",
       "    <tr>\n",
       "      <th>76</th>\n",
       "      <td>43.65</td>\n",
       "      <td>-79.37</td>\n",
       "      <td>241</td>\n",
       "      <td>0.010583</td>\n",
       "      <td>43.65</td>\n",
       "      <td>-79.37</td>\n",
       "      <td>76</td>\n",
       "    </tr>\n",
       "    <tr>\n",
       "      <th>58</th>\n",
       "      <td>43.64</td>\n",
       "      <td>-79.38</td>\n",
       "      <td>1042</td>\n",
       "      <td>0.014000</td>\n",
       "      <td>43.64</td>\n",
       "      <td>-79.38</td>\n",
       "      <td>61</td>\n",
       "    </tr>\n",
       "    <tr>\n",
       "      <th>59</th>\n",
       "      <td>43.64</td>\n",
       "      <td>-79.37</td>\n",
       "      <td>1028</td>\n",
       "      <td>0.025423</td>\n",
       "      <td>43.64</td>\n",
       "      <td>-79.37</td>\n",
       "      <td>61</td>\n",
       "    </tr>\n",
       "    <tr>\n",
       "      <th>74</th>\n",
       "      <td>43.65</td>\n",
       "      <td>-79.39</td>\n",
       "      <td>31</td>\n",
       "      <td>0.012000</td>\n",
       "      <td>43.65</td>\n",
       "      <td>-79.39</td>\n",
       "      <td>54</td>\n",
       "    </tr>\n",
       "    <tr>\n",
       "      <th>...</th>\n",
       "      <td>...</td>\n",
       "      <td>...</td>\n",
       "      <td>...</td>\n",
       "      <td>...</td>\n",
       "      <td>...</td>\n",
       "      <td>...</td>\n",
       "      <td>...</td>\n",
       "    </tr>\n",
       "    <tr>\n",
       "      <th>287</th>\n",
       "      <td>43.73</td>\n",
       "      <td>-79.62</td>\n",
       "      <td>153</td>\n",
       "      <td>0.014000</td>\n",
       "      <td>43.73</td>\n",
       "      <td>-79.62</td>\n",
       "      <td>1</td>\n",
       "    </tr>\n",
       "    <tr>\n",
       "      <th>157</th>\n",
       "      <td>43.69</td>\n",
       "      <td>-79.59</td>\n",
       "      <td>79</td>\n",
       "      <td>0.010750</td>\n",
       "      <td>43.69</td>\n",
       "      <td>-79.59</td>\n",
       "      <td>1</td>\n",
       "    </tr>\n",
       "    <tr>\n",
       "      <th>505</th>\n",
       "      <td>43.80</td>\n",
       "      <td>-79.24</td>\n",
       "      <td>54</td>\n",
       "      <td>0.017250</td>\n",
       "      <td>43.80</td>\n",
       "      <td>-79.24</td>\n",
       "      <td>1</td>\n",
       "    </tr>\n",
       "    <tr>\n",
       "      <th>108</th>\n",
       "      <td>43.67</td>\n",
       "      <td>-79.57</td>\n",
       "      <td>191</td>\n",
       "      <td>0.003467</td>\n",
       "      <td>43.67</td>\n",
       "      <td>-79.57</td>\n",
       "      <td>1</td>\n",
       "    </tr>\n",
       "    <tr>\n",
       "      <th>531</th>\n",
       "      <td>43.85</td>\n",
       "      <td>-79.18</td>\n",
       "      <td>3</td>\n",
       "      <td>0.032000</td>\n",
       "      <td>43.85</td>\n",
       "      <td>-79.18</td>\n",
       "      <td>1</td>\n",
       "    </tr>\n",
       "  </tbody>\n",
       "</table>\n",
       "<p>532 rows × 7 columns</p>\n",
       "</div>"
      ],
      "text/plain": [
       "     Latitude  Longitude  IncidentsTotal  SeverityScore  LATITUDE  LONGITUDE  \\\n",
       "75      43.65     -79.38             441       0.012690     43.65     -79.38   \n",
       "76      43.65     -79.37             241       0.010583     43.65     -79.37   \n",
       "58      43.64     -79.38            1042       0.014000     43.64     -79.38   \n",
       "59      43.64     -79.37            1028       0.025423     43.64     -79.37   \n",
       "74      43.65     -79.39              31       0.012000     43.65     -79.39   \n",
       "..        ...        ...             ...            ...       ...        ...   \n",
       "287     43.73     -79.62             153       0.014000     43.73     -79.62   \n",
       "157     43.69     -79.59              79       0.010750     43.69     -79.59   \n",
       "505     43.80     -79.24              54       0.017250     43.80     -79.24   \n",
       "108     43.67     -79.57             191       0.003467     43.67     -79.57   \n",
       "531     43.85     -79.18               3       0.032000     43.85     -79.18   \n",
       "\n",
       "     COUNT  \n",
       "75      84  \n",
       "76      76  \n",
       "58      61  \n",
       "59      61  \n",
       "74      54  \n",
       "..     ...  \n",
       "287      1  \n",
       "157      1  \n",
       "505      1  \n",
       "108      1  \n",
       "531      1  \n",
       "\n",
       "[532 rows x 7 columns]"
      ]
     },
     "execution_count": 33,
     "metadata": {},
     "output_type": "execute_result"
    }
   ],
   "source": [
    "df2.sort_values(by = 'COUNT', ascending = False)"
   ]
  },
  {
   "cell_type": "code",
   "execution_count": 51,
   "metadata": {},
   "outputs": [],
   "source": [
    "road_df['Latitude'] = road_df['Latitude'].apply(util.truncate, args = (2, ))\n",
    "road_df['Longitude'] = road_df['Longitude'].apply(util.truncate, args = (2, ))"
   ]
  },
  {
   "cell_type": "code",
   "execution_count": 52,
   "metadata": {},
   "outputs": [
    {
     "data": {
      "text/html": [
       "<div>\n",
       "<style scoped>\n",
       "    .dataframe tbody tr th:only-of-type {\n",
       "        vertical-align: middle;\n",
       "    }\n",
       "\n",
       "    .dataframe tbody tr th {\n",
       "        vertical-align: top;\n",
       "    }\n",
       "\n",
       "    .dataframe thead th {\n",
       "        text-align: right;\n",
       "    }\n",
       "</style>\n",
       "<table border=\"1\" class=\"dataframe\">\n",
       "  <thead>\n",
       "    <tr style=\"text-align: right;\">\n",
       "      <th></th>\n",
       "      <th>Geohash</th>\n",
       "      <th>GeohashBounds</th>\n",
       "      <th>Latitude_SW</th>\n",
       "      <th>Longitude_SW</th>\n",
       "      <th>Latitude_NE</th>\n",
       "      <th>Longitude_NE</th>\n",
       "      <th>Location</th>\n",
       "      <th>Latitude</th>\n",
       "      <th>Longitude</th>\n",
       "      <th>City</th>\n",
       "      <th>County</th>\n",
       "      <th>State</th>\n",
       "      <th>Country</th>\n",
       "      <th>ISO_3166_2</th>\n",
       "      <th>AvgAcceleration</th>\n",
       "      <th>PercentOfVehicles</th>\n",
       "      <th>PercentCar</th>\n",
       "      <th>PercentMPV</th>\n",
       "      <th>PercentLDT</th>\n",
       "      <th>PercentMDT</th>\n",
       "      <th>PercentHDT</th>\n",
       "      <th>PercentOther</th>\n",
       "      <th>UpdateDate</th>\n",
       "      <th>Version</th>\n",
       "    </tr>\n",
       "  </thead>\n",
       "  <tbody>\n",
       "    <tr>\n",
       "      <th>0</th>\n",
       "      <td>dpz2yfwh</td>\n",
       "      <td>POLYGON((-79.4998168945312 43.7400054931641, -...</td>\n",
       "      <td>43.740</td>\n",
       "      <td>-79.500</td>\n",
       "      <td>43.740</td>\n",
       "      <td>-79.499</td>\n",
       "      <td>POINT(-79.49973 43.74017)</td>\n",
       "      <td>43.74</td>\n",
       "      <td>-79.50</td>\n",
       "      <td>Toronto</td>\n",
       "      <td>NaN</td>\n",
       "      <td>Ontario</td>\n",
       "      <td>Canada</td>\n",
       "      <td>CA-ON</td>\n",
       "      <td>1.138</td>\n",
       "      <td>0.130</td>\n",
       "      <td>0.000</td>\n",
       "      <td>0.087</td>\n",
       "      <td>0.130</td>\n",
       "      <td>0.044</td>\n",
       "      <td>0.261</td>\n",
       "      <td>0.478</td>\n",
       "      <td>2021-07-20</td>\n",
       "      <td>3.1</td>\n",
       "    </tr>\n",
       "    <tr>\n",
       "      <th>1</th>\n",
       "      <td>dpz8u7gy</td>\n",
       "      <td>POLYGON((-79.2612075805664 43.7472152709961, -...</td>\n",
       "      <td>43.747</td>\n",
       "      <td>-79.261</td>\n",
       "      <td>43.747</td>\n",
       "      <td>-79.261</td>\n",
       "      <td>POINT(-79.26096 43.74731)</td>\n",
       "      <td>43.74</td>\n",
       "      <td>-79.26</td>\n",
       "      <td>Toronto</td>\n",
       "      <td>NaN</td>\n",
       "      <td>Ontario</td>\n",
       "      <td>Canada</td>\n",
       "      <td>CA-ON</td>\n",
       "      <td>0.452</td>\n",
       "      <td>0.035</td>\n",
       "      <td>0.018</td>\n",
       "      <td>0.312</td>\n",
       "      <td>0.477</td>\n",
       "      <td>0.047</td>\n",
       "      <td>0.024</td>\n",
       "      <td>0.124</td>\n",
       "      <td>2021-07-20</td>\n",
       "      <td>3.1</td>\n",
       "    </tr>\n",
       "    <tr>\n",
       "      <th>2</th>\n",
       "      <td>dpz9m1ny</td>\n",
       "      <td>POLYGON((-79.2241287231445 43.8199996948242, -...</td>\n",
       "      <td>43.820</td>\n",
       "      <td>-79.224</td>\n",
       "      <td>43.820</td>\n",
       "      <td>-79.224</td>\n",
       "      <td>POINT(-79.22411 43.82008)</td>\n",
       "      <td>43.82</td>\n",
       "      <td>-79.22</td>\n",
       "      <td>Toronto</td>\n",
       "      <td>NaN</td>\n",
       "      <td>Ontario</td>\n",
       "      <td>Canada</td>\n",
       "      <td>CA-ON</td>\n",
       "      <td>1.269</td>\n",
       "      <td>0.001</td>\n",
       "      <td>0.026</td>\n",
       "      <td>0.129</td>\n",
       "      <td>0.459</td>\n",
       "      <td>0.052</td>\n",
       "      <td>0.197</td>\n",
       "      <td>0.137</td>\n",
       "      <td>2021-07-20</td>\n",
       "      <td>3.1</td>\n",
       "    </tr>\n",
       "    <tr>\n",
       "      <th>3</th>\n",
       "      <td>dpz8dkqx</td>\n",
       "      <td>POLYGON((-79.3453216552734 43.7061882019043, -...</td>\n",
       "      <td>43.706</td>\n",
       "      <td>-79.345</td>\n",
       "      <td>43.706</td>\n",
       "      <td>-79.345</td>\n",
       "      <td>POINT(-79.34521 43.70632)</td>\n",
       "      <td>43.70</td>\n",
       "      <td>-79.34</td>\n",
       "      <td>Toronto</td>\n",
       "      <td>NaN</td>\n",
       "      <td>Ontario</td>\n",
       "      <td>Canada</td>\n",
       "      <td>CA-ON</td>\n",
       "      <td>0.275</td>\n",
       "      <td>0.065</td>\n",
       "      <td>0.046</td>\n",
       "      <td>0.296</td>\n",
       "      <td>0.299</td>\n",
       "      <td>0.125</td>\n",
       "      <td>0.147</td>\n",
       "      <td>0.087</td>\n",
       "      <td>2021-07-20</td>\n",
       "      <td>3.1</td>\n",
       "    </tr>\n",
       "    <tr>\n",
       "      <th>4</th>\n",
       "      <td>dpz91gd3</td>\n",
       "      <td>POLYGON((-79.3731307983398 43.7889289855957, -...</td>\n",
       "      <td>43.789</td>\n",
       "      <td>-79.373</td>\n",
       "      <td>43.789</td>\n",
       "      <td>-79.373</td>\n",
       "      <td>POINT(-79.37311 43.78904)</td>\n",
       "      <td>43.78</td>\n",
       "      <td>-79.37</td>\n",
       "      <td>Toronto</td>\n",
       "      <td>NaN</td>\n",
       "      <td>Ontario</td>\n",
       "      <td>Canada</td>\n",
       "      <td>CA-ON</td>\n",
       "      <td>0.400</td>\n",
       "      <td>0.183</td>\n",
       "      <td>0.049</td>\n",
       "      <td>0.409</td>\n",
       "      <td>0.359</td>\n",
       "      <td>0.028</td>\n",
       "      <td>0.063</td>\n",
       "      <td>0.091</td>\n",
       "      <td>2021-07-20</td>\n",
       "      <td>3.1</td>\n",
       "    </tr>\n",
       "    <tr>\n",
       "      <th>...</th>\n",
       "      <td>...</td>\n",
       "      <td>...</td>\n",
       "      <td>...</td>\n",
       "      <td>...</td>\n",
       "      <td>...</td>\n",
       "      <td>...</td>\n",
       "      <td>...</td>\n",
       "      <td>...</td>\n",
       "      <td>...</td>\n",
       "      <td>...</td>\n",
       "      <td>...</td>\n",
       "      <td>...</td>\n",
       "      <td>...</td>\n",
       "      <td>...</td>\n",
       "      <td>...</td>\n",
       "      <td>...</td>\n",
       "      <td>...</td>\n",
       "      <td>...</td>\n",
       "      <td>...</td>\n",
       "      <td>...</td>\n",
       "      <td>...</td>\n",
       "      <td>...</td>\n",
       "      <td>...</td>\n",
       "      <td>...</td>\n",
       "    </tr>\n",
       "    <tr>\n",
       "      <th>49995</th>\n",
       "      <td>dpz83fub</td>\n",
       "      <td>POLYGON((-79.3696975708008 43.6528015136719, -...</td>\n",
       "      <td>43.653</td>\n",
       "      <td>-79.370</td>\n",
       "      <td>43.653</td>\n",
       "      <td>-79.369</td>\n",
       "      <td>POINT(-79.36953 43.65292)</td>\n",
       "      <td>43.65</td>\n",
       "      <td>-79.37</td>\n",
       "      <td>Toronto</td>\n",
       "      <td>NaN</td>\n",
       "      <td>Ontario</td>\n",
       "      <td>Canada</td>\n",
       "      <td>CA-ON</td>\n",
       "      <td>0.784</td>\n",
       "      <td>0.056</td>\n",
       "      <td>0.354</td>\n",
       "      <td>0.090</td>\n",
       "      <td>0.264</td>\n",
       "      <td>0.021</td>\n",
       "      <td>0.090</td>\n",
       "      <td>0.181</td>\n",
       "      <td>2021-07-20</td>\n",
       "      <td>3.1</td>\n",
       "    </tr>\n",
       "    <tr>\n",
       "      <th>49996</th>\n",
       "      <td>dpz2v9nm</td>\n",
       "      <td>POLYGON((-79.5544052124023 43.7319374084473, -...</td>\n",
       "      <td>43.732</td>\n",
       "      <td>-79.554</td>\n",
       "      <td>43.732</td>\n",
       "      <td>-79.554</td>\n",
       "      <td>POINT(-79.55418 43.73206)</td>\n",
       "      <td>43.73</td>\n",
       "      <td>-79.55</td>\n",
       "      <td>Toronto</td>\n",
       "      <td>NaN</td>\n",
       "      <td>Ontario</td>\n",
       "      <td>Canada</td>\n",
       "      <td>CA-ON</td>\n",
       "      <td>0.579</td>\n",
       "      <td>0.023</td>\n",
       "      <td>0.031</td>\n",
       "      <td>0.132</td>\n",
       "      <td>0.403</td>\n",
       "      <td>0.078</td>\n",
       "      <td>0.171</td>\n",
       "      <td>0.186</td>\n",
       "      <td>2021-07-20</td>\n",
       "      <td>3.1</td>\n",
       "    </tr>\n",
       "    <tr>\n",
       "      <th>49997</th>\n",
       "      <td>dpz88k9q</td>\n",
       "      <td>POLYGON((-79.4404220581055 43.707389831543, -7...</td>\n",
       "      <td>43.707</td>\n",
       "      <td>-79.440</td>\n",
       "      <td>43.708</td>\n",
       "      <td>-79.440</td>\n",
       "      <td>POINT(-79.44013 43.70749)</td>\n",
       "      <td>43.70</td>\n",
       "      <td>-79.44</td>\n",
       "      <td>Toronto</td>\n",
       "      <td>NaN</td>\n",
       "      <td>Ontario</td>\n",
       "      <td>Canada</td>\n",
       "      <td>CA-ON</td>\n",
       "      <td>0.440</td>\n",
       "      <td>0.000</td>\n",
       "      <td>0.042</td>\n",
       "      <td>0.180</td>\n",
       "      <td>0.446</td>\n",
       "      <td>0.082</td>\n",
       "      <td>0.113</td>\n",
       "      <td>0.138</td>\n",
       "      <td>2021-07-20</td>\n",
       "      <td>3.1</td>\n",
       "    </tr>\n",
       "    <tr>\n",
       "      <th>49998</th>\n",
       "      <td>dpz2tcsn</td>\n",
       "      <td>POLYGON((-79.5465087890625 43.6909103393555, -...</td>\n",
       "      <td>43.691</td>\n",
       "      <td>-79.547</td>\n",
       "      <td>43.691</td>\n",
       "      <td>-79.546</td>\n",
       "      <td>POINT(-79.54631 43.69093)</td>\n",
       "      <td>43.69</td>\n",
       "      <td>-79.54</td>\n",
       "      <td>Toronto</td>\n",
       "      <td>NaN</td>\n",
       "      <td>Ontario</td>\n",
       "      <td>Canada</td>\n",
       "      <td>CA-ON</td>\n",
       "      <td>0.340</td>\n",
       "      <td>0.037</td>\n",
       "      <td>0.009</td>\n",
       "      <td>0.213</td>\n",
       "      <td>0.398</td>\n",
       "      <td>0.037</td>\n",
       "      <td>0.250</td>\n",
       "      <td>0.093</td>\n",
       "      <td>2021-07-20</td>\n",
       "      <td>3.1</td>\n",
       "    </tr>\n",
       "    <tr>\n",
       "      <th>49999</th>\n",
       "      <td>dpz2xwyq</td>\n",
       "      <td>POLYGON((-79.4665145874023 43.7197494506836, -...</td>\n",
       "      <td>43.720</td>\n",
       "      <td>-79.467</td>\n",
       "      <td>43.720</td>\n",
       "      <td>-79.466</td>\n",
       "      <td>POINT(-79.46634 43.71985)</td>\n",
       "      <td>43.72</td>\n",
       "      <td>-79.46</td>\n",
       "      <td>Toronto</td>\n",
       "      <td>NaN</td>\n",
       "      <td>Ontario</td>\n",
       "      <td>Canada</td>\n",
       "      <td>CA-ON</td>\n",
       "      <td>0.497</td>\n",
       "      <td>0.051</td>\n",
       "      <td>0.051</td>\n",
       "      <td>0.103</td>\n",
       "      <td>0.231</td>\n",
       "      <td>0.462</td>\n",
       "      <td>0.077</td>\n",
       "      <td>0.077</td>\n",
       "      <td>2021-07-20</td>\n",
       "      <td>3.1</td>\n",
       "    </tr>\n",
       "  </tbody>\n",
       "</table>\n",
       "<p>50000 rows × 24 columns</p>\n",
       "</div>"
      ],
      "text/plain": [
       "        Geohash                                      GeohashBounds  \\\n",
       "0      dpz2yfwh  POLYGON((-79.4998168945312 43.7400054931641, -...   \n",
       "1      dpz8u7gy  POLYGON((-79.2612075805664 43.7472152709961, -...   \n",
       "2      dpz9m1ny  POLYGON((-79.2241287231445 43.8199996948242, -...   \n",
       "3      dpz8dkqx  POLYGON((-79.3453216552734 43.7061882019043, -...   \n",
       "4      dpz91gd3  POLYGON((-79.3731307983398 43.7889289855957, -...   \n",
       "...         ...                                                ...   \n",
       "49995  dpz83fub  POLYGON((-79.3696975708008 43.6528015136719, -...   \n",
       "49996  dpz2v9nm  POLYGON((-79.5544052124023 43.7319374084473, -...   \n",
       "49997  dpz88k9q  POLYGON((-79.4404220581055 43.707389831543, -7...   \n",
       "49998  dpz2tcsn  POLYGON((-79.5465087890625 43.6909103393555, -...   \n",
       "49999  dpz2xwyq  POLYGON((-79.4665145874023 43.7197494506836, -...   \n",
       "\n",
       "       Latitude_SW  Longitude_SW  Latitude_NE  Longitude_NE  \\\n",
       "0           43.740       -79.500       43.740       -79.499   \n",
       "1           43.747       -79.261       43.747       -79.261   \n",
       "2           43.820       -79.224       43.820       -79.224   \n",
       "3           43.706       -79.345       43.706       -79.345   \n",
       "4           43.789       -79.373       43.789       -79.373   \n",
       "...            ...           ...          ...           ...   \n",
       "49995       43.653       -79.370       43.653       -79.369   \n",
       "49996       43.732       -79.554       43.732       -79.554   \n",
       "49997       43.707       -79.440       43.708       -79.440   \n",
       "49998       43.691       -79.547       43.691       -79.546   \n",
       "49999       43.720       -79.467       43.720       -79.466   \n",
       "\n",
       "                        Location  Latitude  Longitude     City  County  \\\n",
       "0      POINT(-79.49973 43.74017)     43.74     -79.50  Toronto     NaN   \n",
       "1      POINT(-79.26096 43.74731)     43.74     -79.26  Toronto     NaN   \n",
       "2      POINT(-79.22411 43.82008)     43.82     -79.22  Toronto     NaN   \n",
       "3      POINT(-79.34521 43.70632)     43.70     -79.34  Toronto     NaN   \n",
       "4      POINT(-79.37311 43.78904)     43.78     -79.37  Toronto     NaN   \n",
       "...                          ...       ...        ...      ...     ...   \n",
       "49995  POINT(-79.36953 43.65292)     43.65     -79.37  Toronto     NaN   \n",
       "49996  POINT(-79.55418 43.73206)     43.73     -79.55  Toronto     NaN   \n",
       "49997  POINT(-79.44013 43.70749)     43.70     -79.44  Toronto     NaN   \n",
       "49998  POINT(-79.54631 43.69093)     43.69     -79.54  Toronto     NaN   \n",
       "49999  POINT(-79.46634 43.71985)     43.72     -79.46  Toronto     NaN   \n",
       "\n",
       "         State Country ISO_3166_2  AvgAcceleration  PercentOfVehicles  \\\n",
       "0      Ontario  Canada      CA-ON            1.138              0.130   \n",
       "1      Ontario  Canada      CA-ON            0.452              0.035   \n",
       "2      Ontario  Canada      CA-ON            1.269              0.001   \n",
       "3      Ontario  Canada      CA-ON            0.275              0.065   \n",
       "4      Ontario  Canada      CA-ON            0.400              0.183   \n",
       "...        ...     ...        ...              ...                ...   \n",
       "49995  Ontario  Canada      CA-ON            0.784              0.056   \n",
       "49996  Ontario  Canada      CA-ON            0.579              0.023   \n",
       "49997  Ontario  Canada      CA-ON            0.440              0.000   \n",
       "49998  Ontario  Canada      CA-ON            0.340              0.037   \n",
       "49999  Ontario  Canada      CA-ON            0.497              0.051   \n",
       "\n",
       "       PercentCar  PercentMPV  PercentLDT  PercentMDT  PercentHDT  \\\n",
       "0           0.000       0.087       0.130       0.044       0.261   \n",
       "1           0.018       0.312       0.477       0.047       0.024   \n",
       "2           0.026       0.129       0.459       0.052       0.197   \n",
       "3           0.046       0.296       0.299       0.125       0.147   \n",
       "4           0.049       0.409       0.359       0.028       0.063   \n",
       "...           ...         ...         ...         ...         ...   \n",
       "49995       0.354       0.090       0.264       0.021       0.090   \n",
       "49996       0.031       0.132       0.403       0.078       0.171   \n",
       "49997       0.042       0.180       0.446       0.082       0.113   \n",
       "49998       0.009       0.213       0.398       0.037       0.250   \n",
       "49999       0.051       0.103       0.231       0.462       0.077   \n",
       "\n",
       "       PercentOther  UpdateDate  Version  \n",
       "0             0.478  2021-07-20      3.1  \n",
       "1             0.124  2021-07-20      3.1  \n",
       "2             0.137  2021-07-20      3.1  \n",
       "3             0.087  2021-07-20      3.1  \n",
       "4             0.091  2021-07-20      3.1  \n",
       "...             ...         ...      ...  \n",
       "49995         0.181  2021-07-20      3.1  \n",
       "49996         0.186  2021-07-20      3.1  \n",
       "49997         0.138  2021-07-20      3.1  \n",
       "49998         0.093  2021-07-20      3.1  \n",
       "49999         0.077  2021-07-20      3.1  \n",
       "\n",
       "[50000 rows x 24 columns]"
      ]
     },
     "execution_count": 52,
     "metadata": {},
     "output_type": "execute_result"
    }
   ],
   "source": [
    "road_df"
   ]
  },
  {
   "cell_type": "code",
   "execution_count": 53,
   "metadata": {},
   "outputs": [],
   "source": [
    "road_df = road_df[['Latitude', 'Longitude', 'AvgAcceleration', 'PercentOfVehicles']]"
   ]
  },
  {
   "cell_type": "code",
   "execution_count": 54,
   "metadata": {},
   "outputs": [],
   "source": [
    "road_collapse = road_df.pivot_table(values = ['AvgAcceleration', 'PercentOfVehicles'], index = ['Latitude', 'Longitude'], aggfunc = np.mean).reset_index()"
   ]
  },
  {
   "cell_type": "code",
   "execution_count": 59,
   "metadata": {},
   "outputs": [],
   "source": [
    "road_merge = road_collapse.merge(df2, on = ['Latitude', 'Longitude'], how = 'inner')"
   ]
  },
  {
   "cell_type": "code",
   "execution_count": 60,
   "metadata": {},
   "outputs": [
    {
     "data": {
      "text/html": [
       "<div>\n",
       "<style scoped>\n",
       "    .dataframe tbody tr th:only-of-type {\n",
       "        vertical-align: middle;\n",
       "    }\n",
       "\n",
       "    .dataframe tbody tr th {\n",
       "        vertical-align: top;\n",
       "    }\n",
       "\n",
       "    .dataframe thead th {\n",
       "        text-align: right;\n",
       "    }\n",
       "</style>\n",
       "<table border=\"1\" class=\"dataframe\">\n",
       "  <thead>\n",
       "    <tr style=\"text-align: right;\">\n",
       "      <th></th>\n",
       "      <th>Latitude</th>\n",
       "      <th>Longitude</th>\n",
       "      <th>AvgAcceleration</th>\n",
       "      <th>PercentOfVehicles</th>\n",
       "      <th>IncidentsTotal</th>\n",
       "      <th>SeverityScore</th>\n",
       "      <th>LATITUDE</th>\n",
       "      <th>LONGITUDE</th>\n",
       "      <th>COUNT</th>\n",
       "    </tr>\n",
       "  </thead>\n",
       "  <tbody>\n",
       "    <tr>\n",
       "      <th>0</th>\n",
       "      <td>43.59</td>\n",
       "      <td>-79.54</td>\n",
       "      <td>0.460962</td>\n",
       "      <td>0.056392</td>\n",
       "      <td>47</td>\n",
       "      <td>0.047750</td>\n",
       "      <td>43.59</td>\n",
       "      <td>-79.54</td>\n",
       "      <td>4</td>\n",
       "    </tr>\n",
       "    <tr>\n",
       "      <th>1</th>\n",
       "      <td>43.59</td>\n",
       "      <td>-79.53</td>\n",
       "      <td>0.491975</td>\n",
       "      <td>0.072370</td>\n",
       "      <td>8</td>\n",
       "      <td>0.022000</td>\n",
       "      <td>43.59</td>\n",
       "      <td>-79.53</td>\n",
       "      <td>11</td>\n",
       "    </tr>\n",
       "    <tr>\n",
       "      <th>2</th>\n",
       "      <td>43.59</td>\n",
       "      <td>-79.51</td>\n",
       "      <td>0.550310</td>\n",
       "      <td>0.052643</td>\n",
       "      <td>6</td>\n",
       "      <td>0.028000</td>\n",
       "      <td>43.59</td>\n",
       "      <td>-79.51</td>\n",
       "      <td>6</td>\n",
       "    </tr>\n",
       "    <tr>\n",
       "      <th>3</th>\n",
       "      <td>43.60</td>\n",
       "      <td>-79.55</td>\n",
       "      <td>0.481229</td>\n",
       "      <td>0.043186</td>\n",
       "      <td>1419</td>\n",
       "      <td>0.029125</td>\n",
       "      <td>43.60</td>\n",
       "      <td>-79.55</td>\n",
       "      <td>2</td>\n",
       "    </tr>\n",
       "    <tr>\n",
       "      <th>4</th>\n",
       "      <td>43.60</td>\n",
       "      <td>-79.54</td>\n",
       "      <td>0.463663</td>\n",
       "      <td>0.045639</td>\n",
       "      <td>24</td>\n",
       "      <td>0.018000</td>\n",
       "      <td>43.60</td>\n",
       "      <td>-79.54</td>\n",
       "      <td>10</td>\n",
       "    </tr>\n",
       "    <tr>\n",
       "      <th>...</th>\n",
       "      <td>...</td>\n",
       "      <td>...</td>\n",
       "      <td>...</td>\n",
       "      <td>...</td>\n",
       "      <td>...</td>\n",
       "      <td>...</td>\n",
       "      <td>...</td>\n",
       "      <td>...</td>\n",
       "      <td>...</td>\n",
       "    </tr>\n",
       "    <tr>\n",
       "      <th>527</th>\n",
       "      <td>43.82</td>\n",
       "      <td>-79.22</td>\n",
       "      <td>0.496314</td>\n",
       "      <td>0.042078</td>\n",
       "      <td>6</td>\n",
       "      <td>0.015000</td>\n",
       "      <td>43.82</td>\n",
       "      <td>-79.22</td>\n",
       "      <td>1</td>\n",
       "    </tr>\n",
       "    <tr>\n",
       "      <th>528</th>\n",
       "      <td>43.83</td>\n",
       "      <td>-79.27</td>\n",
       "      <td>0.521429</td>\n",
       "      <td>0.039500</td>\n",
       "      <td>22</td>\n",
       "      <td>0.027000</td>\n",
       "      <td>43.83</td>\n",
       "      <td>-79.27</td>\n",
       "      <td>5</td>\n",
       "    </tr>\n",
       "    <tr>\n",
       "      <th>529</th>\n",
       "      <td>43.83</td>\n",
       "      <td>-79.25</td>\n",
       "      <td>0.528281</td>\n",
       "      <td>0.067625</td>\n",
       "      <td>30</td>\n",
       "      <td>0.016000</td>\n",
       "      <td>43.83</td>\n",
       "      <td>-79.25</td>\n",
       "      <td>11</td>\n",
       "    </tr>\n",
       "    <tr>\n",
       "      <th>530</th>\n",
       "      <td>43.83</td>\n",
       "      <td>-79.24</td>\n",
       "      <td>0.622744</td>\n",
       "      <td>0.058093</td>\n",
       "      <td>6</td>\n",
       "      <td>0.008000</td>\n",
       "      <td>43.83</td>\n",
       "      <td>-79.24</td>\n",
       "      <td>5</td>\n",
       "    </tr>\n",
       "    <tr>\n",
       "      <th>531</th>\n",
       "      <td>43.85</td>\n",
       "      <td>-79.18</td>\n",
       "      <td>1.096400</td>\n",
       "      <td>0.003400</td>\n",
       "      <td>3</td>\n",
       "      <td>0.032000</td>\n",
       "      <td>43.85</td>\n",
       "      <td>-79.18</td>\n",
       "      <td>1</td>\n",
       "    </tr>\n",
       "  </tbody>\n",
       "</table>\n",
       "<p>532 rows × 9 columns</p>\n",
       "</div>"
      ],
      "text/plain": [
       "     Latitude  Longitude  AvgAcceleration  PercentOfVehicles  IncidentsTotal  \\\n",
       "0       43.59     -79.54         0.460962           0.056392              47   \n",
       "1       43.59     -79.53         0.491975           0.072370               8   \n",
       "2       43.59     -79.51         0.550310           0.052643               6   \n",
       "3       43.60     -79.55         0.481229           0.043186            1419   \n",
       "4       43.60     -79.54         0.463663           0.045639              24   \n",
       "..        ...        ...              ...                ...             ...   \n",
       "527     43.82     -79.22         0.496314           0.042078               6   \n",
       "528     43.83     -79.27         0.521429           0.039500              22   \n",
       "529     43.83     -79.25         0.528281           0.067625              30   \n",
       "530     43.83     -79.24         0.622744           0.058093               6   \n",
       "531     43.85     -79.18         1.096400           0.003400               3   \n",
       "\n",
       "     SeverityScore  LATITUDE  LONGITUDE  COUNT  \n",
       "0         0.047750     43.59     -79.54      4  \n",
       "1         0.022000     43.59     -79.53     11  \n",
       "2         0.028000     43.59     -79.51      6  \n",
       "3         0.029125     43.60     -79.55      2  \n",
       "4         0.018000     43.60     -79.54     10  \n",
       "..             ...       ...        ...    ...  \n",
       "527       0.015000     43.82     -79.22      1  \n",
       "528       0.027000     43.83     -79.27      5  \n",
       "529       0.016000     43.83     -79.25     11  \n",
       "530       0.008000     43.83     -79.24      5  \n",
       "531       0.032000     43.85     -79.18      1  \n",
       "\n",
       "[532 rows x 9 columns]"
      ]
     },
     "execution_count": 60,
     "metadata": {},
     "output_type": "execute_result"
    }
   ],
   "source": [
    "road_merge"
   ]
  },
  {
   "cell_type": "code",
   "execution_count": 7,
   "metadata": {},
   "outputs": [
    {
     "ename": "NameError",
     "evalue": "name 'road_merge' is not defined",
     "output_type": "error",
     "traceback": [
      "\u001b[1;31m---------------------------------------------------------------------------\u001b[0m",
      "\u001b[1;31mNameError\u001b[0m                                 Traceback (most recent call last)",
      "\u001b[1;32m<ipython-input-7-501504a483a0>\u001b[0m in \u001b[0;36m<module>\u001b[1;34m\u001b[0m\n\u001b[1;32m----> 1\u001b[1;33m \u001b[0mroad_merge\u001b[0m\u001b[1;33m.\u001b[0m\u001b[0mto_csv\u001b[0m\u001b[1;33m(\u001b[0m\u001b[1;34m'KSI_Hazardous_Road.csv'\u001b[0m\u001b[1;33m)\u001b[0m\u001b[1;33m\u001b[0m\u001b[1;33m\u001b[0m\u001b[0m\n\u001b[0m",
      "\u001b[1;31mNameError\u001b[0m: name 'road_merge' is not defined"
     ]
    }
   ],
   "source": [
    "road_merge.to_csv('KSI_Hazardous_Road.csv')"
   ]
  },
  {
   "cell_type": "markdown",
   "metadata": {},
   "source": [
    "Don't run the creation procedure for road_merge. Just load it as a csv from the data folder.\n",
    "The code has been preserved for future purposes."
   ]
  },
  {
   "cell_type": "code",
   "execution_count": 8,
   "metadata": {},
   "outputs": [],
   "source": [
    "road_merge = pd.read_csv('Data/KSI_Hazardous_Road.csv', index_col = 0)"
   ]
  },
  {
   "cell_type": "code",
   "execution_count": 66,
   "metadata": {},
   "outputs": [],
   "source": [
    "X = road_merge.iloc[:, 2:6]\n",
    "Y = road_merge['COUNT']\n",
    "\n",
    "train_X, valid_X, train_Y, valid_Y =  train_test_split(X, Y, test_size = 0.4, random_state = 1)"
   ]
  },
  {
   "cell_type": "code",
   "execution_count": 67,
   "metadata": {},
   "outputs": [],
   "source": [
    "param_grid = { \n",
    " 'max_depth': [2, 3, 5, 10, 15, 20, 25, 35, 50], \n",
    " 'min_impurity_decrease': [0.05, 0.02, 0.01, 0.001], \n",
    " 'min_samples_split': [0.1, 0.07, 0.05, 0.01, 0.005] \n",
    "} "
   ]
  },
  {
   "cell_type": "code",
   "execution_count": 68,
   "metadata": {},
   "outputs": [
    {
     "data": {
      "text/plain": [
       "GridSearchCV(cv=5, estimator=DecisionTreeRegressor(random_state=1), n_jobs=-1,\n",
       "             param_grid={'max_depth': [2, 3, 5, 10, 15, 20, 25, 35, 50],\n",
       "                         'min_impurity_decrease': [0.05, 0.02, 0.01, 0.001],\n",
       "                         'min_samples_split': [0.1, 0.07, 0.05, 0.01, 0.005]})"
      ]
     },
     "execution_count": 68,
     "metadata": {},
     "output_type": "execute_result"
    }
   ],
   "source": [
    "gridSearch = GridSearchCV(DecisionTreeRegressor(random_state = 1), param_grid, cv = 5, n_jobs = -1)\n",
    "gridSearch.fit(train_X, train_Y)"
   ]
  },
  {
   "cell_type": "code",
   "execution_count": 69,
   "metadata": {},
   "outputs": [
    {
     "data": {
      "text/plain": [
       "DecisionTreeRegressor(max_depth=5, min_impurity_decrease=0.05,\n",
       "                      min_samples_split=0.05, random_state=1)"
      ]
     },
     "execution_count": 69,
     "metadata": {},
     "output_type": "execute_result"
    }
   ],
   "source": [
    "gridSearch.best_estimator_"
   ]
  },
  {
   "cell_type": "code",
   "execution_count": 70,
   "metadata": {},
   "outputs": [
    {
     "data": {
      "image/png": "[encoded data removed]",
      "text/plain": [
       "<IPython.core.display.Image object>"
      ]
     },
     "execution_count": 70,
     "metadata": {},
     "output_type": "execute_result"
    }
   ],
   "source": [
    "plotDecisionTree(gridSearch.best_estimator_, feature_names = X.columns)"
   ]
  },
  {
   "cell_type": "code",
   "execution_count": 71,
   "metadata": {},
   "outputs": [
    {
     "name": "stdout",
     "output_type": "stream",
     "text": [
      "\n",
      "Regression statistics\n",
      "\n",
      "                      Mean Error (ME) : -0.0000\n",
      "       Root Mean Squared Error (RMSE) : 8.1798\n",
      "            Mean Absolute Error (MAE) : 5.1016\n",
      "          Mean Percentage Error (MPE) : -92.2786\n",
      "Mean Absolute Percentage Error (MAPE) : 118.2209\n",
      "None\n",
      "\n",
      "Regression statistics\n",
      "\n",
      "                      Mean Error (ME) : -0.5328\n",
      "       Root Mean Squared Error (RMSE) : 7.8547\n",
      "            Mean Absolute Error (MAE) : 5.8256\n",
      "          Mean Percentage Error (MPE) : -94.0418\n",
      "Mean Absolute Percentage Error (MAPE) : 124.2435\n"
     ]
    }
   ],
   "source": [
    "print(regressionSummary(train_Y, gridSearch.best_estimator_.predict(train_X)))\n",
    "regressionSummary(valid_Y, gridSearch.best_estimator_.predict(valid_X))"
   ]
  },
  {
   "cell_type": "code",
   "execution_count": 73,
   "metadata": {},
   "outputs": [
    {
     "data": {
      "text/plain": [
       "RandomForestRegressor(n_estimators=500, random_state=1)"
      ]
     },
     "execution_count": 73,
     "metadata": {},
     "output_type": "execute_result"
    }
   ],
   "source": [
    "rf = RandomForestRegressor(n_estimators = 500, random_state = 1) \n",
    "rf.fit(train_X, train_Y) "
   ]
  },
  {
   "cell_type": "code",
   "execution_count": 74,
   "metadata": {},
   "outputs": [
    {
     "data": {
      "text/plain": [
       "Text(0.5, 1.0, 'Visualizing Important Features')"
      ]
     },
     "execution_count": 74,
     "metadata": {},
     "output_type": "execute_result"
    },
    {
     "data": {
      "image/png": "[encoded data removed]",
      "text/plain": [
       "<Figure size 432x288 with 1 Axes>"
      ]
     },
     "metadata": {
      "needs_background": "light"
     },
     "output_type": "display_data"
    }
   ],
   "source": [
    "std = np.std([tree.feature_importances_ for tree in rf.estimators_], axis=0) \n",
    "tf = pd.DataFrame({'feature': train_X.columns, 'importance': rf.feature_importances_, 'std': std}) \n",
    "tf = tf.sort_values('importance', ascending = False)\n",
    "sns.barplot(x = tf['importance'], y = tf['feature'], xerr = tf['std'])\n",
    "plt.xlabel('Feature Importance Score')\n",
    "plt.ylabel('Features')\n",
    "plt.title(\"Visualizing Important Features\")"
   ]
  },
  {
   "cell_type": "code",
   "execution_count": 75,
   "metadata": {},
   "outputs": [
    {
     "name": "stdout",
     "output_type": "stream",
     "text": [
      "\n",
      "Regression statistics\n",
      "\n",
      "                      Mean Error (ME) : -0.1881\n",
      "       Root Mean Squared Error (RMSE) : 3.7373\n",
      "            Mean Absolute Error (MAE) : 2.3588\n",
      "          Mean Percentage Error (MPE) : -45.1698\n",
      "Mean Absolute Percentage Error (MAPE) : 54.8454\n",
      "None\n",
      "\n",
      "Regression statistics\n",
      "\n",
      "                      Mean Error (ME) : -0.6078\n",
      "       Root Mean Squared Error (RMSE) : 8.5481\n",
      "            Mean Absolute Error (MAE) : 5.7200\n",
      "          Mean Percentage Error (MPE) : -93.2491\n",
      "Mean Absolute Percentage Error (MAPE) : 117.5082\n"
     ]
    }
   ],
   "source": [
    "print(regressionSummary(train_Y, rf.predict(train_X)))\n",
    "regressionSummary(valid_Y, rf.predict(valid_X))"
   ]
  },
  {
   "cell_type": "code",
   "execution_count": 23,
   "metadata": {},
   "outputs": [],
   "source": [
    "ultimate_df = road_merge.merge(df3, on = ['LATITUDE', 'LONGITUDE'], how = 'inner')"
   ]
  },
  {
   "cell_type": "code",
   "execution_count": 10,
   "metadata": {},
   "outputs": [],
   "source": [
    "ultimate_df.drop(['Latitude', 'Longitude'], axis = 1, inplace = True)"
   ]
  },
  {
   "cell_type": "code",
   "execution_count": 88,
   "metadata": {},
   "outputs": [],
   "source": [
    "ultimate_df = ultimate_df.replace('Yes', 1).replace('<Null>', 0).replace('<Null', 0)"
   ]
  },
  {
   "cell_type": "markdown",
   "metadata": {},
   "source": [
    "Need to collapse extraneous variables - for curse of dimensionality problem"
   ]
  },
  {
   "cell_type": "code",
   "execution_count": 15,
   "metadata": {},
   "outputs": [],
   "source": [
    "ultimate_df['LIGHT'] = ultimate_df['LIGHT'].apply(util.lc)\n",
    "ultimate_df['TRAFFCTL'] = ultimate_df['TRAFFCTL'].apply(util.tc)\n",
    "ultimate_df['DRIVACT'] = ultimate_df['DRIVACT'].apply(util.actc)\n",
    "ultimate_df['DRIVCOND'] = ultimate_df['DRIVCOND'].apply(util.condc)\n",
    "ultimate_df['VEHTYPE'] = ultimate_df['VEHTYPE'].apply(util.vehc)"
   ]
  },
  {
   "cell_type": "code",
   "execution_count": 24,
   "metadata": {},
   "outputs": [
    {
     "data": {
      "text/plain": [
       "array(['Automobile, Station Wagon', 'Other', 'Bicycle', '<Null>',\n",
       "       'Motorcycle'], dtype=object)"
      ]
     },
     "execution_count": 24,
     "metadata": {},
     "output_type": "execute_result"
    }
   ],
   "source": [
    "# no trucks occur as mode - therefore, no medium size will show up in final ultimate_df\n",
    "\n",
    "ultimate_df['VEHTYPE'].unique()"
   ]
  },
  {
   "cell_type": "code",
   "execution_count": 22,
   "metadata": {},
   "outputs": [
    {
     "name": "stdout",
     "output_type": "stream",
     "text": [
      "['Normal' '<Null>' 'Ability Impaired (Drugs/Alcohol)' 'Inattentive'\n",
      " 'Unknown' 'Medical or Physical Disability' 'Fatigue' 'Other']\n",
      "['Driving Properly' '<Null>' 'Improper Turn'\n",
      " 'Failed to Yield Right of Way' 'Lost control' 'Disobeyed Traffic Control'\n",
      " 'Other' 'Speed too Fast For Condition' 'Speeding' 'Following too Close']\n",
      "['Dark' 'Daylight' 'Artificial' 'Dusk']\n",
      "['No Control' 'Traffic Signal' 'Stop/Yield Sign' 'Pedestrian Crossover']\n",
      "['Small-size Vehicle' 'Other' 'Large-size Vehicle' 'Two Wheeler']\n"
     ]
    }
   ],
   "source": [
    "print(ultimate_df['DRIVCOND'].unique())\n",
    "print(ultimate_df['DRIVACT'].unique())\n",
    "print(ultimate_df['LIGHT'].unique())\n",
    "print(ultimate_df['TRAFFCTL'].unique())\n",
    "print(ultimate_df['VEHTYPE'].unique())\n"
   ]
  },
  {
   "cell_type": "code",
   "execution_count": 84,
   "metadata": {},
   "outputs": [],
   "source": [
    "ultimate_df = pd.get_dummies(ultimate_df)"
   ]
  },
  {
   "cell_type": "code",
   "execution_count": 85,
   "metadata": {},
   "outputs": [
    {
     "data": {
      "text/plain": [
       "(532, 119)"
      ]
     },
     "execution_count": 85,
     "metadata": {},
     "output_type": "execute_result"
    }
   ],
   "source": [
    "ultimate_df.shape"
   ]
  },
  {
   "cell_type": "code",
   "execution_count": 26,
   "metadata": {},
   "outputs": [],
   "source": [
    "X = ultimate_df[[col for col in ultimate_df.columns if col not in ('LATITUDE', 'LONGITUDE', 'COUNT')]]\n",
    "Y = ultimate_df['COUNT']\n",
    "\n",
    "train_X, valid_X, train_Y, valid_Y =  train_test_split(X, Y, test_size = 0.4, random_state = 1)"
   ]
  },
  {
   "cell_type": "code",
   "execution_count": 73,
   "metadata": {},
   "outputs": [
    {
     "data": {
      "text/plain": [
       "LinearRegression()"
      ]
     },
     "execution_count": 73,
     "metadata": {},
     "output_type": "execute_result"
    }
   ],
   "source": [
    "linear_model = LinearRegression()\n",
    "linear_model.fit(train_X, train_Y)"
   ]
  },
  {
   "cell_type": "code",
   "execution_count": 75,
   "metadata": {},
   "outputs": [
    {
     "name": "stdout",
     "output_type": "stream",
     "text": [
      "\n",
      "Regression statistics\n",
      "\n",
      "                      Mean Error (ME) : -0.0000\n",
      "       Root Mean Squared Error (RMSE) : 9.3181\n",
      "            Mean Absolute Error (MAE) : 5.9639\n",
      "          Mean Percentage Error (MPE) : -68.1219\n",
      "Mean Absolute Percentage Error (MAPE) : 106.4703\n",
      "None\n",
      "\n",
      "Regression statistics\n",
      "\n",
      "                      Mean Error (ME) : -0.7673\n",
      "       Root Mean Squared Error (RMSE) : 9.3887\n",
      "            Mean Absolute Error (MAE) : 6.1342\n",
      "          Mean Percentage Error (MPE) : -122.8230\n",
      "Mean Absolute Percentage Error (MAPE) : 150.8725\n"
     ]
    }
   ],
   "source": [
    "print(regressionSummary(train_Y, linear_model.predict(train_X)))\n",
    "regressionSummary(valid_Y, linear_model.predict(valid_X))"
   ]
  },
  {
   "cell_type": "code",
   "execution_count": 90,
   "metadata": {},
   "outputs": [
    {
     "data": {
      "text/html": [
       "<div>\n",
       "<style scoped>\n",
       "    .dataframe tbody tr th:only-of-type {\n",
       "        vertical-align: middle;\n",
       "    }\n",
       "\n",
       "    .dataframe tbody tr th {\n",
       "        vertical-align: top;\n",
       "    }\n",
       "\n",
       "    .dataframe thead th {\n",
       "        text-align: right;\n",
       "    }\n",
       "</style>\n",
       "<table border=\"1\" class=\"dataframe\">\n",
       "  <thead>\n",
       "    <tr style=\"text-align: right;\">\n",
       "      <th></th>\n",
       "      <th>Feature</th>\n",
       "      <th>coefficients</th>\n",
       "    </tr>\n",
       "  </thead>\n",
       "  <tbody>\n",
       "    <tr>\n",
       "      <th>0</th>\n",
       "      <td>AvgAcceleration</td>\n",
       "      <td>1.392362e+01</td>\n",
       "    </tr>\n",
       "    <tr>\n",
       "      <th>1</th>\n",
       "      <td>PercentOfVehicles</td>\n",
       "      <td>-1.212774e+02</td>\n",
       "    </tr>\n",
       "    <tr>\n",
       "      <th>2</th>\n",
       "      <td>IncidentsTotal</td>\n",
       "      <td>5.775146e-04</td>\n",
       "    </tr>\n",
       "    <tr>\n",
       "      <th>3</th>\n",
       "      <td>RDSFCOND_Dry</td>\n",
       "      <td>-6.353704e-01</td>\n",
       "    </tr>\n",
       "    <tr>\n",
       "      <th>4</th>\n",
       "      <td>RDSFCOND_Ice</td>\n",
       "      <td>-8.881784e-16</td>\n",
       "    </tr>\n",
       "    <tr>\n",
       "      <th>5</th>\n",
       "      <td>RDSFCOND_Wet</td>\n",
       "      <td>6.353704e-01</td>\n",
       "    </tr>\n",
       "    <tr>\n",
       "      <th>6</th>\n",
       "      <td>VISIBILITY_Clear</td>\n",
       "      <td>4.792866e+00</td>\n",
       "    </tr>\n",
       "    <tr>\n",
       "      <th>7</th>\n",
       "      <td>VISIBILITY_Freezing Rain</td>\n",
       "      <td>-1.421085e-14</td>\n",
       "    </tr>\n",
       "    <tr>\n",
       "      <th>8</th>\n",
       "      <td>VISIBILITY_Rain</td>\n",
       "      <td>-4.792866e+00</td>\n",
       "    </tr>\n",
       "    <tr>\n",
       "      <th>9</th>\n",
       "      <td>LIGHT_Dark</td>\n",
       "      <td>-3.042662e+00</td>\n",
       "    </tr>\n",
       "    <tr>\n",
       "      <th>10</th>\n",
       "      <td>LIGHT_Dark, artificial</td>\n",
       "      <td>-2.830283e-01</td>\n",
       "    </tr>\n",
       "    <tr>\n",
       "      <th>11</th>\n",
       "      <td>LIGHT_Daylight</td>\n",
       "      <td>3.325690e+00</td>\n",
       "    </tr>\n",
       "    <tr>\n",
       "      <th>12</th>\n",
       "      <td>LIGHT_Dusk</td>\n",
       "      <td>0.000000e+00</td>\n",
       "    </tr>\n",
       "    <tr>\n",
       "      <th>13</th>\n",
       "      <td>TRAFFCTL_No Control</td>\n",
       "      <td>2.929279e+00</td>\n",
       "    </tr>\n",
       "    <tr>\n",
       "      <th>14</th>\n",
       "      <td>TRAFFCTL_Pedestrian Crossover</td>\n",
       "      <td>-3.105398e+00</td>\n",
       "    </tr>\n",
       "    <tr>\n",
       "      <th>15</th>\n",
       "      <td>TRAFFCTL_Stop Sign</td>\n",
       "      <td>-4.009301e+00</td>\n",
       "    </tr>\n",
       "    <tr>\n",
       "      <th>16</th>\n",
       "      <td>TRAFFCTL_Traffic Signal</td>\n",
       "      <td>4.185420e+00</td>\n",
       "    </tr>\n",
       "  </tbody>\n",
       "</table>\n",
       "</div>"
      ],
      "text/plain": [
       "                          Feature  coefficients\n",
       "0                 AvgAcceleration  1.392362e+01\n",
       "1               PercentOfVehicles -1.212774e+02\n",
       "2                  IncidentsTotal  5.775146e-04\n",
       "3                    RDSFCOND_Dry -6.353704e-01\n",
       "4                    RDSFCOND_Ice -8.881784e-16\n",
       "5                    RDSFCOND_Wet  6.353704e-01\n",
       "6                VISIBILITY_Clear  4.792866e+00\n",
       "7        VISIBILITY_Freezing Rain -1.421085e-14\n",
       "8                 VISIBILITY_Rain -4.792866e+00\n",
       "9                      LIGHT_Dark -3.042662e+00\n",
       "10         LIGHT_Dark, artificial -2.830283e-01\n",
       "11                 LIGHT_Daylight  3.325690e+00\n",
       "12                     LIGHT_Dusk  0.000000e+00\n",
       "13            TRAFFCTL_No Control  2.929279e+00\n",
       "14  TRAFFCTL_Pedestrian Crossover -3.105398e+00\n",
       "15             TRAFFCTL_Stop Sign -4.009301e+00\n",
       "16        TRAFFCTL_Traffic Signal  4.185420e+00"
      ]
     },
     "execution_count": 90,
     "metadata": {},
     "output_type": "execute_result"
    }
   ],
   "source": [
    "pd.DataFrame({'Feature': train_X.columns, 'coefficients': linear_model.coef_})"
   ]
  },
  {
   "cell_type": "code",
   "execution_count": 69,
   "metadata": {},
   "outputs": [
    {
     "data": {
      "text/plain": [
       "GridSearchCV(cv=5, estimator=DecisionTreeRegressor(random_state=1), n_jobs=-1,\n",
       "             param_grid={'max_depth': [2, 3, 5, 10, 15, 20, 25, 35, 50],\n",
       "                         'min_impurity_decrease': [0.05, 0.02, 0.01, 0.001],\n",
       "                         'min_samples_split': [0.1, 0.07, 0.05, 0.01, 0.005]})"
      ]
     },
     "execution_count": 69,
     "metadata": {},
     "output_type": "execute_result"
    }
   ],
   "source": [
    "gridSearch = GridSearchCV(DecisionTreeRegressor(random_state = 1), param_grid, cv = 5, n_jobs = -1)\n",
    "gridSearch.fit(train_X, train_Y)"
   ]
  },
  {
   "cell_type": "code",
   "execution_count": 70,
   "metadata": {},
   "outputs": [
    {
     "data": {
      "image/png": "[encoded data removed]",
      "text/plain": [
       "<IPython.core.display.Image object>"
      ]
     },
     "execution_count": 70,
     "metadata": {},
     "output_type": "execute_result"
    }
   ],
   "source": [
    "plotDecisionTree(gridSearch.best_estimator_, feature_names = X.columns)"
   ]
  },
  {
   "cell_type": "code",
   "execution_count": 71,
   "metadata": {},
   "outputs": [
    {
     "name": "stdout",
     "output_type": "stream",
     "text": [
      "\n",
      "Regression statistics\n",
      "\n",
      "                      Mean Error (ME) : 0.0000\n",
      "       Root Mean Squared Error (RMSE) : 9.3461\n",
      "            Mean Absolute Error (MAE) : 5.9512\n",
      "          Mean Percentage Error (MPE) : -91.8122\n",
      "Mean Absolute Percentage Error (MAPE) : 117.1719\n",
      "None\n",
      "\n",
      "Regression statistics\n",
      "\n",
      "                      Mean Error (ME) : -0.5573\n",
      "       Root Mean Squared Error (RMSE) : 9.8075\n",
      "            Mean Absolute Error (MAE) : 6.4448\n",
      "          Mean Percentage Error (MPE) : -131.3045\n",
      "Mean Absolute Percentage Error (MAPE) : 158.4979\n"
     ]
    }
   ],
   "source": [
    "print(regressionSummary(train_Y, gridSearch.best_estimator_.predict(train_X)))\n",
    "regressionSummary(valid_Y, gridSearch.best_estimator_.predict(valid_X))"
   ]
  },
  {
   "cell_type": "code",
   "execution_count": 78,
   "metadata": {},
   "outputs": [
    {
     "data": {
      "image/png": "[encoded data removed]",
      "text/plain": [
       "<Figure size 648x288 with 3 Axes>"
      ]
     },
     "metadata": {
      "needs_background": "light"
     },
     "output_type": "display_data"
    }
   ],
   "source": [
    "pred_error_train = pd.DataFrame({ \n",
    " 'residual': train_Y - linear_model.predict(train_X), \n",
    " 'data set': 'training' \n",
    "}) \n",
    "pred_error_test = pd.DataFrame({ \n",
    " 'residual': valid_Y - linear_model.predict(valid_X), \n",
    " 'data set': 'test' \n",
    "}) \n",
    "\n",
    "boxdata_df = pred_error_train.append(pred_error_test, ignore_index=True) \n",
    "fig, axes = plt.subplots(nrows=1, ncols=3) \n",
    "fig.set_size_inches(9, 4) \n",
    "common = {'bins': 100, 'range': [-6500, 6500]} \n",
    "pred_error_train.hist(ax=axes[0], **common) \n",
    "pred_error_test.hist(ax=axes[1], **common) \n",
    "boxdata_df.boxplot(ax=axes[2], by = 'data set') \n",
    "axes[0].set_title('training') \n",
    "axes[1].set_title('test') \n",
    "axes[2].set_title(' ') \n",
    "axes[2].set_ylim(-6500, 6500) \n",
    "plt.suptitle('Prediction errors') \n",
    "plt.subplots_adjust(bottom=0.1, top=0.85, wspace=0.35) \n",
    "#plt.show() "
   ]
  }
 ],
 "metadata": {
  "interpreter": {
   "hash": "a00b87f3dafb8c5b0afdf77add0e2432ad578e1240a81446720c0c7d6c46e214"
  },
  "kernelspec": {
   "display_name": "Python 3.9.10 64-bit (windows store)",
   "language": "python",
   "name": "python3"
  },
  "language_info": {
   "codemirror_mode": {
    "name": "ipython",
    "version": 3
   },
   "file_extension": ".py",
   "mimetype": "text/x-python",
   "name": "python",
   "nbconvert_exporter": "python",
   "pygments_lexer": "ipython3",
   "version": "3.9.10"
  },
  "orig_nbformat": 4
 },
 "nbformat": 4,
 "nbformat_minor": 2
}
