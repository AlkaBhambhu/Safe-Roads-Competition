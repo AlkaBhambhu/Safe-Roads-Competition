{
 "cells": [
  {
   "cell_type": "code",
   "execution_count": 1,
   "metadata": {},
   "outputs": [],
   "source": [
    "import pandas as pd\n",
    "import sklearn\n",
    "import numpy as np\n",
    "import util\n",
    "import seaborn as sns\n",
    "import matplotlib.pyplot as plt\n",
    "import shap\n",
    "import seaborn as sns"
   ]
  },
  {
   "cell_type": "code",
   "execution_count": 2,
   "metadata": {},
   "outputs": [],
   "source": [
    "from sklearn.linear_model import LinearRegression, RidgeCV\n",
    "import statsmodels.api as sm \n",
    "import matplotlib.pylab as plt \n",
    "from dmba import regressionSummary, exhaustive_search \n",
    "from dmba import adjusted_r2_score, AIC_score, BIC_score\n",
    "from sklearn.metrics import r2_score\n",
    "from dmba import backward_elimination, forward_selection\n",
    "from sklearn.model_selection import train_test_split, cross_val_score, GridSearchCV\n",
    "from sklearn.preprocessing import QuantileTransformer, quantile_transform"
   ]
  },
  {
   "cell_type": "code",
   "execution_count": 3,
   "metadata": {},
   "outputs": [],
   "source": [
    "pd.set_option('max_columns', None)\n",
    "pd.set_option('max_rows', 81)"
   ]
  },
  {
   "cell_type": "code",
   "execution_count": 4,
   "metadata": {},
   "outputs": [],
   "source": [
    "ultimate_df = pd.read_csv('Data/Created Datasets/ALL_merge_truncate3.csv', index_col = 0)"
   ]
  },
  {
   "cell_type": "code",
   "execution_count": 139,
   "metadata": {},
   "outputs": [],
   "source": [
    "# dataset without hazardous dataset - this dataset is bigger\n",
    "\n",
    "ultimate_df = pd.read_csv('Data/Created Datasets/Impediments_Feature_Count.csv', index_col = 0)"
   ]
  },
  {
   "cell_type": "code",
   "execution_count": 147,
   "metadata": {},
   "outputs": [
    {
     "data": {
      "text/plain": [
       "<AxesSubplot:ylabel='Frequency'>"
      ]
     },
     "execution_count": 147,
     "metadata": {},
     "output_type": "execute_result"
    },
    {
     "data": {
      "image/png": "[encoded data removed]",
      "text/plain": [
       "<Figure size 432x288 with 1 Axes>"
      ]
     },
     "metadata": {
      "needs_background": "light"
     },
     "output_type": "display_data"
    }
   ],
   "source": [
    "ultimate_df['COUNT'].plot(kind = 'hist')"
   ]
  },
  {
   "cell_type": "code",
   "execution_count": 201,
   "metadata": {},
   "outputs": [],
   "source": [
    "# capping - removing extreme outliers\n",
    "#ultimate_df['COUNT'] = ultimate_df[ultimate_df['COUNT'] <= 8]\n",
    "\n",
    "#ultimate_df['COUNT'] = np.log(ultimate_df['COUNT'])\n",
    "\n",
    "ultimate_df['COUNT'] = quantile_transform(\n",
    "    ultimate_df['COUNT'].to_frame(), n_quantiles=500, output_distribution=\"normal\", copy=True\n",
    ").squeeze()"
   ]
  },
  {
   "cell_type": "code",
   "execution_count": 202,
   "metadata": {},
   "outputs": [
    {
     "data": {
      "text/plain": [
       "<AxesSubplot:ylabel='Frequency'>"
      ]
     },
     "execution_count": 202,
     "metadata": {},
     "output_type": "execute_result"
    },
    {
     "data": {
      "image/png": "[encoded data removed]",
      "text/plain": [
       "<Figure size 432x288 with 1 Axes>"
      ]
     },
     "metadata": {
      "needs_background": "light"
     },
     "output_type": "display_data"
    }
   ],
   "source": [
    "ultimate_df['COUNT'].plot(kind = 'hist')"
   ]
  },
  {
   "cell_type": "code",
   "execution_count": 97,
   "metadata": {},
   "outputs": [],
   "source": [
    "# only downtown\n",
    "\n",
    "ultimate_df = ultimate_df[(ultimate_df['LATITUDE'] < 43.6688) & (ultimate_df['LONGITUDE'] > -79.46935) & (ultimate_df['LONGITUDE'] < -79.330700)]"
   ]
  },
  {
   "cell_type": "code",
   "execution_count": 6,
   "metadata": {},
   "outputs": [
    {
     "data": {
      "text/plain": [
       "(921, 20)"
      ]
     },
     "execution_count": 6,
     "metadata": {},
     "output_type": "execute_result"
    }
   ],
   "source": [
    "ultimate_df.shape"
   ]
  },
  {
   "cell_type": "code",
   "execution_count": 5,
   "metadata": {},
   "outputs": [],
   "source": [
    "# not downtown\n",
    "\n",
    "ultimate_df = ultimate_df[~((ultimate_df['LATITUDE'] < 43.6688) & (ultimate_df['LONGITUDE'] > -79.46935) & (ultimate_df['LONGITUDE'] < -79.330700))]"
   ]
  },
  {
   "cell_type": "code",
   "execution_count": 6,
   "metadata": {},
   "outputs": [
    {
     "data": {
      "text/plain": [
       "(3030, 20)"
      ]
     },
     "execution_count": 6,
     "metadata": {},
     "output_type": "execute_result"
    }
   ],
   "source": [
    "ultimate_df.shape"
   ]
  },
  {
   "cell_type": "code",
   "execution_count": 6,
   "metadata": {},
   "outputs": [],
   "source": [
    "ultimate_df['LIGHT'] = ultimate_df['LIGHT'].apply(util.lc)\n",
    "ultimate_df['TRAFFCTL'] = ultimate_df['TRAFFCTL'].apply(util.tc)\n",
    "ultimate_df['DRIVACT'] = ultimate_df['DRIVACT'].apply(util.actc)\n",
    "ultimate_df['DRIVCOND'] = ultimate_df['DRIVCOND'].apply(util.condc)\n",
    "ultimate_df['VEHTYPE'] = ultimate_df['VEHTYPE'].apply(util.vehc)\n",
    "ultimate_df['INVAGE'] = ultimate_df['INVAGE'].apply(util.agec)\n",
    "#ultimate_df['MANOEUVER'] = ultimate_df['MANOEUVER'].apply(util.manc)"
   ]
  },
  {
   "cell_type": "code",
   "execution_count": 7,
   "metadata": {},
   "outputs": [],
   "source": [
    "ultimate_df = ultimate_df.replace('Yes', 1).replace('<Null>', 0).replace('<Null', 0)"
   ]
  },
  {
   "cell_type": "code",
   "execution_count": 8,
   "metadata": {},
   "outputs": [],
   "source": [
    "ultimate_df['TIME'] = round(ultimate_df['TIME']/100,3)"
   ]
  },
  {
   "cell_type": "code",
   "execution_count": 114,
   "metadata": {},
   "outputs": [],
   "source": [
    "X = ultimate_df[[col for col in ultimate_df.columns if col not in ('COUNT', 'WARDNUM', 'LATITUDE', 'LONGITUDE', 'Latitude', 'Longitude')]]\n",
    "X = pd.get_dummies(X, drop_first = True)\n",
    "X = sm.add_constant(X)\n",
    "\n",
    "Y = ultimate_df['COUNT']"
   ]
  },
  {
   "cell_type": "code",
   "execution_count": 115,
   "metadata": {},
   "outputs": [],
   "source": [
    "model = sm.OLS(Y, X)\n",
    "results = model.fit()"
   ]
  },
  {
   "cell_type": "code",
   "execution_count": 116,
   "metadata": {},
   "outputs": [
    {
     "data": {
      "text/html": [
       "<table class=\"simpletable\">\n",
       "<caption>OLS Regression Results</caption>\n",
       "<tr>\n",
       "  <th>Dep. Variable:</th>          <td>COUNT</td>      <th>  R-squared:         </th> <td>   0.218</td>\n",
       "</tr>\n",
       "<tr>\n",
       "  <th>Model:</th>                   <td>OLS</td>       <th>  Adj. R-squared:    </th> <td>   0.157</td>\n",
       "</tr>\n",
       "<tr>\n",
       "  <th>Method:</th>             <td>Least Squares</td>  <th>  F-statistic:       </th> <td>   3.573</td>\n",
       "</tr>\n",
       "<tr>\n",
       "  <th>Date:</th>             <td>Wed, 02 Mar 2022</td> <th>  Prob (F-statistic):</th> <td>3.44e-14</td>\n",
       "</tr>\n",
       "<tr>\n",
       "  <th>Time:</th>                 <td>18:42:36</td>     <th>  Log-Likelihood:    </th> <td> -639.88</td>\n",
       "</tr>\n",
       "<tr>\n",
       "  <th>No. Observations:</th>      <td>   706</td>      <th>  AIC:               </th> <td>   1384.</td>\n",
       "</tr>\n",
       "<tr>\n",
       "  <th>Df Residuals:</th>          <td>   654</td>      <th>  BIC:               </th> <td>   1621.</td>\n",
       "</tr>\n",
       "<tr>\n",
       "  <th>Df Model:</th>              <td>    51</td>      <th>                     </th>     <td> </td>   \n",
       "</tr>\n",
       "<tr>\n",
       "  <th>Covariance Type:</th>      <td>nonrobust</td>    <th>                     </th>     <td> </td>   \n",
       "</tr>\n",
       "</table>\n",
       "<table class=\"simpletable\">\n",
       "<tr>\n",
       "                      <td></td>                         <th>coef</th>     <th>std err</th>      <th>t</th>      <th>P>|t|</th>  <th>[0.025</th>    <th>0.975]</th>  \n",
       "</tr>\n",
       "<tr>\n",
       "  <th>const</th>                                     <td>    1.3398</td> <td>    0.710</td> <td>    1.887</td> <td> 0.060</td> <td>   -0.054</td> <td>    2.734</td>\n",
       "</tr>\n",
       "<tr>\n",
       "  <th>IncidentsTotal</th>                            <td> 5.258e-05</td> <td>    0.000</td> <td>    0.200</td> <td> 0.842</td> <td>   -0.000</td> <td>    0.001</td>\n",
       "</tr>\n",
       "<tr>\n",
       "  <th>SeverityScore</th>                             <td>    1.5153</td> <td>    1.613</td> <td>    0.939</td> <td> 0.348</td> <td>   -1.652</td> <td>    4.682</td>\n",
       "</tr>\n",
       "<tr>\n",
       "  <th>PercentOfVehicles</th>                         <td>    1.4411</td> <td>    1.048</td> <td>    1.375</td> <td> 0.170</td> <td>   -0.618</td> <td>    3.500</td>\n",
       "</tr>\n",
       "<tr>\n",
       "  <th>AvgAcceleration</th>                           <td>    0.0198</td> <td>    0.166</td> <td>    0.119</td> <td> 0.905</td> <td>   -0.306</td> <td>    0.346</td>\n",
       "</tr>\n",
       "<tr>\n",
       "  <th>TIME</th>                                      <td>   -0.0029</td> <td>    0.005</td> <td>   -0.631</td> <td> 0.528</td> <td>   -0.012</td> <td>    0.006</td>\n",
       "</tr>\n",
       "<tr>\n",
       "  <th>INVAGE_Children</th>                           <td>    0.7901</td> <td>    0.687</td> <td>    1.150</td> <td> 0.251</td> <td>   -0.559</td> <td>    2.139</td>\n",
       "</tr>\n",
       "<tr>\n",
       "  <th>INVAGE_Senior</th>                             <td>   -0.0157</td> <td>    0.078</td> <td>   -0.202</td> <td> 0.840</td> <td>   -0.168</td> <td>    0.137</td>\n",
       "</tr>\n",
       "<tr>\n",
       "  <th>INVAGE_Super Senior</th>                       <td>   -0.1055</td> <td>    0.087</td> <td>   -1.218</td> <td> 0.224</td> <td>   -0.276</td> <td>    0.065</td>\n",
       "</tr>\n",
       "<tr>\n",
       "  <th>INVAGE_Young Adult</th>                        <td>   -0.1203</td> <td>    0.068</td> <td>   -1.780</td> <td> 0.076</td> <td>   -0.253</td> <td>    0.012</td>\n",
       "</tr>\n",
       "<tr>\n",
       "  <th>RDSFCOND_Dry</th>                              <td>   -0.0502</td> <td>    0.335</td> <td>   -0.150</td> <td> 0.881</td> <td>   -0.709</td> <td>    0.609</td>\n",
       "</tr>\n",
       "<tr>\n",
       "  <th>RDSFCOND_Loose Snow</th>                       <td>   -0.2120</td> <td>    0.397</td> <td>   -0.534</td> <td> 0.594</td> <td>   -0.992</td> <td>    0.568</td>\n",
       "</tr>\n",
       "<tr>\n",
       "  <th>RDSFCOND_Other</th>                            <td>   -0.4126</td> <td>    0.429</td> <td>   -0.961</td> <td> 0.337</td> <td>   -1.255</td> <td>    0.430</td>\n",
       "</tr>\n",
       "<tr>\n",
       "  <th>RDSFCOND_Packed Snow</th>                      <td>    0.5457</td> <td>    0.529</td> <td>    1.031</td> <td> 0.303</td> <td>   -0.493</td> <td>    1.585</td>\n",
       "</tr>\n",
       "<tr>\n",
       "  <th>RDSFCOND_Slush</th>                            <td>   -0.3122</td> <td>    0.412</td> <td>   -0.757</td> <td> 0.449</td> <td>   -1.122</td> <td>    0.498</td>\n",
       "</tr>\n",
       "<tr>\n",
       "  <th>RDSFCOND_Wet</th>                              <td>   -0.1262</td> <td>    0.335</td> <td>   -0.376</td> <td> 0.707</td> <td>   -0.785</td> <td>    0.532</td>\n",
       "</tr>\n",
       "<tr>\n",
       "  <th>VISIBILITY_Clear</th>                          <td>   -0.1791</td> <td>    0.335</td> <td>   -0.535</td> <td> 0.593</td> <td>   -0.837</td> <td>    0.478</td>\n",
       "</tr>\n",
       "<tr>\n",
       "  <th>VISIBILITY_Fog, Mist, Smoke, Dust</th>         <td>   -0.0759</td> <td>    0.673</td> <td>   -0.113</td> <td> 0.910</td> <td>   -1.398</td> <td>    1.246</td>\n",
       "</tr>\n",
       "<tr>\n",
       "  <th>VISIBILITY_Freezing Rain</th>                  <td>   -0.5810</td> <td>    0.493</td> <td>   -1.178</td> <td> 0.239</td> <td>   -1.549</td> <td>    0.387</td>\n",
       "</tr>\n",
       "<tr>\n",
       "  <th>VISIBILITY_Other</th>                          <td>    0.3451</td> <td>    0.429</td> <td>    0.805</td> <td> 0.421</td> <td>   -0.497</td> <td>    1.187</td>\n",
       "</tr>\n",
       "<tr>\n",
       "  <th>VISIBILITY_Rain</th>                           <td>   -0.0018</td> <td>    0.340</td> <td>   -0.005</td> <td> 0.996</td> <td>   -0.668</td> <td>    0.665</td>\n",
       "</tr>\n",
       "<tr>\n",
       "  <th>VISIBILITY_Snow</th>                           <td>   -0.0749</td> <td>    0.368</td> <td>   -0.203</td> <td> 0.839</td> <td>   -0.798</td> <td>    0.648</td>\n",
       "</tr>\n",
       "<tr>\n",
       "  <th>LIGHT_Dark</th>                                <td>   -0.0952</td> <td>    0.074</td> <td>   -1.283</td> <td> 0.200</td> <td>   -0.241</td> <td>    0.051</td>\n",
       "</tr>\n",
       "<tr>\n",
       "  <th>LIGHT_Dawn</th>                                <td>    0.7473</td> <td>    0.448</td> <td>    1.668</td> <td> 0.096</td> <td>   -0.132</td> <td>    1.627</td>\n",
       "</tr>\n",
       "<tr>\n",
       "  <th>LIGHT_Daylight</th>                            <td>   -0.0427</td> <td>    0.062</td> <td>   -0.692</td> <td> 0.489</td> <td>   -0.164</td> <td>    0.079</td>\n",
       "</tr>\n",
       "<tr>\n",
       "  <th>LIGHT_Dusk</th>                                <td>    0.3756</td> <td>    0.232</td> <td>    1.617</td> <td> 0.106</td> <td>   -0.081</td> <td>    0.832</td>\n",
       "</tr>\n",
       "<tr>\n",
       "  <th>TRAFFCTL_No Control</th>                       <td>   -0.3455</td> <td>    0.265</td> <td>   -1.301</td> <td> 0.194</td> <td>   -0.867</td> <td>    0.176</td>\n",
       "</tr>\n",
       "<tr>\n",
       "  <th>TRAFFCTL_Pedestrian Crossover</th>             <td>   -0.6198</td> <td>    0.386</td> <td>   -1.605</td> <td> 0.109</td> <td>   -1.378</td> <td>    0.138</td>\n",
       "</tr>\n",
       "<tr>\n",
       "  <th>TRAFFCTL_Stop/Yield Sign</th>                  <td>   -0.3544</td> <td>    0.280</td> <td>   -1.267</td> <td> 0.206</td> <td>   -0.904</td> <td>    0.195</td>\n",
       "</tr>\n",
       "<tr>\n",
       "  <th>TRAFFCTL_Streetcar (Stop for)</th>             <td>   -0.5678</td> <td>    0.519</td> <td>   -1.093</td> <td> 0.275</td> <td>   -1.588</td> <td>    0.452</td>\n",
       "</tr>\n",
       "<tr>\n",
       "  <th>TRAFFCTL_Traffic Signal</th>                   <td>    0.0887</td> <td>    0.263</td> <td>    0.338</td> <td> 0.736</td> <td>   -0.427</td> <td>    0.605</td>\n",
       "</tr>\n",
       "<tr>\n",
       "  <th>DRIVACT_Disobeyed Traffic Control</th>         <td>    0.6699</td> <td>    0.637</td> <td>    1.051</td> <td> 0.293</td> <td>   -0.581</td> <td>    1.921</td>\n",
       "</tr>\n",
       "<tr>\n",
       "  <th>DRIVACT_Failed to Yield Right of Way</th>      <td>    0.6335</td> <td>    0.633</td> <td>    1.000</td> <td> 0.318</td> <td>   -0.610</td> <td>    1.877</td>\n",
       "</tr>\n",
       "<tr>\n",
       "  <th>DRIVACT_Following too Close</th>               <td>    0.5464</td> <td>    0.639</td> <td>    0.856</td> <td> 0.392</td> <td>   -0.707</td> <td>    1.800</td>\n",
       "</tr>\n",
       "<tr>\n",
       "  <th>DRIVACT_Improper Lane Change</th>              <td>    0.7757</td> <td>    0.643</td> <td>    1.206</td> <td> 0.228</td> <td>   -0.487</td> <td>    2.039</td>\n",
       "</tr>\n",
       "<tr>\n",
       "  <th>DRIVACT_Improper Passing</th>                  <td>    0.4749</td> <td>    0.664</td> <td>    0.715</td> <td> 0.475</td> <td>   -0.829</td> <td>    1.778</td>\n",
       "</tr>\n",
       "<tr>\n",
       "  <th>DRIVACT_Improper Turn</th>                     <td>    0.5073</td> <td>    0.635</td> <td>    0.799</td> <td> 0.425</td> <td>   -0.740</td> <td>    1.754</td>\n",
       "</tr>\n",
       "<tr>\n",
       "  <th>DRIVACT_Lost control</th>                      <td>    0.4198</td> <td>    0.635</td> <td>    0.662</td> <td> 0.508</td> <td>   -0.826</td> <td>    1.666</td>\n",
       "</tr>\n",
       "<tr>\n",
       "  <th>DRIVACT_Other</th>                             <td>    0.5057</td> <td>    0.635</td> <td>    0.797</td> <td> 0.426</td> <td>   -0.741</td> <td>    1.752</td>\n",
       "</tr>\n",
       "<tr>\n",
       "  <th>DRIVACT_Speed too Fast For Condition</th>      <td>    0.2810</td> <td>    0.645</td> <td>    0.436</td> <td> 0.663</td> <td>   -0.985</td> <td>    1.547</td>\n",
       "</tr>\n",
       "<tr>\n",
       "  <th>DRIVACT_Speeding</th>                          <td>    0.4858</td> <td>    0.642</td> <td>    0.757</td> <td> 0.449</td> <td>   -0.775</td> <td>    1.746</td>\n",
       "</tr>\n",
       "<tr>\n",
       "  <th>DRIVACT_Wrong Way on One Way Road</th>         <td>   -0.4728</td> <td>    0.894</td> <td>   -0.529</td> <td> 0.597</td> <td>   -2.228</td> <td>    1.282</td>\n",
       "</tr>\n",
       "<tr>\n",
       "  <th>DRIVCOND_Ability Impaired (Drugs/Alcohol)</th> <td>   -0.3927</td> <td>    0.656</td> <td>   -0.598</td> <td> 0.550</td> <td>   -1.682</td> <td>    0.896</td>\n",
       "</tr>\n",
       "<tr>\n",
       "  <th>DRIVCOND_Fatigue</th>                          <td>   -0.8941</td> <td>    0.677</td> <td>   -1.321</td> <td> 0.187</td> <td>   -2.223</td> <td>    0.435</td>\n",
       "</tr>\n",
       "<tr>\n",
       "  <th>DRIVCOND_Inattentive</th>                      <td>   -0.6102</td> <td>    0.652</td> <td>   -0.936</td> <td> 0.349</td> <td>   -1.890</td> <td>    0.670</td>\n",
       "</tr>\n",
       "<tr>\n",
       "  <th>DRIVCOND_Medical or Physical Disability</th>   <td>   -0.2846</td> <td>    0.668</td> <td>   -0.426</td> <td> 0.670</td> <td>   -1.595</td> <td>    1.026</td>\n",
       "</tr>\n",
       "<tr>\n",
       "  <th>DRIVCOND_Normal</th>                           <td>   -0.5834</td> <td>    0.651</td> <td>   -0.897</td> <td> 0.370</td> <td>   -1.861</td> <td>    0.694</td>\n",
       "</tr>\n",
       "<tr>\n",
       "  <th>DRIVCOND_Other</th>                            <td>   -0.4545</td> <td>    0.708</td> <td>   -0.642</td> <td> 0.521</td> <td>   -1.845</td> <td>    0.936</td>\n",
       "</tr>\n",
       "<tr>\n",
       "  <th>DRIVCOND_Unknown</th>                          <td>   -0.4964</td> <td>    0.647</td> <td>   -0.767</td> <td> 0.443</td> <td>   -1.767</td> <td>    0.775</td>\n",
       "</tr>\n",
       "<tr>\n",
       "  <th>VEHTYPE_Medium-size Vehicle</th>               <td>   -0.1887</td> <td>    0.139</td> <td>   -1.355</td> <td> 0.176</td> <td>   -0.462</td> <td>    0.085</td>\n",
       "</tr>\n",
       "<tr>\n",
       "  <th>VEHTYPE_Other</th>                             <td>   -0.0791</td> <td>    0.285</td> <td>   -0.277</td> <td> 0.782</td> <td>   -0.639</td> <td>    0.481</td>\n",
       "</tr>\n",
       "<tr>\n",
       "  <th>VEHTYPE_Small-size Vehicle</th>                <td>   -0.1781</td> <td>    0.097</td> <td>   -1.832</td> <td> 0.067</td> <td>   -0.369</td> <td>    0.013</td>\n",
       "</tr>\n",
       "<tr>\n",
       "  <th>VEHTYPE_Two Wheeler</th>                       <td>   -0.2896</td> <td>    0.142</td> <td>   -2.039</td> <td> 0.042</td> <td>   -0.569</td> <td>   -0.011</td>\n",
       "</tr>\n",
       "</table>\n",
       "<table class=\"simpletable\">\n",
       "<tr>\n",
       "  <th>Omnibus:</th>       <td>28.448</td> <th>  Durbin-Watson:     </th> <td>   0.994</td>\n",
       "</tr>\n",
       "<tr>\n",
       "  <th>Prob(Omnibus):</th> <td> 0.000</td> <th>  Jarque-Bera (JB):  </th> <td>  13.176</td>\n",
       "</tr>\n",
       "<tr>\n",
       "  <th>Skew:</th>          <td> 0.077</td> <th>  Prob(JB):          </th> <td> 0.00138</td>\n",
       "</tr>\n",
       "<tr>\n",
       "  <th>Kurtosis:</th>      <td> 2.349</td> <th>  Cond. No.          </th> <td>1.16e+16</td>\n",
       "</tr>\n",
       "</table><br/><br/>Notes:<br/>[1] Standard Errors assume that the covariance matrix of the errors is correctly specified.<br/>[2] The smallest eigenvalue is 6.43e-26. This might indicate that there are<br/>strong multicollinearity problems or that the design matrix is singular."
      ],
      "text/plain": [
       "<class 'statsmodels.iolib.summary.Summary'>\n",
       "\"\"\"\n",
       "                            OLS Regression Results                            \n",
       "==============================================================================\n",
       "Dep. Variable:                  COUNT   R-squared:                       0.218\n",
       "Model:                            OLS   Adj. R-squared:                  0.157\n",
       "Method:                 Least Squares   F-statistic:                     3.573\n",
       "Date:                Wed, 02 Mar 2022   Prob (F-statistic):           3.44e-14\n",
       "Time:                        18:42:36   Log-Likelihood:                -639.88\n",
       "No. Observations:                 706   AIC:                             1384.\n",
       "Df Residuals:                     654   BIC:                             1621.\n",
       "Df Model:                          51                                         \n",
       "Covariance Type:            nonrobust                                         \n",
       "=============================================================================================================\n",
       "                                                coef    std err          t      P>|t|      [0.025      0.975]\n",
       "-------------------------------------------------------------------------------------------------------------\n",
       "const                                         1.3398      0.710      1.887      0.060      -0.054       2.734\n",
       "IncidentsTotal                             5.258e-05      0.000      0.200      0.842      -0.000       0.001\n",
       "SeverityScore                                 1.5153      1.613      0.939      0.348      -1.652       4.682\n",
       "PercentOfVehicles                             1.4411      1.048      1.375      0.170      -0.618       3.500\n",
       "AvgAcceleration                               0.0198      0.166      0.119      0.905      -0.306       0.346\n",
       "TIME                                         -0.0029      0.005     -0.631      0.528      -0.012       0.006\n",
       "INVAGE_Children                               0.7901      0.687      1.150      0.251      -0.559       2.139\n",
       "INVAGE_Senior                                -0.0157      0.078     -0.202      0.840      -0.168       0.137\n",
       "INVAGE_Super Senior                          -0.1055      0.087     -1.218      0.224      -0.276       0.065\n",
       "INVAGE_Young Adult                           -0.1203      0.068     -1.780      0.076      -0.253       0.012\n",
       "RDSFCOND_Dry                                 -0.0502      0.335     -0.150      0.881      -0.709       0.609\n",
       "RDSFCOND_Loose Snow                          -0.2120      0.397     -0.534      0.594      -0.992       0.568\n",
       "RDSFCOND_Other                               -0.4126      0.429     -0.961      0.337      -1.255       0.430\n",
       "RDSFCOND_Packed Snow                          0.5457      0.529      1.031      0.303      -0.493       1.585\n",
       "RDSFCOND_Slush                               -0.3122      0.412     -0.757      0.449      -1.122       0.498\n",
       "RDSFCOND_Wet                                 -0.1262      0.335     -0.376      0.707      -0.785       0.532\n",
       "VISIBILITY_Clear                             -0.1791      0.335     -0.535      0.593      -0.837       0.478\n",
       "VISIBILITY_Fog, Mist, Smoke, Dust            -0.0759      0.673     -0.113      0.910      -1.398       1.246\n",
       "VISIBILITY_Freezing Rain                     -0.5810      0.493     -1.178      0.239      -1.549       0.387\n",
       "VISIBILITY_Other                              0.3451      0.429      0.805      0.421      -0.497       1.187\n",
       "VISIBILITY_Rain                              -0.0018      0.340     -0.005      0.996      -0.668       0.665\n",
       "VISIBILITY_Snow                              -0.0749      0.368     -0.203      0.839      -0.798       0.648\n",
       "LIGHT_Dark                                   -0.0952      0.074     -1.283      0.200      -0.241       0.051\n",
       "LIGHT_Dawn                                    0.7473      0.448      1.668      0.096      -0.132       1.627\n",
       "LIGHT_Daylight                               -0.0427      0.062     -0.692      0.489      -0.164       0.079\n",
       "LIGHT_Dusk                                    0.3756      0.232      1.617      0.106      -0.081       0.832\n",
       "TRAFFCTL_No Control                          -0.3455      0.265     -1.301      0.194      -0.867       0.176\n",
       "TRAFFCTL_Pedestrian Crossover                -0.6198      0.386     -1.605      0.109      -1.378       0.138\n",
       "TRAFFCTL_Stop/Yield Sign                     -0.3544      0.280     -1.267      0.206      -0.904       0.195\n",
       "TRAFFCTL_Streetcar (Stop for)                -0.5678      0.519     -1.093      0.275      -1.588       0.452\n",
       "TRAFFCTL_Traffic Signal                       0.0887      0.263      0.338      0.736      -0.427       0.605\n",
       "DRIVACT_Disobeyed Traffic Control             0.6699      0.637      1.051      0.293      -0.581       1.921\n",
       "DRIVACT_Failed to Yield Right of Way          0.6335      0.633      1.000      0.318      -0.610       1.877\n",
       "DRIVACT_Following too Close                   0.5464      0.639      0.856      0.392      -0.707       1.800\n",
       "DRIVACT_Improper Lane Change                  0.7757      0.643      1.206      0.228      -0.487       2.039\n",
       "DRIVACT_Improper Passing                      0.4749      0.664      0.715      0.475      -0.829       1.778\n",
       "DRIVACT_Improper Turn                         0.5073      0.635      0.799      0.425      -0.740       1.754\n",
       "DRIVACT_Lost control                          0.4198      0.635      0.662      0.508      -0.826       1.666\n",
       "DRIVACT_Other                                 0.5057      0.635      0.797      0.426      -0.741       1.752\n",
       "DRIVACT_Speed too Fast For Condition          0.2810      0.645      0.436      0.663      -0.985       1.547\n",
       "DRIVACT_Speeding                              0.4858      0.642      0.757      0.449      -0.775       1.746\n",
       "DRIVACT_Wrong Way on One Way Road            -0.4728      0.894     -0.529      0.597      -2.228       1.282\n",
       "DRIVCOND_Ability Impaired (Drugs/Alcohol)    -0.3927      0.656     -0.598      0.550      -1.682       0.896\n",
       "DRIVCOND_Fatigue                             -0.8941      0.677     -1.321      0.187      -2.223       0.435\n",
       "DRIVCOND_Inattentive                         -0.6102      0.652     -0.936      0.349      -1.890       0.670\n",
       "DRIVCOND_Medical or Physical Disability      -0.2846      0.668     -0.426      0.670      -1.595       1.026\n",
       "DRIVCOND_Normal                              -0.5834      0.651     -0.897      0.370      -1.861       0.694\n",
       "DRIVCOND_Other                               -0.4545      0.708     -0.642      0.521      -1.845       0.936\n",
       "DRIVCOND_Unknown                             -0.4964      0.647     -0.767      0.443      -1.767       0.775\n",
       "VEHTYPE_Medium-size Vehicle                  -0.1887      0.139     -1.355      0.176      -0.462       0.085\n",
       "VEHTYPE_Other                                -0.0791      0.285     -0.277      0.782      -0.639       0.481\n",
       "VEHTYPE_Small-size Vehicle                   -0.1781      0.097     -1.832      0.067      -0.369       0.013\n",
       "VEHTYPE_Two Wheeler                          -0.2896      0.142     -2.039      0.042      -0.569      -0.011\n",
       "==============================================================================\n",
       "Omnibus:                       28.448   Durbin-Watson:                   0.994\n",
       "Prob(Omnibus):                  0.000   Jarque-Bera (JB):               13.176\n",
       "Skew:                           0.077   Prob(JB):                      0.00138\n",
       "Kurtosis:                       2.349   Cond. No.                     1.16e+16\n",
       "==============================================================================\n",
       "\n",
       "Notes:\n",
       "[1] Standard Errors assume that the covariance matrix of the errors is correctly specified.\n",
       "[2] The smallest eigenvalue is 6.43e-26. This might indicate that there are\n",
       "strong multicollinearity problems or that the design matrix is singular.\n",
       "\"\"\""
      ]
     },
     "execution_count": 116,
     "metadata": {},
     "output_type": "execute_result"
    }
   ],
   "source": [
    "results.summary()"
   ]
  },
  {
   "cell_type": "code",
   "execution_count": 9,
   "metadata": {},
   "outputs": [],
   "source": [
    "X = ultimate_df[[col for col in ultimate_df.columns if col not in ('COUNT', 'WARDNUM', 'LATITUDE', 'LONGITUDE', 'Latitude', 'Longitude',  'PercentCar', 'PercentHDT', 'PercentLDT', 'PercentMDT', 'PercentMPV', 'PercentOther', 'VEHTYPE', 'INVAGE')]]\n",
    "\n",
    "X = pd.get_dummies(X, drop_first = True)\n",
    "\n",
    "# need to remove the columns with 0s in their names\n",
    "# the columns with 0 in their names are the ones which are structural zeros/not applicables\n",
    "\n",
    "#X = X[[col for col in X.columns if '0' not in col]]"
   ]
  },
  {
   "cell_type": "code",
   "execution_count": 10,
   "metadata": {},
   "outputs": [
    {
     "data": {
      "text/plain": [
       "(706, 44)"
      ]
     },
     "execution_count": 10,
     "metadata": {},
     "output_type": "execute_result"
    }
   ],
   "source": [
    "X.shape"
   ]
  },
  {
   "cell_type": "code",
   "execution_count": 11,
   "metadata": {},
   "outputs": [],
   "source": [
    "Y = ultimate_df['COUNT']\n",
    "\n",
    "train_X, valid_X, train_Y, valid_Y =  train_test_split(X, Y, test_size = 0.2, random_state = 1)"
   ]
  },
  {
   "cell_type": "code",
   "execution_count": 12,
   "metadata": {},
   "outputs": [
    {
     "name": "stdout",
     "output_type": "stream",
     "text": [
      "\n",
      "Regression statistics\n",
      "\n",
      "                      Mean Error (ME) : 0.1343\n",
      "       Root Mean Squared Error (RMSE) : 2.1135\n",
      "            Mean Absolute Error (MAE) : 1.6914\n",
      "          Mean Percentage Error (MPE) : -54.8264\n",
      "Mean Absolute Percentage Error (MAPE) : 86.1793\n"
     ]
    }
   ],
   "source": [
    "# Does the model perform better than the null model?\n",
    "# Our created models must be able to beat this:\n",
    "# I'm comparing valid_Y to the mean of COUNT. \n",
    "\n",
    "regressionSummary(valid_Y, np.repeat(Y.mean(), valid_Y.shape))"
   ]
  },
  {
   "cell_type": "code",
   "execution_count": 170,
   "metadata": {},
   "outputs": [
    {
     "data": {
      "text/plain": [
       "LinearRegression()"
      ]
     },
     "execution_count": 170,
     "metadata": {},
     "output_type": "execute_result"
    }
   ],
   "source": [
    "linear_model = LinearRegression()\n",
    "linear_model.fit(train_X, train_Y)"
   ]
  },
  {
   "cell_type": "code",
   "execution_count": 171,
   "metadata": {},
   "outputs": [
    {
     "name": "stdout",
     "output_type": "stream",
     "text": [
      "\n",
      "Regression statistics\n",
      "\n",
      "                      Mean Error (ME) : -0.0000\n",
      "       Root Mean Squared Error (RMSE) : 2.4275\n",
      "            Mean Absolute Error (MAE) : 2.0038\n",
      "          Mean Percentage Error (MPE) : 88.4475\n",
      "Mean Absolute Percentage Error (MAPE) : 262.8411\n",
      "None\n",
      "\n",
      "Regression statistics\n",
      "\n",
      "                      Mean Error (ME) : -0.0369\n",
      "       Root Mean Squared Error (RMSE) : 2.5374\n",
      "            Mean Absolute Error (MAE) : 2.0727\n",
      "          Mean Percentage Error (MPE) : 58.4419\n",
      "Mean Absolute Percentage Error (MAPE) : 217.5977\n"
     ]
    }
   ],
   "source": [
    "print(regressionSummary(train_Y, linear_model.predict(train_X)))\n",
    "regressionSummary(valid_Y, linear_model.predict(valid_X))"
   ]
  },
  {
   "cell_type": "code",
   "execution_count": 172,
   "metadata": {},
   "outputs": [
    {
     "name": "stderr",
     "output_type": "stream",
     "text": [
      "Estimating transforms: 100%|██████████| 1000/1000 [00:04<00:00, 243.56it/s]\n"
     ]
    },
    {
     "data": {
      "image/png": "[encoded data removed]",
      "text/plain": [
       "<Figure size 576x684 with 2 Axes>"
      ]
     },
     "metadata": {
      "needs_background": "light"
     },
     "output_type": "display_data"
    }
   ],
   "source": [
    "explainer = shap.Explainer(linear_model, masker=shap.maskers.Impute(data= X),\n",
    "                           feature_names= X.columns, algorithm=\"linear\")\n",
    "shap_values = explainer.shap_values(X)\n",
    "shap.summary_plot(shap_values, X, plot_type = 'violin')"
   ]
  },
  {
   "cell_type": "code",
   "execution_count": 173,
   "metadata": {},
   "outputs": [
    {
     "data": {
      "text/html": [
       "<div>\n",
       "<style scoped>\n",
       "    .dataframe tbody tr th:only-of-type {\n",
       "        vertical-align: middle;\n",
       "    }\n",
       "\n",
       "    .dataframe tbody tr th {\n",
       "        vertical-align: top;\n",
       "    }\n",
       "\n",
       "    .dataframe thead th {\n",
       "        text-align: right;\n",
       "    }\n",
       "</style>\n",
       "<table border=\"1\" class=\"dataframe\">\n",
       "  <thead>\n",
       "    <tr style=\"text-align: right;\">\n",
       "      <th></th>\n",
       "      <th>Actual</th>\n",
       "      <th>Predicted</th>\n",
       "    </tr>\n",
       "  </thead>\n",
       "  <tbody>\n",
       "    <tr>\n",
       "      <th>0</th>\n",
       "      <td>-5.199338</td>\n",
       "      <td>-0.492558</td>\n",
       "    </tr>\n",
       "    <tr>\n",
       "      <th>1</th>\n",
       "      <td>-0.225903</td>\n",
       "      <td>-0.161907</td>\n",
       "    </tr>\n",
       "    <tr>\n",
       "      <th>2</th>\n",
       "      <td>-5.199338</td>\n",
       "      <td>-3.374658</td>\n",
       "    </tr>\n",
       "    <tr>\n",
       "      <th>3</th>\n",
       "      <td>0.720980</td>\n",
       "      <td>-0.025857</td>\n",
       "    </tr>\n",
       "    <tr>\n",
       "      <th>4</th>\n",
       "      <td>-5.199338</td>\n",
       "      <td>-3.985122</td>\n",
       "    </tr>\n",
       "    <tr>\n",
       "      <th>...</th>\n",
       "      <td>...</td>\n",
       "      <td>...</td>\n",
       "    </tr>\n",
       "    <tr>\n",
       "      <th>137</th>\n",
       "      <td>0.720980</td>\n",
       "      <td>-0.493813</td>\n",
       "    </tr>\n",
       "    <tr>\n",
       "      <th>138</th>\n",
       "      <td>1.273511</td>\n",
       "      <td>-0.896311</td>\n",
       "    </tr>\n",
       "    <tr>\n",
       "      <th>139</th>\n",
       "      <td>0.720980</td>\n",
       "      <td>-0.748796</td>\n",
       "    </tr>\n",
       "    <tr>\n",
       "      <th>140</th>\n",
       "      <td>0.282833</td>\n",
       "      <td>-2.845931</td>\n",
       "    </tr>\n",
       "    <tr>\n",
       "      <th>141</th>\n",
       "      <td>0.720980</td>\n",
       "      <td>-2.340751</td>\n",
       "    </tr>\n",
       "  </tbody>\n",
       "</table>\n",
       "<p>142 rows × 2 columns</p>\n",
       "</div>"
      ],
      "text/plain": [
       "       Actual  Predicted\n",
       "0   -5.199338  -0.492558\n",
       "1   -0.225903  -0.161907\n",
       "2   -5.199338  -3.374658\n",
       "3    0.720980  -0.025857\n",
       "4   -5.199338  -3.985122\n",
       "..        ...        ...\n",
       "137  0.720980  -0.493813\n",
       "138  1.273511  -0.896311\n",
       "139  0.720980  -0.748796\n",
       "140  0.282833  -2.845931\n",
       "141  0.720980  -2.340751\n",
       "\n",
       "[142 rows x 2 columns]"
      ]
     },
     "execution_count": 173,
     "metadata": {},
     "output_type": "execute_result"
    }
   ],
   "source": [
    "pd.DataFrame({'Actual': valid_Y, 'Predicted': linear_model.predict(valid_X)})"
   ]
  },
  {
   "cell_type": "code",
   "execution_count": 174,
   "metadata": {},
   "outputs": [
    {
     "data": {
      "text/plain": [
       "<AxesSubplot:>"
      ]
     },
     "execution_count": 174,
     "metadata": {},
     "output_type": "execute_result"
    },
    {
     "data": {
      "image/png": "[encoded data removed]",
      "text/plain": [
       "<Figure size 432x288 with 1 Axes>"
      ]
     },
     "metadata": {
      "needs_background": "light"
     },
     "output_type": "display_data"
    }
   ],
   "source": [
    "sns.residplot(y = linear_model.predict(valid_X), x = valid_Y)"
   ]
  },
  {
   "cell_type": "code",
   "execution_count": 175,
   "metadata": {},
   "outputs": [
    {
     "data": {
      "text/html": [
       "<div>\n",
       "<style scoped>\n",
       "    .dataframe tbody tr th:only-of-type {\n",
       "        vertical-align: middle;\n",
       "    }\n",
       "\n",
       "    .dataframe tbody tr th {\n",
       "        vertical-align: top;\n",
       "    }\n",
       "\n",
       "    .dataframe thead th {\n",
       "        text-align: right;\n",
       "    }\n",
       "</style>\n",
       "<table border=\"1\" class=\"dataframe\">\n",
       "  <thead>\n",
       "    <tr style=\"text-align: right;\">\n",
       "      <th></th>\n",
       "      <th>Feature</th>\n",
       "      <th>coefficients</th>\n",
       "    </tr>\n",
       "  </thead>\n",
       "  <tbody>\n",
       "    <tr>\n",
       "      <th>2</th>\n",
       "      <td>PercentOfVehicles</td>\n",
       "      <td>6.339140e+00</td>\n",
       "    </tr>\n",
       "    <tr>\n",
       "      <th>29</th>\n",
       "      <td>TRAFFCTL_Yield Sign</td>\n",
       "      <td>4.042642e+00</td>\n",
       "    </tr>\n",
       "    <tr>\n",
       "      <th>34</th>\n",
       "      <td>DRIVACT_Improper Lane Change</td>\n",
       "      <td>3.694042e+00</td>\n",
       "    </tr>\n",
       "    <tr>\n",
       "      <th>1</th>\n",
       "      <td>SeverityScore</td>\n",
       "      <td>3.147315e+00</td>\n",
       "    </tr>\n",
       "    <tr>\n",
       "      <th>30</th>\n",
       "      <td>DRIVACT_Disobeyed Traffic Control</td>\n",
       "      <td>2.935845e+00</td>\n",
       "    </tr>\n",
       "    <tr>\n",
       "      <th>32</th>\n",
       "      <td>DRIVACT_Failed to Yield Right of Way</td>\n",
       "      <td>2.869190e+00</td>\n",
       "    </tr>\n",
       "    <tr>\n",
       "      <th>38</th>\n",
       "      <td>DRIVACT_Other</td>\n",
       "      <td>2.834614e+00</td>\n",
       "    </tr>\n",
       "    <tr>\n",
       "      <th>31</th>\n",
       "      <td>DRIVACT_Exceeding Speed Limit</td>\n",
       "      <td>2.750602e+00</td>\n",
       "    </tr>\n",
       "    <tr>\n",
       "      <th>36</th>\n",
       "      <td>DRIVACT_Improper Turn</td>\n",
       "      <td>2.729062e+00</td>\n",
       "    </tr>\n",
       "    <tr>\n",
       "      <th>35</th>\n",
       "      <td>DRIVACT_Improper Passing</td>\n",
       "      <td>2.457787e+00</td>\n",
       "    </tr>\n",
       "    <tr>\n",
       "      <th>8</th>\n",
       "      <td>RDSFCOND_Packed Snow</td>\n",
       "      <td>2.380899e+00</td>\n",
       "    </tr>\n",
       "    <tr>\n",
       "      <th>22</th>\n",
       "      <td>LIGHT_Dusk</td>\n",
       "      <td>2.360593e+00</td>\n",
       "    </tr>\n",
       "    <tr>\n",
       "      <th>37</th>\n",
       "      <td>DRIVACT_Lost control</td>\n",
       "      <td>2.251967e+00</td>\n",
       "    </tr>\n",
       "    <tr>\n",
       "      <th>18</th>\n",
       "      <td>LIGHT_Dawn</td>\n",
       "      <td>2.121094e+00</td>\n",
       "    </tr>\n",
       "    <tr>\n",
       "      <th>33</th>\n",
       "      <td>DRIVACT_Following too Close</td>\n",
       "      <td>1.945614e+00</td>\n",
       "    </tr>\n",
       "    <tr>\n",
       "      <th>26</th>\n",
       "      <td>TRAFFCTL_Streetcar (Stop for)</td>\n",
       "      <td>1.940344e+00</td>\n",
       "    </tr>\n",
       "    <tr>\n",
       "      <th>27</th>\n",
       "      <td>TRAFFCTL_Traffic Controller</td>\n",
       "      <td>1.915339e+00</td>\n",
       "    </tr>\n",
       "    <tr>\n",
       "      <th>28</th>\n",
       "      <td>TRAFFCTL_Traffic Signal</td>\n",
       "      <td>1.854980e+00</td>\n",
       "    </tr>\n",
       "    <tr>\n",
       "      <th>43</th>\n",
       "      <td>DRIVCOND_Ability Impaired, Drugs</td>\n",
       "      <td>1.741604e+00</td>\n",
       "    </tr>\n",
       "    <tr>\n",
       "      <th>39</th>\n",
       "      <td>DRIVACT_Speed too Fast For Condition</td>\n",
       "      <td>1.733305e+00</td>\n",
       "    </tr>\n",
       "    <tr>\n",
       "      <th>14</th>\n",
       "      <td>VISIBILITY_Other</td>\n",
       "      <td>1.458421e+00</td>\n",
       "    </tr>\n",
       "    <tr>\n",
       "      <th>21</th>\n",
       "      <td>LIGHT_Daylight, artificial</td>\n",
       "      <td>1.329701e+00</td>\n",
       "    </tr>\n",
       "    <tr>\n",
       "      <th>19</th>\n",
       "      <td>LIGHT_Dawn, artificial</td>\n",
       "      <td>1.034533e+00</td>\n",
       "    </tr>\n",
       "    <tr>\n",
       "      <th>20</th>\n",
       "      <td>LIGHT_Daylight</td>\n",
       "      <td>3.310918e-01</td>\n",
       "    </tr>\n",
       "    <tr>\n",
       "      <th>23</th>\n",
       "      <td>LIGHT_Dusk, artificial</td>\n",
       "      <td>3.245285e-01</td>\n",
       "    </tr>\n",
       "    <tr>\n",
       "      <th>17</th>\n",
       "      <td>LIGHT_Dark, artificial</td>\n",
       "      <td>2.996664e-01</td>\n",
       "    </tr>\n",
       "    <tr>\n",
       "      <th>25</th>\n",
       "      <td>TRAFFCTL_Stop Sign</td>\n",
       "      <td>4.118883e-03</td>\n",
       "    </tr>\n",
       "    <tr>\n",
       "      <th>0</th>\n",
       "      <td>IncidentsTotal</td>\n",
       "      <td>1.915315e-04</td>\n",
       "    </tr>\n",
       "    <tr>\n",
       "      <th>12</th>\n",
       "      <td>VISIBILITY_Fog, Mist, Smoke, Dust</td>\n",
       "      <td>7.771561e-15</td>\n",
       "    </tr>\n",
       "    <tr>\n",
       "      <th>40</th>\n",
       "      <td>DRIVACT_Wrong Way on One Way Road</td>\n",
       "      <td>-4.440892e-15</td>\n",
       "    </tr>\n",
       "    <tr>\n",
       "      <th>4</th>\n",
       "      <td>TIME</td>\n",
       "      <td>-2.104882e-05</td>\n",
       "    </tr>\n",
       "    <tr>\n",
       "      <th>5</th>\n",
       "      <td>RDSFCOND_Dry</td>\n",
       "      <td>-2.091669e-01</td>\n",
       "    </tr>\n",
       "    <tr>\n",
       "      <th>15</th>\n",
       "      <td>VISIBILITY_Rain</td>\n",
       "      <td>-2.529141e-01</td>\n",
       "    </tr>\n",
       "    <tr>\n",
       "      <th>10</th>\n",
       "      <td>RDSFCOND_Wet</td>\n",
       "      <td>-3.527058e-01</td>\n",
       "    </tr>\n",
       "    <tr>\n",
       "      <th>6</th>\n",
       "      <td>RDSFCOND_Loose Snow</td>\n",
       "      <td>-5.362577e-01</td>\n",
       "    </tr>\n",
       "    <tr>\n",
       "      <th>24</th>\n",
       "      <td>TRAFFCTL_Pedestrian Crossover</td>\n",
       "      <td>-5.599328e-01</td>\n",
       "    </tr>\n",
       "    <tr>\n",
       "      <th>9</th>\n",
       "      <td>RDSFCOND_Slush</td>\n",
       "      <td>-7.322227e-01</td>\n",
       "    </tr>\n",
       "    <tr>\n",
       "      <th>3</th>\n",
       "      <td>AvgAcceleration</td>\n",
       "      <td>-7.745553e-01</td>\n",
       "    </tr>\n",
       "    <tr>\n",
       "      <th>13</th>\n",
       "      <td>VISIBILITY_Freezing Rain</td>\n",
       "      <td>-8.534463e-01</td>\n",
       "    </tr>\n",
       "    <tr>\n",
       "      <th>11</th>\n",
       "      <td>VISIBILITY_Clear</td>\n",
       "      <td>-8.699391e-01</td>\n",
       "    </tr>\n",
       "    <tr>\n",
       "      <th>16</th>\n",
       "      <td>VISIBILITY_Snow</td>\n",
       "      <td>-1.324534e+00</td>\n",
       "    </tr>\n",
       "    <tr>\n",
       "      <th>49</th>\n",
       "      <td>DRIVCOND_Other</td>\n",
       "      <td>-1.956541e+00</td>\n",
       "    </tr>\n",
       "    <tr>\n",
       "      <th>47</th>\n",
       "      <td>DRIVCOND_Medical or Physical Disability</td>\n",
       "      <td>-2.380302e+00</td>\n",
       "    </tr>\n",
       "    <tr>\n",
       "      <th>7</th>\n",
       "      <td>RDSFCOND_Other</td>\n",
       "      <td>-2.392959e+00</td>\n",
       "    </tr>\n",
       "    <tr>\n",
       "      <th>45</th>\n",
       "      <td>DRIVCOND_Had Been Drinking</td>\n",
       "      <td>-2.793202e+00</td>\n",
       "    </tr>\n",
       "    <tr>\n",
       "      <th>42</th>\n",
       "      <td>DRIVCOND_Ability Impaired, Alcohol Over .08</td>\n",
       "      <td>-2.855771e+00</td>\n",
       "    </tr>\n",
       "    <tr>\n",
       "      <th>46</th>\n",
       "      <td>DRIVCOND_Inattentive</td>\n",
       "      <td>-3.155211e+00</td>\n",
       "    </tr>\n",
       "    <tr>\n",
       "      <th>50</th>\n",
       "      <td>DRIVCOND_Unknown</td>\n",
       "      <td>-3.176081e+00</td>\n",
       "    </tr>\n",
       "    <tr>\n",
       "      <th>48</th>\n",
       "      <td>DRIVCOND_Normal</td>\n",
       "      <td>-3.184501e+00</td>\n",
       "    </tr>\n",
       "    <tr>\n",
       "      <th>41</th>\n",
       "      <td>DRIVCOND_Ability Impaired, Alcohol</td>\n",
       "      <td>-3.588873e+00</td>\n",
       "    </tr>\n",
       "    <tr>\n",
       "      <th>44</th>\n",
       "      <td>DRIVCOND_Fatigue</td>\n",
       "      <td>-3.925207e+00</td>\n",
       "    </tr>\n",
       "  </tbody>\n",
       "</table>\n",
       "</div>"
      ],
      "text/plain": [
       "                                        Feature  coefficients\n",
       "2                             PercentOfVehicles  6.339140e+00\n",
       "29                          TRAFFCTL_Yield Sign  4.042642e+00\n",
       "34                 DRIVACT_Improper Lane Change  3.694042e+00\n",
       "1                                 SeverityScore  3.147315e+00\n",
       "30            DRIVACT_Disobeyed Traffic Control  2.935845e+00\n",
       "32         DRIVACT_Failed to Yield Right of Way  2.869190e+00\n",
       "38                                DRIVACT_Other  2.834614e+00\n",
       "31                DRIVACT_Exceeding Speed Limit  2.750602e+00\n",
       "36                        DRIVACT_Improper Turn  2.729062e+00\n",
       "35                     DRIVACT_Improper Passing  2.457787e+00\n",
       "8                          RDSFCOND_Packed Snow  2.380899e+00\n",
       "22                                   LIGHT_Dusk  2.360593e+00\n",
       "37                         DRIVACT_Lost control  2.251967e+00\n",
       "18                                   LIGHT_Dawn  2.121094e+00\n",
       "33                  DRIVACT_Following too Close  1.945614e+00\n",
       "26                TRAFFCTL_Streetcar (Stop for)  1.940344e+00\n",
       "27                  TRAFFCTL_Traffic Controller  1.915339e+00\n",
       "28                      TRAFFCTL_Traffic Signal  1.854980e+00\n",
       "43             DRIVCOND_Ability Impaired, Drugs  1.741604e+00\n",
       "39         DRIVACT_Speed too Fast For Condition  1.733305e+00\n",
       "14                             VISIBILITY_Other  1.458421e+00\n",
       "21                   LIGHT_Daylight, artificial  1.329701e+00\n",
       "19                       LIGHT_Dawn, artificial  1.034533e+00\n",
       "20                               LIGHT_Daylight  3.310918e-01\n",
       "23                       LIGHT_Dusk, artificial  3.245285e-01\n",
       "17                       LIGHT_Dark, artificial  2.996664e-01\n",
       "25                           TRAFFCTL_Stop Sign  4.118883e-03\n",
       "0                                IncidentsTotal  1.915315e-04\n",
       "12            VISIBILITY_Fog, Mist, Smoke, Dust  7.771561e-15\n",
       "40            DRIVACT_Wrong Way on One Way Road -4.440892e-15\n",
       "4                                          TIME -2.104882e-05\n",
       "5                                  RDSFCOND_Dry -2.091669e-01\n",
       "15                              VISIBILITY_Rain -2.529141e-01\n",
       "10                                 RDSFCOND_Wet -3.527058e-01\n",
       "6                           RDSFCOND_Loose Snow -5.362577e-01\n",
       "24                TRAFFCTL_Pedestrian Crossover -5.599328e-01\n",
       "9                                RDSFCOND_Slush -7.322227e-01\n",
       "3                               AvgAcceleration -7.745553e-01\n",
       "13                     VISIBILITY_Freezing Rain -8.534463e-01\n",
       "11                             VISIBILITY_Clear -8.699391e-01\n",
       "16                              VISIBILITY_Snow -1.324534e+00\n",
       "49                               DRIVCOND_Other -1.956541e+00\n",
       "47      DRIVCOND_Medical or Physical Disability -2.380302e+00\n",
       "7                                RDSFCOND_Other -2.392959e+00\n",
       "45                   DRIVCOND_Had Been Drinking -2.793202e+00\n",
       "42  DRIVCOND_Ability Impaired, Alcohol Over .08 -2.855771e+00\n",
       "46                         DRIVCOND_Inattentive -3.155211e+00\n",
       "50                             DRIVCOND_Unknown -3.176081e+00\n",
       "48                              DRIVCOND_Normal -3.184501e+00\n",
       "41           DRIVCOND_Ability Impaired, Alcohol -3.588873e+00\n",
       "44                             DRIVCOND_Fatigue -3.925207e+00"
      ]
     },
     "execution_count": 175,
     "metadata": {},
     "output_type": "execute_result"
    }
   ],
   "source": [
    "pd.DataFrame({'Feature': train_X.columns, 'coefficients': linear_model.coef_}).sort_values(by = 'coefficients', ascending = False)"
   ]
  },
  {
   "cell_type": "code",
   "execution_count": 176,
   "metadata": {},
   "outputs": [
    {
     "data": {
      "image/png": "[encoded data removed]",
      "text/plain": [
       "<Figure size 648x288 with 2 Axes>"
      ]
     },
     "metadata": {
      "needs_background": "light"
     },
     "output_type": "display_data"
    }
   ],
   "source": [
    "pred_error_train = pd.DataFrame({ \n",
    " 'residual': train_Y - linear_model.predict(train_X), \n",
    " 'data set': 'training' \n",
    "}) \n",
    "pred_error_test = pd.DataFrame({ \n",
    " 'residual': valid_Y - linear_model.predict(valid_X), \n",
    " 'data set': 'test' \n",
    "}) \n",
    "\n",
    "#boxdata_df = pred_error_train.append(pred_error_test, ignore_index=True) \n",
    "fig, axes = plt.subplots(nrows=1, ncols=2) \n",
    "fig.set_size_inches(9, 4) \n",
    "common = {'bins': 100, 'range': [-pred_error_test['residual'].max(), pred_error_test['residual'].max()]} \n",
    "pred_error_train.hist(ax=axes[0], **common) \n",
    "pred_error_test.hist(ax=axes[1], **common) \n",
    "#boxdata_df.boxplot(ax=axes[2], by = 'data set') \n",
    "axes[0].set_title('training') \n",
    "axes[1].set_title('test') \n",
    "#axes[2].set_title(' ') \n",
    "#axes[2].set_ylim(-50, 50) \n",
    "plt.suptitle('Prediction errors') \n",
    "plt.subplots_adjust(bottom=0.1, top=0.85, wspace=0.35) \n",
    "#plt.show() "
   ]
  },
  {
   "cell_type": "code",
   "execution_count": 179,
   "metadata": {},
   "outputs": [
    {
     "data": {
      "text/plain": [
       "<matplotlib.collections.PathCollection at 0x10f750770a0>"
      ]
     },
     "execution_count": 179,
     "metadata": {},
     "output_type": "execute_result"
    },
    {
     "data": {
      "image/png": "[encoded data removed]",
      "text/plain": [
       "<Figure size 432x288 with 1 Axes>"
      ]
     },
     "metadata": {
      "needs_background": "light"
     },
     "output_type": "display_data"
    }
   ],
   "source": [
    "plt.scatter(linear_model.predict(valid_X), valid_Y)"
   ]
  },
  {
   "cell_type": "code",
   "execution_count": 177,
   "metadata": {},
   "outputs": [
    {
     "data": {
      "text/plain": [
       "residual   -0.463335\n",
       "dtype: float64"
      ]
     },
     "execution_count": 177,
     "metadata": {},
     "output_type": "execute_result"
    }
   ],
   "source": [
    "pred_error_train.skew()"
   ]
  },
  {
   "cell_type": "code",
   "execution_count": 178,
   "metadata": {},
   "outputs": [
    {
     "data": {
      "text/plain": [
       "residual   -0.456748\n",
       "dtype: float64"
      ]
     },
     "execution_count": 178,
     "metadata": {},
     "output_type": "execute_result"
    }
   ],
   "source": [
    "pred_error_test.skew()"
   ]
  },
  {
   "cell_type": "code",
   "execution_count": 181,
   "metadata": {},
   "outputs": [
    {
     "data": {
      "text/plain": [
       "0.2145525895218685"
      ]
     },
     "execution_count": 181,
     "metadata": {},
     "output_type": "execute_result"
    }
   ],
   "source": [
    "r2_score(valid_Y, linear_model.predict(valid_X))"
   ]
  },
  {
   "cell_type": "code",
   "execution_count": 182,
   "metadata": {},
   "outputs": [],
   "source": [
    "# these functions assume the existence of a train_Y \n",
    "def train_model(variables): \n",
    "    if len(variables) == 0: \n",
    "        return None \n",
    "    model = LinearRegression() \n",
    "    model.fit(train_X[variables], train_Y) \n",
    "    return model \n",
    "    \n",
    "def score_model(model, variables): \n",
    "    if len(variables) == 0: \n",
    "        return AIC_score(train_Y, [train_Y.mean()] * len(train_Y), model, df=1) \n",
    "    return AIC_score(train_Y, model.predict(train_X[variables]), model) "
   ]
  },
  {
   "cell_type": "code",
   "execution_count": 183,
   "metadata": {},
   "outputs": [
    {
     "name": "stdout",
     "output_type": "stream",
     "text": [
      "Variables: IncidentsTotal, SeverityScore, PercentOfVehicles, AvgAcceleration, TIME, RDSFCOND_Dry, RDSFCOND_Loose Snow, RDSFCOND_Other, RDSFCOND_Packed Snow, RDSFCOND_Slush, RDSFCOND_Wet, VISIBILITY_Clear, VISIBILITY_Fog, Mist, Smoke, Dust, VISIBILITY_Freezing Rain, VISIBILITY_Other, VISIBILITY_Rain, VISIBILITY_Snow, LIGHT_Dark, artificial, LIGHT_Dawn, LIGHT_Dawn, artificial, LIGHT_Daylight, LIGHT_Daylight, artificial, LIGHT_Dusk, LIGHT_Dusk, artificial, TRAFFCTL_Pedestrian Crossover, TRAFFCTL_Stop Sign, TRAFFCTL_Streetcar (Stop for), TRAFFCTL_Traffic Controller, TRAFFCTL_Traffic Signal, TRAFFCTL_Yield Sign, DRIVACT_Disobeyed Traffic Control, DRIVACT_Exceeding Speed Limit, DRIVACT_Failed to Yield Right of Way, DRIVACT_Following too Close, DRIVACT_Improper Lane Change, DRIVACT_Improper Passing, DRIVACT_Improper Turn, DRIVACT_Lost control, DRIVACT_Other, DRIVACT_Speed too Fast For Condition, DRIVACT_Wrong Way on One Way Road, DRIVCOND_Ability Impaired, Alcohol, DRIVCOND_Ability Impaired, Alcohol Over .08, DRIVCOND_Ability Impaired, Drugs, DRIVCOND_Fatigue, DRIVCOND_Had Been Drinking, DRIVCOND_Inattentive, DRIVCOND_Medical or Physical Disability, DRIVCOND_Normal, DRIVCOND_Other, DRIVCOND_Unknown\n",
      "Start: score=2738.65, constant\n",
      "Step: score=2664.79, add TRAFFCTL_Traffic Signal\n",
      "Step: score=2659.45, add LIGHT_Dusk\n",
      "Step: score=2655.01, add DRIVCOND_Ability Impaired, Drugs\n",
      "Step: score=2652.96, add DRIVACT_Following too Close\n",
      "Step: score=2651.39, add TRAFFCTL_Traffic Controller\n",
      "Step: score=2650.12, add DRIVACT_Improper Lane Change\n",
      "Step: score=2649.31, add DRIVACT_Speed too Fast For Condition\n",
      "Step: score=2648.16, add DRIVACT_Lost control\n",
      "Step: score=2647.68, add TRAFFCTL_Yield Sign\n",
      "Step: score=2647.34, add PercentOfVehicles\n",
      "Step: score=2647.01, add RDSFCOND_Packed Snow\n",
      "Step: score=2646.98, add VISIBILITY_Other\n",
      "Step: score=2646.65, add RDSFCOND_Other\n",
      "Step: score=2646.65, add None\n"
     ]
    }
   ],
   "source": [
    "forwards_model, best_variables_forward = forward_selection(train_X.columns, train_model, score_model, verbose = True)"
   ]
  },
  {
   "cell_type": "code",
   "execution_count": 184,
   "metadata": {},
   "outputs": [
    {
     "name": "stdout",
     "output_type": "stream",
     "text": [
      "\n",
      "Regression statistics\n",
      "\n",
      "                      Mean Error (ME) : 0.0000\n",
      "       Root Mean Squared Error (RMSE) : 2.4615\n",
      "            Mean Absolute Error (MAE) : 2.0367\n",
      "          Mean Percentage Error (MPE) : 91.8719\n",
      "Mean Absolute Percentage Error (MAPE) : 259.7017\n",
      "None\n",
      "\n",
      "Regression statistics\n",
      "\n",
      "                      Mean Error (ME) : -0.0280\n",
      "       Root Mean Squared Error (RMSE) : 2.6004\n",
      "            Mean Absolute Error (MAE) : 2.1666\n",
      "          Mean Percentage Error (MPE) : 61.3705\n",
      "Mean Absolute Percentage Error (MAPE) : 225.3142\n"
     ]
    }
   ],
   "source": [
    "print(regressionSummary(train_Y, forwards_model.predict(train_X[best_variables_forward])))\n",
    "regressionSummary(valid_Y, forwards_model.predict(valid_X[best_variables_forward]))"
   ]
  },
  {
   "cell_type": "code",
   "execution_count": 185,
   "metadata": {},
   "outputs": [
    {
     "data": {
      "image/png": "[encoded data removed]",
      "text/plain": [
       "<Figure size 576x482.4 with 2 Axes>"
      ]
     },
     "metadata": {
      "needs_background": "light"
     },
     "output_type": "display_data"
    }
   ],
   "source": [
    "masker = shap.maskers.Independent(data= valid_X[best_variables_forward])\n",
    "explainer = shap.Explainer(forwards_model, masker= masker,\n",
    "                           feature_names= valid_X[best_variables_forward].columns, algorithm=\"linear\")\n",
    "shap_values = explainer.shap_values(valid_X[best_variables_forward])\n",
    "shap.summary_plot(shap_values, valid_X[best_variables_forward])"
   ]
  },
  {
   "cell_type": "code",
   "execution_count": 186,
   "metadata": {},
   "outputs": [
    {
     "data": {
      "text/html": [
       "<div>\n",
       "<style scoped>\n",
       "    .dataframe tbody tr th:only-of-type {\n",
       "        vertical-align: middle;\n",
       "    }\n",
       "\n",
       "    .dataframe tbody tr th {\n",
       "        vertical-align: top;\n",
       "    }\n",
       "\n",
       "    .dataframe thead th {\n",
       "        text-align: right;\n",
       "    }\n",
       "</style>\n",
       "<table border=\"1\" class=\"dataframe\">\n",
       "  <thead>\n",
       "    <tr style=\"text-align: right;\">\n",
       "      <th></th>\n",
       "      <th>Feature</th>\n",
       "      <th>coefficients</th>\n",
       "    </tr>\n",
       "  </thead>\n",
       "  <tbody>\n",
       "    <tr>\n",
       "      <th>9</th>\n",
       "      <td>PercentOfVehicles</td>\n",
       "      <td>6.586884</td>\n",
       "    </tr>\n",
       "    <tr>\n",
       "      <th>2</th>\n",
       "      <td>DRIVCOND_Ability Impaired, Drugs</td>\n",
       "      <td>4.790421</td>\n",
       "    </tr>\n",
       "    <tr>\n",
       "      <th>8</th>\n",
       "      <td>TRAFFCTL_Yield Sign</td>\n",
       "      <td>3.921586</td>\n",
       "    </tr>\n",
       "    <tr>\n",
       "      <th>10</th>\n",
       "      <td>RDSFCOND_Packed Snow</td>\n",
       "      <td>2.695195</td>\n",
       "    </tr>\n",
       "    <tr>\n",
       "      <th>11</th>\n",
       "      <td>VISIBILITY_Other</td>\n",
       "      <td>2.348497</td>\n",
       "    </tr>\n",
       "    <tr>\n",
       "      <th>1</th>\n",
       "      <td>LIGHT_Dusk</td>\n",
       "      <td>2.245773</td>\n",
       "    </tr>\n",
       "    <tr>\n",
       "      <th>4</th>\n",
       "      <td>TRAFFCTL_Traffic Controller</td>\n",
       "      <td>2.137721</td>\n",
       "    </tr>\n",
       "    <tr>\n",
       "      <th>0</th>\n",
       "      <td>TRAFFCTL_Traffic Signal</td>\n",
       "      <td>1.951123</td>\n",
       "    </tr>\n",
       "    <tr>\n",
       "      <th>5</th>\n",
       "      <td>DRIVACT_Improper Lane Change</td>\n",
       "      <td>0.848349</td>\n",
       "    </tr>\n",
       "    <tr>\n",
       "      <th>7</th>\n",
       "      <td>DRIVACT_Lost control</td>\n",
       "      <td>-0.510266</td>\n",
       "    </tr>\n",
       "    <tr>\n",
       "      <th>3</th>\n",
       "      <td>DRIVACT_Following too Close</td>\n",
       "      <td>-0.965589</td>\n",
       "    </tr>\n",
       "    <tr>\n",
       "      <th>6</th>\n",
       "      <td>DRIVACT_Speed too Fast For Condition</td>\n",
       "      <td>-1.108205</td>\n",
       "    </tr>\n",
       "    <tr>\n",
       "      <th>12</th>\n",
       "      <td>RDSFCOND_Other</td>\n",
       "      <td>-2.275451</td>\n",
       "    </tr>\n",
       "  </tbody>\n",
       "</table>\n",
       "</div>"
      ],
      "text/plain": [
       "                                 Feature  coefficients\n",
       "9                      PercentOfVehicles      6.586884\n",
       "2       DRIVCOND_Ability Impaired, Drugs      4.790421\n",
       "8                    TRAFFCTL_Yield Sign      3.921586\n",
       "10                  RDSFCOND_Packed Snow      2.695195\n",
       "11                      VISIBILITY_Other      2.348497\n",
       "1                             LIGHT_Dusk      2.245773\n",
       "4            TRAFFCTL_Traffic Controller      2.137721\n",
       "0                TRAFFCTL_Traffic Signal      1.951123\n",
       "5           DRIVACT_Improper Lane Change      0.848349\n",
       "7                   DRIVACT_Lost control     -0.510266\n",
       "3            DRIVACT_Following too Close     -0.965589\n",
       "6   DRIVACT_Speed too Fast For Condition     -1.108205\n",
       "12                        RDSFCOND_Other     -2.275451"
      ]
     },
     "execution_count": 186,
     "metadata": {},
     "output_type": "execute_result"
    }
   ],
   "source": [
    "pd.DataFrame({'Feature': best_variables_forward, 'coefficients': forwards_model.coef_}).sort_values(by = 'coefficients', ascending = False)"
   ]
  },
  {
   "cell_type": "code",
   "execution_count": 187,
   "metadata": {},
   "outputs": [
    {
     "data": {
      "image/png": "[encoded data removed]",
      "text/plain": [
       "<Figure size 648x288 with 2 Axes>"
      ]
     },
     "metadata": {
      "needs_background": "light"
     },
     "output_type": "display_data"
    }
   ],
   "source": [
    "pred_error_train = pd.DataFrame({ \n",
    " 'residual': train_Y - forwards_model.predict(train_X[best_variables_forward]), \n",
    " 'data set': 'training' \n",
    "}) \n",
    "pred_error_test = pd.DataFrame({ \n",
    " 'residual': valid_Y - forwards_model.predict(valid_X[best_variables_forward]), \n",
    " 'data set': 'test' \n",
    "}) \n",
    "\n",
    "#boxdata_df = pred_error_train.append(pred_error_test, ignore_index=True) \n",
    "fig, axes = plt.subplots(nrows=1, ncols=2) \n",
    "fig.set_size_inches(9, 4) \n",
    "common = {'bins': 100, 'range': [-pred_error_test['residual'].max(), pred_error_test['residual'].max()]} \n",
    "pred_error_train.hist(ax=axes[0], **common) \n",
    "pred_error_test.hist(ax=axes[1], **common) \n",
    "#boxdata_df.boxplot(ax=axes[2], by = 'data set') \n",
    "axes[0].set_title('training') \n",
    "axes[1].set_title('test') \n",
    "#axes[2].set_title(' ') \n",
    "#axes[2].set_ylim(-50, 50) \n",
    "plt.suptitle('Prediction errors') \n",
    "plt.subplots_adjust(bottom=0.1, top=0.85, wspace=0.35) \n",
    "#plt.show() "
   ]
  },
  {
   "cell_type": "code",
   "execution_count": 188,
   "metadata": {},
   "outputs": [
    {
     "data": {
      "text/plain": [
       "residual   -0.478474\n",
       "dtype: float64"
      ]
     },
     "execution_count": 188,
     "metadata": {},
     "output_type": "execute_result"
    }
   ],
   "source": [
    "pred_error_train.skew()"
   ]
  },
  {
   "cell_type": "code",
   "execution_count": 189,
   "metadata": {},
   "outputs": [
    {
     "data": {
      "text/plain": [
       "residual   -0.47489\n",
       "dtype: float64"
      ]
     },
     "execution_count": 189,
     "metadata": {},
     "output_type": "execute_result"
    }
   ],
   "source": [
    "pred_error_test.skew()"
   ]
  },
  {
   "cell_type": "code",
   "execution_count": 190,
   "metadata": {},
   "outputs": [
    {
     "data": {
      "text/plain": [
       "<AxesSubplot:>"
      ]
     },
     "execution_count": 190,
     "metadata": {},
     "output_type": "execute_result"
    },
    {
     "data": {
      "image/png": "[encoded data removed]",
      "text/plain": [
       "<Figure size 432x288 with 1 Axes>"
      ]
     },
     "metadata": {
      "needs_background": "light"
     },
     "output_type": "display_data"
    }
   ],
   "source": [
    "sns.residplot(y = forwards_model.predict(valid_X[best_variables_forward]), x = valid_Y)"
   ]
  },
  {
   "cell_type": "code",
   "execution_count": 191,
   "metadata": {},
   "outputs": [],
   "source": [
    "backwards_model, best_variables_backward = backward_elimination(train_X.columns, train_model, score_model, verbose = False)"
   ]
  },
  {
   "cell_type": "code",
   "execution_count": 192,
   "metadata": {},
   "outputs": [
    {
     "name": "stdout",
     "output_type": "stream",
     "text": [
      "\n",
      "Regression statistics\n",
      "\n",
      "                      Mean Error (ME) : -0.0000\n",
      "       Root Mean Squared Error (RMSE) : 2.4505\n",
      "            Mean Absolute Error (MAE) : 2.0207\n",
      "          Mean Percentage Error (MPE) : 90.4482\n",
      "Mean Absolute Percentage Error (MAPE) : 257.1592\n",
      "None\n",
      "\n",
      "Regression statistics\n",
      "\n",
      "                      Mean Error (ME) : -0.0218\n",
      "       Root Mean Squared Error (RMSE) : 2.5154\n",
      "            Mean Absolute Error (MAE) : 2.1003\n",
      "          Mean Percentage Error (MPE) : 67.6783\n",
      "Mean Absolute Percentage Error (MAPE) : 217.1787\n"
     ]
    }
   ],
   "source": [
    "print(regressionSummary(train_Y, backwards_model.predict(train_X[best_variables_backward])))\n",
    "regressionSummary(valid_Y, backwards_model.predict(valid_X[best_variables_backward]))"
   ]
  },
  {
   "cell_type": "code",
   "execution_count": 193,
   "metadata": {},
   "outputs": [
    {
     "data": {
      "text/html": [
       "<div>\n",
       "<style scoped>\n",
       "    .dataframe tbody tr th:only-of-type {\n",
       "        vertical-align: middle;\n",
       "    }\n",
       "\n",
       "    .dataframe tbody tr th {\n",
       "        vertical-align: top;\n",
       "    }\n",
       "\n",
       "    .dataframe thead th {\n",
       "        text-align: right;\n",
       "    }\n",
       "</style>\n",
       "<table border=\"1\" class=\"dataframe\">\n",
       "  <thead>\n",
       "    <tr style=\"text-align: right;\">\n",
       "      <th></th>\n",
       "      <th>Feature</th>\n",
       "      <th>coefficients</th>\n",
       "    </tr>\n",
       "  </thead>\n",
       "  <tbody>\n",
       "    <tr>\n",
       "      <th>11</th>\n",
       "      <td>DRIVACT_Improper Lane Change</td>\n",
       "      <td>4.547911</td>\n",
       "    </tr>\n",
       "    <tr>\n",
       "      <th>9</th>\n",
       "      <td>DRIVACT_Failed to Yield Right of Way</td>\n",
       "      <td>3.890631</td>\n",
       "    </tr>\n",
       "    <tr>\n",
       "      <th>7</th>\n",
       "      <td>DRIVACT_Disobeyed Traffic Control</td>\n",
       "      <td>3.859174</td>\n",
       "    </tr>\n",
       "    <tr>\n",
       "      <th>6</th>\n",
       "      <td>TRAFFCTL_Yield Sign</td>\n",
       "      <td>3.851062</td>\n",
       "    </tr>\n",
       "    <tr>\n",
       "      <th>15</th>\n",
       "      <td>DRIVACT_Other</td>\n",
       "      <td>3.795266</td>\n",
       "    </tr>\n",
       "    <tr>\n",
       "      <th>13</th>\n",
       "      <td>DRIVACT_Improper Turn</td>\n",
       "      <td>3.739168</td>\n",
       "    </tr>\n",
       "    <tr>\n",
       "      <th>8</th>\n",
       "      <td>DRIVACT_Exceeding Speed Limit</td>\n",
       "      <td>3.530865</td>\n",
       "    </tr>\n",
       "    <tr>\n",
       "      <th>12</th>\n",
       "      <td>DRIVACT_Improper Passing</td>\n",
       "      <td>3.455450</td>\n",
       "    </tr>\n",
       "    <tr>\n",
       "      <th>14</th>\n",
       "      <td>DRIVACT_Lost control</td>\n",
       "      <td>3.160416</td>\n",
       "    </tr>\n",
       "    <tr>\n",
       "      <th>10</th>\n",
       "      <td>DRIVACT_Following too Close</td>\n",
       "      <td>2.886132</td>\n",
       "    </tr>\n",
       "    <tr>\n",
       "      <th>1</th>\n",
       "      <td>RDSFCOND_Packed Snow</td>\n",
       "      <td>2.774617</td>\n",
       "    </tr>\n",
       "    <tr>\n",
       "      <th>16</th>\n",
       "      <td>DRIVACT_Speed too Fast For Condition</td>\n",
       "      <td>2.658777</td>\n",
       "    </tr>\n",
       "    <tr>\n",
       "      <th>2</th>\n",
       "      <td>VISIBILITY_Other</td>\n",
       "      <td>2.323354</td>\n",
       "    </tr>\n",
       "    <tr>\n",
       "      <th>3</th>\n",
       "      <td>LIGHT_Dusk</td>\n",
       "      <td>2.198644</td>\n",
       "    </tr>\n",
       "    <tr>\n",
       "      <th>4</th>\n",
       "      <td>TRAFFCTL_Traffic Controller</td>\n",
       "      <td>1.975292</td>\n",
       "    </tr>\n",
       "    <tr>\n",
       "      <th>5</th>\n",
       "      <td>TRAFFCTL_Traffic Signal</td>\n",
       "      <td>1.889440</td>\n",
       "    </tr>\n",
       "    <tr>\n",
       "      <th>0</th>\n",
       "      <td>RDSFCOND_Other</td>\n",
       "      <td>-2.384474</td>\n",
       "    </tr>\n",
       "    <tr>\n",
       "      <th>24</th>\n",
       "      <td>DRIVCOND_Other</td>\n",
       "      <td>-3.029476</td>\n",
       "    </tr>\n",
       "    <tr>\n",
       "      <th>22</th>\n",
       "      <td>DRIVCOND_Medical or Physical Disability</td>\n",
       "      <td>-3.546937</td>\n",
       "    </tr>\n",
       "    <tr>\n",
       "      <th>20</th>\n",
       "      <td>DRIVCOND_Had Been Drinking</td>\n",
       "      <td>-4.107860</td>\n",
       "    </tr>\n",
       "    <tr>\n",
       "      <th>18</th>\n",
       "      <td>DRIVCOND_Ability Impaired, Alcohol Over .08</td>\n",
       "      <td>-4.134252</td>\n",
       "    </tr>\n",
       "    <tr>\n",
       "      <th>25</th>\n",
       "      <td>DRIVCOND_Unknown</td>\n",
       "      <td>-4.230047</td>\n",
       "    </tr>\n",
       "    <tr>\n",
       "      <th>21</th>\n",
       "      <td>DRIVCOND_Inattentive</td>\n",
       "      <td>-4.372975</td>\n",
       "    </tr>\n",
       "    <tr>\n",
       "      <th>23</th>\n",
       "      <td>DRIVCOND_Normal</td>\n",
       "      <td>-4.397541</td>\n",
       "    </tr>\n",
       "    <tr>\n",
       "      <th>17</th>\n",
       "      <td>DRIVCOND_Ability Impaired, Alcohol</td>\n",
       "      <td>-4.869779</td>\n",
       "    </tr>\n",
       "    <tr>\n",
       "      <th>19</th>\n",
       "      <td>DRIVCOND_Fatigue</td>\n",
       "      <td>-5.261065</td>\n",
       "    </tr>\n",
       "  </tbody>\n",
       "</table>\n",
       "</div>"
      ],
      "text/plain": [
       "                                        Feature  coefficients\n",
       "11                 DRIVACT_Improper Lane Change      4.547911\n",
       "9          DRIVACT_Failed to Yield Right of Way      3.890631\n",
       "7             DRIVACT_Disobeyed Traffic Control      3.859174\n",
       "6                           TRAFFCTL_Yield Sign      3.851062\n",
       "15                                DRIVACT_Other      3.795266\n",
       "13                        DRIVACT_Improper Turn      3.739168\n",
       "8                 DRIVACT_Exceeding Speed Limit      3.530865\n",
       "12                     DRIVACT_Improper Passing      3.455450\n",
       "14                         DRIVACT_Lost control      3.160416\n",
       "10                  DRIVACT_Following too Close      2.886132\n",
       "1                          RDSFCOND_Packed Snow      2.774617\n",
       "16         DRIVACT_Speed too Fast For Condition      2.658777\n",
       "2                              VISIBILITY_Other      2.323354\n",
       "3                                    LIGHT_Dusk      2.198644\n",
       "4                   TRAFFCTL_Traffic Controller      1.975292\n",
       "5                       TRAFFCTL_Traffic Signal      1.889440\n",
       "0                                RDSFCOND_Other     -2.384474\n",
       "24                               DRIVCOND_Other     -3.029476\n",
       "22      DRIVCOND_Medical or Physical Disability     -3.546937\n",
       "20                   DRIVCOND_Had Been Drinking     -4.107860\n",
       "18  DRIVCOND_Ability Impaired, Alcohol Over .08     -4.134252\n",
       "25                             DRIVCOND_Unknown     -4.230047\n",
       "21                         DRIVCOND_Inattentive     -4.372975\n",
       "23                              DRIVCOND_Normal     -4.397541\n",
       "17           DRIVCOND_Ability Impaired, Alcohol     -4.869779\n",
       "19                             DRIVCOND_Fatigue     -5.261065"
      ]
     },
     "execution_count": 193,
     "metadata": {},
     "output_type": "execute_result"
    }
   ],
   "source": [
    "pd.DataFrame({'Feature': best_variables_backward, 'coefficients': backwards_model.coef_}).sort_values(by = 'coefficients', ascending = False)"
   ]
  },
  {
   "cell_type": "code",
   "execution_count": 194,
   "metadata": {},
   "outputs": [
    {
     "data": {
      "image/png": "[encoded data removed]",
      "text/plain": [
       "<Figure size 648x288 with 2 Axes>"
      ]
     },
     "metadata": {
      "needs_background": "light"
     },
     "output_type": "display_data"
    }
   ],
   "source": [
    "pred_error_train = pd.DataFrame({ \n",
    " 'residual': train_Y - backwards_model.predict(train_X[best_variables_backward]), \n",
    " 'data set': 'training' \n",
    "}) \n",
    "pred_error_test = pd.DataFrame({ \n",
    " 'residual': valid_Y - backwards_model.predict(valid_X[best_variables_backward]), \n",
    " 'data set': 'test' \n",
    "}) \n",
    "\n",
    "#boxdata_df = pred_error_train.append(pred_error_test, ignore_index=True) \n",
    "fig, axes = plt.subplots(nrows=1, ncols=2) \n",
    "fig.set_size_inches(9, 4) \n",
    "common = {'bins': 100, 'range': [-pred_error_test['residual'].max(), pred_error_test['residual'].max()]} \n",
    "pred_error_train.hist(ax=axes[0], **common) \n",
    "pred_error_test.hist(ax=axes[1], **common) \n",
    "#boxdata_df.boxplot(ax=axes[2], by = 'data set') \n",
    "axes[0].set_title('training') \n",
    "axes[1].set_title('test') \n",
    "#axes[2].set_title(' ') \n",
    "#axes[2].set_ylim(-50, 50) \n",
    "plt.suptitle('Prediction errors') \n",
    "plt.subplots_adjust(bottom=0.1, top=0.85, wspace=0.35) \n",
    "#plt.show() "
   ]
  },
  {
   "cell_type": "code",
   "execution_count": 195,
   "metadata": {},
   "outputs": [
    {
     "data": {
      "text/plain": [
       "<AxesSubplot:>"
      ]
     },
     "execution_count": 195,
     "metadata": {},
     "output_type": "execute_result"
    },
    {
     "data": {
      "image/png": "[encoded data removed]",
      "text/plain": [
       "<Figure size 432x288 with 1 Axes>"
      ]
     },
     "metadata": {
      "needs_background": "light"
     },
     "output_type": "display_data"
    }
   ],
   "source": [
    "sns.residplot(y = backwards_model.predict(valid_X[best_variables_backward]), x = valid_Y)"
   ]
  },
  {
   "cell_type": "code",
   "execution_count": 196,
   "metadata": {},
   "outputs": [
    {
     "data": {
      "image/png": "[encoded data removed]",
      "text/plain": [
       "<Figure size 576x684 with 2 Axes>"
      ]
     },
     "metadata": {
      "needs_background": "light"
     },
     "output_type": "display_data"
    }
   ],
   "source": [
    "masker = shap.maskers.Independent(data= valid_X[best_variables_backward])\n",
    "explainer = shap.Explainer(backwards_model, masker= masker,\n",
    "                           feature_names= valid_X[best_variables_backward].columns, algorithm=\"linear\")\n",
    "shap_values = explainer.shap_values(valid_X[best_variables_backward])\n",
    "shap.summary_plot(shap_values, valid_X[best_variables_backward])"
   ]
  },
  {
   "cell_type": "code",
   "execution_count": 13,
   "metadata": {},
   "outputs": [
    {
     "data": {
      "text/plain": [
       "RidgeCV(alphas=array([ 0.1,  1. , 10. ]))"
      ]
     },
     "execution_count": 13,
     "metadata": {},
     "output_type": "execute_result"
    }
   ],
   "source": [
    "ridge_model = RidgeCV()\n",
    "ridge_model.fit(train_X, train_Y)"
   ]
  },
  {
   "cell_type": "code",
   "execution_count": 20,
   "metadata": {},
   "outputs": [
    {
     "name": "stdout",
     "output_type": "stream",
     "text": [
      "\n",
      "Regression statistics\n",
      "\n",
      "                      Mean Error (ME) : -0.0000\n",
      "       Root Mean Squared Error (RMSE) : 1.8030\n",
      "            Mean Absolute Error (MAE) : 1.4004\n",
      "          Mean Percentage Error (MPE) : -44.5776\n",
      "Mean Absolute Percentage Error (MAPE) : 70.3286\n",
      "None\n",
      "\n",
      "Regression statistics\n",
      "\n",
      "                      Mean Error (ME) : 0.0023\n",
      "       Root Mean Squared Error (RMSE) : 2.1073\n",
      "            Mean Absolute Error (MAE) : 1.6027\n",
      "          Mean Percentage Error (MPE) : -50.5866\n",
      "Mean Absolute Percentage Error (MAPE) : 78.6771\n"
     ]
    }
   ],
   "source": [
    "print(regressionSummary(train_Y, ridge_model.predict(train_X)))\n",
    "regressionSummary(valid_Y, ridge_model.predict(valid_X))"
   ]
  },
  {
   "cell_type": "code",
   "execution_count": 16,
   "metadata": {},
   "outputs": [
    {
     "data": {
      "text/plain": [
       "<AxesSubplot:xlabel='COUNT'>"
      ]
     },
     "execution_count": 16,
     "metadata": {},
     "output_type": "execute_result"
    },
    {
     "data": {
      "image/png": "[encoded data removed]",
      "text/plain": [
       "<Figure size 432x288 with 1 Axes>"
      ]
     },
     "metadata": {
      "needs_background": "light"
     },
     "output_type": "display_data"
    }
   ],
   "source": [
    "sns.residplot(y = ridge_model.predict(valid_X), x = valid_Y)"
   ]
  },
  {
   "cell_type": "code",
   "execution_count": 17,
   "metadata": {},
   "outputs": [
    {
     "data": {
      "image/png": "[encoded data removed]",
      "text/plain": [
       "<Figure size 648x288 with 2 Axes>"
      ]
     },
     "metadata": {
      "needs_background": "light"
     },
     "output_type": "display_data"
    }
   ],
   "source": [
    "pred_error_train = pd.DataFrame({ \n",
    " 'residual': train_Y - ridge_model.predict(train_X), \n",
    " 'data set': 'training' \n",
    "}) \n",
    "pred_error_test = pd.DataFrame({ \n",
    " 'residual': valid_Y - ridge_model.predict(valid_X), \n",
    " 'data set': 'test' \n",
    "}) \n",
    "\n",
    "#boxdata_df = pred_error_train.append(pred_error_test, ignore_index=True) \n",
    "fig, axes = plt.subplots(nrows=1, ncols=2) \n",
    "fig.set_size_inches(9, 4) \n",
    "common = {'bins': 100, 'range': [-pred_error_test['residual'].max(), pred_error_test['residual'].max()]} \n",
    "pred_error_train.hist(ax=axes[0], **common) \n",
    "pred_error_test.hist(ax=axes[1], **common) \n",
    "#boxdata_df.boxplot(ax=axes[2], by = 'data set') \n",
    "axes[0].set_title('training') \n",
    "axes[1].set_title('test') \n",
    "#axes[2].set_title(' ') \n",
    "#axes[2].set_ylim(-50, 50) \n",
    "plt.suptitle('Prediction errors') \n",
    "plt.subplots_adjust(bottom=0.1, top=0.85, wspace=0.35) \n",
    "#plt.show() "
   ]
  },
  {
   "cell_type": "code",
   "execution_count": 18,
   "metadata": {},
   "outputs": [
    {
     "data": {
      "text/plain": [
       "residual    1.055165\n",
       "dtype: float64"
      ]
     },
     "execution_count": 18,
     "metadata": {},
     "output_type": "execute_result"
    }
   ],
   "source": [
    "pred_error_train.skew()"
   ]
  },
  {
   "cell_type": "code",
   "execution_count": 19,
   "metadata": {},
   "outputs": [
    {
     "data": {
      "text/plain": [
       "residual    0.390395\n",
       "dtype: float64"
      ]
     },
     "execution_count": 19,
     "metadata": {},
     "output_type": "execute_result"
    }
   ],
   "source": [
    "pred_error_test.skew()"
   ]
  }
 ],
 "metadata": {
  "interpreter": {
   "hash": "a00b87f3dafb8c5b0afdf77add0e2432ad578e1240a81446720c0c7d6c46e214"
  },
  "kernelspec": {
   "display_name": "Python 3.9.10 64-bit (windows store)",
   "language": "python",
   "name": "python3"
  },
  "language_info": {
   "codemirror_mode": {
    "name": "ipython",
    "version": 3
   },
   "file_extension": ".py",
   "mimetype": "text/x-python",
   "name": "python",
   "nbconvert_exporter": "python",
   "pygments_lexer": "ipython3",
   "version": "3.9.10"
  },
  "orig_nbformat": 4
 },
 "nbformat": 4,
 "nbformat_minor": 2
}
